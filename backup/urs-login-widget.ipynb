{
 "cells": [
  {
   "cell_type": "code",
   "execution_count": 1,
   "metadata": {},
   "outputs": [
    {
     "data": {
      "text/plain": [
       "'Login successful. Download with `session.get(url)`.'"
      ]
     },
     "metadata": {},
     "output_type": "display_data"
    }
   ],
   "source": [
    "import earthdata_login_jupyter"
   ]
  },
  {
   "cell_type": "code",
   "execution_count": null,
   "metadata": {},
   "outputs": [],
   "source": [
    "import requests\n",
    "import getpass\n",
    "from IPython.display import clear_output, HTML\n",
    "\n",
    "\n",
    "class EarthdataLogin(requests.Session):\n",
    "    \"\"\"\n",
    "    Prompt user for Earthdata credentials repeatedly until auth success. Test\n",
    "    by attempting to download 44kb Daymet granule. Source:\n",
    "    https://wiki.earthdata.nasa.gov/display/EL/How+To+Access+Data+With+Python\n",
    "    \"\"\"\n",
    "\n",
    "    AUTH_HOST = \"urs.earthdata.nasa.gov\"             # urs login url\n",
    "    \n",
    "    ERROR = \"Login failed ({0}). Retry or register.\" # failure message\n",
    "    \n",
    "    TEST = (\"https://daac.ornl.gov/daacdata/daymet/\" # ORNL DAAC Daymet\n",
    "            \"Daymet_V3_Annual_Climatology/data/\"     # granule to touch to\n",
    "            \"daymet_v3_prcp_annttl_2017_pr.tif\")     # test authentication; \n",
    "    \n",
    "    REGISTER = HTML(                                 # registration prompt\n",
    "        \"<p style='font-weight:bold'><a href=https://urs.earthdata.nasa.gov\"\n",
    "        \"/users/new>Click here to register and Earthdata account.</a></p>\")\n",
    "                              \n",
    "    \n",
    "    def __init__(self):\n",
    "        fails = 0\n",
    "        \n",
    "        while True:\n",
    "            display(self.REGISTER) # register prompt\n",
    "            \n",
    "            username = input(\"Username: \")            # prompt for username\n",
    "            password = getpass.getpass(\"Password: \")  # secure prompt for pw\n",
    "            \n",
    "            super().__init__()                        # init requests session\n",
    "            self.auth = (username, password)          # add user,pw\n",
    "            \n",
    "            try:                                     \n",
    "                response = self.get(self.TEST)        # try to grab TEST\n",
    "                response.raise_for_status()           # raise for status>400\n",
    "                clear_output()                        # clear output\n",
    "                display(\"Login successful.\")\n",
    "                break\n",
    "\n",
    "            except requests.exceptions.HTTPError as e:\n",
    "                clear_output()                        # clear cell output\n",
    "                fails += 1                            # +1 fail counter\n",
    "                display(self.ERROR.format(str(fails)))# print failure msg\n",
    "\n",
    "    \n",
    "    def rebuild_auth(self, prepared_request, response):\n",
    "        \"\"\"\n",
    "        Overrides from the library to keep headers when redirected to or \n",
    "        from the NASA auth host.\n",
    "        \"\"\"\n",
    "        \n",
    "        headers = prepared_request.headers\n",
    "        url = prepared_request.url\n",
    " \n",
    "        if 'Authorization' in headers:\n",
    "            original_parsed = requests.utils.urlparse(response.request.url)\n",
    "            redirect_parsed = requests.utils.urlparse(url)\n",
    "            \n",
    "            if (original_parsed.hostname != redirect_parsed.hostname) and \\\n",
    "                    redirect_parsed.hostname != self.AUTH_HOST and \\\n",
    "                    original_parsed.hostname != self.AUTH_HOST:\n",
    "                del headers['Authorization']\n",
    "                   \n",
    "        self.auth = None                    # purge username/password inputs\n",
    "        return                              # return requests.Session object"
   ]
  },
  {
   "cell_type": "code",
   "execution_count": null,
   "metadata": {},
   "outputs": [],
   "source": [
    "session = EarthdataLogin()"
   ]
  },
  {
   "cell_type": "code",
   "execution_count": null,
   "metadata": {},
   "outputs": [],
   "source": [
    "r = session.get(session.TEST)\n",
    "r.status_code"
   ]
  },
  {
   "cell_type": "code",
   "execution_count": null,
   "metadata": {},
   "outputs": [],
   "source": [
    "try:\n",
    "    r.auth\n",
    "except:\n",
    "    print(\"Username and password cleared from session... Good enough?\")"
   ]
  },
  {
   "cell_type": "code",
   "execution_count": null,
   "metadata": {},
   "outputs": [],
   "source": []
  }
 ],
 "metadata": {
  "kernelspec": {
   "display_name": "Python 3",
   "language": "python",
   "name": "python3"
  },
  "language_info": {
   "codemirror_mode": {
    "name": "ipython",
    "version": 3
   },
   "file_extension": ".py",
   "mimetype": "text/x-python",
   "name": "python",
   "nbconvert_exporter": "python",
   "pygments_lexer": "ipython3",
   "version": "3.6.7"
  }
 },
 "nbformat": 4,
 "nbformat_minor": 2
}
