{
 "cells": [
  {
   "cell_type": "markdown",
   "metadata": {},
   "source": [
    "```{python}\n",
    "\n",
    "import folium\n",
    "import matplotlib.pyplot as plt\n",
    "from matplotlib import cm, colors\n",
    "from IPython.display import display\n",
    "from ipywidgets import Layout, Button, IntProgress, Output, HBox, VBox, HTML, interactive, SelectionRangeSlider\n",
    "\n",
    "```\n",
    "# Aggregate of ORNL DAAC Soil Moisture Visualizer outputs"
   ]
  },
  {
   "cell_type": "code",
   "execution_count": 34,
   "metadata": {},
   "outputs": [],
   "source": [
    "import os\n",
    "import json\n",
    "import warnings\n",
    "from math import ceil\n",
    "from io import StringIO\n",
    "from datetime import datetime\n",
    "\n",
    "import folium\n",
    "import requests\n",
    "import numpy as np\n",
    "import pandas as pd\n",
    "import xarray as xr\n",
    "import matplotlib.pyplot as plt\n",
    "from matplotlib import cm, colors\n",
    "from shapely.geometry import shape"
   ]
  },
  {
   "cell_type": "markdown",
   "metadata": {},
   "source": [
    "## Random stuff"
   ]
  },
  {
   "cell_type": "code",
   "execution_count": 2,
   "metadata": {},
   "outputs": [],
   "source": [
    "disabled_sources =  [\"FLUXNET\", \"MODIS\", \"GRACE\", \"PBOH2O\"]\n",
    "\n",
    "smvdownload = \"https://airmoss.ornl.gov/cgi-bin/viz/api/download.pl?\"\n",
    "smvdatasets = pd.read_csv(\n",
    "    \"docs/smvdatasets.csv\", \n",
    "    index_col=\"dataset\", \n",
    "    header=0)\n",
    "\n",
    "download_msg = \"\"\"<p style=\"text-align:center;\">Click <b>Submit</b> to downloa\n",
    "d Soil Moisture Visualizer data for this site.<br></p>\"\"\"\n",
    "\n",
    "numvalid = lambda v: np.count_nonzero(~np.isnan(v.data))\n",
    "allnan = lambda v: numvalid(v)==0\n",
    "\n",
    "node_header = [\"id\", \"lat\", \"lon\", \"node\"]\n",
    "layer_header = [\"id\", \"lat\", \"lon\", \"layer\", \"nodes\", \"points\", \"xr\"]"
   ]
  },
  {
   "cell_type": "markdown",
   "metadata": {},
   "source": [
    "## Workflow"
   ]
  },
  {
   "cell_type": "markdown",
   "metadata": {},
   "source": [
    "### Reading layers"
   ]
  },
  {
   "cell_type": "code",
   "execution_count": 25,
   "metadata": {},
   "outputs": [],
   "source": [
    "def get_colors(n, cmap=cm.Set2):\n",
    "    \"\"\" \n",
    "    Takes integer count of colors to map and optional kwarg: \n",
    "      'cmap=matplotlib.cm.<cmap>'.\n",
    "    \"\"\"\n",
    "\n",
    "    cspace = np.linspace(0.0, 1.0, n)           # *1\n",
    "    rgb = cmap(cspace)                          # *2\n",
    "    cols = [colors.to_hex(c[0:3]) for c in rgb] # *3\n",
    "\n",
    "    return(cols)\n",
    "\n",
    "\n",
    "def from_geojson(input_geojson):\n",
    "    \"\"\" \"\"\"\n",
    "    \n",
    "    with open(input_geojson, \"r\") as f:\n",
    "        shapes = json.load(f)\n",
    "    features = shapes[\"features\"]\n",
    "    cols = get_colors(len(features))\n",
    "    \n",
    "    return((features, cols))"
   ]
  },
  {
   "cell_type": "markdown",
   "metadata": {},
   "source": [
    "Plot some sites on a map"
   ]
  },
  {
   "cell_type": "code",
   "execution_count": null,
   "metadata": {},
   "outputs": [],
   "source": [
    "shapes = \"docs/usfs_sites/Sites_lf_geo.json\"\n",
    "\n",
    "features, cols = from_geojson(shapes)        # get features and cols\n",
    "\n",
    "def get_layer_data(i, feat, col=\"#FFFFFF\", opac=0.4, samp=True):\n",
    "    \"\"\" \"\"\"\n",
    "\n",
    "    shapely_geom = shape(feat[\"geometry\"])              # shapely geom\n",
    "    nodes = get_ease(shapely_geom) if samp else None     # ease grid points\n",
    "    nodes[\"node\"] = [Node(\n",
    "        i, row[\"lat\"], row[\"lon\"]\n",
    "    ) for i, row in nodes.iterrows()]\n",
    "    nodes[\"xr\"] = [None]*len(nodes.index)\n",
    "    \n",
    "    cent = shapely_geom.centroid                        # centroid\n",
    "    lat, lon = cent.y, cent.x                           # lat, lon\n",
    "    feat[\"properties\"].update({\"id\": i, \"style\": {\n",
    "        \"weight\": 0.75, \n",
    "        \"color\": \"aliceblue\",\n",
    "        \"fillColor\": col,\n",
    "        \"fillOpacity\": opac}})\n",
    "\n",
    "    return((feat, lat, lon, nodes))\n"
   ]
  },
  {
   "cell_type": "markdown",
   "metadata": {},
   "source": [
    "### EASE grid v2"
   ]
  },
  {
   "cell_type": "code",
   "execution_count": 35,
   "metadata": {},
   "outputs": [
    {
     "data": {
      "text/plain": [
       "(6262144, 2)"
      ]
     },
     "execution_count": 35,
     "metadata": {},
     "output_type": "execute_result"
    }
   ],
   "source": [
    "latf = \"docs/EASE2_M09km.lats.3856x1624x1.double\"\n",
    "lonf = \"docs/EASE2_M09km.lons.3856x1624x1.double\"\n",
    "\n",
    "lats = np.fromfile(latf, dtype=np.float64).flatten() \n",
    "lons = np.fromfile(lonf, dtype=np.float64).flatten()\n",
    "\n",
    "crds = np.dstack((lats,lons))[0]\n",
    "crds.shape"
   ]
  },
  {
   "cell_type": "markdown",
   "metadata": {},
   "source": []
  },
  {
   "cell_type": "code",
   "execution_count": 3,
   "metadata": {},
   "outputs": [],
   "source": [
    "def get_ease(shapely_geom):\n",
    "    \"\"\" \"\"\"\n",
    "\n",
    "    bnds = shapely_geom.bounds \n",
    "    ease = crds[\n",
    "        (bnds[1]<lats) & (lats<bnds[3]) &     # ybnds < lat < ybnds\n",
    "        (bnds[0]<lons) & (lons<bnds[2])]      # xbnds < lon < xbnds\n",
    "\n",
    "    ease_table = {\"id\":[], \"lat\":[], \"lon\":[], \"tup\":[], \"in\":[]}\n",
    "    for i, p in enumerate(ease):\n",
    "        \n",
    "        ease_table[\"id\"].append(i)\n",
    "        ease_table[\"lat\"].append(p[0])\n",
    "        ease_table[\"lon\"].append(p[1])\n",
    "        ease_table[\"tup\"].append((p[0], p[1]))\n",
    "        \n",
    "        shapely_pt = shape({                  # input to shapely.shape is a\n",
    "            \"type\": \"Point\",                  # python dict equivalent of\n",
    "            \"coordinates\": (p[1], p[0])})     # geojson point geometry\n",
    "        \n",
    "        if shapely_geom.contains(shapely_pt): # if point inside poly\n",
    "            ease_table[\"in\"].append(True)\n",
    "        else:\n",
    "            ease_table[\"in\"].append(False)\n",
    "        \n",
    "    return(pd.DataFrame(ease_table))"
   ]
  },
  {
   "cell_type": "markdown",
   "metadata": {},
   "source": [
    "map some points"
   ]
  },
  {
   "cell_type": "code",
   "execution_count": null,
   "metadata": {},
   "outputs": [],
   "source": [
    "import cartopy.crs as ccrs\n",
    "\n",
    "lon, lat = poly.xr.lon, poly.xr.lat\n",
    "\n",
    "x2d, y2d = np.meshgrid(lon, lat)\n",
    "\n",
    "ax = plt.subplot(projection=ccrs.Orthographic(poly.lon, poly.lat));\n",
    "ax.scatter(x2d, y2d, transform=ccrs.Orthographic(poly.lon, poly.lat));\n",
    "\n",
    "data = {\n",
    "    'type': 'FeatureCollection',\n",
    "    'features': [\n",
    "        {\n",
    "            'type': 'Feature',\n",
    "            'geometry': {\n",
    "                'type': 'MultiPoint',\n",
    "                'coordinates': [[lon, lat] for (lat, lon) in zip(lats, lons)],\n",
    "            },\n",
    "            'properties': {'prop0': 'value0'}\n",
    "        },\n",
    "    ],\n",
    "}\n",
    "\n",
    "m = folium.Map([48, 5], zoom_start=6)\n",
    "m.add_child(features.GeoJson(data))"
   ]
  },
  {
   "cell_type": "markdown",
   "metadata": {},
   "source": [
    "### Translate tables to multidimensional spatial format"
   ]
  },
  {
   "cell_type": "code",
   "execution_count": 4,
   "metadata": {},
   "outputs": [],
   "source": [
    "def txt_to_pd(response_text):\n",
    "    \"\"\"Parses response.text to data frame with date index.\"\"\"\n",
    "    \n",
    "    f = StringIO(response_text)                      # get file from string\n",
    "\n",
    "    df = pd.read_csv(\n",
    "        f, \n",
    "        header=4, \n",
    "        index_col=\"time\",\n",
    "        error_bad_lines=False, \n",
    "        warn_bad_lines=False)                        # read to df\n",
    "    df.index = pd.to_datetime(df.index)              # convert index to dates\n",
    "    \n",
    "    return(df)\n",
    "\n",
    "\n",
    "def split_pd(col):\n",
    "    \"\"\"Splits pd column by ; and set all values to float, nan.\"\"\"\n",
    "    \n",
    "    df = col.str.split(\";\",n=2,expand=True)           # split col by ;\n",
    "    df = df.replace('', np.nan)                       # set '' to nan\n",
    "    df = df.astype(float)                             # set all to float\n",
    "    df.columns = [\"Min\",\"Mean\",\"Max\"]                 # add column names\n",
    "    \n",
    "    return(df)\n",
    "\n",
    "\n",
    "def pd_to_xr(dataset, df):\n",
    "    \"\"\"Makes an xr.Dataset from a pandas column (series) and coords.\"\"\"\n",
    "\n",
    "    a = smvdatasets.loc[dataset].to_dict()\n",
    "    x = xr.DataArray(df, name=dataset, attrs=a)\n",
    "    x = x.rename(dict(dim_1=\"stat\"))\n",
    "    \n",
    "    return(x)\n",
    "\n",
    "\n",
    "def get_coords(node):\n",
    "    \"\"\" \"\"\"\n",
    "\n",
    "    n = xr.DataArray(data=[node.id], dims=[\"node\"])\n",
    "    \n",
    "    y = xr.DataArray(data=[node.lat], coords=[n], dims=[\"node\"], attrs=dict(\n",
    "        standard_name=\"latitude\",\n",
    "        long_name=\"latitude coordinate\",\n",
    "        units=\"degrees_north\"))\n",
    "    \n",
    "    x = xr.DataArray(data=[node.lon], coords=[n], dims=[\"node\"], attrs=dict(\n",
    "        standard_name=\"latitude\",\n",
    "        long_name=\"latitude\",\n",
    "        units=\"degrees_north\"))\n",
    "    \n",
    "    return(y, x)\n",
    "\n",
    "\n",
    "def get_node_xr(node, grid=True):\n",
    "    \"\"\" \"\"\"\n",
    "        \n",
    "    node.submit(session) # download the data\n",
    "    df = node.df                                         # get the sample df\n",
    "    \n",
    "    ds = {}\n",
    "    for dataset in df.columns:\n",
    "        a = smvdatasets.loc[dataset].to_dict()\n",
    "        if a[\"source\"] not in disabled_sources:\n",
    "            split_column = split_pd(df[dataset])\n",
    "            ds[dataset] = pd_to_xr(dataset, split_column)\n",
    "    \n",
    "    node.grid = grid\n",
    "    y, x = get_coords(node)\n",
    "    xds = xr.merge(ds.values())                          # merge to one xr\n",
    "    xds = xds.assign_coords(lat=y, lon=x)                # add coord arrays\n",
    "        \n",
    "    return(xds)"
   ]
  },
  {
   "cell_type": "markdown",
   "metadata": {},
   "source": [
    "### Node class"
   ]
  },
  {
   "cell_type": "code",
   "execution_count": 6,
   "metadata": {},
   "outputs": [],
   "source": [
    "class Node(object):\n",
    "    \"\"\" \"\"\"\n",
    "\n",
    "    off = {\"fill_opacity\": 0.4, \"stroke\": False}\n",
    "\n",
    "    \n",
    "    def __init__(self, i, lat, lon):\n",
    "        \"\"\"Inits with id,lat,lon; makes request string, map point.\"\"\"\n",
    "        \n",
    "        self.id = i\n",
    "        self.lat = lat \n",
    "        self.lon = lon\n",
    "\n",
    "        self.on = False\n",
    "        self.dl = smvdownload+\"lt={0}&ln={1}&d=smap\".format(lat, lon)\n",
    "\n",
    "        \n",
    "    def update(self, **kwargs):\n",
    "        for arg, val in kwargs.items():\n",
    "            setattr(self.pt, arg, val)\n",
    "\n",
    "\n",
    "    #def toggle(self, event, type, coordinates):\n",
    "    #    style = self.off if self.on else self.symbology   # determine opacity\n",
    "    #    self.update(**style)                              # set opacity\n",
    "    #    self.on = False if self.on else True              # toggle status\n",
    "\n",
    "    \n",
    "    def submit(self, session):\n",
    "        \"\"\"Called by parent. Downloads url. Updates status.\"\"\"\n",
    "\n",
    "        self.response = session.get(self.dl)\n",
    "        self.df = txt_to_pd(self.response.text)            # read to\n",
    "        #self.pt.on_click(self.toggle)                      # callback toggle\n",
    "        #self.summary = get_null_summary(self.xr)           # get null summary\n",
    "        #self.symbology = get_symbology(self.summary[0])\n",
    "        self.on = True                                     # toggle status on"
   ]
  },
  {
   "cell_type": "markdown",
   "metadata": {},
   "source": [
    "### Layer parser"
   ]
  },
  {
   "cell_type": "code",
   "execution_count": 22,
   "metadata": {},
   "outputs": [],
   "source": [
    "def get_layer_data(i, feat, col=\"#FFFFFF\", opac=0.4, samp=True):\n",
    "    \"\"\" \"\"\"\n",
    "\n",
    "    shapely_geom = shape(feat[\"geometry\"])              # shapely geom\n",
    "    nodes = get_ease(shapely_geom) if samp else None     # ease grid points\n",
    "    nodes[\"node\"] = [Node(\n",
    "        i, row[\"lat\"], row[\"lon\"]\n",
    "    ) for i, row in nodes.iterrows()]\n",
    "    nodes[\"xr\"] = [None]*len(nodes.index)\n",
    "    \n",
    "    cent = shapely_geom.centroid                        # centroid\n",
    "    lat, lon = cent.y, cent.x                           # lat, lon\n",
    "    feat[\"properties\"].update({\"id\": i, \"style\": {\n",
    "        \"weight\": 0.75, \n",
    "        \"color\": \"aliceblue\",\n",
    "        \"fillColor\": col,\n",
    "        \"fillOpacity\": opac}})\n",
    "\n",
    "    return((feat, lat, lon, nodes))\n",
    "\n",
    "\n",
    "class Layer(object):\n",
    "    \"\"\" \"\"\"\n",
    "\n",
    "    def __init__(self, i, feat, col=None, grid=True):\n",
    "        \"\"\" \"\"\"\n",
    "        \n",
    "        layer_data = get_layer_data(i, feat, col)\n",
    "        \n",
    "        self.id = i\n",
    "        self.feat = layer_data[0]\n",
    "        self.lat = layer_data[1]\n",
    "        self.lon = layer_data[2]\n",
    "        self.nodes = layer_data[3]\n",
    "        self.grid = grid\n",
    "\n",
    "        #self.layer = GeoJSON(\n",
    "        #    data=self.feat,\n",
    "        #    hover_style={\n",
    "        #        \"color\": \"white\", \n",
    "        #        \"fillOpacity\": 0.8})\n",
    "        #self.layer.on_click(self.toggle)\n",
    "\n",
    "        self.dl = False    # downloaded or nah?\n",
    "        self.on = False    # toggle on or nah?\n",
    "\n",
    "        \n",
    "    #def toggle(self, **kwargs):\n",
    "    #    \"\"\"Routine for when a new USFS polygon is selected.\"\"\"\n",
    "    #    if list(kwargs.keys()) != ['event', 'properties']: # check event\n",
    "    #        return(None)                                   # skip basemap\n",
    "    #    self.on = False if self.on else True               # update status\n",
    "    \n",
    "    \n",
    "    def submit(self, session):\n",
    "        \"\"\" \"\"\"\n",
    "        \n",
    "        for i, node in self.nodes.iterrows():                  # loop over sample pts\n",
    "            if not node[\"node\"].on:              \n",
    "                self.nodes.at[i,\"xr\"] = get_node_xr(\n",
    "                    node[\"node\"], \n",
    "                    grid=self.grid)  # get xr dataset\n",
    "        \n",
    "        self.xr = xr.concat(self.nodes[\"xr\"].tolist(), \"node\")  # make xr dataset\n",
    "    \n",
    "    \n",
    "    def update(self, **kwargs):\n",
    "        for arg, val in kwargs.items():\n",
    "            setattr(self.layer, arg, val)\n",
    "    \n",
    "    \n",
    "    #def tonode(self):\n",
    "    #    \"\"\" \"\"\"\n",
    "    #\n",
    "    #    self.xr.concat()\n",
    "    \n",
    "    def toxy(self):\n",
    "        \"\"\" \"\"\"    \n",
    "        \n",
    "        self.xr = self.xr.set_index({\"node\": [\"lat\", \"lon\"]})\n",
    "        self.xr = self.xr.unstack()\n"
   ]
  },
  {
   "cell_type": "markdown",
   "metadata": {},
   "source": [
    "## Launch"
   ]
  },
  {
   "cell_type": "code",
   "execution_count": 8,
   "metadata": {},
   "outputs": [
    {
     "data": {
      "text/plain": [
       "'Login successful. Download with: session.get(url)'"
      ]
     },
     "metadata": {},
     "output_type": "display_data"
    },
    {
     "data": {
      "text/plain": [
       "<xarray.Dataset>\n",
       "Dimensions:                     (node: 48, stat: 3, time: 6240)\n",
       "Coordinates:\n",
       "  * time                        (time) datetime64[ns] 2002-04-01 ... 2019-05-01\n",
       "  * stat                        (stat) object 'Min' 'Mean' 'Max'\n",
       "  * node                        (node) int64 0 1 2 3 4 5 6 ... 42 43 44 45 46 47\n",
       "    lat                         (node) float64 31.91 31.91 31.91 ... 31.34 31.34\n",
       "    lon                         (node) float64 -110.8 -110.7 ... -110.4 -110.3\n",
       "Data variables:\n",
       "    SoilSCAPE_surface           (node, time, stat) float64 nan nan ... nan nan\n",
       "    SoilSCAPE_rootzone          (node, time, stat) float64 nan nan ... nan nan\n",
       "    AirMOSS_L2_3_surface        (node, time, stat) float64 nan nan ... nan nan\n",
       "    AirMOSS_L2_3_rootzone       (node, time, stat) float64 nan nan ... nan nan\n",
       "    AirMOSS_L4_rootzone         (node, time, stat) float64 nan nan ... nan nan\n",
       "    SMAP_surface                (node, time, stat) float64 nan nan ... nan nan\n",
       "    SMAP_rootzone               (node, time, stat) float64 nan nan ... nan nan\n",
       "    NEE_mean                    (node, time, stat) float64 nan nan ... nan nan\n",
       "    GPP_mean                    (node, time, stat) float64 nan nan ... nan nan\n",
       "    prcp                        (node, time, stat) float64 nan nan ... nan nan\n",
       "    tmax                        (node, time, stat) float64 nan nan ... nan nan\n",
       "    tmin                        (node, time, stat) float64 nan nan ... nan nan\n",
       "    AirMOSS_in-ground_surface   (node, time, stat) float64 nan nan ... nan nan\n",
       "    AirMOSS_in-ground_rootzone  (node, time, stat) float64 nan nan ... nan nan\n",
       "    COSMOS_surface              (node, time, stat) float64 nan nan ... nan nan\n",
       "    COSMOS_rootzone             (node, time, stat) float64 nan nan ... nan nan\n",
       "    CRN_surface                 (node, time, stat) float64 nan nan ... nan nan\n",
       "    CRN_rootzone                (node, time, stat) float64 nan nan ... nan nan\n",
       "    SCAN_surface                (node, time, stat) float64 nan nan ... nan nan\n",
       "    SCAN_rootzone               (node, time, stat) float64 nan nan ... nan nan\n",
       "    SNOTEL_surface              (node, time, stat) float64 nan nan ... nan nan\n",
       "    SNOTEL_rootzone             (node, time, stat) float64 nan nan ... nan nan"
      ]
     },
     "execution_count": 8,
     "metadata": {},
     "output_type": "execute_result"
    }
   ],
   "source": [
    "from ursjupyter import *\n",
    "\n",
    "poly = Layer(1, features[1])            # get Layer class\n",
    "poly.submit(session)\n",
    "\n",
    "poly.xr"
   ]
  },
  {
   "cell_type": "markdown",
   "metadata": {},
   "source": [
    "Dump to pickle file for backup:"
   ]
  },
  {
   "cell_type": "code",
   "execution_count": 9,
   "metadata": {},
   "outputs": [],
   "source": [
    "try:\n",
    "    import _pickle as pickle\n",
    "except ModuleNotFoundError:\n",
    "    import pickle\n",
    "    \n",
    "with open('docs/feat1.pkl', 'wb') as output:\n",
    "    pickle.dump(poly, output, -1)"
   ]
  },
  {
   "cell_type": "markdown",
   "metadata": {},
   "source": [
    "## Explore the data\n",
    "\n",
    "Use <Layer>.toxy() to switch from node structure to raster structure:"
   ]
  },
  {
   "cell_type": "code",
   "execution_count": 14,
   "metadata": {},
   "outputs": [
    {
     "data": {
      "text/plain": [
       "[<matplotlib.lines.Line2D at 0x1fa0ebac860>]"
      ]
     },
     "execution_count": 14,
     "metadata": {},
     "output_type": "execute_result"
    },
    {
     "data": {
      "image/png": "[encoded data removed]",
      "text/plain": [
       "<Figure size 720x288 with 1 Axes>"
      ]
     },
     "metadata": {
      "needs_background": "light"
     },
     "output_type": "display_data"
    }
   ],
   "source": [
    "plt.rcParams[\"figure.figsize\"] = (10,4)\n",
    "\n",
    "poly.xr[\"SMAP_surface\"].sel(stat=\"Mean\").mean(\"time\").plot(figsize=(10, 4))"
   ]
  },
  {
   "cell_type": "code",
   "execution_count": 16,
   "metadata": {},
   "outputs": [
    {
     "name": "stderr",
     "output_type": "stream",
     "text": [
      "C:\\Apps\\Python\\Anaconda3\\lib\\site-packages\\ipykernel_launcher.py:80: FutureWarning: The inplace argument has been deprecated and will be removed in a future version of xarray.\n"
     ]
    },
    {
     "data": {
      "text/plain": [
       "<xarray.Dataset>\n",
       "Dimensions:                     (lat: 8, lon: 6, stat: 3, time: 6240)\n",
       "Coordinates:\n",
       "  * time                        (time) datetime64[ns] 2002-04-01 ... 2019-05-01\n",
       "  * stat                        (stat) object 'Min' 'Mean' 'Max'\n",
       "  * lat                         (lat) float64 31.34 31.42 31.5 ... 31.83 31.91\n",
       "  * lon                         (lon) float64 -110.8 -110.7 ... -110.4 -110.3\n",
       "Data variables:\n",
       "    SoilSCAPE_surface           (time, stat, lat, lon) float64 nan nan ... nan\n",
       "    SoilSCAPE_rootzone          (time, stat, lat, lon) float64 nan nan ... nan\n",
       "    AirMOSS_L2_3_surface        (time, stat, lat, lon) float64 nan nan ... nan\n",
       "    AirMOSS_L2_3_rootzone       (time, stat, lat, lon) float64 nan nan ... nan\n",
       "    AirMOSS_L4_rootzone         (time, stat, lat, lon) float64 nan nan ... nan\n",
       "    SMAP_surface                (time, stat, lat, lon) float64 nan nan ... 13.69\n",
       "    SMAP_rootzone               (time, stat, lat, lon) float64 nan nan ... 25.57\n",
       "    NEE_mean                    (time, stat, lat, lon) float64 nan nan ... nan\n",
       "    GPP_mean                    (time, stat, lat, lon) float64 nan nan ... nan\n",
       "    prcp                        (time, stat, lat, lon) float64 nan nan ... nan\n",
       "    tmax                        (time, stat, lat, lon) float64 nan nan ... nan\n",
       "    tmin                        (time, stat, lat, lon) float64 nan nan ... nan\n",
       "    AirMOSS_in-ground_surface   (time, stat, lat, lon) float64 nan nan ... nan\n",
       "    AirMOSS_in-ground_rootzone  (time, stat, lat, lon) float64 nan nan ... nan\n",
       "    COSMOS_surface              (time, stat, lat, lon) float64 nan nan ... nan\n",
       "    COSMOS_rootzone             (time, stat, lat, lon) float64 nan nan ... nan\n",
       "    CRN_surface                 (time, stat, lat, lon) float64 nan nan ... nan\n",
       "    CRN_rootzone                (time, stat, lat, lon) float64 nan nan ... nan\n",
       "    SCAN_surface                (time, stat, lat, lon) float64 nan nan ... nan\n",
       "    SCAN_rootzone               (time, stat, lat, lon) float64 nan nan ... nan\n",
       "    SNOTEL_surface              (time, stat, lat, lon) float64 nan nan ... nan\n",
       "    SNOTEL_rootzone             (time, stat, lat, lon) float64 nan nan ... nan"
      ]
     },
     "execution_count": 16,
     "metadata": {},
     "output_type": "execute_result"
    }
   ],
   "source": [
    "poly.toxy()\n",
    "poly.xr"
   ]
  },
  {
   "cell_type": "code",
   "execution_count": 21,
   "metadata": {},
   "outputs": [
    {
     "data": {
      "text/plain": [
       "<matplotlib.collections.QuadMesh at 0x1fa2767e908>"
      ]
     },
     "execution_count": 21,
     "metadata": {},
     "output_type": "execute_result"
    },
    {
     "data": {
      "image/png": "[encoded data removed]",
      "text/plain": [
       "<Figure size 720x648 with 2 Axes>"
      ]
     },
     "metadata": {
      "needs_background": "light"
     },
     "output_type": "display_data"
    }
   ],
   "source": [
    "poly.xr[\"SMAP_surface\"].sel(stat=\"Mean\").mean(\"time\").plot(figsize=(10,9))"
   ]
  },
  {
   "cell_type": "code",
   "execution_count": 23,
   "metadata": {},
   "outputs": [],
   "source": [
    "#poly.xr[\"SMAP_surface\"].sel(stat=\"Mean\").mean(\"time\").plot()"
   ]
  },
  {
   "cell_type": "code",
   "execution_count": 24,
   "metadata": {},
   "outputs": [
    {
     "data": {
      "image/png": "[encoded data removed]",
      "text/plain": [
       "<Figure size 720x288 with 1 Axes>"
      ]
     },
     "metadata": {
      "needs_background": "light"
     },
     "output_type": "display_data"
    }
   ],
   "source": [
    "import cartopy.crs as ccrs\n",
    "\n",
    "lon, lat = poly.xr.lon, poly.xr.lat\n",
    "\n",
    "x2d, y2d = np.meshgrid(lon, lat)\n",
    "\n",
    "ax = plt.subplot(projection=ccrs.Orthographic(poly.lon, poly.lat));\n",
    "ax.scatter(x2d, y2d, transform=ccrs.Orthographic(poly.lon, poly.lat));"
   ]
  },
  {
   "cell_type": "code",
   "execution_count": null,
   "metadata": {},
   "outputs": [],
   "source": [
    "lat.data.min()"
   ]
  },
  {
   "cell_type": "code",
   "execution_count": 29,
   "metadata": {},
   "outputs": [
    {
     "data": {
      "text/plain": [
       "<matplotlib.colors.LinearSegmentedColormap at 0x1fa75e2fcc0>"
      ]
     },
     "execution_count": 29,
     "metadata": {},
     "output_type": "execute_result"
    }
   ],
   "source": []
  },
  {
   "cell_type": "markdown",
   "metadata": {},
   "source": [
    "#### Folium map"
   ]
  },
  {
   "cell_type": "code",
   "execution_count": 33,
   "metadata": {
    "scrolled": false
   },
   "outputs": [
    {
     "data": {
      "text/html": [
       "<div style=\"width:100%;\"><div style=\"position:relative;width:100%;height:0;padding-bottom:60%;\"><iframe src=\"data:text/html;charset=utf-8;base64,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\" style=\"position:absolute;width:100%;height:100%;left:0;top:0;border:none !important;\" allowfullscreen webkitallowfullscreen mozallowfullscreen></iframe></div></div>"
      ],
      "text/plain": [
       "<folium.folium.Map at 0x1fa31ac2e80>"
      ]
     },
     "execution_count": 33,
     "metadata": {},
     "output_type": "execute_result"
    }
   ],
   "source": [
    "from folium.plugins import MiniMap\n",
    "\n",
    "m = folium.Map([poly.lat, poly.lon], zoom_start=9, tiles='Cartodb Positron',)\n",
    "minimap = MiniMap(toggle_display=True)\n",
    "m.add_child(minimap)\n",
    "\n",
    "\n",
    "image = poly.xr[\"SMAP_surface\"].sel(stat=\"Mean\").mean(\"time\").data\n",
    "\n",
    "folium.raster_layers.ImageOverlay(\n",
    "    image=image,\n",
    "    bounds=[\n",
    "        [lat.data.min() , lon.data.min()], \n",
    "        [lat.data.max() , lon.data.max()]],\n",
    "    mercator_project=True,\n",
    "    colormap=cm.viridis,  \n",
    "    opacity=0.75\n",
    ").add_to(m)\n",
    "\n",
    "m"
   ]
  },
  {
   "cell_type": "markdown",
   "metadata": {},
   "source": [
    "https://python-visualization.github.io/folium/modules.html#folium.raster_layers.ImageOverlay"
   ]
  },
  {
   "cell_type": "code",
   "execution_count": null,
   "metadata": {},
   "outputs": [],
   "source": [
    "m = folium.Map([poly.lat, poly.lon], zoom_start=9, tiles='Cartodb Positron',)\n",
    "folium.features.GeoJson(shapes).add_to(m)\n",
    "\n",
    "m"
   ]
  },
  {
   "cell_type": "code",
   "execution_count": null,
   "metadata": {},
   "outputs": [],
   "source": [
    "m = folium.Map(\n",
    "    location=[40, 10],\n",
    "    zoom_start=4,\n",
    "    control_scale=True,\n",
    "    prefer_canvas=True\n",
    ")\n",
    "\n",
    "\n",
    "def style_function(feature):\n",
    "    return {\n",
    "        'fillColor': '#ffaf00',\n",
    "        'color': 'blue',\n",
    "        'weight': 1.5,\n",
    "        'dashArray': '5, 5'\n",
    "    }\n",
    "\n",
    "\n",
    "def highlight_function(feature):\n",
    "    return {\n",
    "        'fillColor': '#ffaf00',\n",
    "        'color': 'green',\n",
    "        'weight': 3,\n",
    "        'dashArray': '5, 5'\n",
    "    }\n",
    "\n",
    "\n",
    "for index, row in df.iterrows():\n",
    "    c = folium.GeoJson(\n",
    "        row['geojson'],\n",
    "        name=('{}{}'.format(row['dep'], row['dest'])),\n",
    "        overlay=True,\n",
    "        style_function=style_function,\n",
    "        highlight_function=highlight_function\n",
    "    )\n",
    "    folium.Popup('{}\\n{}'.format(row['dep'], row['dest'])).add_to(c)\n",
    "    c.add_to(m)\n",
    "\n",
    "folium.LayerControl().add_to(m)\n",
    "m.save(os.path.join('results', 'Highlight_Function.html'))\n",
    "\n",
    "m"
   ]
  },
  {
   "cell_type": "code",
   "execution_count": null,
   "metadata": {},
   "outputs": [],
   "source": []
  },
  {
   "cell_type": "code",
   "execution_count": null,
   "metadata": {},
   "outputs": [],
   "source": []
  },
  {
   "cell_type": "code",
   "execution_count": null,
   "metadata": {},
   "outputs": [],
   "source": []
  },
  {
   "cell_type": "code",
   "execution_count": null,
   "metadata": {},
   "outputs": [],
   "source": []
  },
  {
   "cell_type": "code",
   "execution_count": null,
   "metadata": {},
   "outputs": [],
   "source": []
  },
  {
   "cell_type": "code",
   "execution_count": null,
   "metadata": {},
   "outputs": [],
   "source": []
  },
  {
   "cell_type": "code",
   "execution_count": null,
   "metadata": {},
   "outputs": [],
   "source": []
  },
  {
   "cell_type": "code",
   "execution_count": null,
   "metadata": {},
   "outputs": [],
   "source": []
  },
  {
   "cell_type": "code",
   "execution_count": null,
   "metadata": {},
   "outputs": [],
   "source": []
  },
  {
   "cell_type": "markdown",
   "metadata": {},
   "source": [
    "# @FG------------------------------------------------------------"
   ]
  },
  {
   "cell_type": "code",
   "execution_count": null,
   "metadata": {},
   "outputs": [],
   "source": []
  },
  {
   "cell_type": "code",
   "execution_count": null,
   "metadata": {},
   "outputs": [],
   "source": [
    "xrds = \n",
    "poly.xr = xrds\n",
    "polymult = poly.xr.set_index({\"node\": [\"lat\", \"lon\"]})\n",
    "polyxy = polymult.unstack()\n",
    "polyxy"
   ]
  },
  {
   "cell_type": "code",
   "execution_count": null,
   "metadata": {},
   "outputs": [],
   "source": [
    "polyxy[\"SMAP_surface\"].sel(stat=\"Mean\").mean(\"time\").plot()"
   ]
  },
  {
   "cell_type": "code",
   "execution_count": null,
   "metadata": {},
   "outputs": [],
   "source": []
  },
  {
   "cell_type": "code",
   "execution_count": null,
   "metadata": {},
   "outputs": [],
   "source": [
    "\n",
    "bmap = mwg.basemap_to_tiles(mwg.basemaps.Esri.WorldImagery)    # map widget \n",
    "\n",
    "map_args = dict(\n",
    "    center=(32.75, -109), \n",
    "    zoom=7, \n",
    "    scroll_wheel_zoom=True)\n",
    "\n",
    "submit_args = dict(                                            # submit button\n",
    "    description=\"Submit\", \n",
    "    disabled=True, \n",
    "    button_style=\"success\")\n",
    "\n",
    "progress_args = dict(                                          # progress bar\n",
    "    description=\"Progress: \", \n",
    "    layout=Layout(width=\"95%\"))"
   ]
  },
  {
   "cell_type": "markdown",
   "metadata": {},
   "source": [
    "# Original NASA-USFS Workshop widget"
   ]
  },
  {
   "cell_type": "code",
   "execution_count": null,
   "metadata": {},
   "outputs": [],
   "source": [
    "%matplotlib widget\n",
    "from ursjupyter import *\n",
    "from smvjupyter import *\n",
    "warnings.filterwarnings('ignore')\n",
    "\n",
    "usfs_sites = \"docs/usfs_sites/Sites_lf_geo.json\"                      # USFS sites\n",
    "usfs_regions = \"docs/usfs_admin/USFS_admin_boundaries.json\"           # USFS administrative regions"
   ]
  },
  {
   "cell_type": "code",
   "execution_count": null,
   "metadata": {},
   "outputs": [],
   "source": [
    "#app = JupyterSMV(usfs_sites, anc=usfs_regions, session=session)"
   ]
  },
  {
   "cell_type": "code",
   "execution_count": null,
   "metadata": {},
   "outputs": [],
   "source": []
  }
 ],
 "metadata": {
  "kernelspec": {
   "display_name": "Python 3",
   "language": "python",
   "name": "python3"
  },
  "language_info": {
   "codemirror_mode": {
    "name": "ipython",
    "version": 3
   },
   "file_extension": ".py",
   "mimetype": "text/x-python",
   "name": "python",
   "nbconvert_exporter": "python",
   "pygments_lexer": "ipython3",
   "version": "3.7.3"
  }
 },
 "nbformat": 4,
 "nbformat_minor": 2
}
