{
 "cells": [
  {
   "cell_type": "markdown",
   "metadata": {},
   "source": [
    "# day 3 tutorial\n",
    "\n",
    "**users will need to install ipywidgets and ipyleaflet to use the widgets outside of MyBinder environment. Then they need to enable the widget extension for jupyter:**\n",
    "```\n",
    "pip install ipywidgets\n",
    "pip install ipyleaflet\n",
    "jupyter nbextension enable --py widgetsnbextension\n",
    "```\n",
    "**maybe we don't display the hovers. it's kinda hack-y implementation. ipyleaflet map widget doesn't have great options for this type of interaction. this is the purged hover handler ocde:**\n",
    "```\n",
    "def hover_handler(event=None, id=None, properties=None):\n",
    "    if len(m.layers)==3:\n",
    "        m.remove_layer(m.layers[-1])\n",
    "\n",
    "    nyears = len([key for key in properties.keys() if \"MEAN\" in key])\n",
    "    data = {'year': [], 'mean': [], 'std': []}\n",
    "    for i in range(1,nyears):\n",
    "        data['year'].append(1980+i)\n",
    "        data['mean'].append(properties[\"MEAN_\"+str(i)])\n",
    "        data['std'].append(properties[\"STD_\"+str(i)])\n",
    "    df = pd.DataFrame(data)\n",
    "        \n",
    "    popup = mwg.Popup(location=properties['centroid'], \n",
    "                      child=wg.HTML(\"{put some info here}\"), \n",
    "                      auto_close=True,\n",
    "                      class_name=\"custom\")\n",
    "    m.add_layer(popup)\n",
    "    \n",
    "layer.on_hover(hover_handler)\n",
    "m.add_layer(layer)\n",
    "m\n",
    "```\n",
    "**purged imports:**\n",
    "```\n",
    "import math\n",
    "import matplotlib as mpl\n",
    "import matplotlib.pyplot as plt, mpld3\n",
    "mpl.rcParams['figure.figsize'] = [8, 7]\n",
    "```"
   ]
  },
  {
   "cell_type": "code",
   "execution_count": 1,
   "metadata": {},
   "outputs": [],
   "source": [
    "# core\n",
    "import os\n",
    "import json\n",
    "#import requests # not used yet; for downloads <<--\n",
    "import numpy as np\n",
    "import pandas as pd\n",
    "import geopandas as gpd\n",
    "from shapely.geometry import Point\n",
    "\n",
    "# widgets/map colors\n",
    "import ipywidgets as wg\n",
    "import ipyleaflet as mwg\n",
    "from matplotlib import cm, colors\n",
    "\n",
    "# miscellaneous settings\n",
    "smap_res = 9\n",
    "basemap = mwg.basemap_to_tiles(mwg.basemaps.Esri.WorldImagery)"
   ]
  },
  {
   "cell_type": "markdown",
   "metadata": {},
   "source": [
    "## open shapefile with geopandas and organize; get some basic spatial metadata"
   ]
  },
  {
   "cell_type": "code",
   "execution_count": 2,
   "metadata": {},
   "outputs": [
    {
     "data": {
      "text/html": [
       "<div>\n",
       "<style scoped>\n",
       "    .dataframe tbody tr th:only-of-type {\n",
       "        vertical-align: middle;\n",
       "    }\n",
       "\n",
       "    .dataframe tbody tr th {\n",
       "        vertical-align: top;\n",
       "    }\n",
       "\n",
       "    .dataframe thead th {\n",
       "        text-align: right;\n",
       "    }\n",
       "</style>\n",
       "<table border=\"1\" class=\"dataframe\">\n",
       "  <thead>\n",
       "    <tr style=\"text-align: right;\">\n",
       "      <th></th>\n",
       "      <th>OBJECTID</th>\n",
       "      <th>RANGERDIST</th>\n",
       "      <th>REGION</th>\n",
       "      <th>FORESTNUMB</th>\n",
       "      <th>DISTRICTNU</th>\n",
       "      <th>DISTRICTOR</th>\n",
       "      <th>FORESTNAME</th>\n",
       "      <th>DISTRICTNA</th>\n",
       "      <th>GIS_ACRES</th>\n",
       "      <th>SHAPE_Leng</th>\n",
       "      <th>...</th>\n",
       "      <th>STD_29</th>\n",
       "      <th>STD_30</th>\n",
       "      <th>STD_31</th>\n",
       "      <th>STD_32</th>\n",
       "      <th>STD_33</th>\n",
       "      <th>STD_34</th>\n",
       "      <th>STD_35</th>\n",
       "      <th>geometry</th>\n",
       "      <th>centroid</th>\n",
       "      <th>style</th>\n",
       "    </tr>\n",
       "  </thead>\n",
       "  <tbody>\n",
       "    <tr>\n",
       "      <th>0</th>\n",
       "      <td>61</td>\n",
       "      <td>99030501010343</td>\n",
       "      <td>03</td>\n",
       "      <td>05</td>\n",
       "      <td>01</td>\n",
       "      <td>030501</td>\n",
       "      <td>Coronado National Forest</td>\n",
       "      <td>Douglas Ranger District</td>\n",
       "      <td>434025.200</td>\n",
       "      <td>3.963602</td>\n",
       "      <td>...</td>\n",
       "      <td>446.146563</td>\n",
       "      <td>453.982071</td>\n",
       "      <td>557.405375</td>\n",
       "      <td>339.841942</td>\n",
       "      <td>599.562885</td>\n",
       "      <td>470.501168</td>\n",
       "      <td>343.082608</td>\n",
       "      <td>(POLYGON ((-109.2462605499999 32.0543309500000...</td>\n",
       "      <td>(31.774734099094083, -109.3275890439515)</td>\n",
       "      <td>{'color': '#8dd3c7', 'fillOpacity': 0.5, 'weig...</td>\n",
       "    </tr>\n",
       "    <tr>\n",
       "      <th>1</th>\n",
       "      <td>62</td>\n",
       "      <td>99030503010343</td>\n",
       "      <td>03</td>\n",
       "      <td>05</td>\n",
       "      <td>03</td>\n",
       "      <td>030503</td>\n",
       "      <td>Coronado National Forest</td>\n",
       "      <td>Sierra Vista Ranger District</td>\n",
       "      <td>321534.997</td>\n",
       "      <td>2.854066</td>\n",
       "      <td>...</td>\n",
       "      <td>502.615547</td>\n",
       "      <td>430.908201</td>\n",
       "      <td>701.371540</td>\n",
       "      <td>272.786808</td>\n",
       "      <td>445.029396</td>\n",
       "      <td>525.713796</td>\n",
       "      <td>242.986111</td>\n",
       "      <td>(POLYGON ((-110.6378639499999 31.6445072200000...</td>\n",
       "      <td>(31.505073066518996, -110.53696719971326)</td>\n",
       "      <td>{'color': '#ffffb3', 'fillOpacity': 0.5, 'weig...</td>\n",
       "    </tr>\n",
       "  </tbody>\n",
       "</table>\n",
       "<p>2 rows × 133 columns</p>\n",
       "</div>"
      ],
      "text/plain": [
       "   OBJECTID      RANGERDIST REGION FORESTNUMB DISTRICTNU DISTRICTOR  \\\n",
       "0        61  99030501010343     03         05         01     030501   \n",
       "1        62  99030503010343     03         05         03     030503   \n",
       "\n",
       "                 FORESTNAME                    DISTRICTNA   GIS_ACRES  \\\n",
       "0  Coronado National Forest       Douglas Ranger District  434025.200   \n",
       "1  Coronado National Forest  Sierra Vista Ranger District  321534.997   \n",
       "\n",
       "   SHAPE_Leng                        ...                              STD_29  \\\n",
       "0    3.963602                        ...                          446.146563   \n",
       "1    2.854066                        ...                          502.615547   \n",
       "\n",
       "       STD_30      STD_31      STD_32      STD_33      STD_34      STD_35  \\\n",
       "0  453.982071  557.405375  339.841942  599.562885  470.501168  343.082608   \n",
       "1  430.908201  701.371540  272.786808  445.029396  525.713796  242.986111   \n",
       "\n",
       "                                            geometry  \\\n",
       "0  (POLYGON ((-109.2462605499999 32.0543309500000...   \n",
       "1  (POLYGON ((-110.6378639499999 31.6445072200000...   \n",
       "\n",
       "                                    centroid  \\\n",
       "0   (31.774734099094083, -109.3275890439515)   \n",
       "1  (31.505073066518996, -110.53696719971326)   \n",
       "\n",
       "                                               style  \n",
       "0  {'color': '#8dd3c7', 'fillOpacity': 0.5, 'weig...  \n",
       "1  {'color': '#ffffb3', 'fillOpacity': 0.5, 'weig...  \n",
       "\n",
       "[2 rows x 133 columns]"
      ]
     },
     "execution_count": 2,
     "metadata": {},
     "output_type": "execute_result"
    }
   ],
   "source": [
    "# read shapefile to geodataframe\n",
    "gdf = gpd.GeoDataFrame.from_file(\"sites/Sites_lf.shp\")  \n",
    "\n",
    "# get geodataframe as wgs84l get centroid of each polygon\n",
    "gdf = gdf.to_crs({'init': 'epsg:4326'})\n",
    "gdf['centroid'] = [(p.y, p.x) for p in gdf.centroid]\n",
    "\n",
    "# make list of colors using matplotlib's colormapper\n",
    "gdf['style'] = [{\n",
    "    'color': colors.rgb2hex(d[0:3]), \n",
    "    'fillColor': colors.rgb2hex(d[0:3]), \n",
    "    'weight': 1, 'fillOpacity': 0.5\n",
    "} for d in cm.Set3(np.linspace(0.0,1.0,len(gdf)))]\n",
    "\n",
    "# get geometries from geodataframe as python dictionary; get bounds\n",
    "geodict = json.loads(gdf.to_json())\n",
    "bnds, series = gdf.bounds, gdf['geometry']\n",
    "\n",
    "# get extent and centroid for whole file\n",
    "minx, maxx = min(bnds['minx']), max(bnds['maxx'])\n",
    "miny, maxy = min(bnds['miny']), max(bnds['maxy'])\n",
    "centroid = ((maxy+miny)/2, (maxx+minx)/2)\n",
    "\n",
    "# display first two rows of geodataframe\n",
    "gdf.head(2)"
   ]
  },
  {
   "cell_type": "markdown",
   "metadata": {},
   "source": [
    "# EASE Grid\n",
    "\n",
    "two binary files with (almost) global lat, lon coordinates:"
   ]
  },
  {
   "cell_type": "code",
   "execution_count": 3,
   "metadata": {},
   "outputs": [
    {
     "name": "stdout",
     "output_type": "stream",
     "text": [
      "Array shape: (6262144, 2)\n"
     ]
    },
    {
     "data": {
      "text/plain": [
       "array([[-179.9533195 ,   84.6564188 ],\n",
       "       [-179.85995851,   84.6564188 ],\n",
       "       [-179.76659751,   84.6564188 ],\n",
       "       ...,\n",
       "       [ 179.76659751,  -84.6564188 ],\n",
       "       [ 179.85995851,  -84.6564188 ],\n",
       "       [ 179.9533195 ,  -84.6564188 ]])"
      ]
     },
     "execution_count": 3,
     "metadata": {},
     "output_type": "execute_result"
    }
   ],
   "source": [
    "lats = \"docs/EASE2_M09km.lats.3856x1624x1.double\"\n",
    "lons = \"docs/EASE2_M09km.lons.3856x1624x1.double\"\n",
    "\n",
    "# read the files to two numpy arrays\n",
    "lat_array = np.fromfile(lats, dtype=np.float64).flatten()\n",
    "lon_array = np.fromfile(lons, dtype=np.float64).flatten()\n",
    "\n",
    "# zip the arrays with np.dstack\n",
    "c = np.dstack((lon_array, lat_array))[0]\n",
    "print(\"Array shape: \"+str(c.shape))\n",
    "c"
   ]
  },
  {
   "cell_type": "markdown",
   "metadata": {},
   "source": [
    "### Most straightforward way to select coordinates inside a polygon is to first index the coordinate array using the polygon extent:"
   ]
  },
  {
   "cell_type": "code",
   "execution_count": 4,
   "metadata": {},
   "outputs": [
    {
     "data": {
      "text/plain": [
       "array([[-89.9533195 ,  29.94568162],\n",
       "       [-89.85995851,  29.94568162],\n",
       "       [-89.76659751,  29.94568162],\n",
       "       ...,\n",
       "       [-85.19190871,  25.02339698],\n",
       "       [-85.09854772,  25.02339698],\n",
       "       [-85.00518672,  25.02339698]])"
      ]
     },
     "execution_count": 4,
     "metadata": {},
     "output_type": "execute_result"
    }
   ],
   "source": [
    "selection = c[(-90<lon_array) & (lon_array<-85) & (25<lat_array) & (lat_array<30)]\n",
    "selection"
   ]
  },
  {
   "cell_type": "markdown",
   "metadata": {},
   "source": [
    "### Simple function uses the logic above to select an array of coordinates within bounding extent of the polygon:"
   ]
  },
  {
   "cell_type": "code",
   "execution_count": 5,
   "metadata": {},
   "outputs": [],
   "source": [
    "def get_ease(geom):\n",
    "    \n",
    "    # geom.bounds method returns a tuple of bounding coordinates:\n",
    "    sel_minlon, sel_minlat, sel_maxlon, sel_maxlat = geom.bounds\n",
    "    \n",
    "    # index the xy array with bool conditions based on extent\n",
    "    sel_ease = c[(sel_minlon<lon_array) & (lon_array<sel_maxlon) & \n",
    "                 (sel_minlat<lat_array) & (lat_array<sel_maxlat)]\n",
    "    \n",
    "    return(sel_ease)"
   ]
  },
  {
   "cell_type": "markdown",
   "metadata": {},
   "source": [
    "### Test with polygon feature number 8, printing the first five coordinates:"
   ]
  },
  {
   "cell_type": "code",
   "execution_count": 6,
   "metadata": {},
   "outputs": [
    {
     "data": {
      "text/plain": [
       "array([[-107.50518672,   37.91860119],\n",
       "       [-107.41182573,   37.91860119],\n",
       "       [-107.31846473,   37.91860119],\n",
       "       [-107.22510373,   37.91860119],\n",
       "       [-107.13174274,   37.91860119]])"
      ]
     },
     "execution_count": 6,
     "metadata": {},
     "output_type": "execute_result"
    }
   ],
   "source": [
    "get_ease(gdf.iloc[8].geometry)[:5]"
   ]
  },
  {
   "cell_type": "markdown",
   "metadata": {},
   "source": [
    "## initialize the map and add the site polygons"
   ]
  },
  {
   "cell_type": "code",
   "execution_count": 7,
   "metadata": {},
   "outputs": [],
   "source": [
    "# initialize widgets\n",
    "m = mwg.Map(layers=(basemap,), center=(33, -109), zoom=6, scroll_wheel_zoom=True) \n",
    "layer = mwg.GeoJSON(\n",
    "    data=geodict, hover_style={'color': \"white\", 'weight': 2, 'fillOpacity': 0.5})\n",
    "\n",
    "m.add_layer(layer)"
   ]
  },
  {
   "cell_type": "markdown",
   "metadata": {},
   "source": [
    "## add click handler; display map\n",
    "click handler calls `get_ease` upon polygon click, reduces array of ease grid centroids using polygon extent, uses shapely `contains()` to determine if point is inside polygon (geopandas is basically pandas with shapely geometry column), makes feature and adds to layer group."
   ]
  },
  {
   "cell_type": "code",
   "execution_count": 8,
   "metadata": {
    "scrolled": false
   },
   "outputs": [
    {
     "data": {
      "application/vnd.jupyter.widget-view+json": {
       "model_id": "c4c6f9b78a9e48ffb16ab2f967754d11",
       "version_major": 2,
       "version_minor": 0
      },
      "text/plain": [
       "Map(basemap={'max_zoom': 19, 'attribution': 'Map data (c) <a href=\"https://openstreetmap.org\">OpenStreetMap</a…"
      ]
     },
     "metadata": {},
     "output_type": "display_data"
    }
   ],
   "source": [
    "def click_handler(**kwargs):\n",
    "    \n",
    "    # click callback returns two separate objects; differentiate\n",
    "    if \"id\" not in kwargs.keys():\n",
    "        return(None)\n",
    "    \n",
    "    # get geopandas row corresponding to clicked polygon; get the geometry\n",
    "    g = gdf.iloc[int(kwargs['id'])]\n",
    "    geom = g.geometry\n",
    "    \n",
    "    # use our function to select an array of coords within geom extent\n",
    "    ease_grid = get_ease(geom)\n",
    "    \n",
    "    # iterate over array of coordinates; append contained points as layers\n",
    "    point_features = []\n",
    "    for pt in ease_grid:\n",
    "        \n",
    "        # if coordinates \"pt\" are inside the selected geometry,\n",
    "        if geom.contains(Point(pt[0], pt[1])):\n",
    "            \n",
    "            # make a circle marker and append to list\n",
    "            point_features.append(mwg.CircleMarker(location=(pt[1], pt[0])))\n",
    "\n",
    "    # make a layer group from the list of point features\n",
    "    point_group = mwg.LayerGroup(layers=tuple(point_features))\n",
    "  \n",
    "    # get the centroid of selected layer; center and zoom the map\n",
    "    centroid = geom.centroid\n",
    "    m.center = (centroid.y, centroid.x)\n",
    "    m.zoom = 9\n",
    "    \n",
    "    # finally, add all of the layers\n",
    "    m.add_layer(point_group)\n",
    "        \n",
    "layer.on_click(click_handler)\n",
    "m"
   ]
  }
 ],
 "metadata": {
  "kernelspec": {
   "display_name": "Python 3",
   "language": "python",
   "name": "python3"
  },
  "language_info": {
   "codemirror_mode": {
    "name": "ipython",
    "version": 3
   },
   "file_extension": ".py",
   "mimetype": "text/x-python",
   "name": "python",
   "nbconvert_exporter": "python",
   "pygments_lexer": "ipython3",
   "version": "3.5.2"
  }
 },
 "nbformat": 4,
 "nbformat_minor": 2
}
