{
 "cells": [
  {
   "cell_type": "markdown",
   "metadata": {},
   "source": [
    "# Analysis of Soil Moisture at USFS Rangeland Monitoring Sites with Python\n",
    "*Author: ORNL DAAC*  \n",
    "*Date: Apr. 21, 2019*  \n",
    "*Contact for ORNL DAAC: uso@daac.ornl.gov*\n",
    "\n",
    "## Summary\n",
    "Forests in the western U.S. have been more and more affected by drought. For example, there was a severe drought event in the Kaibab National Forest in late 2017. The lack of precipitation on Kaibab National Forest has made 2017-2018 the second driest winter in the past 25 years. It significantly affected the biomass productivity in following years. \n",
    "\n",
    "<img src=\"https://westernnews.media.clients.ellingtoncms.com/img/photos/2018/02/20/Boundary_Fire_t715.jpg\"/>\n",
    "\n",
    "*Image source: https://www.williamsnews.com/news/2018/feb/20/dry-winter-sparks-fire-fears/*\n",
    "\n",
    "In this tutorial, we will dynamically access soil moisture data of multiple sources (i.e. satellite, airborne, and in-situ observations) in the past 10 years from the ORNL DAAC's Soil Moisture Visualizer (https://airmoss.ornl.gov/visualize/) at selected USFS rangeland monitoring sites. We then analyze the time series trends of both surface- and rootzone-level soil moisture at the monitoring sites and compare with the time series trends of the larger USFS Regions. We will also analyze the monthly cycle of soil moisture at those rangeland monitoring sites in years 2017/2018 and compare with the historical mean monthly cycle during 2010-2016.\n",
    "\n",
    "<img src=\"https://www.dropbox.com/s/33dkbz8m6tidzhy/DAAC_logo_blue_text_transparent_bg_web_0.png?dl=1\" width=\"500\"/>\n",
    "\n",
    "The Oak Ridge National Laboratory Distributed Active Archive Center (ORNL DAAC, https://daac.ornl.gov) for biogeochemical dynamics is one of the NASA Earth Observing System Data and Information System (EOSDIS, https://earthdata.nasa.gov/about) data centers managed by the Earth Science Data and Information System (ESDIS) Project, which is responsible for providing scientific and other users access to data from NASA's Earth Science Missions. ORNL DAAC is operated by the ORNL Environmental Sciences Division and is responsible for data archival, product development and distribution, and user support for biogeochemical and ecological data and models.\n",
    "\n",
    "ORNL DAAC archives and publishes datasets of multiple science themes collected and created by a number of NASA science missions, including the Carbon Monitoring System (CMS), Arctic-Boreal Vulnerability Experiment (ABoVE), Global Ecosystem Dynamics Investigation (GEDI) (*L3 & L4 products*), and Earth Venture Suborbital missions (CARVE, AirMOSS, ACT-America, and ATom): https://daac.ornl.gov/get_data/. \n",
    "\n",
    "## Earthdata Account\n",
    "\n",
    "A NASA Earthdata account is required to access data through the Soil Moisture Visualizer (SMV). Running the cell below will prompt you for your username and password. If you do not have a NASA Earthdata, follow the link that is displayed and register before logging in.\n",
    "\n",
    "## Choose a USFS site\n",
    "*Soil Moisture Visualizer datasets are explained later.*\n",
    "\n",
    "Two data layers from the US Forest Service:\n",
    "* Forest Service Rangeland Monitoring Sites\n",
    "* [Forest Service Regional Boundaries](https://enterprisecontent-usfs.opendata.arcgis.com/datasets/d5f88e90e2dd4e86b65ab51f8fe174a6_1)\n",
    "\n",
    "Both data layers were converted from Shapefile to GeoJSON format with the GDAL/OGR [ogr2ogr](https://www.gdal.org/ogr2ogr.html) utility by OSGeo:\n",
    "```\n",
    "ogr2ogr -f geojson <output>.json <input>.shp\n",
    "```\n",
    "\n",
    "Click a USFS study site to submit a series of download requests to the SMV. "
   ]
  },
  {
   "cell_type": "code",
   "execution_count": 1,
   "metadata": {},
   "outputs": [
    {
     "data": {
      "text/plain": [
       "'Login successful. Download with: session.get(url)'"
      ]
     },
     "metadata": {},
     "output_type": "display_data"
    },
    {
     "data": {
      "application/vnd.jupyter.widget-view+json": {
       "model_id": "cfafd7d2e0a14dba83d8643b95f22b34",
       "version_major": 2,
       "version_minor": 0
      },
      "text/plain": [
       "VBox(children=(VBox(children=(Map(basemap={'url': 'https://{s}.tile.openstreetmap.org/{z}/{x}/{y}.png', 'max_z…"
      ]
     },
     "metadata": {},
     "output_type": "display_data"
    }
   ],
   "source": [
    "%matplotlib widget\n",
    "from ursjupyter import *\n",
    "from smvjupyter import *\n",
    "\n",
    "usfs_sites = \"docs/usfs_sites/Sites_lf_geo.json\"                      # USFS sites\n",
    "usfs_regions = \"docs/usfs_admin/USFS_admin_boundaries.json\"           # USFS administrative regions\n",
    "\n",
    "app = JupyterSMV(usfs_sites, anc=usfs_regions, session=session)"
   ]
  },
  {
   "cell_type": "code",
   "execution_count": 3,
   "metadata": {},
   "outputs": [
    {
     "data": {
      "text/plain": [
       "id                                                         3\n",
       "lat                                                  34.0202\n",
       "lon                                                 -109.402\n",
       "layer        <smvjupyter.Layer object at 0x0000019C95987128>\n",
       "samples        id        lat         lon  \\\n",
       "0    0  34.17...\n",
       "points     LayerGroup(layers=(CircleMarker(color='white',...\n",
       "xr         [SoilSCAPE_surface, SoilSCAPE_rootzone, AirMOS...\n",
       "Name: 3, dtype: object"
      ]
     },
     "execution_count": 3,
     "metadata": {},
     "output_type": "execute_result"
    }
   ],
   "source": [
    "\n",
    "selected_layer"
   ]
  },
  {
   "cell_type": "code",
   "execution_count": null,
   "metadata": {},
   "outputs": [],
   "source": [
    "selected_layer = app.layers.iloc[app.selected]\n",
    "ds = selected_layer.xr.sel(stat=\"Mean\", drop=True)\n",
    "ds"
   ]
  },
  {
   "cell_type": "markdown",
   "metadata": {},
   "source": [
    "### Some plot settings\n",
    "*Note: changing plotting mode to inline disables interactivity.*"
   ]
  },
  {
   "cell_type": "code",
   "execution_count": 40,
   "metadata": {},
   "outputs": [
    {
     "data": {
      "application/vnd.jupyter.widget-view+json": {
       "model_id": "",
       "version_major": 2,
       "version_minor": 0
      },
      "text/plain": [
       "VBox(children=(Box(children=(Dropdown(layout=Layout(width='auto'), options=('Soil Moisture', 'SMAP GPP/NEE', '…"
      ]
     },
     "metadata": {},
     "output_type": "display_data"
    }
   ],
   "source": [
    "p = Plotter(selected_layer)\n",
    "p.ui"
   ]
  },
  {
   "cell_type": "code",
   "execution_count": null,
   "metadata": {},
   "outputs": [],
   "source": [
    "%matplotlib inline\n",
    "plt.rc('font', **{'family': 'normal', 'weight': 'normal', 'size': 14})\n",
    "plt.rc(\"axes\", **{\"xmargin\": 0.01})"
   ]
  },
  {
   "cell_type": "markdown",
   "metadata": {},
   "source": [
    "### Summary stats for southwest USFS administrative region\n",
    "\n",
    "Pre-calculated using the same workflow as demonstrated towards the bottom of this notebook:"
   ]
  },
  {
   "cell_type": "code",
   "execution_count": null,
   "metadata": {},
   "outputs": [],
   "source": [
    "usfs_astats = pd.read_csv(\"docs/usfs_admin.csv\", index_col=\"time\")\n",
    "usfs_astats.index = pd.to_datetime(usfs_astats.index)\n",
    "usfs_astats.head(5)"
   ]
  },
  {
   "cell_type": "code",
   "execution_count": null,
   "metadata": {},
   "outputs": [],
   "source": [
    "plotters = [(0, \"smap_rz\", \"darkgreen\", \"SMAP_rootzone\"), \n",
    "            (0, \"smap_su\", \"darkgreen\", \"SMAP_surface\")]#,\n",
    "            #(0, \"insitu_rz\", \"darkorange\", \"in situ\"), \n",
    "            #(1, \"insitu_su\", \"darkorange\", \"in situ\")]\n",
    "xtime = usfs_astats.index\n",
    "\n",
    "fig, axs = plt.subplots(nrows=2, ncols=1, sharex=True, figsize=(18,8))\n",
    "fig.tight_layout()\n",
    "\n",
    "for i, p in enumerate(plotters):\n",
    "    \n",
    "    #dsweek = p[0].resample(time=\"1w\").mean(keep_attrs=True)\n",
    "    #dscat = xr.concat(dsweek.values(), \"sample\")\n",
    "    axnum, prefix, clr, name = p\n",
    "    \n",
    "    dsmean = usfs_astats[prefix+\"_mean\"]\n",
    "    dsstd = usfs_astats[prefix+\"_std\"]\n",
    "    stdlo, stdhi = (dsmean-dsstd), (dsmean+dsstd)\n",
    "\n",
    "    ax = axs[axnum]\n",
    "    dsmean.plot.line(x=xtime, y=dsmean, ax=ax, color=p[2], label=name, linestyle=\"--\")\n",
    "    ax.fill_between(xtime, stdlo, stdhi, color=p[2], alpha=0.2)\n",
    "    \n",
    "st, et = xtime[0], xtime[-1]\n",
    "usfs_stats = selected_layer.layer.stats.loc[st:et]\n",
    "usfs_stats[\"STDH\"] = usfs_stats.MEAN+usfs_stats.STD\n",
    "usfs_stats[\"STDL\"] = usfs_stats.MEAN-usfs_stats.STD\n",
    "\n",
    "usfs_stats.MEAN.plot(ax=axs[1], color=\"black\")\n",
    "#axs[1].fill_between(usfs_stats.index, usfs_stats.STDL, usfs_stats.STDH, color=p[2], alpha=0.2)\n",
    "(usfs_stats.MEAN+usfs_stats.STD).plot(ax=axs[1], color=\"black\", linestyle=\":\")\n",
    "(usfs_stats.MEAN-usfs_stats.STD).plot(ax=axs[1], color=\"black\", linestyle=\":\")\n",
    "\n",
    "axs[0].set_title(\"Volumetric soil moisture from SMAP for southwest USFS administrative region\")\n",
    "axs[1].set_title(\"USFS Gross Primary Productivity (units)\")\n",
    "axs[0].grid(\"on\", alpha=0.2); axs[1].grid(\"on\", alpha=0.2)\n",
    "axs[0].legend(loc=\"upper left\")\n",
    "axs[0].set_ylabel(\"m3/m3\")\n",
    "axs[0].set_xlabel(None)\n",
    "axs[0].set_ylim(0,30)\n",
    "\n",
    "plt.show()"
   ]
  },
  {
   "cell_type": "markdown",
   "metadata": {},
   "source": [
    "### Volumetric soil moisture by depth zone (surface, rootzone) for each platform type"
   ]
  },
  {
   "cell_type": "code",
   "execution_count": null,
   "metadata": {},
   "outputs": [],
   "source": [
    "plotters = [\n",
    "    (ds.filter_by_attrs(type=\"in situ\", soil_zone=\"rootzone\"), 0, \"darkorange\"),\n",
    "    (ds.filter_by_attrs(type=\"airborne\", soil_zone=\"rootzone\"), 0, \"darkblue\"),\n",
    "    (ds.filter_by_attrs(type=\"spaceborne\", soil_zone=\"rootzone\"), 0, \"darkgreen\"),\n",
    "    \n",
    "    (ds.filter_by_attrs(type=\"in situ\", soil_zone=\"surface\"), 1, \"darkorange\"),\n",
    "    (ds.filter_by_attrs(type=\"airborne\", soil_zone=\"surface\"), 1, \"darkblue\"),\n",
    "    (ds.filter_by_attrs(type=\"spaceborne\", soil_zone=\"surface\"), 1, \"darkgreen\")\n",
    "]\n",
    "\n",
    "fig, axs = plt.subplots(nrows=2, ncols=1, sharex=True, figsize=(18,8))\n",
    "fig.tight_layout()\n",
    "plt.subplots_adjust(hspace=0.000)\n",
    "\n",
    "for i, p in enumerate(plotters):\n",
    "    \n",
    "    dsweek = p[0].resample(time=\"1w\").mean(keep_attrs=True)\n",
    "    dscat = xr.concat(dsweek.values(), \"sample\")\n",
    "    \n",
    "    dsmean = dscat.mean(\"sample\", keep_attrs=True) \n",
    "    dsstd = dscat.std(\"sample\", keep_attrs=True)\n",
    "    stdlo, stdhi = (dsmean-dsstd), (dsmean+dsstd)\n",
    "    \n",
    "    if not all(dsmean.isnull()):\n",
    "        \n",
    "        ax = axs[p[1]]\n",
    "        desc = dsmean.attrs[\"type\"]\n",
    "        zone = dsmean.attrs[\"soil_zone\"]\n",
    "        \n",
    "        dsmean.plot.line(x=\"time\", ax=ax, color=p[2], label=desc, linestyle=\"--\")\n",
    "        ax.fill_between(dsmean.time.data, stdlo, stdhi, color=p[2], alpha=0.2)\n",
    "        ax.set_ylabel(zone+\" (m3/m3)\")\n",
    "\n",
    "\n",
    "axs[0].set_title(\"Vol. soil moisture by platform type (in situ, airborne, spaceborne)\")\n",
    "axs[0].grid(\"on\", alpha=0.2); axs[1].grid(\"on\", alpha=0.2)\n",
    "axs[0].legend(loc=\"upper left\"); axs[1].legend(loc=\"upper left\")\n",
    "axs[0].set_xlabel(None)\n",
    "\n",
    "plt.show()"
   ]
  },
  {
   "cell_type": "markdown",
   "metadata": {},
   "source": [
    "## Soil Moisture Visualizer (SMV) datasets\n",
    "\n",
    "### Soil Moisture Active Passive (SMAP)\n",
    "Four SMAP datasets are available through the Soil Moisture Visualizer (SMV):\n",
    "* Root zone (0-100cm) volumetric soil moisture (m3/m3)\n",
    "* Surface zone (0-5cm) volumetric soil moisture (m3/m3)\n",
    "* Gross Primary Productivity (g m-2 d-1)\n",
    "* Net Ecosystem Exchange (g m-2 d-1)\n",
    "\n",
    "This plot shows the time series of SMAP datasets averaged over the 58 SMV sample locations covering the area of USFS site 1:"
   ]
  },
  {
   "cell_type": "code",
   "execution_count": null,
   "metadata": {},
   "outputs": [],
   "source": [
    "fig, axs = plt.subplots(nrows=3, ncols=1, sharex=True, figsize=(18, 12))\n",
    "fig.tight_layout()\n",
    "plt.subplots_adjust(hspace=0.000)\n",
    "\n",
    "smap = ds.filter_by_attrs(source=\"SMAP\")                                        # get SMAP datasets\n",
    "\n",
    "for p in [(\"SMAP_surface\", 0, \"black\"), (\"SMAP_rootzone\", 1, \"black\"), \n",
    "          (\"GPP_mean\", 2, None), (\"NEE_mean\", 2, None)]:\n",
    "    ax = axs[p[1]]\n",
    "    data = smap[p[0]]\n",
    "    desc = data.attrs[\"description\"]\n",
    "    \n",
    "    ptime = data.time.data\n",
    "    pmean = data.mean(\"sample\", keep_attrs=True)\n",
    "    pstd = data.std(\"sample\", keep_attrs=True)\n",
    "    \n",
    "    pmean.plot.line(x=\"time\", ax=ax, label=desc, add_legend=False, color=p[2])\n",
    "    ax.fill_between(ptime, (pmean-pstd), (pmean+pstd), color=\"gray\", alpha=0.2)\n",
    "\n",
    "for i, a in enumerate(axs):\n",
    "    ylab = \"m3/m3\" if i<2 else \"g m-2 d-1\"\n",
    "    a.set_ylabel(ylab)\n",
    "    a.set_xlabel(None)\n",
    "    a.grid('on', alpha=0.25)\n",
    "    a.legend(loc=0, framealpha=1)\n",
    "    \n",
    "axs[0].set_title(\"SMAP: Soil moisture at rootzone (1) and surface (2) depths; GPP and NEE (3)\")"
   ]
  },
  {
   "cell_type": "markdown",
   "metadata": {},
   "source": [
    "### Airborne Microwave Observatory of Subcanopy and Subsurface (AirMOSS)\n",
    "\n",
    "Five AirMOSS datasets are available through the SMV:\n",
    "* Mean vol (%) soil moisture at 0-5 cm (from in-ground sensors)\n",
    "* Mean vol (%) soil moisture at 0-100 cm (from in-ground sensors)\n",
    "* Mean vol (%) soil moisture at 0 cm (from L2 airborne SAR)\n",
    "* Mean vol (%) soil moisture at 0-30cm (from L2 airborne SAR)\n",
    "* Mean vol (%) soil moisture at 0-100cm\t(from L2 airborne SAR)"
   ]
  },
  {
   "cell_type": "code",
   "execution_count": null,
   "metadata": {},
   "outputs": [],
   "source": [
    "airmoss = ds.filter_by_attrs(source=\"AirMOSS\")\n",
    "airmoss"
   ]
  },
  {
   "cell_type": "markdown",
   "metadata": {},
   "source": [
    "AirMOSS data are relatively sparse. The only one suitable for plotting a time series is the level rootzone soil moisture:"
   ]
  },
  {
   "cell_type": "code",
   "execution_count": null,
   "metadata": {},
   "outputs": [],
   "source": [
    "airmoss = ds.filter_by_attrs(source=\"AirMOSS\")\n",
    "\n",
    "if xr.concat(airmoss.isnull().values(), \"null_check\").data.all():\n",
    "    print(\"No AirMOSS observations for this site!\")\n",
    "else:\n",
    "    \n",
    "    data = airmoss[\"AirMOSS_L4_rootzone\"]\n",
    "    ptime = data.time.data\n",
    "    pmean = data.mean(\"sample\", keep_attrs=True)\n",
    "    pstd = data.std(\"sample\", keep_attrs=True)\n",
    "\n",
    "    fig = plt.figure(figsize=(18, 4))\n",
    "    ax = plt.gca()\n",
    "    pmean.plot.line(x=\"time\", ax=ax, label=desc, add_legend=False)\n",
    "    ax.fill_between(ptime, (pmean-pstd), (pmean+pstd), color=\"gray\", alpha=0.2)\n",
    "    ax.set_title(\"AirMOSS_L4_rootzone: \"+data.attrs[\"description\"])\n",
    "    ax.set_ylabel(data.attrs[\"units\"])\n",
    "    ax.grid(\"on\", alpha=0.25)"
   ]
  },
  {
   "cell_type": "markdown",
   "metadata": {},
   "source": [
    "### Daymet\n",
    "\n",
    "Three Daymet datasets are available through the SMV: daily precipitation, minimum and maximum temperature."
   ]
  },
  {
   "cell_type": "code",
   "execution_count": null,
   "metadata": {},
   "outputs": [],
   "source": [
    "fig, ax0 = plt.subplots(figsize=(14,5))\n",
    "fig.tight_layout()\n",
    "ax1 = ax0.twinx()\n",
    "\n",
    "daymet = ds.filter_by_attrs(source=\"Daymet\")\n",
    "prcp = daymet.prcp.resample(time=\"1m\", keep_attrs=True).mean(keep_attrs=True).to_series() # avg precip over 1month\n",
    "tmin = daymet.tmin.resample(time=\"1w\", keep_attrs=True).mean(keep_attrs=True)             # avg tmin over 1week\n",
    "tmax = daymet.tmax.resample(time=\"1w\", keep_attrs=True).mean(keep_attrs=True)             # avg tmax over 1week\n",
    "\n",
    "l1 = tmin.plot(ax=ax0, color=\"darkgreen\", label=\"Min temperature weekly average\")\n",
    "l2 = tmax.plot(ax=ax0, color=\"darkorange\", label=\"Max temperature weekly average\")\n",
    "ax1.bar(prcp.index, prcp, width=25, alpha=0.5, label=\"Daily precipitation monthly average\")\n",
    "\n",
    "ax0.grid(\"on\", alpha=0.5)\n",
    "ax0.set_ylabel(tmin.attrs[\"units\"])\n",
    "ax1.set_ylabel(daymet.prcp.attrs[\"units\"])\n",
    "ax0.legend(loc=\"upper left\"); ax1.legend()\n",
    "ax0.set_title(\"Daymet surface meteorology: tmin, tmax, prcp\")"
   ]
  },
  {
   "cell_type": "markdown",
   "metadata": {},
   "source": [
    "### Rootzone and surface soil moisture\n",
    "Soil moisture data are provided for two general depth zones: rootzone and surface:"
   ]
  },
  {
   "cell_type": "code",
   "execution_count": null,
   "metadata": {},
   "outputs": [],
   "source": [
    "soil_moisture = ds.filter_by_attrs(units=\"m3/m3\")\n",
    "rootzone = soil_moisture.filter_by_attrs(soil_zone=\"rootzone\")\n",
    "surface = soil_moisture.filter_by_attrs(soil_zone=\"surface\")"
   ]
  },
  {
   "cell_type": "markdown",
   "metadata": {},
   "source": [
    "Plot all of the soil moisture observations and the means for both soil depths:"
   ]
  },
  {
   "cell_type": "code",
   "execution_count": null,
   "metadata": {},
   "outputs": [],
   "source": [
    "fig, axs = plt.subplots(nrows=4, ncols=1, sharex=True, figsize=(16, 12))\n",
    "fig.tight_layout()\n",
    "plt.subplots_adjust(hspace=0.000)\n",
    "\n",
    "for plotter in [(0, \"rootzone\", rootzone), (2, \"surface\", surface)]:\n",
    "    axa, axb = axs[plotter[0]+1], axs[plotter[0]]\n",
    "    \n",
    "    arrays, clrs = [], get_colors(len(plotter[2]), cmap=cm.Dark2)\n",
    "    for i, dataset in enumerate(plotter[2].values()):\n",
    "        name = dataset.name\n",
    "        data = dataset.mean(\"sample\") if \"sample\" in dataset.dims else dataset\n",
    "        if not all(data.isnull()):\n",
    "            data.plot.line(ax=axa, x=\"time\", label=name, color=clrs[i], add_legend=False)\n",
    "            arrays.append(dataset)\n",
    "\n",
    "    stack = xr.concat(arrays, \"mean\").stack(cat=(\"mean\", \"sample\"))\n",
    "    pmean, pstd = stack.mean(\"cat\"), stack.std(\"cat\")\n",
    "    pmean.plot(x=\"time\", ax=axb, color=\"black\", label=plotter[1]+\" mean\")\n",
    "    axb.fill_between(pmean.time.data, (pmean-pstd), (pmean+pstd), color=\"gray\", alpha=0.2)\n",
    "\n",
    "    axa.legend(loc=2); axb.legend(loc=1)\n",
    "    #axa.set_ylim(0, 35); axb.set_ylim(0, 35)\n",
    "    axa.set_xlabel(None); axb.set_xlabel(None)\n",
    "    axa.grid(\"on\", alpha=0.25); axb.grid(\"on\", alpha=0.25)\n",
    "    axb.set_ylabel(plotter[1]); axa.set_ylabel(\"(m3/m3)\")\n",
    "\n",
    "axs[0].set_title(\"All rootzone (1,2) and surface (3,4) soil moisture observations\")"
   ]
  },
  {
   "cell_type": "markdown",
   "metadata": {},
   "source": [
    "### Summarize the rootzone soil moisture over all sample locations\n",
    "\n",
    "Concatenate all of the rootzone soil moisture datasets, add some time coordinates to the dataset, and select years 2010 to 2019:"
   ]
  },
  {
   "cell_type": "code",
   "execution_count": null,
   "metadata": {},
   "outputs": [],
   "source": [
    "ds_2012_2019 = ds.sel(time=slice(str(2012),str(2019)))\n",
    "\n",
    "ds_2012_2019.coords[\"year\"] = ds_2012_2019.time.dt.year         # add year coordinate\n",
    "ds_2012_2019.coords[\"month\"] = ds_2012_2019.time.dt.month       # add month coordinate               \n",
    "ds_2012_2019.coords[\"day\"] = ds_2012_2019.time.dt.dayofyear     # add doy coordinate\n",
    "\n",
    "rootzone = ds_2012_2019.filter_by_attrs(soil_zone=\"rootzone\")\n",
    "rzmean = rootzone.mean(\"sample\", keep_attrs=True)               # calc mean over sample dimension\n",
    "rzcat = xr.concat(rzmean.values(), \"cat\").mean(\"cat\")           # concat all variable arrays and average\n",
    "rzcat"
   ]
  },
  {
   "cell_type": "markdown",
   "metadata": {},
   "source": [
    "Group by month and plot:"
   ]
  },
  {
   "cell_type": "code",
   "execution_count": null,
   "metadata": {},
   "outputs": [],
   "source": [
    "fig = plt.figure(figsize=(18, 5))                              # init figure\n",
    "ax = plt.gca()                                                 # get figure axes\n",
    "\n",
    "rz_mo = rzcat.groupby(\"month\")                                 # group by month\n",
    "mo_mean, mo_std = rz_mo.mean(), rz_mo.std()                    # calc mean, standard deviation\n",
    "mo_stdlow, mo_stdhi = (mo_mean-mo_std), (mo_mean+mo_std)       # get std bounds\n",
    "\n",
    "# plot mean, then standard deviation\n",
    "l1 = mo_mean.plot.line(ax=ax, x=\"month\", label=\"soil moisture\", linestyle=\"--\", color=\"black\")\n",
    "s1 = ax.fill_between(mo_mean.month, mo_stdlow, mo_stdhi, color=\"gray\", alpha=0.2)\n",
    "\n",
    "# also get SMAP GPP mean by month       \n",
    "gpp = ds_2012_2019[\"GPP_mean\"].mean(\"sample\", keep_attrs=True) # calc mean over sample dim \n",
    "gpp_mo = gpp.groupby(\"month\")                                  # group by day\n",
    "gpp_mean, gpp_std = gpp_mo.mean(), gpp_mo.std()                # get mean, std\n",
    "gpp_stdlow, gpp_stdhi = (gpp_mean-gpp_std), (gpp_mean+gpp_std) # get std bounds\n",
    "\n",
    "# add another y axis to the second plot and plot mean, then standard deviation\n",
    "ax2 = ax.twinx()  \n",
    "l2 = gpp_mean.plot.line(ax=ax2, x=\"month\", label=\"productivity\", color=\"midnightblue\")\n",
    "s2 = ax2.fill_between(gpp_mean.month, gpp_stdlow, gpp_stdhi, color=\"midnightblue\", alpha=0.2)\n",
    "\n",
    "po = l1+l2\n",
    "labels = [o.get_label() for o in po]\n",
    "ax.legend(po, labels, loc=1)\n",
    "\n",
    "ax.grid(\"on\", alpha=0.5)                                       # some plot settings\n",
    "#ax.set_ylim(10, 25); ax2.set_ylim(0, 4)\n",
    "ax.set_title(\"monthly vol. soil moisture by year (0-100cm; all sources)\") \n",
    "ax.set_ylabel(\"Soil moisture (m3/m3)\"); ax2.set_ylabel(\"SMAP GPP (g m-2 d-1)\")"
   ]
  },
  {
   "cell_type": "markdown",
   "metadata": {},
   "source": [
    "Or by day of the year:"
   ]
  },
  {
   "cell_type": "code",
   "execution_count": null,
   "metadata": {},
   "outputs": [],
   "source": [
    "fig = plt.figure(figsize=(18, 5))                                                   # init figure\n",
    "ax = plt.gca()                                                                      # get figure axes\n",
    "\n",
    "rz_day = rzcat.groupby(\"day\")                                                       # group by day\n",
    "day_mean, day_std = rz_day.mean(), rz_day.std()                                     # get mean, std\n",
    "day_stdlow, day_stdhi = (day_mean-day_std), (day_mean+day_std)                      # get std bounds\n",
    "\n",
    "for yr in np.unique(rzcat.year.data):                                               # loop over years\n",
    "    ln = rzcat.sel(time=str(yr)).groupby(\"day\").mean()                              # average by day \n",
    "    ln.plot.line(x=\"day\", label=str(yr), ax=ax, alpha=0.75)                          # plot\n",
    "\n",
    "# plot mean, then standard deviation\n",
    "day_mean.plot.line(ax=ax, x=\"day\", label=\"mean\", linestyle=\"--\", color=\"black\")\n",
    "ax.fill_between(day_mean.day, day_stdlow, day_stdhi, color=\"gray\", alpha=0.2)\n",
    "\n",
    "# some plot settings\n",
    "ax.set_title(\"daily vol. soil moisture by year (0-100cm; all sources)\")\n",
    "ax.legend(loc=1, bbox_to_anchor=(1.15, 1))\n",
    "ax.set_ylabel(\"rootzone (m3/m3)\")\n",
    "ax.set_xlabel(\"day of the year\")\n",
    "ax.grid(\"on\", alpha=0.5)"
   ]
  },
  {
   "cell_type": "markdown",
   "metadata": {},
   "source": [
    "# In situ, airborne soil moisture observations for all datasets\n",
    "The aggregation and harmonization of the various soil moisture datasets gives flexibility for a wide range of implementation scenarios. The next cell plots the average through time of all in situ and airborne soil moisture datasets available through the SMV. The two sets of data can be selection from the big `xarray` dataset with a few methods:\n",
    "* select datasets with *in situ* and *airborne* for the *type* attribute\n",
    "* select the *Mean* statistic from the *stat* dimension and the desired site from the *site* dimension\n",
    "* average the remaining data over the *sample* dimension\n",
    "\n",
    "Here's how it looks in practice:"
   ]
  },
  {
   "cell_type": "code",
   "execution_count": null,
   "metadata": {},
   "outputs": [],
   "source": [
    "insitu = ds.filter_by_attrs(type=\"in situ\")                # select in situ, and\n",
    "airborne = ds.filter_by_attrs(type=\"airborne\")             # airborne datasets\n",
    "spaceborne = ds.filter_by_attrs(type=\"spaceborne\")         # spaceborne datasets\n",
    "\n",
    "fig, axs = plt.subplots(nrows=3, ncols=1, sharex=True, figsize=(18, 8))\n",
    "fig.tight_layout()\n",
    "plt.subplots_adjust(hspace=0.000)\n",
    "\n",
    "plotters = [(insitu, axs[0], \"In situ\"), \n",
    "            (airborne, axs[1], \"Airborne\"),\n",
    "            (spaceborne, axs[2], \"Spaceborne\")]\n",
    "\n",
    "for p in plotters:\n",
    "    data, ax, title = p\n",
    "    data = data.mean(dim=\"sample\")                          # select stat \"Mean\" and site N. avg sample dim\n",
    "    tmpstack = np.stack([data[v].data for v in data])       # collapse dataset into a stacked array\n",
    "    tmpmean = np.nanmean(tmpstack, axis=0)                  # calculate mean over time axis (0)\n",
    "    tmpstd = np.nanstd(tmpstack, axis=0)                    # calculate mean over time axis (0)\n",
    "    tmptime = data.time.data\n",
    "\n",
    "    ax.plot_date(x=tmptime, y=tmpmean, color=\"black\", linestyle=\"solid\", marker=None)\n",
    "    ax.fill_between(tmptime, (tmpmean-tmpstd), (tmpmean+tmpstd), color=\"gray\", alpha=0.2)\n",
    "    ax.set_ylabel(title)\n",
    "    ax.grid('on', alpha=0.25)\n",
    "\n",
    "axs[0].set_title(\"Time series avg of all available soil moisture data (m3/m3)\")\n",
    "plt.show()"
   ]
  },
  {
   "cell_type": "markdown",
   "metadata": {},
   "source": [
    "### Rootzone moisture ONLY (0-100 cm depth) & USFS site productivity (GPP)"
   ]
  },
  {
   "cell_type": "code",
   "execution_count": null,
   "metadata": {},
   "outputs": [],
   "source": [
    "rootzone = ds.filter_by_attrs(soil_zone=\"rootzone\") \n",
    "time = rootzone.time.data\n",
    "\n",
    "insitu = rootzone.filter_by_attrs(type=\"in situ\")              # select in situ, and\n",
    "airborne = rootzone.filter_by_attrs(type=\"airborne\")           # airborne datasets\n",
    "spaceborne = rootzone.filter_by_attrs(type=\"spaceborne\")       # spaceborne datasets\n",
    "\n",
    "fig, axs = plt.subplots(nrows=2, ncols=1, figsize=(15, 8))\n",
    "\n",
    "#st, et = time[0], time[-1]\n",
    "#usfs_stats = selected_layer.layer.stats.loc[st:et]\n",
    "#usfs_mean, usfs_std = usfs_stats.MEAN, usfs_stats.STD\n",
    "#stdlo, stdhi = (usfs_mean-usfs_std), (usfs_mean+usfs_std)   # get std bounds\n",
    "#usfs_stats.MEAN.plot(ax=axs[0])\n",
    "\n",
    "# plot soil moisture\n",
    "plotters = [(insitu, \"in situ\", \"darkorange\"), \n",
    "            (airborne, \"airborne\", \"darkblue\"),\n",
    "            (spaceborne, \"spaceborne\", \"darkgreen\")]\n",
    "\n",
    "for p in plotters:\n",
    "    data, title, clr = p\n",
    "    data = data.mean(dim=\"sample\")                          # select stat \"Mean\" and site N. avg sample dim\n",
    "    dscat = xr.concat(data.values(), \"cat\")\n",
    "    dsmean, dsstd = dscat.mean(\"cat\"), dscat.std(\"cat\")\n",
    "    dsmean.plot.line(x=\"time\", ax=axs[1], label=title, color=clr)\n",
    "\n",
    "axs[0].set_xlim(axs[1].get_xlim())\n",
    "\n",
    "axs[1].set_ylabel(\"m3/m3\")\n",
    "axs[1].legend(loc=\"lower left\")\n",
    "axs[1].grid('on', alpha=0.25); axs[0].grid('on', alpha=0.25)\n",
    "axs[1].set_title(\"Time series avg of all ROOTZONE soil moisture data\")\n",
    "\n",
    "plt.show()"
   ]
  },
  {
   "cell_type": "markdown",
   "metadata": {},
   "source": [
    "# Detailed walkthrough\n",
    "Steps below explain how we request the SMV data and construct the dataset from a list of sample locations.\n",
    "\n",
    "\n",
    "## Requirements\n",
    "\n",
    "### Python\n",
    "Written and tested in Python3. Should be compatible with Python2 with minor changes.\n",
    "\n",
    "* [numpy](https://www.numpy.org/) --- fundamental Python module for processing n-dimensional arrays and for scientific computing in general\n",
    "* [pandas](https://pandas.pydata.org/) --- tabular data structures and analysis tools built on numpy\n",
    " (and to a lesser degree [dask](https://dask.org/)) that support labeled dimensions, coordinates, and attributes for geodata\n",
    "\n",
    "Fundamental python science libraries. `numpy` for numeric arrays; `pandas` for table structure \n",
    "\n",
    "* [xarray](http://xarray.pydata.org/en/stable/) --- ndimensional labeled arrays, works like pandas\n",
    "* [requests](https://2.python-requests.org/en/master/) --- high-level library for sending HTTP requests; alternatives: urllib/urllib2\n",
    "* [shapely](https://shapely.readthedocs.io/en/latest/project.html) --- python geometric analysis based on [GEOS](https://trac.osgeo.org/geos/)\n",
    "* [matplotlib](https://matplotlib.org/) --- 2D plotting; `pandas` and `xarray` have `matplotlib` built-in; \n",
    "\n",
    "* io, json --- base python; `io.StringIO` is `StringIO.StringIO` in python 2"
   ]
  },
  {
   "cell_type": "code",
   "execution_count": 9,
   "metadata": {},
   "outputs": [],
   "source": [
    "%matplotlib inline\n",
    "import os\n",
    "import json\n",
    "from math import ceil\n",
    "from io import StringIO\n",
    "from datetime import datetime\n",
    "\n",
    "import requests\n",
    "import numpy as np\n",
    "import pandas as pd\n",
    "import xarray as xr\n",
    "from shapely.geometry import shape"
   ]
  },
  {
   "cell_type": "markdown",
   "metadata": {},
   "source": [
    "## Soil Moisture Visualizer\n",
    "\n",
    "The [table (docs/smvdatasets.csv)](docs/smvdatasets.csv) included in this repo is a copy of the datasets table from the [SMV User Guide](https://daac.ornl.gov/soilmoisture/guide.html). Read it into a data frame using [`pandas.read_csv`](https://pandas.pydata.org/pandas-docs/stable/reference/api/pandas.read_csv.html) and display the available datasets:"
   ]
  },
  {
   "cell_type": "code",
   "execution_count": 3,
   "metadata": {},
   "outputs": [
    {
     "data": {
      "text/html": [
       "<div>\n",
       "<style scoped>\n",
       "    .dataframe tbody tr th:only-of-type {\n",
       "        vertical-align: middle;\n",
       "    }\n",
       "\n",
       "    .dataframe tbody tr th {\n",
       "        vertical-align: top;\n",
       "    }\n",
       "\n",
       "    .dataframe thead th {\n",
       "        text-align: right;\n",
       "    }\n",
       "</style>\n",
       "<table border=\"1\" class=\"dataframe\">\n",
       "  <thead>\n",
       "    <tr style=\"text-align: right;\">\n",
       "      <th></th>\n",
       "      <th>source</th>\n",
       "      <th>type</th>\n",
       "      <th>units</th>\n",
       "      <th>description</th>\n",
       "      <th>soil_zone</th>\n",
       "      <th>soil_depth</th>\n",
       "      <th>native_res</th>\n",
       "      <th>time_coverage</th>\n",
       "    </tr>\n",
       "    <tr>\n",
       "      <th>dataset</th>\n",
       "      <th></th>\n",
       "      <th></th>\n",
       "      <th></th>\n",
       "      <th></th>\n",
       "      <th></th>\n",
       "      <th></th>\n",
       "      <th></th>\n",
       "      <th></th>\n",
       "    </tr>\n",
       "  </thead>\n",
       "  <tbody>\n",
       "    <tr>\n",
       "      <th>SoilSCAPE_surface</th>\n",
       "      <td>SoilSCAPE</td>\n",
       "      <td>in situ</td>\n",
       "      <td>m3/m3</td>\n",
       "      <td>Mean vol (%) soil moisture at 0-5 cm</td>\n",
       "      <td>surface</td>\n",
       "      <td>5, 20, 50 cm</td>\n",
       "      <td>point</td>\n",
       "      <td>2011-present</td>\n",
       "    </tr>\n",
       "    <tr>\n",
       "      <th>SoilSCAPE_rootzone</th>\n",
       "      <td>SoilSCAPE</td>\n",
       "      <td>in situ</td>\n",
       "      <td>m3/m3</td>\n",
       "      <td>Mean vol (%) soil moisture at 0-100 cm</td>\n",
       "      <td>rootzone</td>\n",
       "      <td>5, 20, 50 cm</td>\n",
       "      <td>point</td>\n",
       "      <td>2011-present</td>\n",
       "    </tr>\n",
       "    <tr>\n",
       "      <th>AirMOSS_in-ground_surface</th>\n",
       "      <td>AirMOSS</td>\n",
       "      <td>in situ</td>\n",
       "      <td>m3/m3</td>\n",
       "      <td>Mean vol (%) soil moisture at 0-5 cm</td>\n",
       "      <td>surface</td>\n",
       "      <td>2, 5, 10, 20, 40, 60, 80 cm</td>\n",
       "      <td>point</td>\n",
       "      <td>2012-2015</td>\n",
       "    </tr>\n",
       "    <tr>\n",
       "      <th>AirMOSS_in-ground_rootzone</th>\n",
       "      <td>AirMOSS</td>\n",
       "      <td>in situ</td>\n",
       "      <td>m3/m3</td>\n",
       "      <td>Mean vol (%) soil moisture at 0-100 cm</td>\n",
       "      <td>rootzone</td>\n",
       "      <td>2, 5, 10, 20, 40, 60, 80 cm</td>\n",
       "      <td>point</td>\n",
       "      <td>2012-2015</td>\n",
       "    </tr>\n",
       "    <tr>\n",
       "      <th>COSMOS_surface</th>\n",
       "      <td>COSMOS</td>\n",
       "      <td>in situ</td>\n",
       "      <td>m3/m3</td>\n",
       "      <td>Mean vol (%) soil moisture at 0-5 cm</td>\n",
       "      <td>surface</td>\n",
       "      <td>0-30 cm</td>\n",
       "      <td>point</td>\n",
       "      <td>2008-present</td>\n",
       "    </tr>\n",
       "    <tr>\n",
       "      <th>COSMOS_rootzone</th>\n",
       "      <td>COSMOS</td>\n",
       "      <td>in situ</td>\n",
       "      <td>m3/m3</td>\n",
       "      <td>Mean vol (%) soil moisture at 0-100 cm</td>\n",
       "      <td>rootzone</td>\n",
       "      <td>0-30 cm</td>\n",
       "      <td>point</td>\n",
       "      <td>2008-present</td>\n",
       "    </tr>\n",
       "    <tr>\n",
       "      <th>AirMOSS_L2_3_surface</th>\n",
       "      <td>AirMOSS</td>\n",
       "      <td>airborne</td>\n",
       "      <td>m3/m3</td>\n",
       "      <td>Mean vol (%) soil moisture at 0 cm</td>\n",
       "      <td>surface</td>\n",
       "      <td>0, 10, 30 cm</td>\n",
       "      <td>90-m</td>\n",
       "      <td>2012-2015</td>\n",
       "    </tr>\n",
       "    <tr>\n",
       "      <th>AirMOSS_L2_3_rootzone</th>\n",
       "      <td>AirMOSS</td>\n",
       "      <td>airborne</td>\n",
       "      <td>m3/m3</td>\n",
       "      <td>Mean vol (%) soil moisture at 0-30cm</td>\n",
       "      <td>rootzone</td>\n",
       "      <td>0, 10, 30 cm</td>\n",
       "      <td>90-m</td>\n",
       "      <td>2012-2015</td>\n",
       "    </tr>\n",
       "    <tr>\n",
       "      <th>AirMOSS_L4_rootzone</th>\n",
       "      <td>AirMOSS</td>\n",
       "      <td>airborne</td>\n",
       "      <td>m3/m3</td>\n",
       "      <td>Mean vol (%) soil moisture at 0-100cm</td>\n",
       "      <td>rootzone</td>\n",
       "      <td>0-10, 10-40, 40-100 cm</td>\n",
       "      <td>90-m</td>\n",
       "      <td>2012-2015</td>\n",
       "    </tr>\n",
       "    <tr>\n",
       "      <th>SMAP_surface</th>\n",
       "      <td>SMAP</td>\n",
       "      <td>spaceborne</td>\n",
       "      <td>m3/m3</td>\n",
       "      <td>Mean vol (%) soil moisture at 0-5cm</td>\n",
       "      <td>surface</td>\n",
       "      <td>0-5, 0-100 cm</td>\n",
       "      <td>9000-m</td>\n",
       "      <td>2015-present</td>\n",
       "    </tr>\n",
       "    <tr>\n",
       "      <th>SMAP_rootzone</th>\n",
       "      <td>SMAP</td>\n",
       "      <td>spaceborne</td>\n",
       "      <td>m3/m3</td>\n",
       "      <td>Mean vol (%) soil moisture at 0-100cm</td>\n",
       "      <td>rootzone</td>\n",
       "      <td>0-5, 0-100 cm</td>\n",
       "      <td>9000-m</td>\n",
       "      <td>2015-present</td>\n",
       "    </tr>\n",
       "    <tr>\n",
       "      <th>NEE_mean</th>\n",
       "      <td>SMAP</td>\n",
       "      <td>spaceborne</td>\n",
       "      <td>g m-2 d-1</td>\n",
       "      <td>Mean Net Ecosystem Exchange value</td>\n",
       "      <td>not applicable</td>\n",
       "      <td>not applicable</td>\n",
       "      <td>9000-m</td>\n",
       "      <td>2015-present</td>\n",
       "    </tr>\n",
       "    <tr>\n",
       "      <th>GPP_mean</th>\n",
       "      <td>SMAP</td>\n",
       "      <td>spaceborne</td>\n",
       "      <td>g m-2 d-1</td>\n",
       "      <td>Mean Gross Primary Productivity value</td>\n",
       "      <td>not applicable</td>\n",
       "      <td>not applicable</td>\n",
       "      <td>9000-m</td>\n",
       "      <td>2015-present</td>\n",
       "    </tr>\n",
       "    <tr>\n",
       "      <th>GRACE_surface_pctl</th>\n",
       "      <td>GRACE</td>\n",
       "      <td>spaceborne</td>\n",
       "      <td>%</td>\n",
       "      <td>Surface soil moisture percentile</td>\n",
       "      <td>not applicable</td>\n",
       "      <td>0-2, 0-100 cm</td>\n",
       "      <td>0.125-d</td>\n",
       "      <td>2002-present</td>\n",
       "    </tr>\n",
       "    <tr>\n",
       "      <th>GRACE_rootzone_pctl</th>\n",
       "      <td>GRACE</td>\n",
       "      <td>spaceborne</td>\n",
       "      <td>%</td>\n",
       "      <td>Root zone soil moisture percentile</td>\n",
       "      <td>not applicable</td>\n",
       "      <td>0-2, 0-100 cm</td>\n",
       "      <td>0.125-d</td>\n",
       "      <td>2002-present</td>\n",
       "    </tr>\n",
       "    <tr>\n",
       "      <th>SCAN_surface</th>\n",
       "      <td>SCAN</td>\n",
       "      <td>in situ</td>\n",
       "      <td>m3/m3</td>\n",
       "      <td>Mean vol (%) soil moisture at 0-5cm</td>\n",
       "      <td>surface</td>\n",
       "      <td>2, 4, 8, 20, 40 cm</td>\n",
       "      <td>point</td>\n",
       "      <td>1996-present</td>\n",
       "    </tr>\n",
       "    <tr>\n",
       "      <th>SCAN_rootzone</th>\n",
       "      <td>SCAN</td>\n",
       "      <td>in situ</td>\n",
       "      <td>m3/m3</td>\n",
       "      <td>Mean vol (%) soil moisture at 0-40cm</td>\n",
       "      <td>rootzone</td>\n",
       "      <td>2, 4, 8, 20, 40 cm</td>\n",
       "      <td>point</td>\n",
       "      <td>1996-present</td>\n",
       "    </tr>\n",
       "    <tr>\n",
       "      <th>SNOTEL_surface</th>\n",
       "      <td>SNOTEL</td>\n",
       "      <td>in situ</td>\n",
       "      <td>m3/m3</td>\n",
       "      <td>Mean vol (%) soil moisture at 0-5cm</td>\n",
       "      <td>surface</td>\n",
       "      <td>2, 4, 8, 20, 40 cm</td>\n",
       "      <td>point</td>\n",
       "      <td>1996-present</td>\n",
       "    </tr>\n",
       "    <tr>\n",
       "      <th>SNOTEL_rootzone</th>\n",
       "      <td>SNOTEL</td>\n",
       "      <td>in situ</td>\n",
       "      <td>m3/m3</td>\n",
       "      <td>Mean vol (%) soil moisture at 0-40cm</td>\n",
       "      <td>rootzone</td>\n",
       "      <td>2, 4, 8, 20, 40 cm</td>\n",
       "      <td>point</td>\n",
       "      <td>1996-present</td>\n",
       "    </tr>\n",
       "    <tr>\n",
       "      <th>CRN_surface</th>\n",
       "      <td>CRN</td>\n",
       "      <td>in situ</td>\n",
       "      <td>m3/m3</td>\n",
       "      <td>Mean vol (%) soil moisture at 0-5cm</td>\n",
       "      <td>surface</td>\n",
       "      <td>5, 10, 20, 50, 100 cm</td>\n",
       "      <td>point</td>\n",
       "      <td>2009-present</td>\n",
       "    </tr>\n",
       "    <tr>\n",
       "      <th>CRN_rootzone</th>\n",
       "      <td>CRN</td>\n",
       "      <td>in situ</td>\n",
       "      <td>m3/m3</td>\n",
       "      <td>Mean vol (%) soil moisture at 0-100cm</td>\n",
       "      <td>rootzone</td>\n",
       "      <td>5, 10, 20, 50, 100 cm</td>\n",
       "      <td>point</td>\n",
       "      <td>2009-present</td>\n",
       "    </tr>\n",
       "    <tr>\n",
       "      <th>FLUXNET_surface</th>\n",
       "      <td>FLUXNET</td>\n",
       "      <td>in situ</td>\n",
       "      <td>m3/m3</td>\n",
       "      <td>Mean vol (%) soil moisture (upper)</td>\n",
       "      <td>surface</td>\n",
       "      <td>0-100 cm</td>\n",
       "      <td>point</td>\n",
       "      <td>1996-present</td>\n",
       "    </tr>\n",
       "    <tr>\n",
       "      <th>FLUXNET_rootzone</th>\n",
       "      <td>FLUXNET</td>\n",
       "      <td>in situ</td>\n",
       "      <td>m3/m3</td>\n",
       "      <td>Mean vol (%) soil moisture (upper &amp; lower)</td>\n",
       "      <td>rootzone</td>\n",
       "      <td>0-100 cm</td>\n",
       "      <td>point</td>\n",
       "      <td>1996-present</td>\n",
       "    </tr>\n",
       "    <tr>\n",
       "      <th>prcp</th>\n",
       "      <td>Daymet</td>\n",
       "      <td>in situ</td>\n",
       "      <td>mm/day</td>\n",
       "      <td>Precipitation for 1 km x 1 km grid</td>\n",
       "      <td>not applicable</td>\n",
       "      <td>not applicable</td>\n",
       "      <td>1000-m</td>\n",
       "      <td>2000-present</td>\n",
       "    </tr>\n",
       "    <tr>\n",
       "      <th>tmax</th>\n",
       "      <td>Daymet</td>\n",
       "      <td>in situ</td>\n",
       "      <td>degrees C</td>\n",
       "      <td>Maximum daily temperature for 1x1-km grid</td>\n",
       "      <td>not applicable</td>\n",
       "      <td>not applicable</td>\n",
       "      <td>1000-m</td>\n",
       "      <td>2000-present</td>\n",
       "    </tr>\n",
       "    <tr>\n",
       "      <th>tmin</th>\n",
       "      <td>Daymet</td>\n",
       "      <td>in situ</td>\n",
       "      <td>degrees C</td>\n",
       "      <td>Minimum daily temperature for 1x1-km grid</td>\n",
       "      <td>not applicable</td>\n",
       "      <td>not applicable</td>\n",
       "      <td>1000-m</td>\n",
       "      <td>2000-present</td>\n",
       "    </tr>\n",
       "    <tr>\n",
       "      <th>ET</th>\n",
       "      <td>MODIS</td>\n",
       "      <td>spaceborne</td>\n",
       "      <td>mm/8day</td>\n",
       "      <td>Evapotranspiration</td>\n",
       "      <td>not applicable</td>\n",
       "      <td>not applicable</td>\n",
       "      <td>500-m</td>\n",
       "      <td>2001-present</td>\n",
       "    </tr>\n",
       "    <tr>\n",
       "      <th>LST_Day</th>\n",
       "      <td>MODIS</td>\n",
       "      <td>spaceborne</td>\n",
       "      <td>K/8day</td>\n",
       "      <td>Land Surface Temperature Day</td>\n",
       "      <td>not applicable</td>\n",
       "      <td>not applicable</td>\n",
       "      <td>1000-m</td>\n",
       "      <td>2000-present</td>\n",
       "    </tr>\n",
       "    <tr>\n",
       "      <th>LST_Night</th>\n",
       "      <td>MODIS</td>\n",
       "      <td>spaceborne</td>\n",
       "      <td>K/8day</td>\n",
       "      <td>Land Surface Temperature Night</td>\n",
       "      <td>not applicable</td>\n",
       "      <td>not applicable</td>\n",
       "      <td>1000-m</td>\n",
       "      <td>2000-present</td>\n",
       "    </tr>\n",
       "    <tr>\n",
       "      <th>EVI</th>\n",
       "      <td>MODIS</td>\n",
       "      <td>spaceborne</td>\n",
       "      <td>unitless</td>\n",
       "      <td>16 days Enhanced Vegetation Index</td>\n",
       "      <td>not applicable</td>\n",
       "      <td>not applicable</td>\n",
       "      <td>250-m</td>\n",
       "      <td>2000-present</td>\n",
       "    </tr>\n",
       "  </tbody>\n",
       "</table>\n",
       "</div>"
      ],
      "text/plain": [
       "                               source        type      units  \\\n",
       "dataset                                                        \n",
       "SoilSCAPE_surface           SoilSCAPE     in situ      m3/m3   \n",
       "SoilSCAPE_rootzone          SoilSCAPE     in situ      m3/m3   \n",
       "AirMOSS_in-ground_surface     AirMOSS     in situ      m3/m3   \n",
       "AirMOSS_in-ground_rootzone    AirMOSS     in situ      m3/m3   \n",
       "COSMOS_surface                 COSMOS     in situ      m3/m3   \n",
       "COSMOS_rootzone                COSMOS     in situ      m3/m3   \n",
       "AirMOSS_L2_3_surface          AirMOSS    airborne      m3/m3   \n",
       "AirMOSS_L2_3_rootzone         AirMOSS    airborne      m3/m3   \n",
       "AirMOSS_L4_rootzone           AirMOSS    airborne      m3/m3   \n",
       "SMAP_surface                     SMAP  spaceborne      m3/m3   \n",
       "SMAP_rootzone                    SMAP  spaceborne      m3/m3   \n",
       "NEE_mean                         SMAP  spaceborne  g m-2 d-1   \n",
       "GPP_mean                         SMAP  spaceborne  g m-2 d-1   \n",
       "GRACE_surface_pctl              GRACE  spaceborne          %   \n",
       "GRACE_rootzone_pctl             GRACE  spaceborne          %   \n",
       "SCAN_surface                     SCAN     in situ      m3/m3   \n",
       "SCAN_rootzone                    SCAN     in situ      m3/m3   \n",
       "SNOTEL_surface                 SNOTEL     in situ      m3/m3   \n",
       "SNOTEL_rootzone                SNOTEL     in situ      m3/m3   \n",
       "CRN_surface                       CRN     in situ      m3/m3   \n",
       "CRN_rootzone                      CRN     in situ      m3/m3   \n",
       "FLUXNET_surface               FLUXNET     in situ      m3/m3   \n",
       "FLUXNET_rootzone              FLUXNET     in situ      m3/m3   \n",
       "prcp                           Daymet     in situ     mm/day   \n",
       "tmax                           Daymet     in situ  degrees C   \n",
       "tmin                           Daymet     in situ  degrees C   \n",
       "ET                              MODIS  spaceborne    mm/8day   \n",
       "LST_Day                         MODIS  spaceborne     K/8day   \n",
       "LST_Night                       MODIS  spaceborne     K/8day   \n",
       "EVI                             MODIS  spaceborne   unitless   \n",
       "\n",
       "                                                           description  \\\n",
       "dataset                                                                  \n",
       "SoilSCAPE_surface                Mean vol (%) soil moisture at 0-5 cm    \n",
       "SoilSCAPE_rootzone             Mean vol (%) soil moisture at 0-100 cm    \n",
       "AirMOSS_in-ground_surface        Mean vol (%) soil moisture at 0-5 cm    \n",
       "AirMOSS_in-ground_rootzone     Mean vol (%) soil moisture at 0-100 cm    \n",
       "COSMOS_surface                   Mean vol (%) soil moisture at 0-5 cm    \n",
       "COSMOS_rootzone                Mean vol (%) soil moisture at 0-100 cm    \n",
       "AirMOSS_L2_3_surface               Mean vol (%) soil moisture at 0 cm    \n",
       "AirMOSS_L2_3_rootzone            Mean vol (%) soil moisture at 0-30cm    \n",
       "AirMOSS_L4_rootzone             Mean vol (%) soil moisture at 0-100cm    \n",
       "SMAP_surface                      Mean vol (%) soil moisture at 0-5cm    \n",
       "SMAP_rootzone                   Mean vol (%) soil moisture at 0-100cm    \n",
       "NEE_mean                             Mean Net Ecosystem Exchange value   \n",
       "GPP_mean                         Mean Gross Primary Productivity value   \n",
       "GRACE_surface_pctl                    Surface soil moisture percentile   \n",
       "GRACE_rootzone_pctl                 Root zone soil moisture percentile   \n",
       "SCAN_surface                      Mean vol (%) soil moisture at 0-5cm    \n",
       "SCAN_rootzone                    Mean vol (%) soil moisture at 0-40cm    \n",
       "SNOTEL_surface                    Mean vol (%) soil moisture at 0-5cm    \n",
       "SNOTEL_rootzone                  Mean vol (%) soil moisture at 0-40cm    \n",
       "CRN_surface                       Mean vol (%) soil moisture at 0-5cm    \n",
       "CRN_rootzone                    Mean vol (%) soil moisture at 0-100cm    \n",
       "FLUXNET_surface                     Mean vol (%) soil moisture (upper)   \n",
       "FLUXNET_rootzone            Mean vol (%) soil moisture (upper & lower)   \n",
       "prcp                                Precipitation for 1 km x 1 km grid   \n",
       "tmax                         Maximum daily temperature for 1x1-km grid   \n",
       "tmin                         Minimum daily temperature for 1x1-km grid   \n",
       "ET                                                  Evapotranspiration   \n",
       "LST_Day                                   Land Surface Temperature Day   \n",
       "LST_Night                               Land Surface Temperature Night   \n",
       "EVI                                  16 days Enhanced Vegetation Index   \n",
       "\n",
       "                                 soil_zone                   soil_depth  \\\n",
       "dataset                                                                   \n",
       "SoilSCAPE_surface                  surface                 5, 20, 50 cm   \n",
       "SoilSCAPE_rootzone                rootzone                 5, 20, 50 cm   \n",
       "AirMOSS_in-ground_surface          surface  2, 5, 10, 20, 40, 60, 80 cm   \n",
       "AirMOSS_in-ground_rootzone        rootzone  2, 5, 10, 20, 40, 60, 80 cm   \n",
       "COSMOS_surface                     surface                      0-30 cm   \n",
       "COSMOS_rootzone                   rootzone                      0-30 cm   \n",
       "AirMOSS_L2_3_surface               surface                 0, 10, 30 cm   \n",
       "AirMOSS_L2_3_rootzone             rootzone                 0, 10, 30 cm   \n",
       "AirMOSS_L4_rootzone               rootzone       0-10, 10-40, 40-100 cm   \n",
       "SMAP_surface                       surface                0-5, 0-100 cm   \n",
       "SMAP_rootzone                     rootzone                0-5, 0-100 cm   \n",
       "NEE_mean                    not applicable               not applicable   \n",
       "GPP_mean                    not applicable               not applicable   \n",
       "GRACE_surface_pctl          not applicable                0-2, 0-100 cm   \n",
       "GRACE_rootzone_pctl         not applicable                0-2, 0-100 cm   \n",
       "SCAN_surface                       surface           2, 4, 8, 20, 40 cm   \n",
       "SCAN_rootzone                     rootzone           2, 4, 8, 20, 40 cm   \n",
       "SNOTEL_surface                     surface           2, 4, 8, 20, 40 cm   \n",
       "SNOTEL_rootzone                   rootzone           2, 4, 8, 20, 40 cm   \n",
       "CRN_surface                        surface        5, 10, 20, 50, 100 cm   \n",
       "CRN_rootzone                      rootzone        5, 10, 20, 50, 100 cm   \n",
       "FLUXNET_surface                    surface                     0-100 cm   \n",
       "FLUXNET_rootzone                  rootzone                     0-100 cm   \n",
       "prcp                        not applicable               not applicable   \n",
       "tmax                        not applicable               not applicable   \n",
       "tmin                        not applicable               not applicable   \n",
       "ET                          not applicable               not applicable   \n",
       "LST_Day                     not applicable               not applicable   \n",
       "LST_Night                   not applicable               not applicable   \n",
       "EVI                         not applicable               not applicable   \n",
       "\n",
       "                           native_res time_coverage  \n",
       "dataset                                              \n",
       "SoilSCAPE_surface               point  2011-present  \n",
       "SoilSCAPE_rootzone              point  2011-present  \n",
       "AirMOSS_in-ground_surface       point     2012-2015  \n",
       "AirMOSS_in-ground_rootzone      point     2012-2015  \n",
       "COSMOS_surface                  point  2008-present  \n",
       "COSMOS_rootzone                 point  2008-present  \n",
       "AirMOSS_L2_3_surface             90-m     2012-2015  \n",
       "AirMOSS_L2_3_rootzone            90-m     2012-2015  \n",
       "AirMOSS_L4_rootzone              90-m     2012-2015  \n",
       "SMAP_surface                  9000-m   2015-present  \n",
       "SMAP_rootzone                 9000-m   2015-present  \n",
       "NEE_mean                      9000-m   2015-present  \n",
       "GPP_mean                      9000-m   2015-present  \n",
       "GRACE_surface_pctl            0.125-d  2002-present  \n",
       "GRACE_rootzone_pctl           0.125-d  2002-present  \n",
       "SCAN_surface                    point  1996-present  \n",
       "SCAN_rootzone                   point  1996-present  \n",
       "SNOTEL_surface                  point  1996-present  \n",
       "SNOTEL_rootzone                 point  1996-present  \n",
       "CRN_surface                     point  2009-present  \n",
       "CRN_rootzone                    point  2009-present  \n",
       "FLUXNET_surface                 point  1996-present  \n",
       "FLUXNET_rootzone                point  1996-present  \n",
       "prcp                           1000-m  2000-present  \n",
       "tmax                           1000-m  2000-present  \n",
       "tmin                           1000-m  2000-present  \n",
       "ET                              500-m  2001-present  \n",
       "LST_Day                        1000-m  2000-present  \n",
       "LST_Night                      1000-m  2000-present  \n",
       "EVI                             250-m  2000-present  "
      ]
     },
     "execution_count": 3,
     "metadata": {},
     "output_type": "execute_result"
    }
   ],
   "source": [
    "smv_datasets = pd.read_csv(\"docs/smvdatasets.csv\", index_col=\"dataset\", header=0)\n",
    "smv_datasets"
   ]
  },
  {
   "cell_type": "markdown",
   "metadata": {},
   "source": [
    "The datasets are updated weekly (every Sunday), but some data sets may have a longer latency period.\n",
    "\n",
    "Start by opening an example dataset from the included [text file](docs/daily-smap-ORNL-DAAC-PccIuo.txt). We use `pandas.read_csv` again, skipping to the fourth line and setting the data frame index to the column labeled *time*:"
   ]
  },
  {
   "cell_type": "code",
   "execution_count": 5,
   "metadata": {},
   "outputs": [
    {
     "data": {
      "text/html": [
       "<div>\n",
       "<style scoped>\n",
       "    .dataframe tbody tr th:only-of-type {\n",
       "        vertical-align: middle;\n",
       "    }\n",
       "\n",
       "    .dataframe tbody tr th {\n",
       "        vertical-align: top;\n",
       "    }\n",
       "\n",
       "    .dataframe thead th {\n",
       "        text-align: right;\n",
       "    }\n",
       "</style>\n",
       "<table border=\"1\" class=\"dataframe\">\n",
       "  <thead>\n",
       "    <tr style=\"text-align: right;\">\n",
       "      <th></th>\n",
       "      <th>SoilSCAPE_surface</th>\n",
       "      <th>SoilSCAPE_rootzone</th>\n",
       "      <th>AirMOSS_L2_3_surface</th>\n",
       "      <th>AirMOSS_L2_3_rootzone</th>\n",
       "      <th>AirMOSS_L4_rootzone</th>\n",
       "      <th>SMAP_surface</th>\n",
       "      <th>SMAP_rootzone</th>\n",
       "      <th>NEE_mean</th>\n",
       "      <th>GPP_mean</th>\n",
       "      <th>prcp</th>\n",
       "      <th>...</th>\n",
       "      <th>CRN_surface</th>\n",
       "      <th>CRN_rootzone</th>\n",
       "      <th>SCAN_surface</th>\n",
       "      <th>SCAN_rootzone</th>\n",
       "      <th>SNOTEL_surface</th>\n",
       "      <th>SNOTEL_rootzone</th>\n",
       "      <th>GRACE_surface_pctl</th>\n",
       "      <th>GRACE_rootzone_pctl</th>\n",
       "      <th>FLUXNET_surface</th>\n",
       "      <th>FLUXNET_rootzone</th>\n",
       "    </tr>\n",
       "    <tr>\n",
       "      <th>time</th>\n",
       "      <th></th>\n",
       "      <th></th>\n",
       "      <th></th>\n",
       "      <th></th>\n",
       "      <th></th>\n",
       "      <th></th>\n",
       "      <th></th>\n",
       "      <th></th>\n",
       "      <th></th>\n",
       "      <th></th>\n",
       "      <th></th>\n",
       "      <th></th>\n",
       "      <th></th>\n",
       "      <th></th>\n",
       "      <th></th>\n",
       "      <th></th>\n",
       "      <th></th>\n",
       "      <th></th>\n",
       "      <th></th>\n",
       "      <th></th>\n",
       "      <th></th>\n",
       "    </tr>\n",
       "  </thead>\n",
       "  <tbody>\n",
       "    <tr>\n",
       "      <th>1999-03-22</th>\n",
       "      <td>nan;nan;nan</td>\n",
       "      <td>nan;nan;nan</td>\n",
       "      <td>;;</td>\n",
       "      <td>;;</td>\n",
       "      <td>;;</td>\n",
       "      <td>;;</td>\n",
       "      <td>;;</td>\n",
       "      <td>;;</td>\n",
       "      <td>;;</td>\n",
       "      <td>;;</td>\n",
       "      <td>...</td>\n",
       "      <td>;;</td>\n",
       "      <td>;;</td>\n",
       "      <td>1.0;3.05;5.1</td>\n",
       "      <td>1.0;5.5;9.2</td>\n",
       "      <td>;;</td>\n",
       "      <td>;;</td>\n",
       "      <td>;;</td>\n",
       "      <td>;;</td>\n",
       "      <td>;;</td>\n",
       "      <td>;;</td>\n",
       "    </tr>\n",
       "    <tr>\n",
       "      <th>1999-03-23</th>\n",
       "      <td>nan;nan;nan</td>\n",
       "      <td>nan;nan;nan</td>\n",
       "      <td>;;</td>\n",
       "      <td>;;</td>\n",
       "      <td>;;</td>\n",
       "      <td>;;</td>\n",
       "      <td>;;</td>\n",
       "      <td>;;</td>\n",
       "      <td>;;</td>\n",
       "      <td>;;</td>\n",
       "      <td>...</td>\n",
       "      <td>;;</td>\n",
       "      <td>;;</td>\n",
       "      <td>0.8;3.0;5.2</td>\n",
       "      <td>0.8;5.6;9.4</td>\n",
       "      <td>;;</td>\n",
       "      <td>;;</td>\n",
       "      <td>;;</td>\n",
       "      <td>;;</td>\n",
       "      <td>;;</td>\n",
       "      <td>;;</td>\n",
       "    </tr>\n",
       "    <tr>\n",
       "      <th>1999-03-24</th>\n",
       "      <td>nan;nan;nan</td>\n",
       "      <td>nan;nan;nan</td>\n",
       "      <td>;;</td>\n",
       "      <td>;;</td>\n",
       "      <td>;;</td>\n",
       "      <td>;;</td>\n",
       "      <td>;;</td>\n",
       "      <td>;;</td>\n",
       "      <td>;;</td>\n",
       "      <td>;;</td>\n",
       "      <td>...</td>\n",
       "      <td>;;</td>\n",
       "      <td>;;</td>\n",
       "      <td>3.0;3.8;4.6</td>\n",
       "      <td>3.0;6.0;9.7</td>\n",
       "      <td>;;</td>\n",
       "      <td>;;</td>\n",
       "      <td>;;</td>\n",
       "      <td>;;</td>\n",
       "      <td>;;</td>\n",
       "      <td>;;</td>\n",
       "    </tr>\n",
       "    <tr>\n",
       "      <th>1999-03-25</th>\n",
       "      <td>nan;nan;nan</td>\n",
       "      <td>nan;nan;nan</td>\n",
       "      <td>;;</td>\n",
       "      <td>;;</td>\n",
       "      <td>;;</td>\n",
       "      <td>;;</td>\n",
       "      <td>;;</td>\n",
       "      <td>;;</td>\n",
       "      <td>;;</td>\n",
       "      <td>;;</td>\n",
       "      <td>...</td>\n",
       "      <td>;;</td>\n",
       "      <td>;;</td>\n",
       "      <td>1.0;3.35;5.7</td>\n",
       "      <td>1.0;5.72;9.7</td>\n",
       "      <td>;;</td>\n",
       "      <td>;;</td>\n",
       "      <td>;;</td>\n",
       "      <td>;;</td>\n",
       "      <td>;;</td>\n",
       "      <td>;;</td>\n",
       "    </tr>\n",
       "    <tr>\n",
       "      <th>1999-03-26</th>\n",
       "      <td>nan;nan;nan</td>\n",
       "      <td>nan;nan;nan</td>\n",
       "      <td>;;</td>\n",
       "      <td>;;</td>\n",
       "      <td>;;</td>\n",
       "      <td>;;</td>\n",
       "      <td>;;</td>\n",
       "      <td>;;</td>\n",
       "      <td>;;</td>\n",
       "      <td>;;</td>\n",
       "      <td>...</td>\n",
       "      <td>;;</td>\n",
       "      <td>;;</td>\n",
       "      <td>3.9;4.65;5.4</td>\n",
       "      <td>3.9;6.28;9.7</td>\n",
       "      <td>;;</td>\n",
       "      <td>;;</td>\n",
       "      <td>;;</td>\n",
       "      <td>;;</td>\n",
       "      <td>;;</td>\n",
       "      <td>;;</td>\n",
       "    </tr>\n",
       "  </tbody>\n",
       "</table>\n",
       "<p>5 rows × 30 columns</p>\n",
       "</div>"
      ],
      "text/plain": [
       "           SoilSCAPE_surface SoilSCAPE_rootzone AirMOSS_L2_3_surface  \\\n",
       "time                                                                   \n",
       "1999-03-22       nan;nan;nan        nan;nan;nan                   ;;   \n",
       "1999-03-23       nan;nan;nan        nan;nan;nan                   ;;   \n",
       "1999-03-24       nan;nan;nan        nan;nan;nan                   ;;   \n",
       "1999-03-25       nan;nan;nan        nan;nan;nan                   ;;   \n",
       "1999-03-26       nan;nan;nan        nan;nan;nan                   ;;   \n",
       "\n",
       "           AirMOSS_L2_3_rootzone AirMOSS_L4_rootzone SMAP_surface  \\\n",
       "time                                                                \n",
       "1999-03-22                    ;;                  ;;           ;;   \n",
       "1999-03-23                    ;;                  ;;           ;;   \n",
       "1999-03-24                    ;;                  ;;           ;;   \n",
       "1999-03-25                    ;;                  ;;           ;;   \n",
       "1999-03-26                    ;;                  ;;           ;;   \n",
       "\n",
       "           SMAP_rootzone NEE_mean GPP_mean prcp       ...        CRN_surface  \\\n",
       "time                                                  ...                      \n",
       "1999-03-22            ;;       ;;       ;;   ;;       ...                 ;;   \n",
       "1999-03-23            ;;       ;;       ;;   ;;       ...                 ;;   \n",
       "1999-03-24            ;;       ;;       ;;   ;;       ...                 ;;   \n",
       "1999-03-25            ;;       ;;       ;;   ;;       ...                 ;;   \n",
       "1999-03-26            ;;       ;;       ;;   ;;       ...                 ;;   \n",
       "\n",
       "           CRN_rootzone  SCAN_surface SCAN_rootzone SNOTEL_surface  \\\n",
       "time                                                                 \n",
       "1999-03-22           ;;  1.0;3.05;5.1   1.0;5.5;9.2             ;;   \n",
       "1999-03-23           ;;   0.8;3.0;5.2   0.8;5.6;9.4             ;;   \n",
       "1999-03-24           ;;   3.0;3.8;4.6   3.0;6.0;9.7             ;;   \n",
       "1999-03-25           ;;  1.0;3.35;5.7  1.0;5.72;9.7             ;;   \n",
       "1999-03-26           ;;  3.9;4.65;5.4  3.9;6.28;9.7             ;;   \n",
       "\n",
       "           SNOTEL_rootzone GRACE_surface_pctl GRACE_rootzone_pctl  \\\n",
       "time                                                                \n",
       "1999-03-22              ;;                 ;;                  ;;   \n",
       "1999-03-23              ;;                 ;;                  ;;   \n",
       "1999-03-24              ;;                 ;;                  ;;   \n",
       "1999-03-25              ;;                 ;;                  ;;   \n",
       "1999-03-26              ;;                 ;;                  ;;   \n",
       "\n",
       "           FLUXNET_surface FLUXNET_rootzone  \n",
       "time                                         \n",
       "1999-03-22              ;;               ;;  \n",
       "1999-03-23              ;;               ;;  \n",
       "1999-03-24              ;;               ;;  \n",
       "1999-03-25              ;;               ;;  \n",
       "1999-03-26              ;;               ;;  \n",
       "\n",
       "[5 rows x 30 columns]"
      ]
     },
     "execution_count": 5,
     "metadata": {},
     "output_type": "execute_result"
    }
   ],
   "source": [
    "df = pd.read_csv(\"docs/daily-smap-ORNL-DAAC-hYa36V.txt\", header=4, index_col=\"time\")\n",
    "df.index = pd.to_datetime(df.index)   \n",
    "\n",
    "df.head(5)"
   ]
  },
  {
   "cell_type": "markdown",
   "metadata": {},
   "source": [
    "The text file is parsed to a data frame with up to three values per column, delimited by semicolons `;`: min, mean, and max. Do some additional data preparation in the following steps:\n",
    "\n",
    "1. Use [`pandas.Series.str.split`](https://pandas.pydata.org/pandas-docs/stable/reference/api/pandas.Series.str.split.html) to split each column into three columns;\n",
    "2. replace the empty strings with [`numpy.nan`](https://docs.scipy.org/doc/numpy-1.13.0/user/misc.html) using [`pandas.DataFrame.replace`](https://pandas.pydata.org/pandas-docs/stable/reference/api/pandas.DataFrame.replace.html); and\n",
    "3. change the data type from string to float with [`pandas.DataFrame.astype`](https://pandas.pydata.org/pandas-docs/stable/reference/api/pandas.DataFrame.astype.html). \n",
    "\n",
    "Then, assign column names and print the head again:"
   ]
  },
  {
   "cell_type": "code",
   "execution_count": 6,
   "metadata": {},
   "outputs": [
    {
     "data": {
      "text/html": [
       "<div>\n",
       "<style scoped>\n",
       "    .dataframe tbody tr th:only-of-type {\n",
       "        vertical-align: middle;\n",
       "    }\n",
       "\n",
       "    .dataframe tbody tr th {\n",
       "        vertical-align: top;\n",
       "    }\n",
       "\n",
       "    .dataframe thead th {\n",
       "        text-align: right;\n",
       "    }\n",
       "</style>\n",
       "<table border=\"1\" class=\"dataframe\">\n",
       "  <thead>\n",
       "    <tr style=\"text-align: right;\">\n",
       "      <th></th>\n",
       "      <th>AirMOSS_L4_rootzone_min</th>\n",
       "      <th>AirMOSS_L4_rootzone_mean</th>\n",
       "      <th>AirMOSS_L4_rootzone_max</th>\n",
       "    </tr>\n",
       "    <tr>\n",
       "      <th>time</th>\n",
       "      <th></th>\n",
       "      <th></th>\n",
       "      <th></th>\n",
       "    </tr>\n",
       "  </thead>\n",
       "  <tbody>\n",
       "    <tr>\n",
       "      <th>1999-03-22</th>\n",
       "      <td>NaN</td>\n",
       "      <td>NaN</td>\n",
       "      <td>NaN</td>\n",
       "    </tr>\n",
       "    <tr>\n",
       "      <th>1999-03-23</th>\n",
       "      <td>NaN</td>\n",
       "      <td>NaN</td>\n",
       "      <td>NaN</td>\n",
       "    </tr>\n",
       "    <tr>\n",
       "      <th>1999-03-24</th>\n",
       "      <td>NaN</td>\n",
       "      <td>NaN</td>\n",
       "      <td>NaN</td>\n",
       "    </tr>\n",
       "    <tr>\n",
       "      <th>1999-03-25</th>\n",
       "      <td>NaN</td>\n",
       "      <td>NaN</td>\n",
       "      <td>NaN</td>\n",
       "    </tr>\n",
       "    <tr>\n",
       "      <th>1999-03-26</th>\n",
       "      <td>NaN</td>\n",
       "      <td>NaN</td>\n",
       "      <td>NaN</td>\n",
       "    </tr>\n",
       "  </tbody>\n",
       "</table>\n",
       "</div>"
      ],
      "text/plain": [
       "            AirMOSS_L4_rootzone_min  AirMOSS_L4_rootzone_mean  \\\n",
       "time                                                            \n",
       "1999-03-22                      NaN                       NaN   \n",
       "1999-03-23                      NaN                       NaN   \n",
       "1999-03-24                      NaN                       NaN   \n",
       "1999-03-25                      NaN                       NaN   \n",
       "1999-03-26                      NaN                       NaN   \n",
       "\n",
       "            AirMOSS_L4_rootzone_max  \n",
       "time                                 \n",
       "1999-03-22                      NaN  \n",
       "1999-03-23                      NaN  \n",
       "1999-03-24                      NaN  \n",
       "1999-03-25                      NaN  \n",
       "1999-03-26                      NaN  "
      ]
     },
     "execution_count": 6,
     "metadata": {},
     "output_type": "execute_result"
    }
   ],
   "source": [
    "data = df[\"AirMOSS_L4_rootzone\"].str.split(\";\", n=2, expand=True)       # split pd column to 3\n",
    "data = data.replace('', np.nan)                                         # set '' to nan\n",
    "data = data.astype(float)                                               # set all to float\n",
    "data.columns = [\"AirMOSS_L4_rootzone_\"+s for s in [\"min\",\"mean\",\"max\"]] # set column names\n",
    "\n",
    "data.head(5)"
   ]
  },
  {
   "cell_type": "markdown",
   "metadata": {},
   "source": [
    "`Pandas` repackages some basic plotting functionality from `matplotlib`. You can call `pandas.DataFrame.plot` or `pandas.Series.plot`. Plot L4 AirMOSS rootzone soil moisture from the example dataset:"
   ]
  },
  {
   "cell_type": "code",
   "execution_count": 11,
   "metadata": {},
   "outputs": [
    {
     "ename": "NonGuiException",
     "evalue": "",
     "output_type": "error",
     "traceback": [
      "\u001b[1;31m---------------------------------------------------------------------------\u001b[0m",
      "\u001b[1;31mNonGuiException\u001b[0m                           Traceback (most recent call last)",
      "\u001b[1;32m<ipython-input-11-3e31ad2811a4>\u001b[0m in \u001b[0;36m<module>\u001b[1;34m\u001b[0m\n\u001b[1;32m----> 1\u001b[1;33m \u001b[0mdata\u001b[0m\u001b[1;33m[\u001b[0m\u001b[1;34m\"AirMOSS_L4_rootzone_mean\"\u001b[0m\u001b[1;33m]\u001b[0m\u001b[1;33m.\u001b[0m\u001b[0mplot\u001b[0m\u001b[1;33m(\u001b[0m\u001b[1;33m)\u001b[0m\u001b[1;33m\u001b[0m\u001b[1;33m\u001b[0m\u001b[0m\n\u001b[0m",
      "\u001b[1;32mC:\\Apps\\Python\\Anaconda3\\lib\\site-packages\\pandas\\plotting\\_core.py\u001b[0m in \u001b[0;36m__call__\u001b[1;34m(self, kind, ax, figsize, use_index, title, grid, legend, style, logx, logy, loglog, xticks, yticks, xlim, ylim, rot, fontsize, colormap, table, yerr, xerr, label, secondary_y, **kwds)\u001b[0m\n\u001b[0;32m   2739\u001b[0m                            \u001b[0mcolormap\u001b[0m\u001b[1;33m=\u001b[0m\u001b[0mcolormap\u001b[0m\u001b[1;33m,\u001b[0m \u001b[0mtable\u001b[0m\u001b[1;33m=\u001b[0m\u001b[0mtable\u001b[0m\u001b[1;33m,\u001b[0m \u001b[0myerr\u001b[0m\u001b[1;33m=\u001b[0m\u001b[0myerr\u001b[0m\u001b[1;33m,\u001b[0m\u001b[1;33m\u001b[0m\u001b[1;33m\u001b[0m\u001b[0m\n\u001b[0;32m   2740\u001b[0m                            \u001b[0mxerr\u001b[0m\u001b[1;33m=\u001b[0m\u001b[0mxerr\u001b[0m\u001b[1;33m,\u001b[0m \u001b[0mlabel\u001b[0m\u001b[1;33m=\u001b[0m\u001b[0mlabel\u001b[0m\u001b[1;33m,\u001b[0m \u001b[0msecondary_y\u001b[0m\u001b[1;33m=\u001b[0m\u001b[0msecondary_y\u001b[0m\u001b[1;33m,\u001b[0m\u001b[1;33m\u001b[0m\u001b[1;33m\u001b[0m\u001b[0m\n\u001b[1;32m-> 2741\u001b[1;33m                            **kwds)\n\u001b[0m\u001b[0;32m   2742\u001b[0m     \u001b[0m__call__\u001b[0m\u001b[1;33m.\u001b[0m\u001b[0m__doc__\u001b[0m \u001b[1;33m=\u001b[0m \u001b[0mplot_series\u001b[0m\u001b[1;33m.\u001b[0m\u001b[0m__doc__\u001b[0m\u001b[1;33m\u001b[0m\u001b[1;33m\u001b[0m\u001b[0m\n\u001b[0;32m   2743\u001b[0m \u001b[1;33m\u001b[0m\u001b[0m\n",
      "\u001b[1;32mC:\\Apps\\Python\\Anaconda3\\lib\\site-packages\\pandas\\plotting\\_core.py\u001b[0m in \u001b[0;36mplot_series\u001b[1;34m(data, kind, ax, figsize, use_index, title, grid, legend, style, logx, logy, loglog, xticks, yticks, xlim, ylim, rot, fontsize, colormap, table, yerr, xerr, label, secondary_y, **kwds)\u001b[0m\n\u001b[0;32m   2000\u001b[0m                  \u001b[0myerr\u001b[0m\u001b[1;33m=\u001b[0m\u001b[0myerr\u001b[0m\u001b[1;33m,\u001b[0m \u001b[0mxerr\u001b[0m\u001b[1;33m=\u001b[0m\u001b[0mxerr\u001b[0m\u001b[1;33m,\u001b[0m\u001b[1;33m\u001b[0m\u001b[1;33m\u001b[0m\u001b[0m\n\u001b[0;32m   2001\u001b[0m                  \u001b[0mlabel\u001b[0m\u001b[1;33m=\u001b[0m\u001b[0mlabel\u001b[0m\u001b[1;33m,\u001b[0m \u001b[0msecondary_y\u001b[0m\u001b[1;33m=\u001b[0m\u001b[0msecondary_y\u001b[0m\u001b[1;33m,\u001b[0m\u001b[1;33m\u001b[0m\u001b[1;33m\u001b[0m\u001b[0m\n\u001b[1;32m-> 2002\u001b[1;33m                  **kwds)\n\u001b[0m\u001b[0;32m   2003\u001b[0m \u001b[1;33m\u001b[0m\u001b[0m\n\u001b[0;32m   2004\u001b[0m \u001b[1;33m\u001b[0m\u001b[0m\n",
      "\u001b[1;32mC:\\Apps\\Python\\Anaconda3\\lib\\site-packages\\pandas\\plotting\\_core.py\u001b[0m in \u001b[0;36m_plot\u001b[1;34m(data, x, y, subplots, ax, kind, **kwds)\u001b[0m\n\u001b[0;32m   1802\u001b[0m         \u001b[0mplot_obj\u001b[0m \u001b[1;33m=\u001b[0m \u001b[0mklass\u001b[0m\u001b[1;33m(\u001b[0m\u001b[0mdata\u001b[0m\u001b[1;33m,\u001b[0m \u001b[0msubplots\u001b[0m\u001b[1;33m=\u001b[0m\u001b[0msubplots\u001b[0m\u001b[1;33m,\u001b[0m \u001b[0max\u001b[0m\u001b[1;33m=\u001b[0m\u001b[0max\u001b[0m\u001b[1;33m,\u001b[0m \u001b[0mkind\u001b[0m\u001b[1;33m=\u001b[0m\u001b[0mkind\u001b[0m\u001b[1;33m,\u001b[0m \u001b[1;33m**\u001b[0m\u001b[0mkwds\u001b[0m\u001b[1;33m)\u001b[0m\u001b[1;33m\u001b[0m\u001b[1;33m\u001b[0m\u001b[0m\n\u001b[0;32m   1803\u001b[0m \u001b[1;33m\u001b[0m\u001b[0m\n\u001b[1;32m-> 1804\u001b[1;33m     \u001b[0mplot_obj\u001b[0m\u001b[1;33m.\u001b[0m\u001b[0mgenerate\u001b[0m\u001b[1;33m(\u001b[0m\u001b[1;33m)\u001b[0m\u001b[1;33m\u001b[0m\u001b[1;33m\u001b[0m\u001b[0m\n\u001b[0m\u001b[0;32m   1805\u001b[0m     \u001b[0mplot_obj\u001b[0m\u001b[1;33m.\u001b[0m\u001b[0mdraw\u001b[0m\u001b[1;33m(\u001b[0m\u001b[1;33m)\u001b[0m\u001b[1;33m\u001b[0m\u001b[1;33m\u001b[0m\u001b[0m\n\u001b[0;32m   1806\u001b[0m     \u001b[1;32mreturn\u001b[0m \u001b[0mplot_obj\u001b[0m\u001b[1;33m.\u001b[0m\u001b[0mresult\u001b[0m\u001b[1;33m\u001b[0m\u001b[1;33m\u001b[0m\u001b[0m\n",
      "\u001b[1;32mC:\\Apps\\Python\\Anaconda3\\lib\\site-packages\\pandas\\plotting\\_core.py\u001b[0m in \u001b[0;36mgenerate\u001b[1;34m(self)\u001b[0m\n\u001b[0;32m    258\u001b[0m         \u001b[0mself\u001b[0m\u001b[1;33m.\u001b[0m\u001b[0m_compute_plot_data\u001b[0m\u001b[1;33m(\u001b[0m\u001b[1;33m)\u001b[0m\u001b[1;33m\u001b[0m\u001b[1;33m\u001b[0m\u001b[0m\n\u001b[0;32m    259\u001b[0m         \u001b[0mself\u001b[0m\u001b[1;33m.\u001b[0m\u001b[0m_setup_subplots\u001b[0m\u001b[1;33m(\u001b[0m\u001b[1;33m)\u001b[0m\u001b[1;33m\u001b[0m\u001b[1;33m\u001b[0m\u001b[0m\n\u001b[1;32m--> 260\u001b[1;33m         \u001b[0mself\u001b[0m\u001b[1;33m.\u001b[0m\u001b[0m_make_plot\u001b[0m\u001b[1;33m(\u001b[0m\u001b[1;33m)\u001b[0m\u001b[1;33m\u001b[0m\u001b[1;33m\u001b[0m\u001b[0m\n\u001b[0m\u001b[0;32m    261\u001b[0m         \u001b[0mself\u001b[0m\u001b[1;33m.\u001b[0m\u001b[0m_add_table\u001b[0m\u001b[1;33m(\u001b[0m\u001b[1;33m)\u001b[0m\u001b[1;33m\u001b[0m\u001b[1;33m\u001b[0m\u001b[0m\n\u001b[0;32m    262\u001b[0m         \u001b[0mself\u001b[0m\u001b[1;33m.\u001b[0m\u001b[0m_make_legend\u001b[0m\u001b[1;33m(\u001b[0m\u001b[1;33m)\u001b[0m\u001b[1;33m\u001b[0m\u001b[1;33m\u001b[0m\u001b[0m\n",
      "\u001b[1;32mC:\\Apps\\Python\\Anaconda3\\lib\\site-packages\\pandas\\plotting\\_core.py\u001b[0m in \u001b[0;36m_make_plot\u001b[1;34m(self)\u001b[0m\n\u001b[0;32m    983\u001b[0m                              \u001b[0mstacking_id\u001b[0m\u001b[1;33m=\u001b[0m\u001b[0mstacking_id\u001b[0m\u001b[1;33m,\u001b[0m\u001b[1;33m\u001b[0m\u001b[1;33m\u001b[0m\u001b[0m\n\u001b[0;32m    984\u001b[0m                              \u001b[0mis_errorbar\u001b[0m\u001b[1;33m=\u001b[0m\u001b[0mis_errorbar\u001b[0m\u001b[1;33m,\u001b[0m\u001b[1;33m\u001b[0m\u001b[1;33m\u001b[0m\u001b[0m\n\u001b[1;32m--> 985\u001b[1;33m                              **kwds)\n\u001b[0m\u001b[0;32m    986\u001b[0m             \u001b[0mself\u001b[0m\u001b[1;33m.\u001b[0m\u001b[0m_add_legend_handle\u001b[0m\u001b[1;33m(\u001b[0m\u001b[0mnewlines\u001b[0m\u001b[1;33m[\u001b[0m\u001b[1;36m0\u001b[0m\u001b[1;33m]\u001b[0m\u001b[1;33m,\u001b[0m \u001b[0mlabel\u001b[0m\u001b[1;33m,\u001b[0m \u001b[0mindex\u001b[0m\u001b[1;33m=\u001b[0m\u001b[0mi\u001b[0m\u001b[1;33m)\u001b[0m\u001b[1;33m\u001b[0m\u001b[1;33m\u001b[0m\u001b[0m\n\u001b[0;32m    987\u001b[0m \u001b[1;33m\u001b[0m\u001b[0m\n",
      "\u001b[1;32mC:\\Apps\\Python\\Anaconda3\\lib\\site-packages\\pandas\\plotting\\_core.py\u001b[0m in \u001b[0;36m_ts_plot\u001b[1;34m(cls, ax, x, data, style, **kwds)\u001b[0m\n\u001b[0;32m   1024\u001b[0m         \u001b[0mlines\u001b[0m \u001b[1;33m=\u001b[0m \u001b[0mcls\u001b[0m\u001b[1;33m.\u001b[0m\u001b[0m_plot\u001b[0m\u001b[1;33m(\u001b[0m\u001b[0max\u001b[0m\u001b[1;33m,\u001b[0m \u001b[0mdata\u001b[0m\u001b[1;33m.\u001b[0m\u001b[0mindex\u001b[0m\u001b[1;33m,\u001b[0m \u001b[0mdata\u001b[0m\u001b[1;33m.\u001b[0m\u001b[0mvalues\u001b[0m\u001b[1;33m,\u001b[0m \u001b[0mstyle\u001b[0m\u001b[1;33m=\u001b[0m\u001b[0mstyle\u001b[0m\u001b[1;33m,\u001b[0m \u001b[1;33m**\u001b[0m\u001b[0mkwds\u001b[0m\u001b[1;33m)\u001b[0m\u001b[1;33m\u001b[0m\u001b[1;33m\u001b[0m\u001b[0m\n\u001b[0;32m   1025\u001b[0m         \u001b[1;31m# set date formatter, locators and rescale limits\u001b[0m\u001b[1;33m\u001b[0m\u001b[1;33m\u001b[0m\u001b[1;33m\u001b[0m\u001b[0m\n\u001b[1;32m-> 1026\u001b[1;33m         \u001b[0mformat_dateaxis\u001b[0m\u001b[1;33m(\u001b[0m\u001b[0max\u001b[0m\u001b[1;33m,\u001b[0m \u001b[0max\u001b[0m\u001b[1;33m.\u001b[0m\u001b[0mfreq\u001b[0m\u001b[1;33m,\u001b[0m \u001b[0mdata\u001b[0m\u001b[1;33m.\u001b[0m\u001b[0mindex\u001b[0m\u001b[1;33m)\u001b[0m\u001b[1;33m\u001b[0m\u001b[1;33m\u001b[0m\u001b[0m\n\u001b[0m\u001b[0;32m   1027\u001b[0m         \u001b[1;32mreturn\u001b[0m \u001b[0mlines\u001b[0m\u001b[1;33m\u001b[0m\u001b[1;33m\u001b[0m\u001b[0m\n\u001b[0;32m   1028\u001b[0m \u001b[1;33m\u001b[0m\u001b[0m\n",
      "\u001b[1;32mC:\\Apps\\Python\\Anaconda3\\lib\\site-packages\\pandas\\plotting\\_timeseries.py\u001b[0m in \u001b[0;36mformat_dateaxis\u001b[1;34m(subplot, freq, index)\u001b[0m\n\u001b[0;32m    350\u001b[0m         \u001b[1;32mraise\u001b[0m \u001b[0mTypeError\u001b[0m\u001b[1;33m(\u001b[0m\u001b[1;34m'index type not supported'\u001b[0m\u001b[1;33m)\u001b[0m\u001b[1;33m\u001b[0m\u001b[1;33m\u001b[0m\u001b[0m\n\u001b[0;32m    351\u001b[0m \u001b[1;33m\u001b[0m\u001b[0m\n\u001b[1;32m--> 352\u001b[1;33m     \u001b[0mpylab\u001b[0m\u001b[1;33m.\u001b[0m\u001b[0mdraw_if_interactive\u001b[0m\u001b[1;33m(\u001b[0m\u001b[1;33m)\u001b[0m\u001b[1;33m\u001b[0m\u001b[1;33m\u001b[0m\u001b[0m\n\u001b[0m",
      "\u001b[1;32mC:\\Apps\\Python\\Anaconda3\\lib\\site-packages\\IPython\\utils\\decorators.py\u001b[0m in \u001b[0;36mwrapper\u001b[1;34m(*args, **kw)\u001b[0m\n\u001b[0;32m     41\u001b[0m     \u001b[1;32mdef\u001b[0m \u001b[0mwrapper\u001b[0m\u001b[1;33m(\u001b[0m\u001b[1;33m*\u001b[0m\u001b[0margs\u001b[0m\u001b[1;33m,\u001b[0m\u001b[1;33m**\u001b[0m\u001b[0mkw\u001b[0m\u001b[1;33m)\u001b[0m\u001b[1;33m:\u001b[0m\u001b[1;33m\u001b[0m\u001b[1;33m\u001b[0m\u001b[0m\n\u001b[0;32m     42\u001b[0m         \u001b[0mwrapper\u001b[0m\u001b[1;33m.\u001b[0m\u001b[0mcalled\u001b[0m \u001b[1;33m=\u001b[0m \u001b[1;32mFalse\u001b[0m\u001b[1;33m\u001b[0m\u001b[1;33m\u001b[0m\u001b[0m\n\u001b[1;32m---> 43\u001b[1;33m         \u001b[0mout\u001b[0m \u001b[1;33m=\u001b[0m \u001b[0mfunc\u001b[0m\u001b[1;33m(\u001b[0m\u001b[1;33m*\u001b[0m\u001b[0margs\u001b[0m\u001b[1;33m,\u001b[0m\u001b[1;33m**\u001b[0m\u001b[0mkw\u001b[0m\u001b[1;33m)\u001b[0m\u001b[1;33m\u001b[0m\u001b[1;33m\u001b[0m\u001b[0m\n\u001b[0m\u001b[0;32m     44\u001b[0m         \u001b[0mwrapper\u001b[0m\u001b[1;33m.\u001b[0m\u001b[0mcalled\u001b[0m \u001b[1;33m=\u001b[0m \u001b[1;32mTrue\u001b[0m\u001b[1;33m\u001b[0m\u001b[1;33m\u001b[0m\u001b[0m\n\u001b[0;32m     45\u001b[0m         \u001b[1;32mreturn\u001b[0m \u001b[0mout\u001b[0m\u001b[1;33m\u001b[0m\u001b[1;33m\u001b[0m\u001b[0m\n",
      "\u001b[1;32mC:\\Apps\\Python\\Anaconda3\\lib\\site-packages\\ipympl\\backend_nbagg.py\u001b[0m in \u001b[0;36mdraw_if_interactive\u001b[1;34m()\u001b[0m\n\u001b[0;32m     56\u001b[0m         \u001b[0mmanager\u001b[0m \u001b[1;33m=\u001b[0m \u001b[0mpylab_helpers\u001b[0m\u001b[1;33m.\u001b[0m\u001b[0mGcf\u001b[0m\u001b[1;33m.\u001b[0m\u001b[0mget_active\u001b[0m\u001b[1;33m(\u001b[0m\u001b[1;33m)\u001b[0m\u001b[1;33m\u001b[0m\u001b[1;33m\u001b[0m\u001b[0m\n\u001b[0;32m     57\u001b[0m         \u001b[1;32mif\u001b[0m \u001b[0mmanager\u001b[0m \u001b[1;32mis\u001b[0m \u001b[1;32mnot\u001b[0m \u001b[1;32mNone\u001b[0m\u001b[1;33m:\u001b[0m\u001b[1;33m\u001b[0m\u001b[1;33m\u001b[0m\u001b[0m\n\u001b[1;32m---> 58\u001b[1;33m             \u001b[0mmanager\u001b[0m\u001b[1;33m.\u001b[0m\u001b[0mshow\u001b[0m\u001b[1;33m(\u001b[0m\u001b[1;33m)\u001b[0m\u001b[1;33m\u001b[0m\u001b[1;33m\u001b[0m\u001b[0m\n\u001b[0m\u001b[0;32m     59\u001b[0m \u001b[1;33m\u001b[0m\u001b[0m\n\u001b[0;32m     60\u001b[0m \u001b[1;32mdef\u001b[0m \u001b[0mconnection_info\u001b[0m\u001b[1;33m(\u001b[0m\u001b[1;33m)\u001b[0m\u001b[1;33m:\u001b[0m\u001b[1;33m\u001b[0m\u001b[1;33m\u001b[0m\u001b[0m\n",
      "\u001b[1;32mC:\\Apps\\Python\\Anaconda3\\lib\\site-packages\\matplotlib\\backend_bases.py\u001b[0m in \u001b[0;36mshow\u001b[1;34m(self)\u001b[0m\n\u001b[0;32m   2480\u001b[0m         \u001b[0moptional\u001b[0m \u001b[0mwarning\u001b[0m\u001b[1;33m.\u001b[0m\u001b[1;33m\u001b[0m\u001b[1;33m\u001b[0m\u001b[0m\n\u001b[0;32m   2481\u001b[0m         \"\"\"\n\u001b[1;32m-> 2482\u001b[1;33m         \u001b[1;32mraise\u001b[0m \u001b[0mNonGuiException\u001b[0m\u001b[1;33m(\u001b[0m\u001b[1;33m)\u001b[0m\u001b[1;33m\u001b[0m\u001b[1;33m\u001b[0m\u001b[0m\n\u001b[0m\u001b[0;32m   2483\u001b[0m \u001b[1;33m\u001b[0m\u001b[0m\n\u001b[0;32m   2484\u001b[0m     \u001b[1;32mdef\u001b[0m \u001b[0mdestroy\u001b[0m\u001b[1;33m(\u001b[0m\u001b[0mself\u001b[0m\u001b[1;33m)\u001b[0m\u001b[1;33m:\u001b[0m\u001b[1;33m\u001b[0m\u001b[1;33m\u001b[0m\u001b[0m\n",
      "\u001b[1;31mNonGuiException\u001b[0m: "
     ]
    },
    {
     "data": {
      "image/png": "[encoded data removed]",
      "text/plain": [
       "<Figure size 432x288 with 1 Axes>"
      ]
     },
     "metadata": {
      "needs_background": "light"
     },
     "output_type": "display_data"
    }
   ],
   "source": [
    "data[\"AirMOSS_L4_rootzone_mean\"].plot()"
   ]
  },
  {
   "cell_type": "markdown",
   "metadata": {},
   "source": [
    "---------------------------------------------\n",
    "## Read USFS data from GeoJSON\n",
    "\n",
    "The original dataset was a shapefile, but we reprojected and saved as GeoJSON using *ogr2ogr* from the GDAL/OGR binaries package available at OSGeo. GeoJSON is [a format for encoding a variety of geographic data structures](http://geojson.org/).\n",
    "\n",
    "Let's open the GeoJSON and extract some information about one of the USFS sites. Read to a dictionary with `json.load` and print the first feature:"
   ]
  },
  {
   "cell_type": "code",
   "execution_count": 15,
   "metadata": {},
   "outputs": [
    {
     "data": {
      "text/plain": [
       "dict_keys(['type', 'name', 'crs', 'features'])"
      ]
     },
     "execution_count": 15,
     "metadata": {},
     "output_type": "execute_result"
    }
   ],
   "source": [
    "with open(\"docs/usfs_sites/Sites_lf_geo.json\", \"r\") as f:\n",
    "    shapes = json.load(f) # dict <- json text \n",
    "\n",
    "shapes.keys()"
   ]
  },
  {
   "cell_type": "markdown",
   "metadata": {},
   "source": [
    "Inspect the first three dictionary items:"
   ]
  },
  {
   "cell_type": "code",
   "execution_count": 16,
   "metadata": {},
   "outputs": [
    {
     "name": "stdout",
     "output_type": "stream",
     "text": [
      "{'type': 'name', 'properties': {'name': 'urn:ogc:def:crs:OGC:1.3:CRS84'}}\n",
      "Sites_lf_geo\n",
      "FeatureCollection\n"
     ]
    }
   ],
   "source": [
    "print(shapes[\"crs\"]) \n",
    "print(shapes[\"name\"])\n",
    "print(shapes[\"type\"])"
   ]
  },
  {
   "cell_type": "markdown",
   "metadata": {},
   "source": [
    "A list of geojson features is stored in the *features* element. Print the keys for the first one:"
   ]
  },
  {
   "cell_type": "code",
   "execution_count": 17,
   "metadata": {},
   "outputs": [
    {
     "data": {
      "text/plain": [
       "dict_keys(['type', 'properties', 'geometry'])"
      ]
     },
     "execution_count": 17,
     "metadata": {},
     "output_type": "execute_result"
    }
   ],
   "source": [
    "features = shapes[\"features\"]\n",
    "feat = features[0]\n",
    "\n",
    "feat.keys()"
   ]
  },
  {
   "cell_type": "markdown",
   "metadata": {},
   "source": [
    "The geometry contains a list of coordinates that make the feature boundary. Here's an example:\n",
    "```\n",
    " \"type\": \"Feature\",\n",
    "   \"geometry\": {\n",
    "       \"type\": \"Polygon\",\n",
    "       \"coordinates\": [\n",
    "           [\n",
    "               [100.0, 0.0],\n",
    "               [101.0, 0.0],\n",
    "               [101.0, 1.0],\n",
    "               [100.0, 1.0],\n",
    "               [100.0, 0.0]\n",
    "           ]\n",
    "       ]\n",
    "   },\n",
    "```\n",
    "A feature's properties are equivalent to what you'd find in the attribute table if you were to open the file in ArcMap. Print them:"
   ]
  },
  {
   "cell_type": "code",
   "execution_count": 18,
   "metadata": {},
   "outputs": [
    {
     "data": {
      "text/plain": [
       "{'OBJECTID': 61,\n",
       " 'RANGERDIST': '99030501010343',\n",
       " 'REGION': '03',\n",
       " 'FORESTNUMB': '05',\n",
       " 'DISTRICTNU': '01',\n",
       " 'DISTRICTOR': '030501',\n",
       " 'FORESTNAME': 'Coronado National Forest',\n",
       " 'DISTRICTNA': 'Douglas Ranger District',\n",
       " 'GIS_ACRES': 434025.2,\n",
       " 'SHAPE_Leng': 3.96360236158,\n",
       " 'SHAPE_Area': 0.16722952205,\n",
       " 'Rowid_': 59,\n",
       " 'FID_1': 60,\n",
       " 'COUNT': 8159,\n",
       " 'AREA': 509937500,\n",
       " 'MIN': -79,\n",
       " 'MAX': 34,\n",
       " 'RANGE': 113,\n",
       " 'MEAN': -42.6505699228,\n",
       " 'STD': 15.107567792,\n",
       " 'SUM': -347986,\n",
       " 'VARIETY': 96,\n",
       " 'MAJORITY': -51,\n",
       " 'MINORITY': -79,\n",
       " 'MEDIAN': -44,\n",
       " 'Count_1': 8270,\n",
       " 'Count_2': 8269,\n",
       " 'Count_3': 8270,\n",
       " 'Count_4': 8271,\n",
       " 'Count_5': 8269,\n",
       " 'Count_6': 8257,\n",
       " 'Count_7': 8266,\n",
       " 'Count_8': 8273,\n",
       " 'Count_9': 8272,\n",
       " 'Count_10': 8274,\n",
       " 'Count_11': 8253,\n",
       " 'Count_12': 8256,\n",
       " 'Count_13': 8263,\n",
       " 'Count_14': 8268,\n",
       " 'Count_15': 8262,\n",
       " 'Count_16': 8234,\n",
       " 'Count_17': 8263,\n",
       " 'Count_18': 8268,\n",
       " 'Count_19': 8245,\n",
       " 'Count_20': 8224,\n",
       " 'Count_21': 8272,\n",
       " 'Count_22': 8271,\n",
       " 'Count_23': 8252,\n",
       " 'Count_24': 8259,\n",
       " 'Count_25': 8269,\n",
       " 'Count_26': 8249,\n",
       " 'Count_27': 8240,\n",
       " 'Count_28': 8238,\n",
       " 'Count_29': 8247,\n",
       " 'Count_30': 8234,\n",
       " 'Count_31': 8268,\n",
       " 'Count_32': 8266,\n",
       " 'Count_33': 8260,\n",
       " 'Count_34': 8219,\n",
       " 'Count_35': 8142,\n",
       " 'MEAN_1': 886.231559855,\n",
       " 'MEAN_2': 1182.04921998,\n",
       " 'MEAN_3': 1269.57823458,\n",
       " 'MEAN_4': 1307.41034941,\n",
       " 'MEAN_5': 1322.95211029,\n",
       " 'MEAN_6': 1250.93084655,\n",
       " 'MEAN_7': 1432.50072586,\n",
       " 'MEAN_8': 1103.333978,\n",
       " 'MEAN_9': 1088.29279497,\n",
       " 'MEAN_10': 1325.77942954,\n",
       " 'MEAN_11': 1091.30849388,\n",
       " 'MEAN_12': 1233.45469961,\n",
       " 'MEAN_13': 1223.08544112,\n",
       " 'MEAN_14': 1185.92658442,\n",
       " 'MEAN_15': 1178.96042121,\n",
       " 'MEAN_16': 1504.55295118,\n",
       " 'MEAN_17': 1073.6915164,\n",
       " 'MEAN_18': 1387.12433478,\n",
       " 'MEAN_19': 1287.29642207,\n",
       " 'MEAN_20': 1065.16707198,\n",
       " 'MEAN_21': 1155.31902805,\n",
       " 'MEAN_22': 1316.56885504,\n",
       " 'MEAN_23': 1666.9838827,\n",
       " 'MEAN_24': 1399.33732897,\n",
       " 'MEAN_25': 1687.969041,\n",
       " 'MEAN_26': 1057.44781186,\n",
       " 'MEAN_27': 1561.89466019,\n",
       " 'MEAN_28': 1103.47511532,\n",
       " 'MEAN_29': 959.986055535,\n",
       " 'MEAN_30': 1182.68168569,\n",
       " 'MEAN_31': 1457.13026125,\n",
       " 'MEAN_32': 797.238325671,\n",
       " 'MEAN_33': 1427.97723971,\n",
       " 'MEAN_34': 1206.74838788,\n",
       " 'MEAN_35': 670.77253746,\n",
       " 'STD_1': 569.668619552,\n",
       " 'STD_2': 833.10621939,\n",
       " 'STD_3': 813.900927222,\n",
       " 'STD_4': 909.134137836,\n",
       " 'STD_5': 772.114470606,\n",
       " 'STD_6': 813.987628712,\n",
       " 'STD_7': 830.742033058,\n",
       " 'STD_8': 681.052385129,\n",
       " 'STD_9': 712.378481005,\n",
       " 'STD_10': 765.311787151,\n",
       " 'STD_11': 719.406514774,\n",
       " 'STD_12': 782.496289576,\n",
       " 'STD_13': 722.683852277,\n",
       " 'STD_14': 734.877815708,\n",
       " 'STD_15': 760.724620479,\n",
       " 'STD_16': 888.475521837,\n",
       " 'STD_17': 704.581203092,\n",
       " 'STD_18': 833.018557447,\n",
       " 'STD_19': 811.540404841,\n",
       " 'STD_20': 804.054903139,\n",
       " 'STD_21': 742.60605019,\n",
       " 'STD_22': 680.319470438,\n",
       " 'STD_23': 683.237357779,\n",
       " 'STD_24': 721.369644808,\n",
       " 'STD_25': 741.431638195,\n",
       " 'STD_26': 771.450719021,\n",
       " 'STD_27': 843.881306832,\n",
       " 'STD_28': 681.529060072,\n",
       " 'STD_29': 446.146563453,\n",
       " 'STD_30': 453.982070695,\n",
       " 'STD_31': 557.405375056,\n",
       " 'STD_32': 339.841942186,\n",
       " 'STD_33': 599.562884936,\n",
       " 'STD_34': 470.501167935,\n",
       " 'STD_35': 343.082607546}"
      ]
     },
     "execution_count": 18,
     "metadata": {},
     "output_type": "execute_result"
    }
   ],
   "source": [
    "feat[\"properties\"]"
   ]
  },
  {
   "cell_type": "markdown",
   "metadata": {},
   "source": [
    "These values are aboveground NPP. Collect the values for mean and standard deviation into a dictionary, and make a data frame from the dictionary:"
   ]
  },
  {
   "cell_type": "code",
   "execution_count": 23,
   "metadata": {},
   "outputs": [
    {
     "data": {
      "text/html": [
       "<div>\n",
       "<style scoped>\n",
       "    .dataframe tbody tr th:only-of-type {\n",
       "        vertical-align: middle;\n",
       "    }\n",
       "\n",
       "    .dataframe tbody tr th {\n",
       "        vertical-align: top;\n",
       "    }\n",
       "\n",
       "    .dataframe thead th {\n",
       "        text-align: right;\n",
       "    }\n",
       "</style>\n",
       "<table border=\"1\" class=\"dataframe\">\n",
       "  <thead>\n",
       "    <tr style=\"text-align: right;\">\n",
       "      <th></th>\n",
       "      <th>mean</th>\n",
       "      <th>std</th>\n",
       "    </tr>\n",
       "  </thead>\n",
       "  <tbody>\n",
       "    <tr>\n",
       "      <th>0</th>\n",
       "      <td>-42.650570</td>\n",
       "      <td>15.107568</td>\n",
       "    </tr>\n",
       "    <tr>\n",
       "      <th>1</th>\n",
       "      <td>886.231560</td>\n",
       "      <td>569.668620</td>\n",
       "    </tr>\n",
       "    <tr>\n",
       "      <th>2</th>\n",
       "      <td>1182.049220</td>\n",
       "      <td>833.106219</td>\n",
       "    </tr>\n",
       "    <tr>\n",
       "      <th>3</th>\n",
       "      <td>1269.578235</td>\n",
       "      <td>813.900927</td>\n",
       "    </tr>\n",
       "    <tr>\n",
       "      <th>4</th>\n",
       "      <td>1307.410349</td>\n",
       "      <td>909.134138</td>\n",
       "    </tr>\n",
       "  </tbody>\n",
       "</table>\n",
       "</div>"
      ],
      "text/plain": [
       "          mean         std\n",
       "0   -42.650570   15.107568\n",
       "1   886.231560  569.668620\n",
       "2  1182.049220  833.106219\n",
       "3  1269.578235  813.900927\n",
       "4  1307.410349  909.134138"
      ]
     },
     "execution_count": 23,
     "metadata": {},
     "output_type": "execute_result"
    }
   ],
   "source": [
    "stats = pd.DataFrame({\n",
    "    \"mean\": [v for k,v in feat[\"properties\"].items() if \"MEAN\" in k],\n",
    "    \"std\": [v for k,v in feat[\"properties\"].items() if \"STD\" in k]})\n",
    "\n",
    "stats.head(5)"
   ]
  },
  {
   "cell_type": "markdown",
   "metadata": {},
   "source": [
    "Make a `Shapely.geometry.shape`:"
   ]
  },
  {
   "cell_type": "code",
   "execution_count": 24,
   "metadata": {},
   "outputs": [
    {
     "data": {
      "image/svg+xml": [
       "<svg xmlns=\"http://www.w3.org/2000/svg\" xmlns:xlink=\"http://www.w3.org/1999/xlink\" width=\"100.0\" height=\"100.0\" viewBox=\"-110.08864806599993 31.338027784000044 1.2129511320000006 0.8443646920000099\" preserveAspectRatio=\"xMinYMin meet\"><g transform=\"matrix(1,0,0,-1,0,63.520420260000094)\"><g><path fill-rule=\"evenodd\" fill=\"#66cc99\" stroke=\"#555555\" stroke-width=\"0.024259022640000013\" opacity=\"0.6\" d=\"M -109.2462605499999,32.05433095000002 L -109.24626015999993,32.05070238000009 L -109.24625976999991,32.04707352000008 L -109.2462594,32.04344467000003 L -109.2462586499999,32.03982309000004 L -109.24625792999993,32.03620154000007 L -109.24625717999992,32.032579690000105 L -109.24625642999995,32.02895783000008 L -109.24625542999993,32.02532931000008 L -109.24625441999994,32.02170079000003 L -109.24625341999993,32.018071990000045 L -109.24625241999995,32.014443200000116 L -109.24625163999995,32.010815260000065 L -109.24625083999995,32.00718729000005 L -109.24625005999995,32.003559080000066 L -109.2462492499999,31.999930830000025 L -109.24624877999995,31.996307030000132 L -109.24624830999991,31.992683230000054 L -109.24199216999992,31.99268452000005 L -109.23773602999992,31.992685700000088 L -109.23773580999992,31.989061420000027 L -109.23773558999991,31.985437150000045 L -109.23347628999991,31.985438660000085 L -109.2292169799999,31.985440200000074 L -109.22495766999995,31.98544171000012 L -109.223377,31.985442280000072 L -109.22327148999993,31.985442320000104 L -109.22069832999992,31.98544321000007 L -109.22064894999991,31.981859240000066 L -109.2206483399999,31.981815440000034 L -109.22059955999995,31.978275610000075 L -109.2205986399999,31.978187670000054 L -109.22056172999991,31.974704780000096 L -109.22056016999993,31.974559890000087 L -109.22052385999993,31.97113395000006 L -109.2205213899999,31.970932120000022 L -109.22049880999997,31.969036760000062 L -109.22048219999992,31.9675624200001 L -109.22045791999992,31.965404160000045 L -109.220442,31.963990920000086 L -109.22042005999997,31.961771520000088 L -109.22040619999993,31.960336100000067 L -109.2203848899999,31.95812992000007 L -109.22037088999994,31.95668124000007 L -109.22033071999992,31.954488280000092 L -109.22030244999993,31.952944170000066 L -109.22026402999994,31.95084665000007 L -109.220234,31.949207120000015 L -109.22020549999993,31.947205040000068 L -109.22018502999995,31.945473820000075 L -109.220163,31.943611930000078 L -109.22014088999995,31.941740520000035 L -109.22017058999992,31.940018830000067 L -109.22017583999994,31.93971398000006 L -109.2201848699999,31.93843268000006 L -109.22018491999994,31.93843029000002 L -109.22018497999991,31.938420800000067 L -109.22018549999993,31.93834938000012 L -109.22018688999995,31.938153030000095 L -109.22019072999993,31.937608630000046 L -109.22019184,31.93745188000011 L -109.22019616999994,31.9368411 L -109.22019908999991,31.936425750000087 L -109.2202051099999,31.935574690000024 L -109.22020649999993,31.93537792000005 L -109.22021222999994,31.934579360000054 L -109.22021225,31.93456550000009 L -109.2202147,31.933176410000033 L -109.220215,31.93301188000004 L -109.22021547999996,31.932832640000054 L -109.22021683999995,31.9324444300001 L -109.2202221899999,31.93091526000005 L -109.2202240899999,31.930374520000036 L -109.2202283399999,31.92919823000007 L -109.2202353399999,31.92726501000006 L -109.21607787999993,31.92727860000007 L -109.21160186999995,31.927293320000054 L -109.2116476699999,31.930902260000035 L -109.21169344999996,31.934511230000034 L -109.21174078999994,31.938242 L -109.21178811999991,31.94197277000003 L -109.20747643999991,31.94210036000005 L -109.20316478999993,31.942227940000066 L -109.19893238999995,31.94219587000004 L -109.19470001999994,31.94216379000007 L -109.19046764999993,31.94213171000005 L -109.18623524999995,31.94209966000007 L -109.18624512999995,31.938288340000014 L -109.18625498999992,31.934477010000087 L -109.1840392199999,31.934537900000056 L -109.18191502999994,31.934596260000063 L -109.18112202999995,31.934618040000082 L -109.17757509999993,31.934715340000057 L -109.17342975999995,31.934828990000103 L -109.1692844099999,31.934942460000045 L -109.16922923999992,31.931250410000064 L -109.1691740599999,31.927558320000045 L -109.16955894999992,31.923560480000067 L -109.16994382999995,31.919562630000087 L -109.16597795999994,31.919278420000055 L -109.16201207999993,31.91899407000006 L -109.15797550999994,31.91870452000008 L -109.153939,31.91841487 L -109.15395273999995,31.91471526 L -109.15396647999992,31.911015620000057 L -109.14967909999993,31.910830380000064 L -109.14539171999994,31.910645140000046 L -109.1411610899999,31.91044643000007 L -109.13693481999994,31.91024785000006 L -109.13262591999994,31.910204410000066 L -109.1283170099999,31.910160940000093 L -109.12502044999995,31.910467180000058 L -109.12172390999993,31.910773450000093 L -109.12175644999994,31.907137810000034 L -109.12178898999994,31.903502200000062 L -109.12177697999992,31.899888700000076 L -109.12176495999994,31.896275200000016 L -109.12176495999994,31.896235380000025 L -109.12176492999996,31.89391885000008 L -109.12176743999997,31.89029543000006 L -109.12176875999992,31.888366830000052 L -109.12176991999993,31.88667204000009 L -109.12176992999994,31.886637570000058 L -109.12177120999993,31.883052930000098 L -109.12177120999993,31.88304862000009 L -109.1217716799999,31.881778940000064 L -109.12177419999993,31.879425200000043 L -109.12177803999995,31.87580181000005 L -109.12178190999997,31.872178390000066 L -109.12178325999994,31.86855264000006 L -109.12178374999993,31.867285120000073 L -109.12178632999994,31.864951900000037 L -109.12178634999997,31.864926920000087 L -109.12179033999993,31.86130116 L -109.12179434999993,31.85767541000007 L -109.12179577999993,31.854046350000104 L -109.12179626999993,31.852779230000067 L -109.12179898999992,31.850417270000033 L -109.12180313999991,31.84678821000007 L -109.12180730999992,31.843159150000073 L -109.12180879999991,31.839528510000015 L -109.1218093499999,31.838259470000065 L -109.1218121199999,31.835897870000068 L -109.12181637999996,31.832267230000053 L -109.12182063999992,31.828636590000087 L -109.12182217999995,31.825008420000067 L -109.12182272999993,31.823739410000105 L -109.12182272999993,31.823735880000058 L -109.12182301999994,31.82339794 L -109.12182476999992,31.821380230000038 L -109.12182794999993,31.817752060000092 L -109.12182905999995,31.81648165000008 L -109.12182918999994,31.814123890000104 L -109.12184485999992,31.810502690000064 L -109.12184649999993,31.810108200000066 L -109.12186039999992,31.806881490000052 L -109.12186203999991,31.806480650000104 L -109.12187857999992,31.80285320000012 L -109.12189322999993,31.799639100000096 L -109.12189492999991,31.79922578000009 L -109.1219108299999,31.795596750000044 L -109.12192483999993,31.79239954000006 L -109.12192661999993,31.791967720000066 L -109.12194251999993,31.78833830000009 L -109.12195644999994,31.7851596200001 L -109.12195755999991,31.78489068000005 L -109.12195830999995,31.7847088500001 L -109.12196906999995,31.78230545000006 L -109.12196946999994,31.78221530000005 L -109.12197453999991,31.781082990000076 L -109.12198871999992,31.777919480000016 L -109.12199060999993,31.77745713000008 L -109.12200617999994,31.77383074000005 L -109.12201963999993,31.770679360000102 L -109.12202318999991,31.770204540000062 L -109.1220499799999,31.766576090000083 L -109.12207312999992,31.763443 L -109.1220749899999,31.762947700000037 L -109.12208783999992,31.759318840000038 L -109.12209929999993,31.756080020000077 L -109.12210076999995,31.755689980000042 L -109.12211321999993,31.752062230000067 L -109.12212472999991,31.74871922000003 L -109.12212578999996,31.74843442000005 L -109.1221382599999,31.74480664000011 L -109.1221500899999,31.741358370000075 L -109.1221507599999,31.741178840000114 L -109.12637080999994,31.74117877000006 L -109.1263836099999,31.74117877000006 L -109.1306163799999,31.741178750000085 L -109.13062004999992,31.73755386000004 L -109.13062371999993,31.73392897000009 L -109.13486387999993,31.733930940000025 L -109.13910404999993,31.733932790000054 L -109.13911487999994,31.730308310000037 L -109.13912540999993,31.726801590000058 L -109.13940977999991,31.726803860000075 L -109.13942290999992,31.723135920000093 L -109.1394358599999,31.719504300000022 L -109.1437548599999,31.7195456100001 L -109.14807388999995,31.719586810000024 L -109.14809238999992,31.715954200000084 L -109.14811089999992,31.712321580000037 L -109.14813931999996,31.70866733000007 L -109.14816773999993,31.705013080000082 L -109.1524918499999,31.705051580000056 L -109.156816,31.70508991000005 L -109.15684696999992,31.70143013000007 L -109.15687794999994,31.69777035000002 L -109.16117708999994,31.697785210000042 L -109.16547622999994,31.697800100000055 L -109.16977623999996,31.69781490000009 L -109.17407620999992,31.697829740000074 L -109.1783814599999,31.69784996000003 L -109.1826866899999,31.69787018000007 L -109.18699193999996,31.69789040000007 L -109.19129716999996,31.697910620000044 L -109.19562711999995,31.697929350000013 L -109.1999570399999,31.697948040000096 L -109.20428698999993,31.6979667400001 L -109.20861689999995,31.69798546000002 L -109.2129339599999,31.697983460000042 L -109.2172510199999,31.697981490000096 L -109.22153268999993,31.697975180000082 L -109.22577107999994,31.697968930000044 L -109.2300538099999,31.69787899000002 L -109.23433652999992,31.69778904000007 L -109.23861924999991,31.697699100000065 L -109.24288922999992,31.69760941000004 L -109.24290197999991,31.69760907000004 L -109.24713816999996,31.697634850000032 L -109.25137436999992,31.697660620000086 L -109.25561051999992,31.697686370000067 L -109.25983400999993,31.697712010000107 L -109.25984670999995,31.697712070000094 L -109.25985137,31.694065820000052 L -109.25985602999995,31.690419580000082 L -109.25986068999995,31.686773370000058 L -109.25986531999995,31.683139850000064 L -109.25986517999993,31.683127130000045 L -109.26413524999995,31.683109800000025 L -109.26840532999992,31.683092440000035 L -109.2726569599999,31.683079110000048 L -109.27689375999992,31.683065840000033 L -109.2769085899999,31.683065780000025 L -109.28115463999993,31.683092670000065 L -109.28540064999991,31.6831195700001 L -109.2854055999999,31.67950535000007 L -109.28541055999992,31.675891120000042 L -109.28541549999991,31.67227652000008 L -109.28542046999995,31.668661940000067 L -109.28541602999995,31.665035870000033 L -109.28541159999995,31.661409800000023 L -109.28966734999992,31.66141267000004 L -109.2939231199999,31.66141537000005 L -109.29821627999993,31.661415960000035 L -109.30250941999996,31.661416380000055 L -109.3068025499999,31.66141669000005 L -109.31109570999993,31.661416840000097 L -109.31104115999992,31.6578011000001 L -109.3109866,31.654185370000025 L -109.31095262999995,31.650550690000024 L -109.31091864999993,31.64691601000004 L -109.31088470999995,31.64328133000004 L -109.31085072999996,31.63964662000006 L -109.31134507999994,31.639647500000123 L -109.31510944999994,31.63965410000009 L -109.31562493999994,31.63965499000006 L -109.31936816999993,31.639661560000043 L -109.31990479999993,31.639662500000036 L -109.31989790999992,31.635937680000026 L -109.31989152999994,31.6323186400001 L -109.3198789699999,31.628703410000096 L -109.31986640999995,31.625088200000015 L -109.32407496999996,31.62510118000008 L -109.32828354999995,31.625114200000056 L -109.33250712999993,31.625124900000067 L -109.3366909099999,31.62513547000012 L -109.3367110799999,31.621612430000088 L -109.33673127999995,31.61808939000006 L -109.33675146999995,31.614566350000086 L -109.33677166999993,31.61104328000003 L -109.33676555999992,31.607391030000112 L -109.33675942999994,31.603738740000022 L -109.33674192999993,31.600088670000016 L -109.33672439999995,31.59643861000001 L -109.33697390999995,31.59277768 L -109.33707849999995,31.59124328000004 L -109.3372241399999,31.589116780000047 L -109.33721263999993,31.58590021000008 L -109.3372111699999,31.585493490000093 L -109.33719925999995,31.582234450000037 L -109.33719811999995,31.581870180000045 L -109.3371835099999,31.57825130000008 L -109.33716886999994,31.574632430000072 L -109.33721101999996,31.570997090000066 L -109.3372531599999,31.56736177000004 L -109.33725196999993,31.563728850000075 L -109.33725079999991,31.560095920000023 L -109.33732166999991,31.556439160000092 L -109.3373925299999,31.552782400000073 L -109.3416235999999,31.552797840000057 L -109.34585466999991,31.55281328000005 L -109.35009139999991,31.552819970000062 L -109.35432812999993,31.55282668000007 L -109.35858655999992,31.552849920000074 L -109.36284498999996,31.552873140000052 L -109.3671034199999,31.552896380000057 L -109.37136183999993,31.55291962000009 L -109.37561787999991,31.552943260000077 L -109.37987388999991,31.552966920000078 L -109.38412992999994,31.55299058000006 L -109.38838593999995,31.553014230000098 L -109.39264994999994,31.553039530000095 L -109.39691395999994,31.553064860000053 L -109.40117796999992,31.553090160000075 L -109.40544198999991,31.553115480000066 L -109.4097351899999,31.553143610000046 L -109.41402842999995,31.55317177000002 L -109.41832162999997,31.55319991000001 L -109.42261486999993,31.55322804000008 L -109.42693645999995,31.553241810000085 L -109.43125805999993,31.553255550000106 L -109.43553939999995,31.55325699000006 L -109.43957473999993,31.553257730000038 L -109.43957622999991,31.55689709000009 L -109.43957767999994,31.5605364500001 L -109.43957916999992,31.56417581000007 L -109.43958064999995,31.567815140000086 L -109.43958537999997,31.57144703000005 L -109.4395901199999,31.575078910000062 L -109.4395948499999,31.578710800000053 L -109.43959958999991,31.582342690000097 L -109.43960592999994,31.58596704000006 L -109.43961224999995,31.58959140000004 L -109.43961858999992,31.593215790000052 L -109.4396249399999,31.59684015000003 L -109.43963080999997,31.60047487000007 L -109.4396366799999,31.60410962000009 L -109.4396425899999,31.607744340000057 L -109.43964845999992,31.61137906000005 L -109.4396542499999,31.61501722000007 L -109.43966000999993,31.618655380000042 L -109.43966579999991,31.62229355000006 L -109.4396715899999,31.62593171000005 L -109.4396747399999,31.62957293000003 L -109.43967791999992,31.63321415000001 L -109.43967948999992,31.636849430000055 L -109.4396812499999,31.64070689000004 L -109.43812237999995,31.640707300000106 L -109.43457022999995,31.64070931000009 L -109.43388815999995,31.6407094000001 L -109.4303360399999,31.640711410000044 L -109.42965396999992,31.640711510000127 L -109.4297329899999,31.644345730000047 L -109.429812,31.64797995000008 L -109.42989101999993,31.651614190000068 L -109.42997002999991,31.655248410000038 L -109.43389557999993,31.65524056000001 L -109.4340523299999,31.655240260000088 L -109.43813467999995,31.655232100000045 L -109.44238995999993,31.655237350000014 L -109.44664519999996,31.655242610000045 L -109.44664806999995,31.658874220000083 L -109.4466509499999,31.662505800000073 L -109.44665381999991,31.66613738000007 L -109.44665668999993,31.669768960000056 L -109.44665616999995,31.67340349000004 L -109.4466556799999,31.677038010000057 L -109.4466551699999,31.68067254000009 L -109.44665467999992,31.684307030000074 L -109.44665469999993,31.68439772000007 L -109.44665668999993,31.687933280000056 L -109.44665872999994,31.691559530000063 L -109.44666078999994,31.69518577000003 L -109.44666282999995,31.698812020000037 L -109.44666644999992,31.70244827000002 L -109.44667004999995,31.70608451000004 L -109.4466736699999,31.709720790000056 L -109.44667728999995,31.71335704000006 L -109.44667829999995,31.716982810000026 L -109.44667928999995,31.720608590000058 L -109.44668040999993,31.724234970000087 L -109.44668171999994,31.728637260000106 L -109.44560675999996,31.728632190000067 L -109.44242945999994,31.72862049000005 L -109.44136793999994,31.728616560000066 L -109.43817680999994,31.728604770000068 L -109.43712909999992,31.728600890000052 L -109.43392409999993,31.72859147000004 L -109.43287852999995,31.728588370000065 L -109.4286253299999,31.728575870000046 L -109.42863064999992,31.732169510000077 L -109.42863596999995,31.735763120000016 L -109.42864125999992,31.739356760000067 L -109.42864657999993,31.742950400000037 L -109.42864592999993,31.74476215000003 L -109.42864519999993,31.746573540000032 L -109.42864370999993,31.75019667000004 L -109.42864231999992,31.7537976500001 L -109.4286409,31.757398650000066 L -109.42863810999992,31.7610244900001 L -109.42863532999993,31.764650320000044 L -109.42863254999995,31.768276150000062 L -109.42862976,31.77190202000008 L -109.42862625999992,31.775527940000117 L -109.4286227499999,31.779153850000053 L -109.42861575999993,31.781890360000087 L -109.42861558999991,31.781979520000032 L -109.42861388999994,31.78279477000009 L -109.4286044099999,31.786425500000057 L -109.4285882099999,31.790043190000045 L -109.42857200999995,31.79366089000007 L -109.42855577999993,31.797278610000056 L -109.42853957999992,31.800896310000013 L -109.42853048999993,31.804530510000085 L -109.4285214299999,31.808164700000084 L -109.42851692999992,31.811796230000095 L -109.42851236999994,31.815427620000026 L -109.42841566999992,31.81771094 L -109.43198896999994,31.817710510000047 L -109.43624626999994,31.81770992000007 L -109.44031175999991,31.817709360000055 L -109.44031261999992,31.821345390000058 L -109.4403134699999,31.824981420000075 L -109.4403143,31.828617450000046 L -109.44031514999992,31.832253480000084 L -109.44030352999991,31.835891680000117 L -109.44029188999994,31.839529880000025 L -109.43622236999991,31.83952465000004 L -109.43196664999991,31.839519070000037 L -109.4277057699999,31.83951335000003 L -109.42344488999997,31.839507460000043 L -109.41918669999993,31.839509880000037 L -109.4149285399999,31.839512190000065 L -109.4149242899999,31.843144470000073 L -109.41492000999992,31.846776770000076 L -109.41066456999992,31.84677572000003 L -109.40640913999991,31.846774660000058 L -109.40640471999993,31.850413660000097 L -109.40640033999992,31.853997650000068 L -109.40640026999992,31.854052640000063 L -109.40640028999994,31.854135110000097 L -109.40640109999995,31.857698330000037 L -109.40640190999991,31.861344 L -109.402143,31.861336800000103 L -109.39788409999991,31.861329580000103 L -109.39362624999993,31.86132239000006 L -109.38936839999994,31.861315170000047 L -109.38510068999992,31.861317330000073 L -109.38083294999993,31.861319470000037 L -109.3765652399999,31.861321640000074 L -109.37230503999993,31.86132380000005 L -109.37230443999991,31.86132380000005 L -109.37230383999994,31.86132380000005 L -109.37229749999993,31.861323810000084 L -109.37229802999994,31.864954580000102 L -109.3722983,31.86677 L -109.3722985599999,31.868564690000078 L -109.3722985599999,31.86858536000008 L -109.37229922999992,31.872216140000088 L -109.37229986999994,31.875846910000057 L -109.3765631599999,31.875848250000054 L -109.38082642999993,31.875849610000056 L -109.38508968999994,31.875850940000046 L -109.38935297999993,31.875852300000048 L -109.38935547999992,31.879488140000078 L -109.38935797999991,31.883124 L -109.3936224999999,31.883115250000042 L -109.39788703999992,31.883106330000057 L -109.40215157999992,31.883097310000053 L -109.40641611999993,31.883088110000035 L -109.41066420999991,31.883084780000058 L -109.41491233999992,31.883081340000036 L -109.41916098999994,31.883077730000068 L -109.4234096399999,31.88307398000006 L -109.42766236999992,31.88308856000007 L -109.43191510999995,31.883103010000077 L -109.43618047999993,31.883117340000076 L -109.4402272099999,31.883130820000105 L -109.44020134999992,31.886733290000063 L -109.44017550999993,31.89033574000006 L -109.44017550999993,31.890350290000057 L -109.44017282999991,31.893967740000058 L -109.44017015999995,31.897599740000075 L -109.44016756999994,31.901231330000073 L -109.44016745999991,31.90137974000002 L -109.44016497999993,31.904862910000084 L -109.44016607999997,31.90579845000002 L -109.4401665499999,31.90619591000007 L -109.4401693099999,31.90852531000005 L -109.44017365999996,31.91218770000005 L -109.44017798999992,31.9158501200001 L -109.4401823499999,31.91951251000005 L -109.44018102999993,31.921329790000055 L -109.44017956999991,31.92315182000002 L -109.4401766199999,31.926791090000048 L -109.44017333999992,31.930432140000047 L -109.44017004999992,31.934073190000028 L -109.44017004999992,31.934090550000075 L -109.44016638999993,31.937695230000067 L -109.44016270999995,31.941317780000077 L -109.44016312999995,31.941761270000093 L -109.4401642699999,31.942963130000074 L -109.44016613999995,31.944925150000078 L -109.44016953999991,31.948532800000102 L -109.44016956999994,31.94855644000004 L -109.44017205999994,31.95219362000003 L -109.44017459999995,31.955855710000016 L -109.44016861999992,31.959487360000047 L -109.44016258999991,31.963119010000078 L -109.43623772999993,31.963119450000093 L -109.43197097999995,31.963120300000107 L -109.42769926999993,31.96311936000007 L -109.42342753999995,31.96311975000007 L -109.41917110999995,31.963120670000038 L -109.41491471999993,31.96312160000009 L -109.41066306999991,31.963123910000075 L -109.4064114599999,31.963126200000048 L -109.40213854999993,31.96312254000006 L -109.39786571999994,31.963118860000062 L -109.39359272999994,31.96311539000002 L -109.3893198199999,31.963112370000083 L -109.38931290999992,31.966739740000047 L -109.38930603999994,31.97034494000002 L -109.38930603999994,31.970367050000046 L -109.38504562999996,31.97036760000011 L -109.38078514999992,31.970367880000083 L -109.3765253,31.970367880000115 L -109.37229760999995,31.970367760000094 L -109.3722654499999,31.97036767000006 L -109.37225483999995,31.97400829000007 L -109.3722442399999,31.97764898000011 L -109.37222180999996,31.981284360000085 L -109.37219935999994,31.984920960000032 L -109.36794008999992,31.984904240000045 L -109.36368065999991,31.98488638000008 L -109.35942258999992,31.98486773000008 L -109.35516313999993,31.984851400000075 L -109.35095353999995,31.98485269000007 L -109.35096103999994,31.98303983000004 L -109.35096951999996,31.9812256100001 L -109.34885816999996,31.98122604000007 L -109.34674795999995,31.981224800000085 L -109.34249415999992,31.98122149000003 L -109.33823804999994,31.981218780000063 L -109.33823869999995,31.97814796000005 L -109.33560970999994,31.978147990000117 L -109.33135245999993,31.978148030000046 L -109.32709526999996,31.97814814000006 L -109.32283810999994,31.97814813000005 L -109.31863794999995,31.978148380000057 L -109.31437820999996,31.978148620000095 L -109.31011695999993,31.978149140000063 L -109.30585571999993,31.978149530000028 L -109.30159424999992,31.97815396000001 L -109.3015934299999,31.98178218000001 L -109.30159260999991,31.985421290000136 L -109.3015934299999,31.989051120000045 L -109.30159424999992,31.992680860000046 L -109.30159639999991,31.996299250000042 L -109.30159855999992,31.999917410000084 L -109.30585870999992,31.999917200000063 L -109.30586157999993,32.00354412000002 L -109.30586420999995,32.00688101999999 L -109.30586444999992,32.00717103 L -109.30586731999992,32.010797950000054 L -109.30587021999995,32.01442484000006 L -109.3058731499999,32.018056730000055 L -109.3058760699999,32.02168859000007 L -109.30587901999994,32.02532046000006 L -109.30588194999993,32.02895232000008 L -109.30588562999995,32.03257913000005 L -109.30588807999992,32.03497378000007 L -109.30432276999991,32.03586191000007 L -109.30459178999995,32.03620595000007 L -109.30589100999997,32.03786751000008 L -109.30621756999992,32.03828513000004 L -109.3058918099999,32.03864034000012 L -109.30501588999991,32.039595370000065 L -109.30523004999995,32.039832410000116 L -109.30546821999995,32.04009601000004 L -109.30477791,32.04054858000006 L -109.30415170999996,32.04120726000007 L -109.30589634999993,32.04309184000004 L -109.30623678999993,32.04345960000004 L -109.30700359999994,32.044287870000076 L -109.30826688999994,32.04345972000004 L -109.30841802999996,32.04336064000006 L -109.3079676399999,32.04286219000006 L -109.30864988999994,32.043459740000024 L -109.31015749999992,32.04478026000006 L -109.31134147999992,32.045817270000065 L -109.3114788199999,32.04566754000005 L -109.3131952599999,32.04707926000012 L -109.31442120999996,32.048087530000096 L -109.3148250799999,32.04841967000005 L -109.31756549999992,32.05070165000008 L -109.31868572999994,32.05163443000008 L -109.3208023999999,32.05339684000008 L -109.32289974999995,32.05104637000003 L -109.3228995499999,32.05070559000006 L -109.32289893999993,32.04965618000004 L -109.3267867399999,32.04708452000004 L -109.3271559799999,32.046840270000075 L -109.33129746999995,32.044100480000054 L -109.33141690999994,32.04402185000009 L -109.332268,32.04346157000009 L -109.3353273399999,32.04144744000007 L -109.33567180999992,32.04143416000003 L -109.33822338999992,32.04133577000005 L -109.33822338999992,32.04116080000008 L -109.34156493999993,32.04025735000004 L -109.34246833999995,32.0400010900001 L -109.34471437999994,32.03936394000007 L -109.34493904999991,32.039300210000015 L -109.34672500999993,32.038818870000036 L -109.34688634999995,32.03877539000003 L -109.3475357099999,32.0385854100001 L -109.34783393,32.03849007000008 L -109.3480888199999,32.03844829000009 L -109.34833296999992,32.0384153900001 L -109.34871489999992,32.03837527000006 L -109.34965874999992,32.03829735 L -109.35096273999991,32.03822323000009 L -109.3510791699999,32.03821661000004 L -109.3527206099999,32.0382108800001 L -109.35442395999993,32.03829614000002 L -109.35504204999992,32.038330080000016 L -109.35506927999992,32.03833157000012 L -109.35556685999993,32.03833803000006 L -109.35628966999995,32.038185040000045 L -109.3579374,32.03782754000007 L -109.35830970999994,32.03773314000005 L -109.35864960999992,32.037674400000114 L -109.3590745299999,32.037598720000055 L -109.35932278999994,32.037575760000024 L -109.36035794999995,32.037480020000054 L -109.3625218299999,32.037273450000036 L -109.36360169999993,32.03713089000009 L -109.36389105999993,32.0370926800001 L -109.36472949999992,32.03698624000008 L -109.36589836999995,32.03675776000009 L -109.36676968999993,32.03658858000005 L -109.36788043999994,32.03639603000005 L -109.36798057999991,32.036378670000126 L -109.36880793999993,32.036299110000044 L -109.36989948999994,32.03625001000005 L -109.37016527999995,32.03619028000013 L -109.37034604999994,32.03614751000009 L -109.37064375999992,32.03607917000005 L -109.37117580999993,32.03593266000008 L -109.37175051999995,32.03576866000008 L -109.37215841999993,32.03571746000002 L -109.37215877999992,32.03578102000004 L -109.37641863999991,32.03578637000001 L -109.38067849999992,32.03579172000004 L -109.38067390999996,32.03943045000006 L -109.38066928999993,32.043069190000075 L -109.37641078999994,32.043064670000106 L -109.37215225999992,32.043060020000034 L -109.372149,32.046574640000046 L -109.37214885999995,32.04669997000008 L -109.3721455699999,32.05021441000004 L -109.37214548999995,32.0503397300001 L -109.3721411999999,32.053846610000065 L -109.37214103999995,32.05397138000006 L -109.37213649999993,32.05747879000008 L -109.3721363299999,32.057603200000074 L -109.37213084999993,32.061111 L -109.37213064999995,32.061235770000046 L -109.37212519999994,32.06474320000006 L -109.37212519999994,32.06486856000005 L -109.37212321,32.068486680000106 L -109.37212114999991,32.07210514000007 L -109.372119,32.075723620000076 L -109.37211673999995,32.07937972000004 L -109.37274065999995,32.07939988000001 L -109.3763628799999,32.0794157600001 L -109.37695601999994,32.079418350000054 L -109.38060898999996,32.07943436000003 L -109.38117137999993,32.07943681000004 L -109.38116706999992,32.083048690000055 L -109.38116274999992,32.08666059000006 L -109.38115844,32.09027249000008 L -109.38115409999992,32.09388440000009 L -109.38114821999991,32.09751519000005 L -109.3811423299999,32.10114598000006 L -109.38113642999994,32.104776770000086 L -109.38113052999992,32.10840756000003 L -109.3811207699999,32.11204302000006 L -109.38111100999996,32.115678500000044 L -109.38110124999994,32.11931396000005 L -109.38109148999993,32.122949420000076 L -109.38108277999991,32.12657915000009 L -109.38107407999995,32.13020889000007 L -109.3810653699999,32.13383862000003 L -109.38105666999994,32.13746836000006 L -109.37678529999991,32.13745910000004 L -109.37251389999992,32.13744982000009 L -109.36824252999995,32.13744054000005 L -109.36397112999997,32.137431260000106 L -109.35970866999996,32.13741911000006 L -109.35544618999992,32.137407 L -109.35118372999992,32.137394860000086 L -109.34692124999997,32.137382740000064 L -109.3426625399999,32.13737587000005 L -109.33840383999994,32.13736898000007 L -109.33414157999991,32.13736559000003 L -109.32977111999995,32.137362050000064 L -109.3297709799999,32.13688652000008 L -109.32977002999995,32.13371735000006 L -109.32976988999994,32.13325473000008 L -109.32550962999991,32.133246340000056 L -109.32124939999993,32.13323798000008 L -109.3169891599999,32.13322958000009 L -109.31272889999994,32.13322119000008 L -109.30846894999993,32.133217300000055 L -109.30420901999994,32.13321343000006 L -109.2999490699999,32.13320954000008 L -109.29568910999993,32.13320567000009 L -109.29568837999992,32.12957245000004 L -109.2956876499999,32.12593926000004 L -109.29568694999992,32.12230604000005 L -109.29568621999991,32.11867281000009 L -109.2914169599999,32.11867115000009 L -109.2871476999999,32.11866948000004 L -109.28287844999991,32.11866781000009 L -109.27860921999994,32.11866614000003 L -109.27433884999992,32.11866411000001 L -109.27006847999994,32.11866208000007 L -109.2657981399999,32.118660050000095 L -109.2615277699999,32.1186580300001 L -109.26153245999993,32.115032230000075 L -109.2615371799999,32.111406450000054 L -109.26154186999996,32.107780650000045 L -109.26154655999993,32.10415485000004 L -109.26155196999994,32.10053578000005 L -109.26155735999995,32.09691670000009 L -109.26156276999993,32.09329762000002 L -109.26156815999994,32.08967854000009 L -109.26157396,32.08605844000007 L -109.26157975999993,32.08243833000007 L -109.26158556999994,32.07881825 L -109.26159128999993,32.07525217000006 L -109.26159130999996,32.075198150000034 L -109.25903570999995,32.07519568000013 L -109.25733788999995,32.07519401000009 L -109.2547699,32.07519151000008 L -109.25308448,32.075189130000105 L -109.2505161199999,32.07518555000006 L -109.24883102999993,32.07518316000005 L -109.2462623399999,32.07517956000005 L -109.24626210999996,32.07245739000008 L -109.24626182999995,32.068832670000084 L -109.24626151999993,32.065207930000085 L -109.24626121999992,32.061583740000046 L -109.2462609099999,32.05795953000007 L -109.2462605499999,32.05433095000002 z\" /><path fill-rule=\"evenodd\" fill=\"#66cc99\" stroke=\"#555555\" stroke-width=\"0.024259022640000013\" opacity=\"0.6\" d=\"M -108.99095198999997,31.649238760000067 L -108.99095235999991,31.645608650000046 L -108.98995375,31.645608950000064 L -108.98671185999993,31.645610100000045 L -108.9857148799999,31.645610320000095 L -108.9824715199999,31.6456113300001 L -108.98147607999992,31.645611640000062 L -108.9782310399999,31.6456127800001 L -108.97723720999991,31.64561303 L -108.97399067999991,31.64561401000014 L -108.97299839999991,31.645614320000014 L -108.97298807999992,31.64170643 L -108.97297827999992,31.638077900000045 L -108.9729711499999,31.634449900000043 L -108.9729640699999,31.630821920000045 L -108.97296524999994,31.627196310000063 L -108.97296641999995,31.623570690000072 L -108.97296770999996,31.619945100000013 L -108.97296901999991,31.616319490000095 L -108.97296869999994,31.61269232000008 L -108.97296839999993,31.60906515000008 L -108.9729680799999,31.60543803000009 L -108.97296774999992,31.601810920000013 L -108.97296336999992,31.598184890000073 L -108.9729589899999,31.594558880000076 L -108.9729544699999,31.59093293000006 L -108.97294995999991,31.587306990000037 L -108.97294418999994,31.583679290000056 L -108.9729384499999,31.580051560000094 L -108.97293269999992,31.57642386000007 L -108.9729269599999,31.572796140000055 L -108.97292027999995,31.569167220000043 L -108.97291358999993,31.565538270000065 L -108.97290456999995,31.561907820000066 L -108.97289422999992,31.557158290000093 L -108.97231748999995,31.557166510000037 L -108.97254178999997,31.553743 L -108.97276552999993,31.550333100000024 L -108.97298898999996,31.54692326000009 L -108.97321241999995,31.543513420000032 L -108.97318351999994,31.539875190000107 L -108.97315462999993,31.536236990000063 L -108.97314013999991,31.534417890000057 L -108.97312563999996,31.532598790000087 L -108.97311115999996,31.530779680000094 L -108.97309667999995,31.528960570000027 L -108.97310156999997,31.52528743000007 L -108.97310643999995,31.521614260000085 L -108.97311141999992,31.517941110000024 L -108.9731164099999,31.51426797000006 L -108.96877422999992,31.514288 L -108.96443204999994,31.51430789000003 L -108.96008997999994,31.514327950000034 L -108.95574788999991,31.514347840000063 L -108.95148920999995,31.514385780000065 L -108.94723050999991,31.514423560000097 L -108.94297177999991,31.514461420000124 L -108.93871301999994,31.514499170000096 L -108.93445291999993,31.514538780000034 L -108.9301927999999,31.51457828000003 L -108.92593262999996,31.514617920000074 L -108.92167244999995,31.51465742000004 L -108.92164775999996,31.51102314000008 L -108.92162304999991,31.507388870000028 L -108.92159835999993,31.50375459000007 L -108.9215736699999,31.50012032000008 L -108.92154897999993,31.496486060000034 L -108.92152426999994,31.492851770000083 L -108.92149958999993,31.489217510000042 L -108.92147489999994,31.485583230000096 L -108.92145023999994,31.481948970000094 L -108.92142552999994,31.478314680000015 L -108.92140086999993,31.47468042000007 L -108.92137612999991,31.471046110000064 L -108.92133291999991,31.467411240000043 L -108.9212896999999,31.463776370000065 L -108.9212611799999,31.460127780000043 L -108.92123263999994,31.45647918000005 L -108.9212203399999,31.452858650000042 L -108.92120798999996,31.449238110000053 L -108.92116732999993,31.445607430000017 L -108.9211266099999,31.441976760000028 L -108.92108595999994,31.438346080000112 L -108.92104526999996,31.434715410000095 L -108.9210046099999,31.431084730000073 L -108.92096392999994,31.427454050000023 L -108.92093555999996,31.425636300000058 L -108.92090717999994,31.423818550000075 L -108.92085040999993,31.420183040000026 L -108.92081219999992,31.41655006000011 L -108.92077395999995,31.41291707000007 L -108.92073573999991,31.40928409000007 L -108.92069749999993,31.405651110000047 L -108.92065928999992,31.402018160000036 L -108.92062104999994,31.39838515000006 L -108.92485938999991,31.398353650000058 L -108.92909767999996,31.398321970000058 L -108.93333601999993,31.39829044000005 L -108.93757430999992,31.39825877000003 L -108.93754836999992,31.394630120000073 L -108.93752243999994,31.391001450000086 L -108.93749660999995,31.387372740000043 L -108.93747078999994,31.383744010000033 L -108.9409727199999,31.38373168000004 L -108.94168835999992,31.383729230000093 L -108.9451976799999,31.38371678000005 L -108.94590588999993,31.383714280000053 L -108.9494226299999,31.38370364000006 L -108.95013400999991,31.383701580000057 L -108.95364758999992,31.383690860000094 L -108.95436212999992,31.383688690000074 L -108.95787506999991,31.383675440000037 L -108.9585479799999,31.383672990000044 L -108.96210276999992,31.38365949000005 L -108.96273381999995,31.38365709000005 L -108.96632977999994,31.383604930000036 L -108.96696140999993,31.383595840000087 L -108.9705569299999,31.383543590000038 L -108.97118896999993,31.383534420000085 L -108.97479234999994,31.383483950000088 L -108.97538486999996,31.38347572000009 L -108.979028,31.383424610000098 L -108.97958076999996,31.383416860000107 L -108.98326386999994,31.383402050000125 L -108.98375074999993,31.383400160000075 L -108.98749998999992,31.3833849900001 L -108.98792069999995,31.383383290000047 L -108.99172713999994,31.383274850000085 L -108.99214867999993,31.38326290000009 L -108.99595408999993,31.38315440000006 L -108.99637665999992,31.38314234000008 L -109.00018301999992,31.38313179000006 L -109.0004652499999,31.383131090000056 L -109.0044121999999,31.383120060000053 L -109.00455383999994,31.383119640000086 L -109.00864120999992,31.383085860000044 L -109.00878176999996,31.383084780000033 L -109.00946288999994,31.38307908000002 L -109.0128701899999,31.38305091000006 L -109.01300971999994,31.38304974000008 L -109.01709900999995,31.383001650000057 L -109.01716878999994,31.38300082000007 L -109.02132781999993,31.382951900000045 L -109.02965538999995,31.382963280000048 L -109.03133124999991,31.382965610000056 L -109.03798293999994,31.382974660000066 L -109.03978592999991,31.38297717000004 L -109.04326679999994,31.382981860000104 L -109.04557746999993,31.382984970000045 L -109.04614160999992,31.382985730000087 L -109.04628926999992,31.38298586000007 L -109.04631173999994,31.382985710000046 L -109.05001234999995,31.3829609400001 L -109.05000367999995,31.385567680000047 L -109.04999994999994,31.386992590000087 L -109.0500023399999,31.38919776000009 L -109.05000626999995,31.392825060000057 L -109.05000739999994,31.396465780000103 L -109.05000780999993,31.39780701000006 L -109.05000853999995,31.40010665000006 L -109.05001122999992,31.40067481000004 L -109.05001328999995,31.403745630000078 L -109.05001574999991,31.40738424000006 L -109.05001712999993,31.411028440000088 L -109.05001760999991,31.412320660000113 L -109.05001835999994,31.414324300000104 L -109.05001911999992,31.41466898000004 L -109.05000974999994,31.41831294000009 L -109.05000039999992,31.42195689000005 L -109.0499882199999,31.42559862000005 L -109.04998412999996,31.426827900000085 L -109.04997673999995,31.42904425000007 L -109.04997718999991,31.42924038000007 L -109.0499645099999,31.43288261000012 L -109.04995180999995,31.436529 L -109.05220258999995,31.43652930000009 L -109.05643645999992,31.436530600000072 L -109.0606723299999,31.436533230000094 L -109.06490816999994,31.436535860000042 L -109.06912703999993,31.436545570000085 L -109.07334593999994,31.43655532000012 L -109.07756480999993,31.436565030000068 L -109.08178367999992,31.436574770000053 L -109.08178649999994,31.440191810000048 L -109.0817893299999,31.443808870000037 L -109.08179214999993,31.44742594000004 L -109.08179493999992,31.451043 L -109.08176556999993,31.45467485000008 L -109.08176528999994,31.454711210000063 L -109.08173619999995,31.458306690000107 L -109.08173560999992,31.458379330000064 L -109.08185804999991,31.461946110000035 L -109.08185915999995,31.461978840000075 L -109.08198273999992,31.4655783200001 L -109.08185061999993,31.465583320000057 L -109.08185329999995,31.469229100000067 L -109.08185600999994,31.47287489000007 L -109.08185869999993,31.476504320000046 L -109.08186137999994,31.480133740000063 L -109.0860715499999,31.480130090000035 L -109.0902817299999,31.48012648000007 L -109.09449186999994,31.480122860000034 L -109.0987020499999,31.480119210000026 L -109.0986961799999,31.483747550000114 L -109.0986902999999,31.487375890000077 L -109.0986844299999,31.491004230000048 L -109.09867855999991,31.49463258000007 L -109.1029189299999,31.49463762000006 L -109.10715931999991,31.494642670000054 L -109.10714916999993,31.498268790000047 L -109.10713898999994,31.50189490000007 L -109.1071287899999,31.505520400000062 L -109.10711859999996,31.509145870000054 L -109.10711884999992,31.51278262000004 L -109.1071191099999,31.516419360000036 L -109.10711935999994,31.520058530000117 L -109.10711960999996,31.523697690000038 L -109.10711130999991,31.527323850000048 L -109.107103,31.530950040000075 L -109.10709466999995,31.534579100000084 L -109.10708633999994,31.538208150000045 L -109.10708400999991,31.541830040000047 L -109.10708164999991,31.54545192000006 L -109.10285203999995,31.545455260000036 L -109.09862242999995,31.54545848 L -109.09438992999995,31.54545587000004 L -109.09015742999995,31.545453150000053 L -109.0859232299999,31.545450260000035 L -109.08168903999993,31.545447230000057 L -109.08168542999992,31.549070720000117 L -109.0816839199999,31.550883300000027 L -109.0816869499999,31.5545092400001 L -109.08168998999996,31.55813518000009 L -109.0816930199999,31.561761120000067 L -109.08169605999993,31.565387050000087 L -109.08167658999994,31.569011740000047 L -109.0816571199999,31.57263643000003 L -109.0816197899999,31.57626342000008 L -109.08158245999991,31.579890390000095 L -109.0815679099999,31.583526350000085 L -109.08155336999991,31.587162320000065 L -109.08153880999996,31.59079828 L -109.08152425999995,31.59443425000003 L -109.0772856099999,31.59444279000007 L -109.0730469499999,31.594451310000082 L -109.06880828999991,31.594459860000093 L -109.06456965999993,31.594468410000033 L -109.06033330999995,31.594491590000054 L -109.05609697999994,31.594514780000043 L -109.05185973999991,31.59452632000003 L -109.04993767999994,31.594528670000017 L -109.04992628999995,31.59662901000007 L -109.04991793999992,31.598165920000042 L -109.04991738999993,31.598267760000027 L -109.04990862999992,31.60001077000003 L -109.04990837999995,31.60006108000003 L -109.04990827999993,31.60013 L -109.04990786999994,31.600267890000065 L -109.04990529999996,31.601804070000053 L -109.04990175999993,31.603901030000117 L -109.04989916999993,31.605441030000065 L -109.0498956399999,31.607535500000044 L -109.04989302999994,31.609077960000036 L -109.04988951999994,31.61115959000007 L -109.04988690999991,31.612713900000045 L -109.0498841799999,31.61432471000004 L -109.04988404999992,31.614574500000064 L -109.04988404999992,31.614588760000053 L -109.04910275,31.61461230000006 L -109.04846579999995,31.614631500000087 L -109.04828945999996,31.6146368100001 L -109.04826067999991,31.614636840000053 L -109.04402123999994,31.61463945000007 L -109.03978177999991,31.61464122000002 L -109.03553447999994,31.614639040000043 L -109.03128718999992,31.61463686000008 L -109.02703986999992,31.61463465000008 L -109.02279256999996,31.614632470000068 L -109.02279356999995,31.616334270000053 L -109.02279466999991,31.61826101000006 L -109.02279558999992,31.619953730000073 L -109.02279676999993,31.621889580000072 L -109.02279775999992,31.62357324000004 L -109.0227988899999,31.62551814000005 L -109.02279977999993,31.627192690000054 L -109.02280098999992,31.629146680000076 L -109.02280195999995,31.63081221000003 L -109.0228030899999,31.632775250000066 L -109.0228039799999,31.634440720000047 L -109.02280521999992,31.636403790000074 L -109.02280617999996,31.638069280000067 L -109.02280730999993,31.640032330000018 L -109.02280827999991,31.64169785000006 L -109.02280940999997,31.643660890000085 L -109.02281055999995,31.64559852000005 L -109.0228100699999,31.649226480000053 L -109.0228099699999,31.652854290000047 L -109.02280951999992,31.656482250000085 L -109.0228094199999,31.660110090000046 L -109.02280895999995,31.663738020000032 L -109.02280883999995,31.667365840000045 L -109.0228083799999,31.67099377 L -109.02280825999995,31.674621610000067 L -109.02280779999992,31.67824951000004 L -109.0228076999999,31.681877350000047 L -109.02280723999993,31.68550523000005 L -109.02280711999995,31.689133100000028 L -109.0205574899999,31.689139180000062 L -109.0163269299999,31.689148680000056 L -109.0120949299999,31.68915688000005 L -109.00786317999994,31.689164970000093 L -109.00363122999991,31.689157300000115 L -108.9993994399999,31.689149500000045 L -108.99516735999995,31.68914197000006 L -108.99093540999995,31.68913431000005 L -108.99093677999994,31.685509100000033 L -108.99093829,31.681883900000017 L -108.99093965999995,31.678258700000068 L -108.99094116999996,31.674633470000057 L -108.99094362999992,31.6710074100001 L -108.99094624999995,31.66738129000005 L -108.9909486999999,31.66375515000005 L -108.99095131999994,31.66012898000012 L -108.99095143999993,31.656498920000043 L -108.99095175999994,31.652868800000093 L -108.99095198999997,31.649238760000067 z\" /><path fill-rule=\"evenodd\" fill=\"#66cc99\" stroke=\"#555555\" stroke-width=\"0.024259022640000013\" opacity=\"0.6\" d=\"M -109.9839034899999,32.02144322000002 L -109.97963984999993,32.021419950000066 L -109.97535840999993,32.021422500000085 L -109.9710769599999,32.02142504000006 L -109.96679551999993,32.021427580000065 L -109.96634153999995,32.02142784000006 L -109.96603389999993,32.02142803000006 L -109.9625140799999,32.02143012000003 L -109.96243329,32.017803420000085 L -109.96243244999991,32.01776631000011 L -109.96235249999992,32.01417677 L -109.9623508599999,32.014102470000054 L -109.96234451999992,32.01055043000005 L -109.9623443799999,32.01046704000003 L -109.96233805999995,32.00692405000006 L -109.96233789999994,32.00683167000006 L -109.96232813999993,32.003301600000015 L -109.96232785999993,32.00320124000007 L -109.96231780999992,31.999570700000014 L -109.9623078199999,31.995937590000047 L -109.96229778999995,31.99230447000009 L -109.96171300999995,31.99230407000004 L -109.9580441,31.99230152000007 L -109.9574361499999,31.99230108000007 L -109.95379040999993,31.992298280000018 L -109.95315906999994,31.99229785000005 L -109.94953537999992,31.992295330000037 L -109.94888197999992,31.99229489000005 L -109.94887889999993,31.988699440000087 L -109.94887575999994,31.98507133 L -109.94886936999993,31.98144279000008 L -109.94886298999992,31.97781423000008 L -109.94886776999991,31.974187260000043 L -109.9488725399999,31.97056028000007 L -109.94887731999992,31.966933300000036 L -109.9488820999999,31.96330633000007 L -109.94889120999993,31.95967921000005 L -109.9489003299999,31.9560521000001 L -109.94890940999991,31.95242498000002 L -109.94891851999992,31.94879787000009 L -109.95327083999993,31.948804680000045 L -109.95323585999992,31.94517254000004 L -109.9532008899999,31.941540309999986 L -109.95212740999993,31.941538640000104 L -109.95105392999992,31.941536970000065 L -109.94998044999991,31.94153528000003 L -109.94890696999991,31.941533580000094 L -109.94890121999995,31.937901440000108 L -109.94889543999992,31.934269300000018 L -109.9450182699999,31.934270190000095 L -109.94076467999994,31.93427126000005 L -109.93651102999993,31.9342734200001 L -109.93225737999992,31.93427557000009 L -109.92800414999991,31.934273500000074 L -109.92375091999995,31.934271430000116 L -109.91949759999991,31.93427092000007 L -109.91524455999993,31.93427096000008 L -109.91523922999991,31.93064312000009 L -109.9152338599999,31.92701526000006 L -109.91523270999991,31.926108310000092 L -109.9152315499999,31.925201350000066 L -109.9152304,31.924294400000047 L -109.91522924999995,31.923387450000074 L -109.91522466,31.919759640000073 L -109.91522390999992,31.918852660000084 L -109.91522315999997,31.917945690000092 L -109.91522239999992,31.917038720000047 L -109.9152216499999,31.91613174000009 L -109.9152216,31.91607077000011 L -109.91521878999995,31.912503910000044 L -109.91522188999991,31.908876210000074 L -109.91522265999996,31.90796929000004 L -109.91522342999994,31.90706237000008 L -109.91522419999993,31.906155450000046 L -109.91522496999993,31.905248540000038 L -109.91522676999992,31.90342303000007 L -109.91522765999994,31.90251614000007 L -109.9152285499999,31.90160925000009 L -109.91522944999994,31.90069761000006 L -109.91523034999992,31.899785960000077 L -109.91523125999996,31.898874310000057 L -109.91523215999993,31.89796267000009 L -109.91523678999991,31.894299880000048 L -109.91524142999995,31.89063713000006 L -109.91524064999992,31.886982570000022 L -109.91523983999994,31.88332801000005 L -109.91523905999995,31.879673450000045 L -109.91523826999995,31.876018890000022 L -109.91523507999993,31.872385360000074 L -109.9152320399999,31.868933790000064 L -109.91523187999995,31.86875183000003 L -109.91522864999995,31.865118290000073 L -109.91522541999994,31.861484760000035 L -109.91309564999992,31.861489350000074 L -109.91096587,31.861493910000068 L -109.90670631999993,31.86150304000006 L -109.90244679999992,31.86151219000002 L -109.90138190999993,31.86151448000002 L -109.9003170199999,31.861516770000023 L -109.89925212999995,31.861519040000076 L -109.89818724999996,31.86152131000006 L -109.89819384999996,31.857885640000053 L -109.89820047999994,31.85424994000002 L -109.89820708999994,31.850614270000055 L -109.89821368999995,31.846978570000065 L -109.89396841999994,31.846979410000078 L -109.88972313999992,31.84698026000006 L -109.88547783999994,31.846981100000054 L -109.88123255999992,31.846981950000036 L -109.88122949999993,31.84335 L -109.88122645999992,31.839718050000013 L -109.88122338999992,31.83608610000002 L -109.88122035999992,31.83245415000004 L -109.88121575999995,31.828811620000064 L -109.88121116999994,31.825169110000054 L -109.8812065799999,31.821526610000085 L -109.88120197999994,31.817884070000066 L -109.88544925999996,31.817888340000067 L -109.88969656999993,31.81789261000009 L -109.89394384999994,31.817896870000066 L -109.89819113999992,31.817901110000037 L -109.90244941999995,31.817906350000044 L -109.90670772999991,31.817911590000037 L -109.91096600999995,31.817916830000065 L -109.91522428999995,31.817922060000075 L -109.91948075999991,31.81792233000008 L -109.92373723999997,31.81792260000004 L -109.92799368999991,31.817922860000095 L -109.93225015999994,31.817923130000025 L -109.93650713999992,31.81792134000005 L -109.94076408999993,31.817919550000045 L -109.94192057999992,31.817919430000092 L -109.94192059999992,31.81732108000008 L -109.94617787999992,31.8173251800001 L -109.95043515999996,31.817329260000054 L -109.95465946999994,31.81734066000006 L -109.95888377999994,31.817352070000087 L -109.95888185999993,31.820995320000073 L -109.95887993999995,31.824638570000037 L -109.95887248999995,31.828281520000075 L -109.9588650499999,31.831924470000025 L -109.95886428999992,31.83556847000004 L -109.95886350999993,31.839212450000012 L -109.9588627599999,31.842844670000048 L -109.95886200999993,31.84647687000002 L -109.9631199799999,31.84649239000006 L -109.96737794999993,31.84650790000007 L -109.97164963999992,31.84653511 L -109.97592129999997,31.846562350000045 L -109.98017335999997,31.846562860000073 L -109.98442540999994,31.84656338000004 L -109.98867746999994,31.846563890000056 L -109.99292951999993,31.846564410000028 L -109.9971890699999,31.84656473000002 L -110.0014485899999,31.846565060000046 L -110.00570807999995,31.846565420000083 L -110.00996759999995,31.846565790000103 L -110.01423035999991,31.846570200000137 L -110.0184931599999,31.84657462000005 L -110.02275594999996,31.846579010000056 L -110.0270187199999,31.84658343000008 L -110.03126878999994,31.846595620000052 L -110.03551882999992,31.84660782000007 L -110.0397687599999,31.846620240000036 L -110.04368929999995,31.84663174000005 L -110.04368929999995,31.84674804000007 L -110.04368612999995,31.850281240000097 L -110.04368604999993,31.850384790000078 L -110.0436828799999,31.85393072000005 L -110.04368276999995,31.854021580000026 L -110.04367959999993,31.857580200000104 L -110.04367950999992,31.857660170000074 L -110.04367633999992,31.86122965000003 L -110.04367625999996,31.861297810000032 L -110.04367408999995,31.86468807000007 L -110.04367383999991,31.864932120000077 L -110.04367166999997,31.868311520000088 L -110.04367141999992,31.86856649000007 L -110.04366924999991,31.871935 L -110.04366896999991,31.872199910000038 L -110.04366682999992,31.87555848000003 L -110.04366654999993,31.875833500000066 L -110.04366771999995,31.87918932000005 L -110.0436677399999,31.879469610000072 L -110.04366888,31.882819990000048 L -110.04366889999991,31.88310579000006 L -110.04366898999993,31.886451440000073 L -110.04366889999991,31.886742820000073 L -110.0436689599999,31.89008303000009 L -110.04366885999995,31.89038180000005 L -110.04366886999996,31.893717310000028 L -110.04366877999995,31.894028860000038 L -110.04366875999993,31.89735165000009 L -110.04366865999995,31.897675890000073 L -110.04366863999994,31.90098599000005 L -110.04366851999997,31.901322030000088 L -110.04366867999991,31.904967370000087 L -110.04369631999995,31.908597490000076 L -110.04372394999993,31.912227580000113 L -110.04372033999991,31.915839750000075 L -110.04372027999992,31.915860610000014 L -110.04371424999991,31.91945195000002 L -110.0437141699999,31.91949376000006 L -110.04371091999994,31.923081120000056 L -110.04371085999995,31.923146570000053 L -110.04370760999993,31.926710350000064 L -110.04370751999991,31.926799400000036 L -110.04368393999991,31.930340690000033 L -110.04368323999994,31.930444300000087 L -110.04365973999992,31.933971060000083 L -110.0436589299999,31.93408914000011 L -110.04363564999991,31.93760059000005 L -110.04363472999992,31.937733170000076 L -110.04361153999994,31.94123009000006 L -110.04361052999995,31.941377090000056 L -110.04361355999995,31.944858600000064 L -110.04361368999994,31.94503915000009 L -110.04361666999992,31.948487080000053 L -110.0436168,31.948701070000077 L -110.04357785999994,31.95211517000005 L -110.04357570999994,31.952299330000088 L -110.04353640999992,31.955743390000062 L -110.04353462999993,31.955897610000083 L -110.04354831999993,31.959371820000037 L -110.04354892999991,31.95953515000006 L -110.04356259999994,31.96300029000009 L -110.04356322999993,31.96317257 L -110.04357219999994,31.96662977000003 L -110.04357263999995,31.966813160000054 L -110.04358155999994,31.970259470000062 L -110.04358202999995,31.97045377000005 L -110.04357921999996,31.9738891700001 L -110.043579,31.974084360000017 L -110.04357618999992,31.977518870000054 L -110.04357598999995,31.977714670000026 L -110.0435782399999,31.981145630000032 L -110.0435783799999,31.981350510000073 L -110.04358059999996,31.984772380000017 L -110.04358075999993,31.984986320000075 L -110.04358298999992,31.98839911000006 L -110.04358314999993,31.98862213000008 L -110.04358749999992,31.992234390000082 L -110.0426707899999,31.99223652000006 L -110.03923973999994,31.992243240000064 L -110.03840402999995,31.992247260000045 L -110.03498269999992,31.992262 L -110.03413509999993,31.99226564000006 L -110.03072568999991,31.992280910000083 L -110.03072998999991,31.99601877000009 L -110.03073411999995,31.99964086000006 L -110.03073896999993,32.00325826000003 L -110.03074381999991,32.006875660000055 L -110.02650382999994,32.00687796000005 L -110.02226384999992,32.00688022000009 L -110.01802386999995,32.00688252000007 L -110.01378388999993,32.006884810000095 L -110.01377463999992,32.01051224000011 L -110.0137654299999,32.01413970000004 L -110.01375618999995,32.017767130000024 L -110.01374694999996,32.02139456000007 L -110.00948614,32.02139946000006 L -110.00522531999994,32.021404370000056 L -110.00096447999991,32.02140927000009 L -109.9967036699999,32.02141423000005 L -109.99243539999995,32.021440350000084 L -109.9881670899999,32.021466480000065 L -109.9839034899999,32.02144322000002 z\" /></g></g></svg>"
      ],
      "text/plain": [
       "<shapely.geometry.multipolygon.MultiPolygon at 0x1ee531f4f28>"
      ]
     },
     "execution_count": 24,
     "metadata": {},
     "output_type": "execute_result"
    }
   ],
   "source": [
    "geom = feat[\"geometry\"]         # geometry from feature 0\n",
    "sgeom = shape(geom)             # Shapely.geometry.shape\n",
    "bnds = sgeom.bounds             # bounding box around geometry\n",
    "cent = sgeom.centroid           # centroid for geometry\n",
    "\n",
    "sgeom"
   ]
  },
  {
   "cell_type": "markdown",
   "metadata": {},
   "source": [
    "`Shapely` has convenient way to get some spatial metadata about the feature like the centroid and bounding coordinates.\n",
    "\n",
    "* [ipywidgets](https://ipywidgets.readthedocs.io/en/stable/index.html) --- interactive HTML widgets for Jupyter Notebooks and the IPython kernel | [GitHub](https://github.com/jupyter-widgets/ipywidgets)\n",
    "* [ipyleaflet](https://ipyleaflet.readthedocs.io/en/latest/) --- a Jupyter/Leaflet bridge enabling interactive maps inside  notebooks | [GitHub](https://github.com/jupyter-widgets/ipyleaflet)\n",
    "\n",
    "After installing with *pip*, you need to enable the jupyter extensions:\n",
    "```\n",
    "pip install ipywidgets\n",
    "pip install ipyleaflet\n",
    "jupyter nbextension enable --py widgetsnbextension\n",
    "```\n",
    "\n",
    "For now, we learn how to render the geometry as an [`ipyleaflet`](https://ipyleaflet.readthedocs.io/en/latest/) map layer. Create the map in four steps:\n",
    "1. Get a basemap and make a tile layer to display in the map widget. You have a lot of options, including layers available through NASA GIBS: `basemaps.NASAGIBS.ModisTerraTrueColorCR` | [More information](https://ipyleaflet.readthedocs.io/en/latest/api_reference/tile_layer.html)\n",
    "2. [Make a map layer from the GeoJSON feature](https://ipyleaflet.readthedocs.io/en/latest/api_reference/geo_json.html) that we explored earlier.\n",
    "3. Make an [`ipyleaflet.LayerGroup`](https://ipyleaflet.readthedocs.io/en/latest/api_reference/layer_group.html) to store an array of point layers that we will generate in the next step.\n",
    "4. [Initialize the map widget](https://ipyleaflet.readthedocs.io/en/latest/api_reference/map.html) with a tuple of layers, the map center and zoom level."
   ]
  },
  {
   "cell_type": "code",
   "execution_count": 25,
   "metadata": {},
   "outputs": [
    {
     "data": {
      "application/vnd.jupyter.widget-view+json": {
       "model_id": "2e8ad826d98b401c8ae4e6d2e6a348df",
       "version_major": 2,
       "version_minor": 0
      },
      "text/plain": [
       "Map(basemap={'url': 'https://{s}.tile.openstreetmap.org/{z}/{x}/{y}.png', 'max_zoom': 19, 'attribution': 'Map …"
      ]
     },
     "metadata": {},
     "output_type": "display_data"
    }
   ],
   "source": [
    "bmap = mwg.basemap_to_tiles(mwg.basemaps.Esri.WorldImagery) # 1. get a basemap\n",
    "poly = mwg.GeoJSON(data=feat)                               # 2. geojson layer\n",
    "points = mwg.LayerGroup()                                   # 3. points group\n",
    "m1 = mwg.Map(                                               # 4. map widget init\n",
    "    layers=(bmap, poly, points,),  # tuple of map layers\n",
    "    center=(cent.y, cent.x),       # map center (from shapely)\n",
    "    zoom=9)                        # zoom level\n",
    "\n",
    "m1                                 # display the map"
   ]
  },
  {
   "cell_type": "markdown",
   "metadata": {},
   "source": [
    "## the EASE Grid\n",
    "\n",
    "Soil Moisture Visualizer downloads require a lat/lon to select data from 9x9-km cells within [the EASE grid system](https://nsidc.org/data/ease).\n",
    "\n",
    "The next section shows how to select an array coordinates that represent centroids of EASE grid cells that fall within the boundary of the `shapely` shape above. The coordinates can then be used to submit requests for SMV data.\n",
    "      \n",
    "The EASE grid latitudes and longitudes are stored in two binary files:\n",
    "* [docs/EASE2_M09km.lats.3856x1624x1.double](docs/EASE2_M09km.lats.3856x1624x1.double)\n",
    "* [docs/EASE2_M09km.lats.3856x1624x1.double](docs/EASE2_M09km.lats.3856x1624x1.double)\n",
    "\n",
    "Read them to arrays with [`numpy.fromfile`](https://docs.scipy.org/doc/numpy/reference/generated/numpy.fromfile.html), flatten them by calling [`numpy.ndarray.flatten`](https://docs.scipy.org/doc/numpy/reference/generated/numpy.ndarray.flatten.html), and stack them with [`numpy.dstack`](https://docs.scipy.org/doc/numpy/reference/generated/numpy.dstack.html) to make one very long 2-d array of latitude, longitude pairs:"
   ]
  },
  {
   "cell_type": "code",
   "execution_count": 26,
   "metadata": {},
   "outputs": [
    {
     "name": "stdout",
     "output_type": "stream",
     "text": [
      "Array shape: (6262144, 2)\n"
     ]
    },
    {
     "data": {
      "text/plain": [
       "array([[  84.6564188 , -179.9533195 ],\n",
       "       [  84.6564188 , -179.85995851],\n",
       "       [  84.6564188 , -179.76659751],\n",
       "       ...,\n",
       "       [ -84.6564188 ,  179.76659751],\n",
       "       [ -84.6564188 ,  179.85995851],\n",
       "       [ -84.6564188 ,  179.9533195 ]])"
      ]
     },
     "execution_count": 26,
     "metadata": {},
     "output_type": "execute_result"
    }
   ],
   "source": [
    "lats = np.fromfile(\"docs/EASE2_M09km.lats.3856x1624x1.double\", dtype=np.float64).flatten() \n",
    "lons = np.fromfile(\"docs/EASE2_M09km.lons.3856x1624x1.double\", dtype=np.float64).flatten()\n",
    "crds = np.dstack((lats,lons))[0]\n",
    "\n",
    "print(\"Array shape: \"+str(crds.shape)); crds"
   ]
  },
  {
   "cell_type": "markdown",
   "metadata": {},
   "source": [
    "Reduce the giant array using the tuple of `bnds` that we took from the `shapely` geometry earlier:"
   ]
  },
  {
   "cell_type": "code",
   "execution_count": 27,
   "metadata": {},
   "outputs": [
    {
     "name": "stdout",
     "output_type": "stream",
     "text": [
      "The new array shape: (108, 2)\n"
     ]
    }
   ],
   "source": [
    "ease = crds[(bnds[1]<lats)&(lats<bnds[3])&(bnds[0]<lons)&(lons<bnds[2])]\n",
    "\n",
    "print(\"The new array shape: \"+str(ease.shape))"
   ]
  },
  {
   "cell_type": "markdown",
   "metadata": {},
   "source": [
    "So, 108 EASE grid points fall within the minimum rectangular envelope of the geometry. That seems reasonable. Make an [`ipyleaflet.CircleMarker`](https://ipyleaflet.readthedocs.io/en/latest/api_reference/circle_marker.html) for each point and display the updated map widget:"
   ]
  },
  {
   "cell_type": "code",
   "execution_count": 28,
   "metadata": {},
   "outputs": [
    {
     "data": {
      "application/vnd.jupyter.widget-view+json": {
       "model_id": "2e8ad826d98b401c8ae4e6d2e6a348df",
       "version_major": 2,
       "version_minor": 0
      },
      "text/plain": [
       "Map(basemap={'url': 'https://{s}.tile.openstreetmap.org/{z}/{x}/{y}.png', 'max_zoom': 19, 'attribution': 'Map …"
      ]
     },
     "metadata": {},
     "output_type": "display_data"
    }
   ],
   "source": [
    "for p in ease:\n",
    "    pt = mwg.CircleMarker(                       # map point\n",
    "        location=(p[0],p[1]),                    # lat,lon tuple\n",
    "        radius=7,                                # in pixels\n",
    "        stroke=False,\n",
    "        fill_opacity=0.6,\n",
    "        fill_color=\"black\")\n",
    "    points.add_layer(pt)\n",
    "    \n",
    "m1"
   ]
  },
  {
   "cell_type": "markdown",
   "metadata": {},
   "source": [
    "Now eliminate points that fall outside of the actual boundary of the polygon. `shapely.geometry.shape` has a method [`object.contains`](https://shapely.readthedocs.io/en/stable/manual.html) that returns a boolean indicating whether or not it contains an the input x,y. The next cell does the following:\n",
    "1. Clear the points that we added to the map in the last cell.\n",
    "2. Make a simple function `get_point` that returns a `shapely.geometry.shape` for an input lat,lon pair.\n",
    "3. Iterate over the remaining EASE grid points and add to the map widget if shapely *contains* returns True."
   ]
  },
  {
   "cell_type": "code",
   "execution_count": 29,
   "metadata": {
    "scrolled": false
   },
   "outputs": [
    {
     "data": {
      "application/vnd.jupyter.widget-view+json": {
       "model_id": "2e8ad826d98b401c8ae4e6d2e6a348df",
       "version_major": 2,
       "version_minor": 0
      },
      "text/plain": [
       "Map(basemap={'url': 'https://{s}.tile.openstreetmap.org/{z}/{x}/{y}.png', 'max_zoom': 19, 'attribution': 'Map …"
      ]
     },
     "metadata": {},
     "output_type": "display_data"
    }
   ],
   "source": [
    "def get_point(p):\n",
    "    \"\"\"Takes input lat,lon pair; returns a shapely point geometry.\"\"\"\n",
    "    s = shape({\"coordinates\": [p[1], p[0]], \"type\": \"Point\"})\n",
    "    return(s)\n",
    "\n",
    "\n",
    "points.clear_layers()                   # clear the map points\n",
    "for p in ease:                          # loop over remaining EASE points\n",
    "    \n",
    "    spt = get_point([p[0], p[1]])       # get a shapely point\n",
    "    if sgeom.contains(spt):             # if poly contains point, \n",
    "        \n",
    "        pt = mwg.CircleMarker(          # make circle marker\n",
    "            location=(p[0],p[1]),\n",
    "            radius=7,\n",
    "            stroke=False,\n",
    "            fill_opacity=0.6,\n",
    "            fill_color=\"black\")\n",
    "        \n",
    "        points.add_layer(pt)            # add to map\n",
    "        \n",
    "m1"
   ]
  },
  {
   "cell_type": "markdown",
   "metadata": {},
   "source": [
    "Make a function that includes all of the logic above:"
   ]
  },
  {
   "cell_type": "code",
   "execution_count": 30,
   "metadata": {},
   "outputs": [],
   "source": [
    "def get_ease(shapely_geom):\n",
    "    \"\"\"\n",
    "    Takes an input shapely geometry and returns a list of EASE grid \n",
    "    lat,lon pairs that are contained within it.\n",
    "    \"\"\"\n",
    "\n",
    "    bnds = shapely_geom.bounds                # bounding box of input geom\n",
    "    ease = crds[\n",
    "        (bnds[1]<lats) & (lats<bnds[3]) &     # ybnds < lat < ybnds\n",
    "        (bnds[0]<lons) & (lons<bnds[2])]      # xbnds < lon < xbnds\n",
    "\n",
    "    ease_reduced = []\n",
    "    for p in ease:\n",
    "        \n",
    "        shapely_pt = shape({                  # input to shapely.shape is a\n",
    "            \"type\": \"Point\",                  # python dict equivalent of\n",
    "            \"coordinates\": (p[1], p[0])})     # geojson point geometry\n",
    "        \n",
    "        if shapely_geom.contains(shapely_pt): # if point inside poly\n",
    "            ease_reduced.append([p[0], p[1]]) # return lat, lon tuple\n",
    "\n",
    "    return(ease_reduced)"
   ]
  },
  {
   "cell_type": "markdown",
   "metadata": {},
   "source": [
    "## Download SMV data with `requests`\n",
    "Each request to SMV takes a latitude `&lt` and longitude `&ln`. This request is for (30,-100):       \n",
    "https://daac.ornl.gov/cgi-bin/viz/download.pl?lt=30&ln=-100&d=smap"
   ]
  },
  {
   "cell_type": "code",
   "execution_count": 33,
   "metadata": {},
   "outputs": [
    {
     "name": "stdout",
     "output_type": "stream",
     "text": [
      "base url: https://airmoss.ornl.gov/cgi-bin/viz/api/download.pl?\n",
      "full url: https://airmoss.ornl.gov/cgi-bin/viz/api/download.pl?lt=32.0802909170736&ln=-110.02593360995849&d=smap\n"
     ]
    }
   ],
   "source": [
    "lt, ln = ease[0]                                               # first EASE point\n",
    "url = \"https://airmoss.ornl.gov/cgi-bin/viz/api/download.pl?\"  # SMV download url\n",
    "request_url = url+\"lt={lt}&ln={ln}&d=smap\".format(lt=lt,ln=ln) # complete request url\n",
    "\n",
    "print(\"base url: \"+url); print(\"full url: \"+request_url)"
   ]
  },
  {
   "cell_type": "markdown",
   "metadata": {},
   "source": [
    "Now use [`requests.get`](https://2.python-requests.org//en/master/user/quickstart/) (*note: use `session` from the Earthdata authentication at the very beginning of the notebook*) to download the data from the URL and print the first ten lines:"
   ]
  },
  {
   "cell_type": "code",
   "execution_count": 36,
   "metadata": {},
   "outputs": [
    {
     "name": "stdout",
     "output_type": "stream",
     "text": [
      "Filename: daily-smap-ORNL-DAAC-XXXXXX\n",
      "\n",
      "Data_Set_Name: Daily soil moisture and ancillary datasets. Data columns are delineated by commas. The values in each column when separated by semicolons represent the daily range as 'min; mean; max'.\n",
      "\n",
      "Location: 32.0802909170736, -110.02593360995849\n",
      "\n",
      "Citation: ORNL DAAC. 2017. Soil Moisture Visualizer. ORNL DAAC, Oak Ridge, Tennessee, USA. http://dx.doi.org/10.3334/ORNLDAAC/1366\n",
      "\n",
      "\n",
      "\n",
      "\n",
      "\n",
      "time,SoilSCAPE_surface,SoilSCAPE_rootzone,AirMOSS_L2_3_surface,AirMOSS_L2_3_rootzone,AirMOSS_L4_rootzone,SMAP_surface,SMAP_rootzone,NEE_mean,GPP_mean,prcp,tmax,tmin,ET,LST_Day,LST_Night,EVI,AirMOSS_in-ground_surface,AirMOSS_in-ground_rootzone,COSMOS_surface,COSMOS_rootzone,CRN_surface,CRN_rootzone,SCAN_surface,SCAN_rootzone,SNOTEL_surface,SNOTEL_rootzone,GRACE_surface_pctl,GRACE_rootzone_pctl\r\n",
      "\n",
      "2002-04-01,;;,;;,;;,;;,;;,;;,;;,;;,;;,;;,;;,;;,;;,;;,;;,;;,;;,;;,;;,;;,;;,;;,;;,;;,;;,;;,;0.72;,;2.92;\r\n",
      "\n",
      "2002-04-02,;;,;;,;;,;;,;;,;;,;;,;;,;;,;;,;;,;;,;;,;;,;;,;;,;;,;;,;;,;;,;;,;;,;;,;;,;;,;;,;;,;;\r\n",
      "\n",
      "2002-04-03,;;,;;,;;,;;,;;,;;,;;,;;,;;,;;,;;,;;,;;,;;,;;,;;,;;,;;,;;,;;,;;,;;,;;,;;,;;,;;,;;,;;\r\n",
      "\n"
     ]
    }
   ],
   "source": [
    "r = session.get(request_url)\n",
    "f = StringIO(r.text)\n",
    "\n",
    "print(\"\\n\".join(f.readlines()[0:10]))"
   ]
  },
  {
   "cell_type": "markdown",
   "metadata": {},
   "source": [
    "You can use the same methods that we covered at the beginning to parse the text to a pandas data frame. We will take that one step further in the next section as we prepare to add another dimension to our SMV dataset.\n",
    "\n",
    "## Reformat SMV data as a netCDF-like `xarray.Dataset`\n",
    "\n",
    "Now make an xarray dataset. Start with the two functions below, `txt_to_pd` and `split_pd`. They do all of the SMV data processing that we've covered to this to point: \n",
    "* convert the request response to a text object; \n",
    "* parse the text to a `pandas` data frame; and,\n",
    "* parse the columns of `min;mean;max` into three new columns.\n",
    "\n",
    "Test them on the dataset that we downloaded before:"
   ]
  },
  {
   "cell_type": "code",
   "execution_count": 37,
   "metadata": {},
   "outputs": [],
   "source": [
    "def txt_to_pd(response_text):\n",
    "    \"\"\"Parses response.text to data frame with date index.\"\"\"\n",
    "    \n",
    "    f = StringIO(response_text)                          # get file from string\n",
    "    df = pd.read_csv(f, header=4, index_col=\"time\")      # read to df\n",
    "    df.index = pd.to_datetime(df.index)                  # convert index to dates\n",
    "    \n",
    "    return(df)\n",
    "\n",
    "\n",
    "def split_pd(col):\n",
    "    \"\"\"Splits pd column by ; and set all values to float, nan.\"\"\"\n",
    "    \n",
    "    df = col.str.split(\";\",n=2,expand=True)              # split col by ;\n",
    "    df = df.replace('', np.nan)                          # set '' to nan\n",
    "    df = df.astype(float)                                # set all to float\n",
    "    df.columns = [\"Min\",\"Mean\",\"Max\"]                    # add column names\n",
    "    \n",
    "    return(df)\n",
    "\n",
    "df = txt_to_pd(r.text)\n",
    "df.index = pd.to_datetime(df.index)\n",
    "dfs = {col: split_pd(df[col]) for col in df.columns}     # loop over cols and split to dfs"
   ]
  },
  {
   "cell_type": "markdown",
   "metadata": {},
   "source": [
    "Make some *coordinate* variables that simplify indexing the data. This cell demonstrates how to make three [`xarray.DataArrays`](http://xarray.pydata.org/en/stable/generated/xarray.DataArray.html#xarray.DataArray) that represent:\n",
    "1. sample dimension --- lat,lon pairs organized along sample dimension\n",
    "2. latitude dimension, 3. longitude dimension --- one pair per sample"
   ]
  },
  {
   "cell_type": "code",
   "execution_count": 39,
   "metadata": {},
   "outputs": [
    {
     "data": {
      "text/plain": [
       "<xarray.DataArray (sample: 1)>\n",
       "array([32.080291])\n",
       "Coordinates:\n",
       "  * sample   (sample) int32 1\n",
       "Attributes:\n",
       "    standard_name:  latitude\n",
       "    long_name:      sample latitude\n",
       "    units:          degrees_north"
      ]
     },
     "execution_count": 39,
     "metadata": {},
     "output_type": "execute_result"
    }
   ],
   "source": [
    "latatts = dict(                                     # CF attributes for latitude\n",
    "    standard_name=\"latitude\",\n",
    "    long_name=\"sample latitude\",\n",
    "    units=\"degrees_north\")\n",
    "\n",
    "lonatts = dict(                                     # CF attributes for longitude\n",
    "    standard_name=\"latitude\",\n",
    "    long_name=\"sample latitude\",\n",
    "    units=\"degrees_north\")\n",
    "\n",
    "s = xr.DataArray(data=[1], dims=[\"sample\"])                                  # 1. \n",
    "latarr = xr.DataArray(data=[lt], coords=[s], dims=[\"sample\"], attrs=latatts) # 2.\n",
    "lonarr = xr.DataArray(data=[ln], coords=[s], dims=[\"sample\"], attrs=lonatts) # 3. \n",
    "\n",
    "latarr"
   ]
  },
  {
   "cell_type": "markdown",
   "metadata": {},
   "source": [
    "The function below converts SMV downloads (as data frames) to an `xarray.DataArray` with three dimensions: the sample dimension (length=1), the time dimension (length=n), and the *stat* dimension, which really only exists because it allows us to keep all of the data in one place. Steps:\n",
    "\n",
    "1. Collect from the SMV datasets table a list of attributes to assign to the array; \n",
    "2. convert the `pandas.DataFrame` to `xarray` \n",
    "3. rename the new dimension to \"stat\"; and, \n",
    "4. set new attribute that indicates whether or not there's valid data;"
   ]
  },
  {
   "cell_type": "code",
   "execution_count": 47,
   "metadata": {},
   "outputs": [],
   "source": [
    "def pd_to_xr(dataset, df):\n",
    "    \"\"\"Makes an xr.Dataset from a pandas column (series) and coords.\"\"\"\n",
    "    \n",
    "    a = smv_datasets.loc[dataset].to_dict()                 # 1.\n",
    "    x = xr.DataArray(df, name=dataset, attrs=a)             # 2.\n",
    "    x = x.rename(dict(dim_1=\"stat\"))                        # 3.\n",
    "    x.attrs[\"allnan\"] = int(x.isnull().all())               # 4.\n",
    "    \n",
    "    return(x)"
   ]
  },
  {
   "cell_type": "markdown",
   "metadata": {},
   "source": [
    "Loop over the dictionary of data frames, here's the first one:"
   ]
  },
  {
   "cell_type": "code",
   "execution_count": 48,
   "metadata": {},
   "outputs": [
    {
     "data": {
      "text/plain": [
       "<xarray.Dataset>\n",
       "Dimensions:                     (sample: 1, stat: 3, time: 6192)\n",
       "Coordinates:\n",
       "  * time                        (time) datetime64[ns] 2002-04-01 ... 2019-03-14\n",
       "  * stat                        (stat) object 'Min' 'Mean' 'Max'\n",
       "  * sample                      (sample) int32 1\n",
       "    lat                         (sample) float64 32.08\n",
       "    lon                         (sample) float64 -110.0\n",
       "Data variables:\n",
       "    SoilSCAPE_surface           (time, stat) float64 nan nan nan ... nan nan nan\n",
       "    SoilSCAPE_rootzone          (time, stat) float64 nan nan nan ... nan nan nan\n",
       "    AirMOSS_L2_3_surface        (time, stat) float64 nan nan nan ... nan nan nan\n",
       "    AirMOSS_L2_3_rootzone       (time, stat) float64 nan nan nan ... nan nan nan\n",
       "    AirMOSS_L4_rootzone         (time, stat) float64 nan nan nan ... nan nan nan\n",
       "    SMAP_surface                (time, stat) float64 nan nan nan ... 24.15 24.98\n",
       "    SMAP_rootzone               (time, stat) float64 nan nan nan ... 23.48 23.75\n",
       "    NEE_mean                    (time, stat) float64 nan nan ... -0.007 0.056\n",
       "    GPP_mean                    (time, stat) float64 nan nan nan ... 0.755 0.836\n",
       "    prcp                        (time, stat) float64 nan nan nan ... nan nan nan\n",
       "    tmax                        (time, stat) float64 nan nan nan ... nan nan nan\n",
       "    tmin                        (time, stat) float64 nan nan nan ... nan nan nan\n",
       "    ET                          (time, stat) float64 nan nan nan ... nan nan nan\n",
       "    LST_Day                     (time, stat) float64 nan nan nan ... nan nan nan\n",
       "    LST_Night                   (time, stat) float64 nan nan nan ... nan nan nan\n",
       "    EVI                         (time, stat) float64 nan nan nan ... nan nan nan\n",
       "    AirMOSS_in-ground_surface   (time, stat) float64 nan nan nan ... nan nan nan\n",
       "    AirMOSS_in-ground_rootzone  (time, stat) float64 nan nan nan ... nan nan nan\n",
       "    COSMOS_surface              (time, stat) float64 nan nan nan ... nan nan nan\n",
       "    COSMOS_rootzone             (time, stat) float64 nan nan nan ... nan nan nan\n",
       "    CRN_surface                 (time, stat) float64 nan nan nan ... nan nan nan\n",
       "    CRN_rootzone                (time, stat) float64 nan nan nan ... nan nan nan\n",
       "    SCAN_surface                (time, stat) float64 nan nan nan ... nan nan nan\n",
       "    SCAN_rootzone               (time, stat) float64 nan nan nan ... nan nan nan\n",
       "    SNOTEL_surface              (time, stat) float64 nan nan nan ... nan nan nan\n",
       "    SNOTEL_rootzone             (time, stat) float64 nan nan nan ... nan nan nan\n",
       "    GRACE_surface_pctl          (time, stat) float64 nan 0.72 nan ... nan nan\n",
       "    GRACE_rootzone_pctl         (time, stat) float64 nan 2.92 nan ... nan nan"
      ]
     },
     "execution_count": 48,
     "metadata": {},
     "output_type": "execute_result"
    }
   ],
   "source": [
    "ds = {c: pd_to_xr(c,d) for c,d in dfs.items()}\n",
    "xds = xr.merge(ds.values())\n",
    "xds = xds.assign_coords(lat=latarr, lon=lonarr)\n",
    "xds"
   ]
  },
  {
   "cell_type": "markdown",
   "metadata": {},
   "source": [
    "And this is what a single SMV dataset looks like:"
   ]
  },
  {
   "cell_type": "code",
   "execution_count": 49,
   "metadata": {},
   "outputs": [
    {
     "data": {
      "text/plain": [
       "<xarray.DataArray 'SMAP_surface' (time: 6192, stat: 3)>\n",
       "array([[  nan,   nan,   nan],\n",
       "       [  nan,   nan,   nan],\n",
       "       [  nan,   nan,   nan],\n",
       "       ...,\n",
       "       [20.88, 26.94, 32.55],\n",
       "       [25.8 , 28.44, 30.58],\n",
       "       [21.9 , 24.15, 24.98]])\n",
       "Coordinates:\n",
       "  * time     (time) datetime64[ns] 2002-04-01 2002-04-02 ... 2019-03-14\n",
       "  * stat     (stat) object 'Min' 'Mean' 'Max'\n",
       "Attributes:\n",
       "    source:         SMAP\n",
       "    type:           spaceborne\n",
       "    units:          m3/m3\n",
       "    description:    Mean vol (%) soil moisture at 0-5cm \n",
       "    soil_zone:      surface\n",
       "    soil_depth:     0-5, 0-100 cm\n",
       "    native_res:     9000-m \n",
       "    time_coverage:  2015-present\n",
       "    allnan:         0"
      ]
     },
     "execution_count": 49,
     "metadata": {},
     "output_type": "execute_result"
    }
   ],
   "source": [
    "xds[\"SMAP_surface\"]"
   ]
  },
  {
   "cell_type": "markdown",
   "metadata": {},
   "source": [
    "Select data by dimension:"
   ]
  },
  {
   "cell_type": "code",
   "execution_count": 58,
   "metadata": {
    "scrolled": false
   },
   "outputs": [
    {
     "data": {
      "text/plain": [
       "<xarray.Dataset>\n",
       "Dimensions:                     (sample: 1, time: 6192)\n",
       "Coordinates:\n",
       "  * time                        (time) datetime64[ns] 2002-04-01 ... 2019-03-14\n",
       "  * sample                      (sample) int32 1\n",
       "    lat                         (sample) float64 32.08\n",
       "    lon                         (sample) float64 -110.0\n",
       "Data variables:\n",
       "    SoilSCAPE_surface           (time) float64 nan nan nan nan ... nan nan nan\n",
       "    SoilSCAPE_rootzone          (time) float64 nan nan nan nan ... nan nan nan\n",
       "    AirMOSS_L2_3_surface        (time) float64 nan nan nan nan ... nan nan nan\n",
       "    AirMOSS_L2_3_rootzone       (time) float64 nan nan nan nan ... nan nan nan\n",
       "    AirMOSS_L4_rootzone         (time) float64 nan nan nan nan ... nan nan nan\n",
       "    SMAP_surface                (time) float64 nan nan nan ... 26.94 28.44 24.15\n",
       "    SMAP_rootzone               (time) float64 nan nan nan ... 21.72 24.32 23.48\n",
       "    NEE_mean                    (time) float64 nan nan nan ... 0.042 -0.007\n",
       "    GPP_mean                    (time) float64 nan nan nan ... 0.599 0.758 0.755\n",
       "    prcp                        (time) float64 nan nan nan nan ... nan nan nan\n",
       "    tmax                        (time) float64 nan nan nan nan ... nan nan nan\n",
       "    tmin                        (time) float64 nan nan nan nan ... nan nan nan\n",
       "    ET                          (time) float64 nan nan nan nan ... nan nan nan\n",
       "    LST_Day                     (time) float64 nan nan nan nan ... nan nan nan\n",
       "    LST_Night                   (time) float64 nan nan nan nan ... nan nan nan\n",
       "    EVI                         (time) float64 nan nan nan nan ... nan nan nan\n",
       "    AirMOSS_in-ground_surface   (time) float64 nan nan nan nan ... nan nan nan\n",
       "    AirMOSS_in-ground_rootzone  (time) float64 nan nan nan nan ... nan nan nan\n",
       "    COSMOS_surface              (time) float64 nan nan nan nan ... nan nan nan\n",
       "    COSMOS_rootzone             (time) float64 nan nan nan nan ... nan nan nan\n",
       "    CRN_surface                 (time) float64 nan nan nan nan ... nan nan nan\n",
       "    CRN_rootzone                (time) float64 nan nan nan nan ... nan nan nan\n",
       "    SCAN_surface                (time) float64 nan nan nan nan ... nan nan nan\n",
       "    SCAN_rootzone               (time) float64 nan nan nan nan ... nan nan nan\n",
       "    SNOTEL_surface              (time) float64 nan nan nan nan ... nan nan nan\n",
       "    SNOTEL_rootzone             (time) float64 nan nan nan nan ... nan nan nan\n",
       "    GRACE_surface_pctl          (time) float64 0.72 nan nan nan ... nan nan nan\n",
       "    GRACE_rootzone_pctl         (time) float64 2.92 nan nan nan ... nan nan nan"
      ]
     },
     "execution_count": 58,
     "metadata": {},
     "output_type": "execute_result"
    }
   ],
   "source": [
    "pds = xds.sel(stat=\"Mean\", drop=True)\n",
    "pds"
   ]
  },
  {
   "cell_type": "markdown",
   "metadata": {},
   "source": [
    "Pick variables by attribute with [`xarray.Dataset.filter_by_attrs`](http://xarray.pydata.org/en/stable/generated/xarray.Dataset.filter_by_attrs.html#xarray.Dataset.filter_by_attrs):"
   ]
  },
  {
   "cell_type": "code",
   "execution_count": 52,
   "metadata": {},
   "outputs": [
    {
     "data": {
      "text/plain": [
       "<xarray.Dataset>\n",
       "Dimensions:        (time: 6192)\n",
       "Coordinates:\n",
       "  * time           (time) datetime64[ns] 2002-04-01 2002-04-02 ... 2019-03-14\n",
       "Data variables:\n",
       "    SMAP_surface   (time) float64 nan nan nan nan ... 18.42 26.94 28.44 24.15\n",
       "    SMAP_rootzone  (time) float64 nan nan nan nan ... 20.69 21.72 24.32 23.48"
      ]
     },
     "execution_count": 52,
     "metadata": {},
     "output_type": "execute_result"
    }
   ],
   "source": [
    "pds.filter_by_attrs(units=\"m3/m3\")"
   ]
  },
  {
   "cell_type": "code",
   "execution_count": 53,
   "metadata": {},
   "outputs": [
    {
     "name": "stdout",
     "output_type": "stream",
     "text": [
      "['m3/m3', 'g m-2 d-1', '%']\n"
     ]
    }
   ],
   "source": [
    "units = list(set([pds[d].attrs[\"units\"] for d in pds]))\n",
    "print(units)"
   ]
  },
  {
   "cell_type": "code",
   "execution_count": 60,
   "metadata": {
    "scrolled": false
   },
   "outputs": [
    {
     "data": {
      "text/plain": [
       "Text(0.5, 1.0, 'SMAP: Soil moisture at rootzone (1) and surface (2) depths; GPP and NEE (3)')"
      ]
     },
     "execution_count": 60,
     "metadata": {},
     "output_type": "execute_result"
    },
    {
     "data": {
      "image/png": "[encoded data removed]",
      "text/plain": [
       "<Figure size 1296x864 with 3 Axes>"
      ]
     },
     "metadata": {
      "needs_background": "light"
     },
     "output_type": "display_data"
    }
   ],
   "source": [
    "fig, axs = plt.subplots(nrows=3, ncols=1, sharex=True, figsize=(18, 12))\n",
    "fig.tight_layout()\n",
    "plt.subplots_adjust(hspace=0.000)\n",
    "\n",
    "smap = xds.filter_by_attrs(source=\"SMAP\")                                        # get SMAP datasets\n",
    "\n",
    "for p in [(\"SMAP_surface\", 0, \"black\"), (\"SMAP_rootzone\", 1, \"black\"), \n",
    "          (\"GPP_mean\", 2, None), (\"NEE_mean\", 2, None)]:\n",
    "    ax = axs[p[1]]\n",
    "    data = smap[p[0]]\n",
    "    desc = data.attrs[\"description\"]\n",
    "    \n",
    "    data.plot.line(x=\"time\", ax=ax, label=desc, add_legend=False, color=p[2])\n",
    "\n",
    "for i, a in enumerate(axs):\n",
    "    ylab = \"m3/m3\" if i<2 else \"g m-2 d-1\"\n",
    "    a.set_ylabel(ylab)\n",
    "    a.set_xlabel(None)\n",
    "    a.grid('on', alpha=0.25)\n",
    "    a.legend(loc=0, framealpha=1)\n",
    "    \n",
    "axs[0].set_title(\"SMAP: Soil moisture at rootzone (1) and surface (2) depths; GPP and NEE (3)\")"
   ]
  },
  {
   "cell_type": "markdown",
   "metadata": {},
   "source": [
    "We can also filter by any of the other attribute(s) that we assigned from the SMV datasets table:"
   ]
  },
  {
   "cell_type": "code",
   "execution_count": 61,
   "metadata": {},
   "outputs": [
    {
     "data": {
      "text/plain": [
       "<xarray.Dataset>\n",
       "Dimensions:        (time: 6192)\n",
       "Coordinates:\n",
       "  * time           (time) datetime64[ns] 2002-04-01 2002-04-02 ... 2019-03-14\n",
       "Data variables:\n",
       "    SMAP_rootzone  (time) float64 nan nan nan nan ... 20.69 21.72 24.32 23.48"
      ]
     },
     "execution_count": 61,
     "metadata": {},
     "output_type": "execute_result"
    }
   ],
   "source": [
    "pds.filter_by_attrs(source=\"SMAP\", soil_zone=\"rootzone\")"
   ]
  },
  {
   "cell_type": "markdown",
   "metadata": {},
   "source": [
    "### Slice/filter using dimension-based criteria\n",
    "the *time* dimension:"
   ]
  },
  {
   "cell_type": "code",
   "execution_count": 63,
   "metadata": {},
   "outputs": [
    {
     "name": "stdout",
     "output_type": "stream",
     "text": [
      "2002-04-11T00:00:00.000000000\n",
      "2002-04-21T00:00:00.000000000\n"
     ]
    },
    {
     "data": {
      "text/plain": [
       "<xarray.Dataset>\n",
       "Dimensions:                     (sample: 1, time: 11)\n",
       "Coordinates:\n",
       "  * time                        (time) datetime64[ns] 2002-04-11 ... 2002-04-21\n",
       "  * sample                      (sample) int32 1\n",
       "    lat                         (sample) float64 32.08\n",
       "    lon                         (sample) float64 -110.0\n",
       "Data variables:\n",
       "    SoilSCAPE_surface           (time) float64 nan nan nan nan ... nan nan nan\n",
       "    SoilSCAPE_rootzone          (time) float64 nan nan nan nan ... nan nan nan\n",
       "    AirMOSS_L2_3_surface        (time) float64 nan nan nan nan ... nan nan nan\n",
       "    AirMOSS_L2_3_rootzone       (time) float64 nan nan nan nan ... nan nan nan\n",
       "    AirMOSS_L4_rootzone         (time) float64 nan nan nan nan ... nan nan nan\n",
       "    SMAP_surface                (time) float64 nan nan nan nan ... nan nan nan\n",
       "    SMAP_rootzone               (time) float64 nan nan nan nan ... nan nan nan\n",
       "    NEE_mean                    (time) float64 nan nan nan nan ... nan nan nan\n",
       "    GPP_mean                    (time) float64 nan nan nan nan ... nan nan nan\n",
       "    prcp                        (time) float64 nan nan nan nan ... nan nan nan\n",
       "    tmax                        (time) float64 nan nan nan nan ... nan nan nan\n",
       "    tmin                        (time) float64 nan nan nan nan ... nan nan nan\n",
       "    ET                          (time) float64 nan nan nan nan ... nan nan nan\n",
       "    LST_Day                     (time) float64 nan nan nan nan ... nan nan nan\n",
       "    LST_Night                   (time) float64 nan nan nan nan ... nan nan nan\n",
       "    EVI                         (time) float64 nan nan nan nan ... nan nan nan\n",
       "    AirMOSS_in-ground_surface   (time) float64 nan nan nan nan ... nan nan nan\n",
       "    AirMOSS_in-ground_rootzone  (time) float64 nan nan nan nan ... nan nan nan\n",
       "    COSMOS_surface              (time) float64 nan nan nan nan ... nan nan nan\n",
       "    COSMOS_rootzone             (time) float64 nan nan nan nan ... nan nan nan\n",
       "    CRN_surface                 (time) float64 nan nan nan nan ... nan nan nan\n",
       "    CRN_rootzone                (time) float64 nan nan nan nan ... nan nan nan\n",
       "    SCAN_surface                (time) float64 nan nan nan nan ... nan nan nan\n",
       "    SCAN_rootzone               (time) float64 nan nan nan nan ... nan nan nan\n",
       "    SNOTEL_surface              (time) float64 nan nan nan nan ... nan nan nan\n",
       "    SNOTEL_rootzone             (time) float64 nan nan nan nan ... nan nan nan\n",
       "    GRACE_surface_pctl          (time) float64 nan nan nan nan ... nan nan nan\n",
       "    GRACE_rootzone_pctl         (time) float64 nan nan nan nan ... nan nan nan"
      ]
     },
     "execution_count": 63,
     "metadata": {},
     "output_type": "execute_result"
    }
   ],
   "source": [
    "time = pds.time.data\n",
    "print(time[10]); print(time[20])\n",
    "\n",
    "pds.sel(time=slice(time[10],time[20]))"
   ]
  }
 ],
 "metadata": {
  "kernelspec": {
   "display_name": "Python 3",
   "language": "python",
   "name": "python3"
  },
  "language_info": {
   "codemirror_mode": {
    "name": "ipython",
    "version": 3
   },
   "file_extension": ".py",
   "mimetype": "text/x-python",
   "name": "python",
   "nbconvert_exporter": "python",
   "pygments_lexer": "ipython3",
   "version": "3.7.1"
  }
 },
 "nbformat": 4,
 "nbformat_minor": 2
}
