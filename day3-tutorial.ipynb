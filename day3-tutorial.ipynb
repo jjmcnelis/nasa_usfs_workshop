{
 "cells": [
  {
   "cell_type": "markdown",
   "metadata": {},
   "source": [
    "## NASA Earthdata Login Required\n",
    "An Earthdata account is required to access data through the Soil Moisture Visualizer (SMV). Run the cell below to be prompted for your username and password. A link will be displayed for new users to register an account:"
   ]
  },
  {
   "cell_type": "code",
   "execution_count": null,
   "metadata": {},
   "outputs": [],
   "source": [
    "from earthdata_login_jupyter import *"
   ]
  },
  {
   "cell_type": "markdown",
   "metadata": {},
   "source": [
    "## quick demo\n",
    "* Click a USFS study region to submit a series of download requests to the SMV. \n",
    "* Toggle sample locations on and off by clicking the markers on the map. Plots will be updated to reflect the reduced dataset.\n",
    "\n",
    "(insert an explanatory figure)"
   ]
  },
  {
   "cell_type": "code",
   "execution_count": 6,
   "metadata": {
    "scrolled": false
   },
   "outputs": [
    {
     "data": {
      "application/vnd.jupyter.widget-view+json": {
       "model_id": "17d831e604ed4ce48aa99162617c4765",
       "version_major": 2,
       "version_minor": 0
      },
      "text/plain": [
       "VBox(children=(Map(basemap={'url': 'https://{s}.tile.openstreetmap.org/{z}/{x}/{y}.png', 'max_zoom': 19, 'attr…"
      ]
     },
     "metadata": {},
     "output_type": "display_data"
    }
   ],
   "source": [
    "%matplotlib inline\n",
    "\n",
    "from demo_application import *\n",
    "plt.rcParams['figure.figsize'] = [15, 5]    # matplotlib figure size default\n",
    "\n",
    "app = JupyterSMV(in_features=\"docs/usfs_sites/Sites_lf_geo.json\")\n",
    "app.ui"
   ]
  },
  {
   "cell_type": "markdown",
   "metadata": {},
   "source": [
    "Here is the table that organizes the USFS site polygons:"
   ]
  },
  {
   "cell_type": "code",
   "execution_count": 7,
   "metadata": {},
   "outputs": [
    {
     "data": {
      "text/html": [
       "<div>\n",
       "<style scoped>\n",
       "    .dataframe tbody tr th:only-of-type {\n",
       "        vertical-align: middle;\n",
       "    }\n",
       "\n",
       "    .dataframe tbody tr th {\n",
       "        vertical-align: top;\n",
       "    }\n",
       "\n",
       "    .dataframe thead th {\n",
       "        text-align: right;\n",
       "    }\n",
       "</style>\n",
       "<table border=\"1\" class=\"dataframe\">\n",
       "  <thead>\n",
       "    <tr style=\"text-align: right;\">\n",
       "      <th></th>\n",
       "      <th>id</th>\n",
       "      <th>lat</th>\n",
       "      <th>lon</th>\n",
       "      <th>layer</th>\n",
       "      <th>samples</th>\n",
       "      <th>points</th>\n",
       "      <th>xr</th>\n",
       "    </tr>\n",
       "  </thead>\n",
       "  <tbody>\n",
       "    <tr>\n",
       "      <th>0</th>\n",
       "      <td>0</td>\n",
       "      <td>31.774734</td>\n",
       "      <td>-109.327589</td>\n",
       "      <td>&lt;demo_application.Layer object at 0x7f3af3b8e278&gt;</td>\n",
       "      <td>id        lat         lon  \\\n",
       "0    0  32.08...</td>\n",
       "      <td>LayerGroup(layers=(CircleMarker(color='white',...</td>\n",
       "      <td>[SoilSCAPE_surface, SoilSCAPE_rootzone, AirMOS...</td>\n",
       "    </tr>\n",
       "    <tr>\n",
       "      <th>1</th>\n",
       "      <td>1</td>\n",
       "      <td>31.505073</td>\n",
       "      <td>-110.536967</td>\n",
       "      <td>&lt;demo_application.Layer object at 0x7f3af1c89470&gt;</td>\n",
       "      <td>id        lat         lon  \\\n",
       "0    0  31.83...</td>\n",
       "      <td>LayerGroup(layers=(CircleMarker(color='white',...</td>\n",
       "      <td>[SoilSCAPE_surface, SoilSCAPE_rootzone, AirMOS...</td>\n",
       "    </tr>\n",
       "    <tr>\n",
       "      <th>2</th>\n",
       "      <td>2</td>\n",
       "      <td>33.653808</td>\n",
       "      <td>-108.566810</td>\n",
       "      <td>&lt;demo_application.Layer object at 0x7f3af1c9e048&gt;</td>\n",
       "      <td>id        lat         lon  \\\n",
       "0    0  33.84...</td>\n",
       "      <td>LayerGroup(layers=(CircleMarker(color='white',...</td>\n",
       "      <td>[SoilSCAPE_surface, SoilSCAPE_rootzone, AirMOS...</td>\n",
       "    </tr>\n",
       "    <tr>\n",
       "      <th>3</th>\n",
       "      <td>3</td>\n",
       "      <td>35.298089</td>\n",
       "      <td>-111.641646</td>\n",
       "      <td>&lt;demo_application.Layer object at 0x7f3af1c0bcf8&gt;</td>\n",
       "      <td>id        lat         lon  \\\n",
       "0    0  35.55...</td>\n",
       "      <td>LayerGroup(layers=(CircleMarker(color='white',...</td>\n",
       "      <td>[SoilSCAPE_surface, SoilSCAPE_rootzone, AirMOS...</td>\n",
       "    </tr>\n",
       "    <tr>\n",
       "      <th>4</th>\n",
       "      <td>4</td>\n",
       "      <td>33.996685</td>\n",
       "      <td>-108.673179</td>\n",
       "      <td>&lt;demo_application.Layer object at 0x7f3af1c3a400&gt;</td>\n",
       "      <td>id        lat         lon  \\\n",
       "0    0  34.17...</td>\n",
       "      <td>LayerGroup(layers=(CircleMarker(color='white',...</td>\n",
       "      <td>[SoilSCAPE_surface, SoilSCAPE_rootzone, AirMOS...</td>\n",
       "    </tr>\n",
       "    <tr>\n",
       "      <th>5</th>\n",
       "      <td>5</td>\n",
       "      <td>34.020165</td>\n",
       "      <td>-109.401942</td>\n",
       "      <td>&lt;demo_application.Layer object at 0x7f3af1baa208&gt;</td>\n",
       "      <td>id        lat         lon  \\\n",
       "0    0  34.17...</td>\n",
       "      <td>LayerGroup(layers=(CircleMarker(color='white',...</td>\n",
       "      <td>[SoilSCAPE_surface, SoilSCAPE_rootzone, AirMOS...</td>\n",
       "    </tr>\n",
       "    <tr>\n",
       "      <th>6</th>\n",
       "      <td>6</td>\n",
       "      <td>47.606681</td>\n",
       "      <td>-103.517068</td>\n",
       "      <td>&lt;demo_application.Layer object at 0x7f3af1baad30&gt;</td>\n",
       "      <td>id        lat         lon  \\\n",
       "0    0  48.10...</td>\n",
       "      <td>LayerGroup(layers=(CircleMarker(color='white',...</td>\n",
       "      <td>[SoilSCAPE_surface, SoilSCAPE_rootzone, AirMOS...</td>\n",
       "    </tr>\n",
       "    <tr>\n",
       "      <th>7</th>\n",
       "      <td>7</td>\n",
       "      <td>46.752166</td>\n",
       "      <td>-103.556410</td>\n",
       "      <td>&lt;demo_application.Layer object at 0x7f3af1c72d30&gt;</td>\n",
       "      <td>id        lat         lon  \\\n",
       "0    0  47.27...</td>\n",
       "      <td>LayerGroup(layers=(CircleMarker(color='white',...</td>\n",
       "      <td>[SoilSCAPE_surface, SoilSCAPE_rootzone, AirMOS...</td>\n",
       "    </tr>\n",
       "    <tr>\n",
       "      <th>8</th>\n",
       "      <td>8</td>\n",
       "      <td>37.714688</td>\n",
       "      <td>-106.863892</td>\n",
       "      <td>&lt;demo_application.Layer object at 0x7f3af1bde7b8&gt;</td>\n",
       "      <td>id        lat         lon  \\\n",
       "0    0  37.91...</td>\n",
       "      <td>LayerGroup(layers=(CircleMarker(color='white',...</td>\n",
       "      <td>[SoilSCAPE_surface, SoilSCAPE_rootzone, AirMOS...</td>\n",
       "    </tr>\n",
       "    <tr>\n",
       "      <th>9</th>\n",
       "      <td>9</td>\n",
       "      <td>37.337869</td>\n",
       "      <td>-103.076888</td>\n",
       "      <td>&lt;demo_application.Layer object at 0x7f3af1a5c080&gt;</td>\n",
       "      <td>id        lat         lon  \\\n",
       "0    0  37.82...</td>\n",
       "      <td>LayerGroup(layers=(CircleMarker(color='white',...</td>\n",
       "      <td>[SoilSCAPE_surface, SoilSCAPE_rootzone, AirMOS...</td>\n",
       "    </tr>\n",
       "  </tbody>\n",
       "</table>\n",
       "</div>"
      ],
      "text/plain": [
       "   id        lat         lon  \\\n",
       "0   0  31.774734 -109.327589   \n",
       "1   1  31.505073 -110.536967   \n",
       "2   2  33.653808 -108.566810   \n",
       "3   3  35.298089 -111.641646   \n",
       "4   4  33.996685 -108.673179   \n",
       "5   5  34.020165 -109.401942   \n",
       "6   6  47.606681 -103.517068   \n",
       "7   7  46.752166 -103.556410   \n",
       "8   8  37.714688 -106.863892   \n",
       "9   9  37.337869 -103.076888   \n",
       "\n",
       "                                               layer  \\\n",
       "0  <demo_application.Layer object at 0x7f3af3b8e278>   \n",
       "1  <demo_application.Layer object at 0x7f3af1c89470>   \n",
       "2  <demo_application.Layer object at 0x7f3af1c9e048>   \n",
       "3  <demo_application.Layer object at 0x7f3af1c0bcf8>   \n",
       "4  <demo_application.Layer object at 0x7f3af1c3a400>   \n",
       "5  <demo_application.Layer object at 0x7f3af1baa208>   \n",
       "6  <demo_application.Layer object at 0x7f3af1baad30>   \n",
       "7  <demo_application.Layer object at 0x7f3af1c72d30>   \n",
       "8  <demo_application.Layer object at 0x7f3af1bde7b8>   \n",
       "9  <demo_application.Layer object at 0x7f3af1a5c080>   \n",
       "\n",
       "                                             samples  \\\n",
       "0      id        lat         lon  \\\n",
       "0    0  32.08...   \n",
       "1      id        lat         lon  \\\n",
       "0    0  31.83...   \n",
       "2      id        lat         lon  \\\n",
       "0    0  33.84...   \n",
       "3      id        lat         lon  \\\n",
       "0    0  35.55...   \n",
       "4      id        lat         lon  \\\n",
       "0    0  34.17...   \n",
       "5      id        lat         lon  \\\n",
       "0    0  34.17...   \n",
       "6      id        lat         lon  \\\n",
       "0    0  48.10...   \n",
       "7      id        lat         lon  \\\n",
       "0    0  47.27...   \n",
       "8      id        lat         lon  \\\n",
       "0    0  37.91...   \n",
       "9      id        lat         lon  \\\n",
       "0    0  37.82...   \n",
       "\n",
       "                                              points  \\\n",
       "0  LayerGroup(layers=(CircleMarker(color='white',...   \n",
       "1  LayerGroup(layers=(CircleMarker(color='white',...   \n",
       "2  LayerGroup(layers=(CircleMarker(color='white',...   \n",
       "3  LayerGroup(layers=(CircleMarker(color='white',...   \n",
       "4  LayerGroup(layers=(CircleMarker(color='white',...   \n",
       "5  LayerGroup(layers=(CircleMarker(color='white',...   \n",
       "6  LayerGroup(layers=(CircleMarker(color='white',...   \n",
       "7  LayerGroup(layers=(CircleMarker(color='white',...   \n",
       "8  LayerGroup(layers=(CircleMarker(color='white',...   \n",
       "9  LayerGroup(layers=(CircleMarker(color='white',...   \n",
       "\n",
       "                                                  xr  \n",
       "0  [SoilSCAPE_surface, SoilSCAPE_rootzone, AirMOS...  \n",
       "1  [SoilSCAPE_surface, SoilSCAPE_rootzone, AirMOS...  \n",
       "2  [SoilSCAPE_surface, SoilSCAPE_rootzone, AirMOS...  \n",
       "3  [SoilSCAPE_surface, SoilSCAPE_rootzone, AirMOS...  \n",
       "4  [SoilSCAPE_surface, SoilSCAPE_rootzone, AirMOS...  \n",
       "5  [SoilSCAPE_surface, SoilSCAPE_rootzone, AirMOS...  \n",
       "6  [SoilSCAPE_surface, SoilSCAPE_rootzone, AirMOS...  \n",
       "7  [SoilSCAPE_surface, SoilSCAPE_rootzone, AirMOS...  \n",
       "8  [SoilSCAPE_surface, SoilSCAPE_rootzone, AirMOS...  \n",
       "9  [SoilSCAPE_surface, SoilSCAPE_rootzone, AirMOS...  "
      ]
     },
     "execution_count": 7,
     "metadata": {},
     "output_type": "execute_result"
    }
   ],
   "source": [
    "app.layers"
   ]
  },
  {
   "cell_type": "code",
   "execution_count": 32,
   "metadata": {},
   "outputs": [
    {
     "data": {
      "text/plain": [
       "<xarray.Dataset>\n",
       "Dimensions:                     (sample: 59, site: 10, stat: 3, time: 6205)\n",
       "Coordinates:\n",
       "  * sample                      (sample) int64 0 1 2 3 4 5 ... 53 54 55 56 57 58\n",
       "  * time                        (time) datetime64[ns] 2002-04-01 ... 2019-03-27\n",
       "  * stat                        (stat) object 'Max' 'Mean' 'Min'\n",
       "    lat                         (site, sample) float64 32.08 32.08 ... nan nan\n",
       "    lon                         (site, sample) float64 -109.4 -109.3 ... nan nan\n",
       "Dimensions without coordinates: site\n",
       "Data variables:\n",
       "    SoilSCAPE_surface           (site, sample, time, stat) float64 nan ... nan\n",
       "    SoilSCAPE_rootzone          (site, sample, time, stat) float64 nan ... nan\n",
       "    AirMOSS_L2_3_surface        (site, sample, time, stat) float64 nan ... nan\n",
       "    AirMOSS_L2_3_rootzone       (site, sample, time, stat) float64 nan ... nan\n",
       "    AirMOSS_L4_rootzone         (site, sample, time, stat) float64 nan ... nan\n",
       "    SMAP_surface                (site, sample, time, stat) float64 nan ... nan\n",
       "    SMAP_rootzone               (site, sample, time, stat) float64 nan ... nan\n",
       "    NEE_mean                    (site, sample, time, stat) float64 nan ... nan\n",
       "    GPP_mean                    (site, sample, time, stat) float64 nan ... nan\n",
       "    prcp                        (site, sample, time, stat) float64 nan ... nan\n",
       "    tmax                        (site, sample, time, stat) float64 nan ... nan\n",
       "    tmin                        (site, sample, time, stat) float64 nan ... nan\n",
       "    ET                          (site, sample, time, stat) float64 nan ... nan\n",
       "    LST_Day                     (site, sample, time, stat) float64 nan ... nan\n",
       "    LST_Night                   (site, sample, time, stat) float64 nan ... nan\n",
       "    EVI                         (site, sample, time, stat) float64 nan ... nan\n",
       "    AirMOSS_in-ground_surface   (site, sample, time, stat) float64 nan ... nan\n",
       "    AirMOSS_in-ground_rootzone  (site, sample, time, stat) float64 nan ... nan\n",
       "    COSMOS_surface              (site, sample, time, stat) float64 nan ... nan\n",
       "    COSMOS_rootzone             (site, sample, time, stat) float64 nan ... nan\n",
       "    CRN_surface                 (site, sample, time, stat) float64 nan ... nan\n",
       "    CRN_rootzone                (site, sample, time, stat) float64 nan ... nan\n",
       "    SCAN_surface                (site, sample, time, stat) float64 nan ... nan\n",
       "    SCAN_rootzone               (site, sample, time, stat) float64 nan ... nan\n",
       "    SNOTEL_surface              (site, sample, time, stat) float64 nan ... nan\n",
       "    SNOTEL_rootzone             (site, sample, time, stat) float64 nan ... nan\n",
       "    GRACE_surface_pctl          (site, sample, time, stat) float64 nan ... nan\n",
       "    GRACE_rootzone_pctl         (site, sample, time, stat) float64 nan ... nan"
      ]
     },
     "execution_count": 32,
     "metadata": {},
     "output_type": "execute_result"
    }
   ],
   "source": [
    "# merge all sites; save to netCDF\n",
    "xr_complete = xr.concat(app.layers.xr, dim=\"site\")\n",
    "#xr_complete.to_netcdf(\"usfs_sites_smv.nc\") \n",
    "\n",
    "xr_complete"
   ]
  },
  {
   "cell_type": "code",
   "execution_count": 38,
   "metadata": {},
   "outputs": [
    {
     "data": {
      "text/plain": [
       "<xarray.DataArray 'SMAP_surface' (sample: 59, time: 6205)>\n",
       "array([[ nan,  nan,  nan, ...,  nan,  nan,  nan],\n",
       "       [ nan,  nan,  nan, ...,  nan,  nan,  nan],\n",
       "       [ nan,  nan,  nan, ...,  nan,  nan,  nan],\n",
       "       ..., \n",
       "       [ nan,  nan,  nan, ...,  nan,  nan,  nan],\n",
       "       [ nan,  nan,  nan, ...,  nan,  nan,  nan],\n",
       "       [ nan,  nan,  nan, ...,  nan,  nan,  nan]])\n",
       "Coordinates:\n",
       "  * sample   (sample) int64 0 1 2 3 4 5 6 7 8 9 ... 50 51 52 53 54 55 56 57 58\n",
       "    stat     <U4 'Mean'\n",
       "    lon      (sample) float64 -110.4 -110.4 -110.7 -110.6 ... nan nan nan nan\n",
       "    lat      (sample) float64 31.83 31.75 31.58 31.58 31.58 ... nan nan nan nan\n",
       "  * time     (time) datetime64[ns] 2002-04-01 2002-04-02 ... 2019-03-27\n",
       "Attributes:\n",
       "    source:         SMAP\n",
       "    type:           spaceborne\n",
       "    units:          m3/m3\n",
       "    description:    Mean vol (%) soil moisture at 0-5cm \n",
       "    soil_zone:      surface\n",
       "    soil_depth:     0-5, 0-100 cm\n",
       "    native_res:     9000-m \n",
       "    time_coverage:  2015-present\n",
       "    mean_nan:       0\n",
       "    min_nan:        0\n",
       "    max_nan:        0"
      ]
     },
     "execution_count": 38,
     "metadata": {},
     "output_type": "execute_result"
    }
   ],
   "source": [
    "sites_SMAP = xr_complete.filter_by_attrs(source=\"SMAP\").sel(stat=\"Mean\", site=1)\n",
    "sites_SMAP[\"SMAP_surface\"]"
   ]
  },
  {
   "cell_type": "code",
   "execution_count": 39,
   "metadata": {},
   "outputs": [
    {
     "data": {
      "image/png": "[encoded data removed]",
      "text/plain": [
       "<Figure size 1080x360 with 1 Axes>"
      ]
     },
     "metadata": {
      "needs_background": "light"
     },
     "output_type": "display_data"
    }
   ],
   "source": [
    "for name, ds in sites_SMAP.items():\n",
    "    ds.mean(\"sample\").plot.line(x=\"time\")\n",
    "    plt.title(ds.attrs[\"description\"])    \n",
    "    plt.ylabel(ds.attrs[\"units\"])    \n",
    "\n",
    "    \n",
    "#sites_SMAP_surface = xr_complete[\"SMAP_surface\"].sel(stat=\"Mean\", site=1).mean(\"sample\")\n",
    "\n",
    "#p = sites_SMAP_surface.plot.line(x=\"time\")\n",
    "#plt.title(\"Surface layer soil moisture from SMAP\")\n",
    "#plt.ylabel(\"m3/m3\")"
   ]
  },
  {
   "cell_type": "code",
   "execution_count": null,
   "metadata": {},
   "outputs": [],
   "source": []
  },
  {
   "cell_type": "code",
   "execution_count": null,
   "metadata": {},
   "outputs": [],
   "source": [
    "allnan = lambda v: np.count_nonzero(~np.isnan(v.data))==0\n",
    "units = [\n",
    "    'g m-2 d-1', \n",
    "    'm3/m3', \n",
    "    'degrees C', \n",
    "    'mm/day']\n",
    "\n",
    "fig, axs = plt.subplots(4, 1, sharex=True, figsize=(15, 12))\n",
    "\n",
    "for i, unit in enumerate(units):\n",
    "    \n",
    "    variables = pds.filter_by_attrs(units=unit)\n",
    "    for v in variables:\n",
    "        if v!=\"COSMOS_surface\":\n",
    "            a = pds[v]\n",
    "            if not allnan(a):              \n",
    "                pds[v].plot(ax=axs[i])\n",
    "                axs[i].set_title(None)\n",
    "                axs[i].set_xlabel(None)"
   ]
  },
  {
   "cell_type": "code",
   "execution_count": null,
   "metadata": {},
   "outputs": [],
   "source": []
  },
  {
   "cell_type": "code",
   "execution_count": null,
   "metadata": {},
   "outputs": [],
   "source": []
  },
  {
   "cell_type": "code",
   "execution_count": null,
   "metadata": {},
   "outputs": [],
   "source": [
    "# ----------------------------------------------------------------------------------\n",
    "#df = txt_to_pd(r.text)        <- make request auth work # parse response.text to df\n",
    "# temporary, remove this, auth\n",
    "df = pd.read_csv(\"docs/daily-smap-ORNL-DAAC-hYa36V.txt\", header=4, index_col=\"time\")\n",
    "df.index = pd.to_datetime(df.index)    \n",
    "# ----------------------------------------------------------------------------------\n",
    "\n",
    "dfs = {col: split_pd(df[col]) for col in df.columns}     # loop over cols and split to dfs\n",
    "\n",
    "allnan = lambda v: np.count_nonzero(~np.isnan(v.data))==0\n",
    "units = [\n",
    "    'g m-2 d-1', \n",
    "    'm3/m3', \n",
    "    'degrees C', \n",
    "    'mm/day']\n",
    "\n",
    "fig, axs = plt.subplots(4, 1, sharex=True, figsize=(15, 12))\n",
    "\n",
    "for i, unit in enumerate(units):\n",
    "    \n",
    "    variables = pds.filter_by_attrs(units=unit)\n",
    "    for v in variables:\n",
    "        if v!=\"COSMOS_surface\":\n",
    "            a = pds[v]\n",
    "            if not allnan(a):              \n",
    "                pds[v].plot(ax=axs[i])\n",
    "                axs[i].set_title(None)\n",
    "                axs[i].set_xlabel(None)"
   ]
  },
  {
   "cell_type": "markdown",
   "metadata": {},
   "source": [
    "# Workshop\n",
    "\n",
    "This is an introduction...\n",
    "\n",
    "## Requirements\n",
    "\n",
    "### Python\n",
    "Written and tested in Python3. Should be compatible with Python2 with minor changes.\n",
    "\n",
    "#### Heavy-lifters:\n",
    "* [numpy](https://www.numpy.org/) --- fundamental Python module for processing n-dimensional arrays and for scientific computing in general\n",
    "* [pandas](https://pandas.pydata.org/) --- tabular data structures and analysis tools built on numpy\n",
    "* [xarray](http://xarray.pydata.org/en/stable/) --- higher-level structures built on pandas (and to a lesser degree [dask](https://dask.org/)) that support labeled dimensions, coordinates, and attributes for geodata\n",
    "\n",
    "All three above are well-supported and widely-used in Python data/geoscience communities. `numpy` provides the functionality that all array mathematics in Python is built upon; `pandas` provides familiar tabular data structures thatmake working with relational/labeled data easy and intuitive; and `xarray` provides N-dimensional variants of the core pandas data structures that *in my opinion* feel more intuitive for datasets with a spatial component than an equivalent implementation in pure `pandas`, where data would need to be represented in \"long-and-narrow\" form to allow for the same indexing capabilities.\n",
    "\n",
    "#### Important, but you have other options:\n",
    "* [requests](https://2.python-requests.org/en/master/) --- high-level library for sending HTTP requests; alternatives: urllib/urllib2\n",
    "* [shapely](https://shapely.readthedocs.io/en/latest/project.html) --- format-agnostic library based on [GEOS](https://trac.osgeo.org/geos/) for manipulating and analyzing geometric objects\n",
    "* [matplotlib](https://matplotlib.org/) --- 2D plotting; `pandas` and `xarray` have `matplotlib` functionality built-in, so we only need to borrow tools from a couple of submodules\n",
    "\n",
    "`xarray` could also go in this category.\n",
    "\n",
    "#### Just for fun:\n",
    "* [ipywidgets](https://ipywidgets.readthedocs.io/en/stable/index.html) --- interactive HTML widgets for Jupyter Notebooks and the IPython kernel | [GitHub](https://github.com/jupyter-widgets/ipywidgets)\n",
    "* [ipyleaflet](https://ipyleaflet.readthedocs.io/en/latest/) --- a Jupyter/Leaflet bridge enabling interactive maps inside  notebooks | [GitHub](https://github.com/jupyter-widgets/ipyleaflet)\n",
    "\n",
    "After installing with *pip*, you need to enable the jupyter extensions:\n",
    "```\n",
    "pip install ipywidgets\n",
    "pip install ipyleaflet\n",
    "jupyter nbextension enable --py widgetsnbextension\n",
    "```\n",
    "\n",
    "#### Also:\n",
    "* io, json --- both part of the core library; NOTE: `io.StringIO` is `StringIO.StringIO` in Python2"
   ]
  },
  {
   "cell_type": "code",
   "execution_count": null,
   "metadata": {},
   "outputs": [],
   "source": [
    "import numpy as np                          # for everything\n",
    "import pandas as pd                         # for almost everything\n",
    "import xarray as xr                         # for next to almost everything\n",
    "\n",
    "import requests                             # for downloading SMV data\n",
    "from shapely.geometry import shape          # for geometry data comparison\n",
    "\n",
    "import json                                 # for converting between JSON and Python dicts\n",
    "from io import StringIO                     # for making \"pseudo-files\" from downloaded text\n",
    "\n",
    "import ipywidgets as wg                     # for widgets\n",
    "import ipyleaflet as mwg                    # for map widgets\n",
    "import matplotlib.pyplot as plt             # for plotting\n",
    "from matplotlib import cm, colors           # for generating color maps\n",
    "\n",
    "from IPython.display import display         # for telling IPython to render some outputs\n",
    "\n",
    "auth = dict(ORNL_DAAC_USER_NUM=str(32863))  # Jack's usernum; REMOVE"
   ]
  },
  {
   "cell_type": "markdown",
   "metadata": {},
   "source": [
    "## Soil Moisture Visualizer\n",
    "\n",
    "The [table (docs/smvdatasets.csv)](docs/smvdatasets.csv) included in this repo is a copy of the datasets table from the [SMV User Guide](https://daac.ornl.gov/soilmoisture/guide.html). Read it into a data frame using [`pandas.read_csv`](https://pandas.pydata.org/pandas-docs/stable/reference/api/pandas.read_csv.html) and display the available datasets:"
   ]
  },
  {
   "cell_type": "code",
   "execution_count": 22,
   "metadata": {},
   "outputs": [
    {
     "data": {
      "text/html": [
       "<div>\n",
       "<style scoped>\n",
       "    .dataframe tbody tr th:only-of-type {\n",
       "        vertical-align: middle;\n",
       "    }\n",
       "\n",
       "    .dataframe tbody tr th {\n",
       "        vertical-align: top;\n",
       "    }\n",
       "\n",
       "    .dataframe thead th {\n",
       "        text-align: right;\n",
       "    }\n",
       "</style>\n",
       "<table border=\"1\" class=\"dataframe\">\n",
       "  <thead>\n",
       "    <tr style=\"text-align: right;\">\n",
       "      <th></th>\n",
       "      <th>source</th>\n",
       "      <th>type</th>\n",
       "      <th>units</th>\n",
       "      <th>description</th>\n",
       "      <th>soil_zone</th>\n",
       "      <th>soil_depth</th>\n",
       "      <th>native_res</th>\n",
       "      <th>time_coverage</th>\n",
       "    </tr>\n",
       "    <tr>\n",
       "      <th>dataset</th>\n",
       "      <th></th>\n",
       "      <th></th>\n",
       "      <th></th>\n",
       "      <th></th>\n",
       "      <th></th>\n",
       "      <th></th>\n",
       "      <th></th>\n",
       "      <th></th>\n",
       "    </tr>\n",
       "  </thead>\n",
       "  <tbody>\n",
       "    <tr>\n",
       "      <th>SoilSCAPE_surface</th>\n",
       "      <td>SoilSCAPE</td>\n",
       "      <td>in situ</td>\n",
       "      <td>m3/m3</td>\n",
       "      <td>Mean vol (%) soil moisture at 0-5 cm</td>\n",
       "      <td>surface</td>\n",
       "      <td>5, 20, 50 cm</td>\n",
       "      <td>point</td>\n",
       "      <td>2011-present</td>\n",
       "    </tr>\n",
       "    <tr>\n",
       "      <th>SoilSCAPE_rootzone</th>\n",
       "      <td>SoilSCAPE</td>\n",
       "      <td>in situ</td>\n",
       "      <td>m3/m3</td>\n",
       "      <td>Mean vol (%) soil moisture at 0-100 cm</td>\n",
       "      <td>rootzone</td>\n",
       "      <td>5, 20, 50 cm</td>\n",
       "      <td>point</td>\n",
       "      <td>2011-present</td>\n",
       "    </tr>\n",
       "    <tr>\n",
       "      <th>AirMOSS_in-ground_surface</th>\n",
       "      <td>AirMOSS</td>\n",
       "      <td>in situ</td>\n",
       "      <td>m3/m3</td>\n",
       "      <td>Mean vol (%) soil moisture at 0-5 cm</td>\n",
       "      <td>surface</td>\n",
       "      <td>2, 5, 10, 20, 40, 60, 80 cm</td>\n",
       "      <td>point</td>\n",
       "      <td>2012-2015</td>\n",
       "    </tr>\n",
       "    <tr>\n",
       "      <th>AirMOSS_in-ground_rootzone</th>\n",
       "      <td>AirMOSS</td>\n",
       "      <td>in situ</td>\n",
       "      <td>m3/m3</td>\n",
       "      <td>Mean vol (%) soil moisture at 0-100 cm</td>\n",
       "      <td>rootzone</td>\n",
       "      <td>2, 5, 10, 20, 40, 60, 80 cm</td>\n",
       "      <td>point</td>\n",
       "      <td>2012-2015</td>\n",
       "    </tr>\n",
       "    <tr>\n",
       "      <th>COSMOS_surface</th>\n",
       "      <td>COSMOS</td>\n",
       "      <td>in situ</td>\n",
       "      <td>m3/m3</td>\n",
       "      <td>Mean vol (%) soil moisture at 0-5 cm</td>\n",
       "      <td>surface</td>\n",
       "      <td>0-30 cm</td>\n",
       "      <td>point</td>\n",
       "      <td>2008-present</td>\n",
       "    </tr>\n",
       "    <tr>\n",
       "      <th>COSMOS_rootzone</th>\n",
       "      <td>COSMOS</td>\n",
       "      <td>in situ</td>\n",
       "      <td>m3/m3</td>\n",
       "      <td>Mean vol (%) soil moisture at 0-100 cm</td>\n",
       "      <td>rootzone</td>\n",
       "      <td>0-30 cm</td>\n",
       "      <td>point</td>\n",
       "      <td>2008-present</td>\n",
       "    </tr>\n",
       "    <tr>\n",
       "      <th>AirMOSS_L2_3_surface</th>\n",
       "      <td>AirMOSS</td>\n",
       "      <td>airborne</td>\n",
       "      <td>m3/m3</td>\n",
       "      <td>Mean vol (%) soil moisture at 0 cm</td>\n",
       "      <td>surface</td>\n",
       "      <td>0, 10, 30 cm</td>\n",
       "      <td>90-m</td>\n",
       "      <td>2012-2015</td>\n",
       "    </tr>\n",
       "    <tr>\n",
       "      <th>AirMOSS_L2_3_rootzone</th>\n",
       "      <td>AirMOSS</td>\n",
       "      <td>airborne</td>\n",
       "      <td>m3/m3</td>\n",
       "      <td>Mean vol (%) soil moisture at 0-30cm</td>\n",
       "      <td>rootzone</td>\n",
       "      <td>0, 10, 30 cm</td>\n",
       "      <td>90-m</td>\n",
       "      <td>2012-2015</td>\n",
       "    </tr>\n",
       "    <tr>\n",
       "      <th>AirMOSS_L4_rootzone</th>\n",
       "      <td>AirMOSS</td>\n",
       "      <td>airborne</td>\n",
       "      <td>m3/m3</td>\n",
       "      <td>Mean vol (%) soil moisture at 0-100cm</td>\n",
       "      <td>rootzone</td>\n",
       "      <td>0-10, 10-40, 40-100 cm</td>\n",
       "      <td>90-m</td>\n",
       "      <td>2012-2015</td>\n",
       "    </tr>\n",
       "    <tr>\n",
       "      <th>SMAP_surface</th>\n",
       "      <td>SMAP</td>\n",
       "      <td>spaceborne</td>\n",
       "      <td>m3/m3</td>\n",
       "      <td>Mean vol (%) soil moisture at 0-5cm</td>\n",
       "      <td>surface</td>\n",
       "      <td>0-5, 0-100 cm</td>\n",
       "      <td>9000-m</td>\n",
       "      <td>2015-present</td>\n",
       "    </tr>\n",
       "    <tr>\n",
       "      <th>SMAP_rootzone</th>\n",
       "      <td>SMAP</td>\n",
       "      <td>spaceborne</td>\n",
       "      <td>m3/m3</td>\n",
       "      <td>Mean vol (%) soil moisture at 0-100cm</td>\n",
       "      <td>rootzone</td>\n",
       "      <td>0-5, 0-100 cm</td>\n",
       "      <td>9000-m</td>\n",
       "      <td>2015-present</td>\n",
       "    </tr>\n",
       "    <tr>\n",
       "      <th>NEE_mean</th>\n",
       "      <td>SMAP</td>\n",
       "      <td>spaceborne</td>\n",
       "      <td>g m-2 d-1</td>\n",
       "      <td>Mean Net Ecosystem Exchange value</td>\n",
       "      <td>NaN</td>\n",
       "      <td>NaN</td>\n",
       "      <td>9000-m</td>\n",
       "      <td>2015-present</td>\n",
       "    </tr>\n",
       "    <tr>\n",
       "      <th>GPP_mean</th>\n",
       "      <td>SMAP</td>\n",
       "      <td>spaceborne</td>\n",
       "      <td>g m-2 d-1</td>\n",
       "      <td>Mean Gross Primary Productivity value</td>\n",
       "      <td>NaN</td>\n",
       "      <td>NaN</td>\n",
       "      <td>9000-m</td>\n",
       "      <td>2015-present</td>\n",
       "    </tr>\n",
       "    <tr>\n",
       "      <th>GRACE_surface_pctl</th>\n",
       "      <td>GRACE</td>\n",
       "      <td>spaceborne</td>\n",
       "      <td>%</td>\n",
       "      <td>Surface soil moisture percentile</td>\n",
       "      <td>NaN</td>\n",
       "      <td>0-2, 0-100 cm</td>\n",
       "      <td>0.125-d</td>\n",
       "      <td>2002-present</td>\n",
       "    </tr>\n",
       "    <tr>\n",
       "      <th>GRACE_rootzone_pctl</th>\n",
       "      <td>GRACE</td>\n",
       "      <td>spaceborne</td>\n",
       "      <td>%</td>\n",
       "      <td>Root zone soil moisture percentile</td>\n",
       "      <td>NaN</td>\n",
       "      <td>0-2, 0-100 cm</td>\n",
       "      <td>0.125-d</td>\n",
       "      <td>2002-present</td>\n",
       "    </tr>\n",
       "    <tr>\n",
       "      <th>SCAN_surface</th>\n",
       "      <td>SCAN</td>\n",
       "      <td>in situ</td>\n",
       "      <td>m3/m3</td>\n",
       "      <td>Mean vol (%) soil moisture at 0-5cm</td>\n",
       "      <td>surface</td>\n",
       "      <td>2, 4, 8, 20, 40 cm</td>\n",
       "      <td>point</td>\n",
       "      <td>1996-present</td>\n",
       "    </tr>\n",
       "    <tr>\n",
       "      <th>SCAN_rootzone</th>\n",
       "      <td>SCAN</td>\n",
       "      <td>in situ</td>\n",
       "      <td>m3/m3</td>\n",
       "      <td>Mean vol (%) soil moisture at 0-40cm</td>\n",
       "      <td>rootzone</td>\n",
       "      <td>2, 4, 8, 20, 40 cm</td>\n",
       "      <td>point</td>\n",
       "      <td>1996-present</td>\n",
       "    </tr>\n",
       "    <tr>\n",
       "      <th>SNOTEL_surface</th>\n",
       "      <td>SNOTEL</td>\n",
       "      <td>in situ</td>\n",
       "      <td>m3/m3</td>\n",
       "      <td>Mean vol (%) soil moisture at 0-5cm</td>\n",
       "      <td>surface</td>\n",
       "      <td>2, 4, 8, 20, 40 cm</td>\n",
       "      <td>point</td>\n",
       "      <td>1996-present</td>\n",
       "    </tr>\n",
       "    <tr>\n",
       "      <th>SNOTEL_rootzone</th>\n",
       "      <td>SNOTEL</td>\n",
       "      <td>in situ</td>\n",
       "      <td>m3/m3</td>\n",
       "      <td>Mean vol (%) soil moisture at 0-40cm</td>\n",
       "      <td>rootzone</td>\n",
       "      <td>2, 4, 8, 20, 40 cm</td>\n",
       "      <td>point</td>\n",
       "      <td>1996-present</td>\n",
       "    </tr>\n",
       "    <tr>\n",
       "      <th>CRN_surface</th>\n",
       "      <td>CRN</td>\n",
       "      <td>in situ</td>\n",
       "      <td>m3/m3</td>\n",
       "      <td>Mean vol (%) soil moisture at 0-5cm</td>\n",
       "      <td>surface</td>\n",
       "      <td>5, 10, 20, 50, 100 cm</td>\n",
       "      <td>point</td>\n",
       "      <td>2009-present</td>\n",
       "    </tr>\n",
       "    <tr>\n",
       "      <th>CRN_rootzone</th>\n",
       "      <td>CRN</td>\n",
       "      <td>in situ</td>\n",
       "      <td>m3/m3</td>\n",
       "      <td>Mean vol (%) soil moisture at 0-100cm</td>\n",
       "      <td>rootzone</td>\n",
       "      <td>5, 10, 20, 50, 100 cm</td>\n",
       "      <td>point</td>\n",
       "      <td>2009-present</td>\n",
       "    </tr>\n",
       "    <tr>\n",
       "      <th>FLUXNET_surface</th>\n",
       "      <td>FLUXNET</td>\n",
       "      <td>in situ</td>\n",
       "      <td>m3/m3</td>\n",
       "      <td>Mean vol (%) soil moisture (upper)</td>\n",
       "      <td>surface</td>\n",
       "      <td>0-100 cm</td>\n",
       "      <td>point</td>\n",
       "      <td>1996-present</td>\n",
       "    </tr>\n",
       "    <tr>\n",
       "      <th>FLUXNET_rootzone</th>\n",
       "      <td>FLUXNET</td>\n",
       "      <td>in situ</td>\n",
       "      <td>m3/m3</td>\n",
       "      <td>Mean vol (%) soil moisture (upper &amp; lower)</td>\n",
       "      <td>rootzone</td>\n",
       "      <td>0-100 cm</td>\n",
       "      <td>point</td>\n",
       "      <td>1996-present</td>\n",
       "    </tr>\n",
       "    <tr>\n",
       "      <th>prcp</th>\n",
       "      <td>Daymet</td>\n",
       "      <td>other</td>\n",
       "      <td>mm/day</td>\n",
       "      <td>Precipitation for 1 km x 1 km grid</td>\n",
       "      <td>NaN</td>\n",
       "      <td>NaN</td>\n",
       "      <td>1000-m</td>\n",
       "      <td>2000-present</td>\n",
       "    </tr>\n",
       "    <tr>\n",
       "      <th>tmax</th>\n",
       "      <td>Daymet</td>\n",
       "      <td>other</td>\n",
       "      <td>degrees C</td>\n",
       "      <td>Maximum daily temperature for 1x1-km grid</td>\n",
       "      <td>NaN</td>\n",
       "      <td>NaN</td>\n",
       "      <td>1000-m</td>\n",
       "      <td>2000-present</td>\n",
       "    </tr>\n",
       "    <tr>\n",
       "      <th>tmin</th>\n",
       "      <td>Daymet</td>\n",
       "      <td>other</td>\n",
       "      <td>degrees C</td>\n",
       "      <td>Minimum daily temperature for 1x1-km grid</td>\n",
       "      <td>NaN</td>\n",
       "      <td>NaN</td>\n",
       "      <td>1000-m</td>\n",
       "      <td>2000-present</td>\n",
       "    </tr>\n",
       "    <tr>\n",
       "      <th>ET</th>\n",
       "      <td>MODIS</td>\n",
       "      <td>other</td>\n",
       "      <td>mm/8day</td>\n",
       "      <td>Evapotranspiration</td>\n",
       "      <td>NaN</td>\n",
       "      <td>NaN</td>\n",
       "      <td>500-m</td>\n",
       "      <td>2001-present</td>\n",
       "    </tr>\n",
       "    <tr>\n",
       "      <th>LST_Day</th>\n",
       "      <td>MODIS</td>\n",
       "      <td>other</td>\n",
       "      <td>K/8day</td>\n",
       "      <td>Land Surface Temperature Day</td>\n",
       "      <td>NaN</td>\n",
       "      <td>NaN</td>\n",
       "      <td>1000-m</td>\n",
       "      <td>2000-present</td>\n",
       "    </tr>\n",
       "    <tr>\n",
       "      <th>LST_Night</th>\n",
       "      <td>MODIS</td>\n",
       "      <td>other</td>\n",
       "      <td>K/8day</td>\n",
       "      <td>Land Surface Temperature Night</td>\n",
       "      <td>NaN</td>\n",
       "      <td>NaN</td>\n",
       "      <td>1000-m</td>\n",
       "      <td>2000-present</td>\n",
       "    </tr>\n",
       "    <tr>\n",
       "      <th>EVI</th>\n",
       "      <td>MODIS</td>\n",
       "      <td>other</td>\n",
       "      <td>unitless</td>\n",
       "      <td>16 days Enhanced Vegetation Index</td>\n",
       "      <td>NaN</td>\n",
       "      <td>NaN</td>\n",
       "      <td>250-m</td>\n",
       "      <td>2000-present</td>\n",
       "    </tr>\n",
       "  </tbody>\n",
       "</table>\n",
       "</div>"
      ],
      "text/plain": [
       "                               source        type      units  \\\n",
       "dataset                                                        \n",
       "SoilSCAPE_surface           SoilSCAPE     in situ      m3/m3   \n",
       "SoilSCAPE_rootzone          SoilSCAPE     in situ      m3/m3   \n",
       "AirMOSS_in-ground_surface     AirMOSS     in situ      m3/m3   \n",
       "AirMOSS_in-ground_rootzone    AirMOSS     in situ      m3/m3   \n",
       "COSMOS_surface                 COSMOS     in situ      m3/m3   \n",
       "COSMOS_rootzone                COSMOS     in situ      m3/m3   \n",
       "AirMOSS_L2_3_surface          AirMOSS    airborne      m3/m3   \n",
       "AirMOSS_L2_3_rootzone         AirMOSS    airborne      m3/m3   \n",
       "AirMOSS_L4_rootzone           AirMOSS    airborne      m3/m3   \n",
       "SMAP_surface                     SMAP  spaceborne      m3/m3   \n",
       "SMAP_rootzone                    SMAP  spaceborne      m3/m3   \n",
       "NEE_mean                         SMAP  spaceborne  g m-2 d-1   \n",
       "GPP_mean                         SMAP  spaceborne  g m-2 d-1   \n",
       "GRACE_surface_pctl              GRACE  spaceborne          %   \n",
       "GRACE_rootzone_pctl             GRACE  spaceborne          %   \n",
       "SCAN_surface                     SCAN     in situ      m3/m3   \n",
       "SCAN_rootzone                    SCAN     in situ      m3/m3   \n",
       "SNOTEL_surface                 SNOTEL     in situ      m3/m3   \n",
       "SNOTEL_rootzone                SNOTEL     in situ      m3/m3   \n",
       "CRN_surface                       CRN     in situ      m3/m3   \n",
       "CRN_rootzone                      CRN     in situ      m3/m3   \n",
       "FLUXNET_surface               FLUXNET     in situ      m3/m3   \n",
       "FLUXNET_rootzone              FLUXNET     in situ      m3/m3   \n",
       "prcp                           Daymet       other     mm/day   \n",
       "tmax                           Daymet       other  degrees C   \n",
       "tmin                           Daymet       other  degrees C   \n",
       "ET                              MODIS       other    mm/8day   \n",
       "LST_Day                         MODIS       other     K/8day   \n",
       "LST_Night                       MODIS       other     K/8day   \n",
       "EVI                             MODIS       other   unitless   \n",
       "\n",
       "                                                           description  \\\n",
       "dataset                                                                  \n",
       "SoilSCAPE_surface                Mean vol (%) soil moisture at 0-5 cm    \n",
       "SoilSCAPE_rootzone             Mean vol (%) soil moisture at 0-100 cm    \n",
       "AirMOSS_in-ground_surface        Mean vol (%) soil moisture at 0-5 cm    \n",
       "AirMOSS_in-ground_rootzone     Mean vol (%) soil moisture at 0-100 cm    \n",
       "COSMOS_surface                   Mean vol (%) soil moisture at 0-5 cm    \n",
       "COSMOS_rootzone                Mean vol (%) soil moisture at 0-100 cm    \n",
       "AirMOSS_L2_3_surface               Mean vol (%) soil moisture at 0 cm    \n",
       "AirMOSS_L2_3_rootzone            Mean vol (%) soil moisture at 0-30cm    \n",
       "AirMOSS_L4_rootzone             Mean vol (%) soil moisture at 0-100cm    \n",
       "SMAP_surface                      Mean vol (%) soil moisture at 0-5cm    \n",
       "SMAP_rootzone                   Mean vol (%) soil moisture at 0-100cm    \n",
       "NEE_mean                             Mean Net Ecosystem Exchange value   \n",
       "GPP_mean                         Mean Gross Primary Productivity value   \n",
       "GRACE_surface_pctl                    Surface soil moisture percentile   \n",
       "GRACE_rootzone_pctl                 Root zone soil moisture percentile   \n",
       "SCAN_surface                      Mean vol (%) soil moisture at 0-5cm    \n",
       "SCAN_rootzone                    Mean vol (%) soil moisture at 0-40cm    \n",
       "SNOTEL_surface                    Mean vol (%) soil moisture at 0-5cm    \n",
       "SNOTEL_rootzone                  Mean vol (%) soil moisture at 0-40cm    \n",
       "CRN_surface                       Mean vol (%) soil moisture at 0-5cm    \n",
       "CRN_rootzone                    Mean vol (%) soil moisture at 0-100cm    \n",
       "FLUXNET_surface                     Mean vol (%) soil moisture (upper)   \n",
       "FLUXNET_rootzone            Mean vol (%) soil moisture (upper & lower)   \n",
       "prcp                                Precipitation for 1 km x 1 km grid   \n",
       "tmax                         Maximum daily temperature for 1x1-km grid   \n",
       "tmin                         Minimum daily temperature for 1x1-km grid   \n",
       "ET                                                  Evapotranspiration   \n",
       "LST_Day                                   Land Surface Temperature Day   \n",
       "LST_Night                               Land Surface Temperature Night   \n",
       "EVI                                  16 days Enhanced Vegetation Index   \n",
       "\n",
       "                           soil_zone                   soil_depth native_res  \\\n",
       "dataset                                                                        \n",
       "SoilSCAPE_surface            surface                 5, 20, 50 cm      point   \n",
       "SoilSCAPE_rootzone          rootzone                 5, 20, 50 cm      point   \n",
       "AirMOSS_in-ground_surface    surface  2, 5, 10, 20, 40, 60, 80 cm      point   \n",
       "AirMOSS_in-ground_rootzone  rootzone  2, 5, 10, 20, 40, 60, 80 cm      point   \n",
       "COSMOS_surface               surface                      0-30 cm      point   \n",
       "COSMOS_rootzone             rootzone                      0-30 cm      point   \n",
       "AirMOSS_L2_3_surface         surface                 0, 10, 30 cm       90-m   \n",
       "AirMOSS_L2_3_rootzone       rootzone                 0, 10, 30 cm       90-m   \n",
       "AirMOSS_L4_rootzone         rootzone       0-10, 10-40, 40-100 cm       90-m   \n",
       "SMAP_surface                 surface                0-5, 0-100 cm    9000-m    \n",
       "SMAP_rootzone               rootzone                0-5, 0-100 cm    9000-m    \n",
       "NEE_mean                         NaN                          NaN    9000-m    \n",
       "GPP_mean                         NaN                          NaN    9000-m    \n",
       "GRACE_surface_pctl               NaN                0-2, 0-100 cm    0.125-d   \n",
       "GRACE_rootzone_pctl              NaN                0-2, 0-100 cm    0.125-d   \n",
       "SCAN_surface                 surface           2, 4, 8, 20, 40 cm      point   \n",
       "SCAN_rootzone               rootzone           2, 4, 8, 20, 40 cm      point   \n",
       "SNOTEL_surface               surface           2, 4, 8, 20, 40 cm      point   \n",
       "SNOTEL_rootzone             rootzone           2, 4, 8, 20, 40 cm      point   \n",
       "CRN_surface                  surface        5, 10, 20, 50, 100 cm      point   \n",
       "CRN_rootzone                rootzone        5, 10, 20, 50, 100 cm      point   \n",
       "FLUXNET_surface              surface                     0-100 cm      point   \n",
       "FLUXNET_rootzone            rootzone                     0-100 cm      point   \n",
       "prcp                             NaN                          NaN     1000-m   \n",
       "tmax                             NaN                          NaN     1000-m   \n",
       "tmin                             NaN                          NaN     1000-m   \n",
       "ET                               NaN                          NaN      500-m   \n",
       "LST_Day                          NaN                          NaN     1000-m   \n",
       "LST_Night                        NaN                          NaN     1000-m   \n",
       "EVI                              NaN                          NaN      250-m   \n",
       "\n",
       "                           time_coverage  \n",
       "dataset                                   \n",
       "SoilSCAPE_surface           2011-present  \n",
       "SoilSCAPE_rootzone          2011-present  \n",
       "AirMOSS_in-ground_surface      2012-2015  \n",
       "AirMOSS_in-ground_rootzone     2012-2015  \n",
       "COSMOS_surface              2008-present  \n",
       "COSMOS_rootzone             2008-present  \n",
       "AirMOSS_L2_3_surface           2012-2015  \n",
       "AirMOSS_L2_3_rootzone          2012-2015  \n",
       "AirMOSS_L4_rootzone            2012-2015  \n",
       "SMAP_surface                2015-present  \n",
       "SMAP_rootzone               2015-present  \n",
       "NEE_mean                    2015-present  \n",
       "GPP_mean                    2015-present  \n",
       "GRACE_surface_pctl          2002-present  \n",
       "GRACE_rootzone_pctl         2002-present  \n",
       "SCAN_surface                1996-present  \n",
       "SCAN_rootzone               1996-present  \n",
       "SNOTEL_surface              1996-present  \n",
       "SNOTEL_rootzone             1996-present  \n",
       "CRN_surface                 2009-present  \n",
       "CRN_rootzone                2009-present  \n",
       "FLUXNET_surface             1996-present  \n",
       "FLUXNET_rootzone            1996-present  \n",
       "prcp                        2000-present  \n",
       "tmax                        2000-present  \n",
       "tmin                        2000-present  \n",
       "ET                          2001-present  \n",
       "LST_Day                     2000-present  \n",
       "LST_Night                   2000-present  \n",
       "EVI                         2000-present  "
      ]
     },
     "execution_count": 22,
     "metadata": {},
     "output_type": "execute_result"
    }
   ],
   "source": [
    "smv_datasets = pd.read_csv(\"docs/smvdatasets.csv\", index_col=\"dataset\", header=0)\n",
    "smv_datasets"
   ]
  },
  {
   "cell_type": "markdown",
   "metadata": {},
   "source": [
    "The datasets are updated weekly (every Sunday), but some data sets may have a longer latency period.\n",
    "\n",
    "Start by opening an example dataset from the included [text file](docs/daily-smap-ORNL-DAAC-PccIuo.txt). We use `pandas.read_csv` again, skipping to the fourth line and setting the data frame index to the column labeled *time*:"
   ]
  },
  {
   "cell_type": "code",
   "execution_count": null,
   "metadata": {},
   "outputs": [],
   "source": [
    "df = pd.read_csv(\"docs/daily-smap-ORNL-DAAC-PccIuo.txt\", header=4, index_col=\"time\")\n",
    "df.index = pd.to_datetime(df.index)   \n",
    "\n",
    "df.head(5)"
   ]
  },
  {
   "cell_type": "markdown",
   "metadata": {},
   "source": [
    "The text file is parsed to a data frame with up to three values per column, delimited by semicolons `;`: min, mean, and max. Do some additional data preparation in the following steps:\n",
    "\n",
    "1. Use [`pandas.Series.str.split`](https://pandas.pydata.org/pandas-docs/stable/reference/api/pandas.Series.str.split.html) to split each column into three columns;\n",
    "2. replace the empty strings with [`numpy.nan`](https://docs.scipy.org/doc/numpy-1.13.0/user/misc.html) using [`pandas.DataFrame.replace`](https://pandas.pydata.org/pandas-docs/stable/reference/api/pandas.DataFrame.replace.html); and\n",
    "3. change the data type from string to float with [`pandas.DataFrame.astype`](https://pandas.pydata.org/pandas-docs/stable/reference/api/pandas.DataFrame.astype.html). \n",
    "\n",
    "Then, assign column names and print the head again:"
   ]
  },
  {
   "cell_type": "code",
   "execution_count": null,
   "metadata": {},
   "outputs": [],
   "source": [
    "data = df[\"AirMOSS_L4_rootzone\"].str.split(\";\", n=2, expand=True)       # split pd column to 3\n",
    "data = data.replace('', np.nan)                                         # set '' to nan\n",
    "data = data.astype(float)                                               # set all to float\n",
    "data.columns = [\"AirMOSS_L4_rootzone_\"+s for s in [\"min\",\"mean\",\"max\"]] # set column names\n",
    "\n",
    "data.head(5)"
   ]
  },
  {
   "cell_type": "markdown",
   "metadata": {},
   "source": [
    "`Pandas` repackages some basic plotting functionality from `matplotlib`. You can call `pandas.DataFrame.plot` or `pandas.Series.plot`. Plot L4 AirMOSS rootzone soil moisture from the example dataset:"
   ]
  },
  {
   "cell_type": "code",
   "execution_count": null,
   "metadata": {},
   "outputs": [],
   "source": [
    "plt.rcParams['figure.figsize'] = [14, 5]\n",
    "\n",
    "data[\"AirMOSS_L4_rootzone_mean\"].plot()\n",
    "data[\"AirMOSS_L4_rootzone_min\"].plot()\n",
    "data[\"AirMOSS_L4_rootzone_max\"].plot()"
   ]
  },
  {
   "cell_type": "markdown",
   "metadata": {},
   "source": [
    "---------------------------------------------\n",
    "## Read USFS data from GeoJSON\n",
    "\n",
    "The original dataset was a shapefile, but we reprojected and saved as GeoJSON using *ogr2ogr* from the GDAL/OGR binaries package available at OSGeo. GeoJSON is [a format for encoding a variety of geographic data structures](http://geojson.org/).\n",
    "\n",
    "Let's open the GeoJSON and extract some information about one of the USFS sites. Read to a dictionary with `json.load` and print the first feature:"
   ]
  },
  {
   "cell_type": "code",
   "execution_count": null,
   "metadata": {},
   "outputs": [],
   "source": [
    "with open(\"sites/Sites_lf_geo.json\", \"r\") as f:\n",
    "    shapes = json.load(f)   # json load parses open json file to dict\n",
    "\n",
    "shapes.keys()"
   ]
  },
  {
   "cell_type": "markdown",
   "metadata": {},
   "source": [
    "Inspect the first three dictionary items:"
   ]
  },
  {
   "cell_type": "code",
   "execution_count": null,
   "metadata": {},
   "outputs": [],
   "source": [
    "print(shapes[\"crs\"]) \n",
    "print(shapes[\"name\"])\n",
    "print(shapes[\"type\"])"
   ]
  },
  {
   "cell_type": "markdown",
   "metadata": {},
   "source": [
    "A list of geojson features is stored in the *features* element. Print the keys for the first one:"
   ]
  },
  {
   "cell_type": "code",
   "execution_count": null,
   "metadata": {},
   "outputs": [],
   "source": [
    "features = shapes[\"features\"]\n",
    "feat = features[0]\n",
    "\n",
    "feat.keys()"
   ]
  },
  {
   "cell_type": "markdown",
   "metadata": {},
   "source": [
    "Features have two essential pieces, *geometry* and *properties*, and a third item *type* that acknowledges that the item is a feature. The geometry contains two items: *type*, one of seven possible types, and *coordinates*, a list of coordinates that delineate the feature. Here's an example:\n",
    "```\n",
    " \"type\": \"Feature\",\n",
    "   \"geometry\": {\n",
    "       \"type\": \"Polygon\",\n",
    "       \"coordinates\": [\n",
    "           [\n",
    "               [100.0, 0.0],\n",
    "               [101.0, 0.0],\n",
    "               [101.0, 1.0],\n",
    "               [100.0, 1.0],\n",
    "               [100.0, 0.0]\n",
    "           ]\n",
    "       ]\n",
    "   },\n",
    "```\n",
    "A feature's properties are equivalent to what you'd find in the attribute table if you were to open the file in ArcMap. Print them:"
   ]
  },
  {
   "cell_type": "code",
   "execution_count": null,
   "metadata": {},
   "outputs": [],
   "source": [
    "feat[\"properties\"]"
   ]
  },
  {
   "cell_type": "markdown",
   "metadata": {},
   "source": [
    "These values are aboveground NPP... ? Use list comprehension to collect the values for mean and standard deviation into a dictionary, and make a data frame from the dictionary:"
   ]
  },
  {
   "cell_type": "code",
   "execution_count": null,
   "metadata": {},
   "outputs": [],
   "source": [
    "stats = pd.DataFrame({\n",
    "    \"mean\": [v for k,v in feat[\"properties\"].items() if \"MEAN\" in k],\n",
    "    \"std\": [v for k,v in feat[\"properties\"].items() if \"STD\" in k]})\n",
    "\n",
    "stats.head(5)"
   ]
  },
  {
   "cell_type": "markdown",
   "metadata": {},
   "source": [
    "Don't print the feature's geometry, it will take up the whole page. Instead pass it to `Shapely.geometry.shape`:"
   ]
  },
  {
   "cell_type": "code",
   "execution_count": null,
   "metadata": {},
   "outputs": [],
   "source": [
    "geom = feat[\"geometry\"]         # geometry from feature 0\n",
    "sgeom = shape(geom)             # Shapely.geometry.shape\n",
    "bnds = sgeom.bounds             # bounding box around geometry\n",
    "cent = sgeom.centroid           # centroid for geometry\n",
    "\n",
    "sgeom"
   ]
  },
  {
   "cell_type": "markdown",
   "metadata": {},
   "source": [
    "`Shapely` provides some convenient methods for getting important spatial metadata about the feature like its centroid and bounding coordinates. We'll use these later.\n",
    "\n",
    "For now, we learn how to render the geometry as an [`ipyleaflet`](https://ipyleaflet.readthedocs.io/en/latest/) map layer. Create the map in four steps:\n",
    "1. Get a basemap and make a tile layer to display in the map widget. You have a lot of options, including layers available through NASA GIBS: `basemaps.NASAGIBS.ModisTerraTrueColorCR` | [More information](https://ipyleaflet.readthedocs.io/en/latest/api_reference/tile_layer.html)\n",
    "2. [Make a map layer from the GeoJSON feature](https://ipyleaflet.readthedocs.io/en/latest/api_reference/geo_json.html) that we explored earlier.\n",
    "3. Make an [`ipyleaflet.LayerGroup`](https://ipyleaflet.readthedocs.io/en/latest/api_reference/layer_group.html) to store an array of point layers that we will generate in the next step.\n",
    "4. [Initialize the map widget](https://ipyleaflet.readthedocs.io/en/latest/api_reference/map.html) with a tuple of layers, the map center and zoom level."
   ]
  },
  {
   "cell_type": "code",
   "execution_count": null,
   "metadata": {},
   "outputs": [],
   "source": [
    "bmap = mwg.basemap_to_tiles(mwg.basemaps.Esri.WorldImagery) # 1. get a basemap\n",
    "poly = mwg.GeoJSON(data=feat)                               # 2. geojson layer\n",
    "points = mwg.LayerGroup()                                   # 3. points group\n",
    "m1 = mwg.Map(                                               # 4. map widget init\n",
    "    layers=(bmap, poly, points,),  # tuple of map layers\n",
    "    center=(cent.y, cent.x),       # map center (from shapely)\n",
    "    zoom=9)                        # zoom level\n",
    "\n",
    "m1                                 # display the map"
   ]
  },
  {
   "cell_type": "markdown",
   "metadata": {},
   "source": [
    "## the EASE Grid\n",
    "\n",
    "Spatial queries to the Soil Moisture Visualizer return data corresponding to 9x9-km cells within [the EASE grid system](https://nsidc.org/data/ease).\n",
    "\n",
    "The next short section of the notebook demonstrates how to select an array coordinates that represent centroids of  EASE grid cells that fall within the boundary of the `shapely` geometry that we created earlier. The coordinates can then be used to submit a series of requests for data from the SMV.\n",
    "      \n",
    "The EASE grid latitudes and longitudes are stored in two binary files:\n",
    "* [docs/EASE2_M09km.lats.3856x1624x1.double](docs/EASE2_M09km.lats.3856x1624x1.double)\n",
    "* [docs/EASE2_M09km.lats.3856x1624x1.double](docs/EASE2_M09km.lats.3856x1624x1.double)\n",
    "\n",
    "Read the two files to arrays with [`numpy.fromfile`](https://docs.scipy.org/doc/numpy/reference/generated/numpy.fromfile.html), flatten them by calling [`numpy.ndarray.flatten`](https://docs.scipy.org/doc/numpy/reference/generated/numpy.ndarray.flatten.html), and stack them with [`numpy.dstack`](https://docs.scipy.org/doc/numpy/reference/generated/numpy.dstack.html) to make one very long 2-d array of latitude, longitude pairs:"
   ]
  },
  {
   "cell_type": "code",
   "execution_count": null,
   "metadata": {},
   "outputs": [],
   "source": [
    "lats = np.fromfile(\"docs/EASE2_M09km.lats.3856x1624x1.double\", dtype=np.float64).flatten() \n",
    "lons = np.fromfile(\"docs/EASE2_M09km.lons.3856x1624x1.double\", dtype=np.float64).flatten()\n",
    "crds = np.dstack((lats,lons))[0]\n",
    "\n",
    "print(\"Array shape: \"+str(crds.shape)); crds"
   ]
  },
  {
   "cell_type": "markdown",
   "metadata": {},
   "source": [
    "Reduce the giant array using the tuple of `bnds` that we took from the `shapely` geometry earlier:"
   ]
  },
  {
   "cell_type": "code",
   "execution_count": null,
   "metadata": {},
   "outputs": [],
   "source": [
    "ease = crds[(bnds[1]<lats)&(lats<bnds[3])&(bnds[0]<lons)&(lons<bnds[2])]\n",
    "\n",
    "print(\"The new array shape: \"+str(ease.shape))"
   ]
  },
  {
   "cell_type": "markdown",
   "metadata": {},
   "source": [
    "So, 108 EASE grid points fall within the minimum rectangular envelope of the geometry. That seems reasonable. Make an [`ipyleaflet.CircleMarker`](https://ipyleaflet.readthedocs.io/en/latest/api_reference/circle_marker.html) for each point and display the updated map widget:"
   ]
  },
  {
   "cell_type": "code",
   "execution_count": null,
   "metadata": {},
   "outputs": [],
   "source": [
    "for p in ease:\n",
    "    pt = mwg.CircleMarker(                       # map point\n",
    "        location=(p[0],p[1]),                    # lat,lon tuple\n",
    "        radius=7,                                # in pixels\n",
    "        stroke=False,\n",
    "        fill_opacity=0.6,\n",
    "        fill_color=\"black\")\n",
    "    points.add_layer(pt)\n",
    "    \n",
    "m1"
   ]
  },
  {
   "cell_type": "markdown",
   "metadata": {},
   "source": [
    "Now we should eliminate points that fall outside of the actual boundary of the polygon. `shapely.geometry.shape` objects provide a method [`object.contains`](https://shapely.readthedocs.io/en/stable/manual.html) that returns a boolean indicating whether or not it contains an input point. The next cell does the following:\n",
    "1. Clear the points that we added to the map in the last cell.\n",
    "2. Make a simple function `get_point` that returns a `shapely.geometry.shape` for an input lat,lon pair.\n",
    "3. Iterate over the remaining EASE grid points and add to the map widget if shapely *contains* returns True.\n",
    "\n"
   ]
  },
  {
   "cell_type": "code",
   "execution_count": null,
   "metadata": {
    "scrolled": false
   },
   "outputs": [],
   "source": [
    "def get_point(p):\n",
    "    \"\"\"Takes input lat,lon pair; returns a shapely point geometry.\"\"\"\n",
    "    s = shape({\"coordinates\": [p[1], p[0]], \"type\": \"Point\"})\n",
    "    return(s)\n",
    "\n",
    "\n",
    "points.clear_layers()                   # clear the map points\n",
    "for p in ease:                          # loop over remaining EASE points\n",
    "    \n",
    "    spt = get_point([p[0], p[1]])       # get a shapely point\n",
    "    if sgeom.contains(spt):             # if poly contains point, \n",
    "        \n",
    "        pt = mwg.CircleMarker(          # make circle marker\n",
    "            location=(p[0],p[1]),\n",
    "            radius=7,\n",
    "            stroke=False,\n",
    "            fill_opacity=0.6,\n",
    "            fill_color=\"black\")\n",
    "        \n",
    "        points.add_layer(pt)            # add to map\n",
    "        \n",
    "m1"
   ]
  },
  {
   "cell_type": "markdown",
   "metadata": {},
   "source": [
    "Make a function that includes all of the logic above:"
   ]
  },
  {
   "cell_type": "code",
   "execution_count": null,
   "metadata": {},
   "outputs": [],
   "source": [
    "def get_ease(shapely_geom):\n",
    "    \"\"\"\n",
    "    Takes an input shapely geometry and returns a list of EASE grid \n",
    "    lat,lon pairs that are contained within it.\n",
    "    \"\"\"\n",
    "\n",
    "    bnds = shapely_geom.bounds                # bounding box of input geom\n",
    "    ease = crds[\n",
    "        (bnds[1]<lats) & (lats<bnds[3]) &     # ybnds < lat < ybnds\n",
    "        (bnds[0]<lons) & (lons<bnds[2])]      # xbnds < lon < xbnds\n",
    "\n",
    "    ease_reduced = []\n",
    "    for p in ease:\n",
    "        \n",
    "        shapely_pt = shape({                  # input to shapely.shape is a\n",
    "            \"type\": \"Point\",                  # python dict equivalent of\n",
    "            \"coordinates\": (p[1], p[0])})     # geojson point geometry\n",
    "        \n",
    "        if shapely_geom.contains(shapely_pt): # if point inside poly\n",
    "            ease_reduced.append([p[0], p[1]]) # return lat, lon tuple\n",
    "\n",
    "    return(ease_reduced)"
   ]
  },
  {
   "cell_type": "markdown",
   "metadata": {},
   "source": [
    "## Download SMV data with `requests`\n",
    "Each request to SMV takes a latitude `&lt` and longitude `&ln`. This request is for (30,-100):       \n",
    "https://daac.ornl.gov/cgi-bin/viz/download.pl?lt=30&ln=-100&d=smap"
   ]
  },
  {
   "cell_type": "code",
   "execution_count": null,
   "metadata": {},
   "outputs": [],
   "source": [
    "lt, ln = ease[0]                                               # first EASE point\n",
    "url = \"https://daac.ornl.gov/cgi-bin/viz/download.pl?\"         # SMV download url\n",
    "request_url = url+\"lt={lt}&ln={ln}&d=smap\".format(lt=lt,ln=ln) # complete request url\n",
    "\n",
    "print(\"SMV base url:\\t\"+url); print(\"Full URL:\\t\"+request_url)"
   ]
  },
  {
   "cell_type": "markdown",
   "metadata": {},
   "source": [
    "Now use [`requests.get`](https://2.python-requests.org//en/master/user/quickstart/) (*note: use `session` from the Earthdata authentication at the very beginning of the notebook*) to download the data from the URL and print the first ten lines:"
   ]
  },
  {
   "cell_type": "code",
   "execution_count": null,
   "metadata": {},
   "outputs": [],
   "source": [
    "r = requests.get(request_url, cookies=auth)\n",
    "f = StringIO(r.text)\n",
    "\n",
    "print(\"\\n\".join(f.readlines()[0:10]))"
   ]
  },
  {
   "cell_type": "markdown",
   "metadata": {},
   "source": [
    "You can use the same methods that we covered at the beginning to parse the text to a pandas data frame. We will take that one step further in the next section as we prepare to add another dimension to our SMV dataset.\n",
    "\n",
    "## Reformat SMV data as a netCDF-like `xarray.Dataset`\n",
    "\n",
    "Now add one more step to the **SMV download response** > **pandas data frame** > **split columns to expanded data frame** workflow by making an xarray dataset. Start with the two functions below, `txt_to_pd` and `split_pd`. They do all of the SMV data processing that we've covered to this to point: \n",
    "* convert the request response to a text object; \n",
    "* parse the text to a `pandas` data frame; and,\n",
    "* parse the columns of `min;mean;max` into three new columns.\n",
    "\n",
    "Test them on the dataset that we downloaded before:"
   ]
  },
  {
   "cell_type": "code",
   "execution_count": null,
   "metadata": {},
   "outputs": [],
   "source": [
    "def txt_to_pd(response_text):\n",
    "    \"\"\"Parses response.text to data frame with date index.\"\"\"\n",
    "    \n",
    "    f = StringIO(response_text)                          # get file from string\n",
    "    df = pd.read_csv(f, header=4, index_col=\"time\")      # read to df\n",
    "    df.index = pd.to_datetime(df.index)                  # convert index to dates\n",
    "    \n",
    "    return(df)\n",
    "\n",
    "\n",
    "def split_pd(col):\n",
    "    \"\"\"Splits pd column by ; and set all values to float, nan.\"\"\"\n",
    "    \n",
    "    df = col.str.split(\";\",n=2,expand=True)              # split col by ;\n",
    "    df = df.replace('', np.nan)                          # set '' to nan\n",
    "    df = df.astype(float)                                # set all to float\n",
    "    df.columns = [\"Min\",\"Mean\",\"Max\"]                    # add column names\n",
    "    \n",
    "    return(df)\n",
    "\n",
    "# ----------------------------------------------------------------------------------\n",
    "#df = txt_to_pd(r.text)        <- make request auth work # parse response.text to df\n",
    "# temporary, remove this, auth\n",
    "df = pd.read_csv(\"docs/daily-smap-ORNL-DAAC-hYa36V.txt\", header=4, index_col=\"time\")\n",
    "df.index = pd.to_datetime(df.index)    \n",
    "# ----------------------------------------------------------------------------------\n",
    "\n",
    "dfs = {col: split_pd(df[col]) for col in df.columns}     # loop over cols and split to dfs"
   ]
  },
  {
   "cell_type": "markdown",
   "metadata": {},
   "source": [
    "The two `xarray` data structures, [`xarray.DataArray`](http://xarray.pydata.org/en/stable/generated/xarray.DataArray.html#xarray.DataArray) and [`xarray.Dataset`](http://xarray.pydata.org/en/stable/generated/xarray.Dataset.html#xarray.Dataset), are so closely tied to the [`pandas.Series`](http://pandas.pydata.org/pandas-docs/stable/reference/api/pandas.Series.html#pandas.Series) and [`pandas.DataFrame`](http://pandas.pydata.org/pandas-docs/stable/reference/frame.html) that both modules provide methods to convert between them. I copied their blurb because I'm such a fan: \n",
    "\n",
    ">**xarray** is an open source project and Python package that makes working with labelled multi-dimensional arrays simple, efficient, and fun! xarray introduces labels in the form of dimensions, coordinates and attributes on top of raw NumPy-like arrays, which allows for a more intuitive, more concise, and less error-prone developer experience. The package includes a large and growing library of domain-agnostic functions for advanced analytics and visualization with these data structures. xarray was inspired by and borrows heavily from pandas, the popular data analysis package focused on labelled tabular data. It is particularly tailored to working with netCDF files, which were the source of xarray’s data model, and integrates tightly with dask for parallel computing.\n",
    "\n",
    "We need to define the dimensions of our data in order to take full advantage of the features of `xarray`. We do that by making *coordinate* variables that allow for practical indexing of the data along said dimensions. For example, this cell demonstrates how to create three [`xarray.DataArrays`](http://xarray.pydata.org/en/stable/generated/xarray.DataArray.html#xarray.DataArray) that represent:\n",
    "1. the sample dimension --- remember the array of EASE grid points? a dimension to describe the spatial relationship between the different sample datasets will make it easier to summarize the data going forward.\n",
    "2. the latitude dimension, and\n",
    "3. the longitude dimension --- these two are self-explanatory; the latitude and longitude values are arranged along the sample dimension, one pair per sample, to describe the position in space of each sample."
   ]
  },
  {
   "cell_type": "code",
   "execution_count": null,
   "metadata": {},
   "outputs": [],
   "source": [
    "latatts = dict(                                     # CF attributes for latitude\n",
    "    standard_name=\"latitude\",\n",
    "    long_name=\"sample latitude\",\n",
    "    units=\"degrees_north\")\n",
    "\n",
    "lonatts = dict(                                     # CF attributes for longitude\n",
    "    standard_name=\"latitude\",\n",
    "    long_name=\"sample latitude\",\n",
    "    units=\"degrees_north\")\n",
    "\n",
    "s = xr.DataArray(data=[1], dims=[\"sample\"])                                  # 1. \n",
    "latarr = xr.DataArray(data=[lt], coords=[s], dims=[\"sample\"], attrs=latatts) # 2.\n",
    "lonarr = xr.DataArray(data=[ln], coords=[s], dims=[\"sample\"], attrs=lonatts) # 3. \n",
    "\n",
    "latarr"
   ]
  },
  {
   "cell_type": "markdown",
   "metadata": {},
   "source": [
    "The resulting latitude array is very simple, with only one value. \n",
    "\n",
    "The function below converts SMV outputs (as data frames) to an `xarray.DataArray` with three dimensions: the sample dimension (length=1), the time dimension (length=n), and the *stat* dimension, which really only exists because it allows us to keep all of the data in one place. Steps:\n",
    "\n",
    "1. Collect from the SMV datasets table a list of attributes to assign to the array; \n",
    "2. convert the `pandas.DataFrame` to an the `xarray` structure; \n",
    "3. rename the automatically-generated dimension to \"stat\"; and, \n",
    "4. set a new attribute that indicates whether or not the dataset has valid observations; \"allnan\"==0 indicates there are valid data and vice versa"
   ]
  },
  {
   "cell_type": "code",
   "execution_count": null,
   "metadata": {},
   "outputs": [],
   "source": [
    "def pd_to_xr(dataset, df):\n",
    "    \"\"\"Makes an xr.Dataset from a pandas column (series) and coords.\"\"\"\n",
    "    \n",
    "    a = smv_datasets.loc[dataset].to_dict()                 # 1.\n",
    "    x = xr.DataArray(df, name=dataset, attrs=a)             # 2.\n",
    "    x = x.rename(dict(dim_1=\"stat\"))                        # 3.\n",
    "    x.attrs[\"allnan\"] = int(np.isnan(np.nanmean(x.data)))   # 4.\n",
    "    \n",
    "    return(x)"
   ]
  },
  {
   "cell_type": "markdown",
   "metadata": {},
   "source": [
    "Loop over the dictionary of data frames, here's the first one:"
   ]
  },
  {
   "cell_type": "code",
   "execution_count": null,
   "metadata": {},
   "outputs": [],
   "source": [
    "ds = {c: pd_to_xr(c,d) for c,d in dfs.items()}\n",
    "xds = xr.merge(ds.values())\n",
    "xds = xds.assign_coords(lat=latarr, lon=lonarr)\n",
    "xdsp = xds[\"\"]\n",
    "xds"
   ]
  },
  {
   "cell_type": "markdown",
   "metadata": {},
   "source": [
    "And this is what a single SMV dataset looks like:"
   ]
  },
  {
   "cell_type": "code",
   "execution_count": null,
   "metadata": {},
   "outputs": [],
   "source": [
    "xds[\"SMAP_surface\"]"
   ]
  },
  {
   "cell_type": "markdown",
   "metadata": {},
   "source": [
    "In some cases it may be advantageous to reorder the dimensions over which the data are arranged. You can transpose the 2-d array with [`xarray.Dataset.transpose`](http://xarray.pydata.org/en/stable/generated/xarray.Dataset.transpose.html):\n",
    "\n",
    "```\n",
    "xdsT = xds.transpose()\n",
    "```"
   ]
  },
  {
   "cell_type": "markdown",
   "metadata": {},
   "source": [
    "### Get the \"plottable\" datasets\n",
    "Remember that we added an attribute to each SMV dataset that indicates whether or not the mean\\*min\\*max array is entirely nodata: *allnan*\n",
    "\n",
    "Exclude SMV datasets that are entirely nodata using [`xarray.Dataset.filter_by_attrs`](http://xarray.pydata.org/en/stable/generated/xarray.Dataset.filter_by_attrs.html#xarray.Dataset.filter_by_attrs):"
   ]
  },
  {
   "cell_type": "code",
   "execution_count": null,
   "metadata": {
    "scrolled": false
   },
   "outputs": [],
   "source": [
    "pds = xds.filter_by_attrs(allnan=0).sel(stat=\"Mean\")\n",
    "pds"
   ]
  },
  {
   "cell_type": "code",
   "execution_count": null,
   "metadata": {},
   "outputs": [],
   "source": [
    "pds.filter_by_attrs(units=\"m3/m3\")"
   ]
  },
  {
   "cell_type": "code",
   "execution_count": null,
   "metadata": {},
   "outputs": [],
   "source": [
    "units = list(set([pds[d].attrs[\"units\"] for d in pds]))\n",
    "print(units)"
   ]
  },
  {
   "cell_type": "code",
   "execution_count": null,
   "metadata": {
    "scrolled": false
   },
   "outputs": [],
   "source": [
    "allnan = lambda v: np.count_nonzero(~np.isnan(v.data))==0\n",
    "units = [\n",
    "    'g m-2 d-1', \n",
    "    'm3/m3', \n",
    "    'degrees C', \n",
    "    'mm/day']\n",
    "\n",
    "fig, axs = plt.subplots(4, 1, sharex=True, figsize=(15, 12))\n",
    "\n",
    "for i, unit in enumerate(units):\n",
    "    \n",
    "    variables = pds.filter_by_attrs(units=unit)\n",
    "    for v in variables:\n",
    "        if v!=\"COSMOS_surface\":\n",
    "            a = pds[v]\n",
    "            if not allnan(a):              \n",
    "                pds[v].plot(ax=axs[i])\n",
    "                axs[i].set_title(None)\n",
    "                axs[i].set_xlabel(None)"
   ]
  },
  {
   "cell_type": "markdown",
   "metadata": {},
   "source": [
    "We can also filter by any of the other attribute(s) that we assigned from the SMV datasets table:"
   ]
  },
  {
   "cell_type": "code",
   "execution_count": null,
   "metadata": {},
   "outputs": [],
   "source": [
    "pds.filter_by_attrs(source=\"SMAP\", soil_zone=\"rootzone\")"
   ]
  },
  {
   "cell_type": "markdown",
   "metadata": {},
   "source": [
    "### Slice/filter using dimension-based criteria\n",
    "Filter by the *stat* dimension:"
   ]
  },
  {
   "cell_type": "code",
   "execution_count": null,
   "metadata": {},
   "outputs": [],
   "source": [
    "pds.sel(stat=\"mean\")"
   ]
  },
  {
   "cell_type": "markdown",
   "metadata": {},
   "source": [
    "or the *time* dimension:"
   ]
  },
  {
   "cell_type": "code",
   "execution_count": null,
   "metadata": {},
   "outputs": [],
   "source": [
    "time = pds.time.data\n",
    "print(time[10]); print(time[20])\n",
    "\n",
    "pds.sel(time=slice(time[10],time[20]))"
   ]
  },
  {
   "cell_type": "markdown",
   "metadata": {},
   "source": [
    "This feature becomes more useful as you add more dimensions to your dataset. We'll use it to filter across three dimensions once we add more sample locations to this dataset."
   ]
  },
  {
   "cell_type": "code",
   "execution_count": null,
   "metadata": {},
   "outputs": [],
   "source": [
    "pds[\"SMAP_surface\"]"
   ]
  },
  {
   "cell_type": "markdown",
   "metadata": {},
   "source": [
    "## Make a simple interactive plotting UI\n",
    "We use the logic above to drive the plotting UI. We can get a list of the attributes to filter by using list comprehension:"
   ]
  },
  {
   "cell_type": "code",
   "execution_count": null,
   "metadata": {},
   "outputs": [],
   "source": [
    "source = list(set([pds[d].attrs[\"source\"] for d in pds]))\n",
    "stype = list(set([pds[d].attrs[\"type\"] for d in pds]))\n",
    "soil_zone = list(set([pds[d].attrs[\"soil_zone\"] for d in pds]))\n",
    "\n",
    "print(source); print(stype); print(soil_zone)"
   ]
  },
  {
   "cell_type": "markdown",
   "metadata": {},
   "source": [
    "GRACE has very few observations, so we don't really need the source filter. And all data are from spaceborne datasets, so the only relevant attribute filter for this dataset is the *soil_zone*:"
   ]
  },
  {
   "cell_type": "code",
   "execution_count": null,
   "metadata": {
    "scrolled": false
   },
   "outputs": [],
   "source": [
    "dates = pds.sel(stat=\"mean\").dropna(dim=\"time\", how=\"all\").time.data\n",
    "dates = dates.astype('M8[D]')\n",
    "\n",
    "time_slider = wg.SelectionRangeSlider(\n",
    "    options=dates, \n",
    "    index=(0, len(dates)-1),\n",
    "    continuous_update=False,\n",
    "    layout=wg.Layout(width=\"auto\"))\n",
    "\n",
    "widgets = dict(\n",
    "    Time=time_slider, \n",
    "    By=[\"None\", \"year\", \"month\", \"week\", \"day\"],\n",
    "    Zone=['surface', 'rootzone'],\n",
    "    Mean=True, Min=True, Max=True)\n",
    "\n",
    "# needs to run twice to switch from inline -->\n",
    "%matplotlib notebook"
   ]
  },
  {
   "cell_type": "markdown",
   "metadata": {},
   "source": [
    "Build and display the plot ui:"
   ]
  },
  {
   "cell_type": "code",
   "execution_count": null,
   "metadata": {
    "scrolled": false
   },
   "outputs": [],
   "source": [
    "%matplotlib notebook\n",
    "plt.rcParams['figure.figsize'] = [12, 5]\n",
    "\n",
    "fig = plt.figure()\n",
    "ax = fig.add_subplot(1, 1, 1)\n",
    "\n",
    "\n",
    "def update(Time, By, Zone, Mean, Min, Max):\n",
    "    \"\"\" \"\"\"\n",
    "\n",
    "    stat = [True]*3 if not any([Mean,Min,Max]) else [Mean,Min,Max]\n",
    "    data = pds.sel(stat=stat)                      # filter by stats\n",
    "    \n",
    "    data = data.filter_by_attrs(soil_zone=Zone)    # filter by attributes\n",
    "\n",
    "    data = data.sel(time=slice(Time[0],Time[1]))   # filter by time;\n",
    "    \n",
    "    xaxis = \"time\" if By == \"None\" else By         # new plot interval\n",
    "    if By is not \"None\":\n",
    "        data = data.sel(stat=\"mean\")\n",
    "        data = data.groupby(\"time.\"+str(By)).mean()\n",
    "\n",
    "    ax.clear()                                     # clear plot\n",
    "    for d in data:                                 # loop over vars\n",
    "        data[d].plot.line(x=xaxis, ax=ax)          # add line\n",
    "    fig.canvas.draw()                              # draw \n",
    "\n",
    "\n",
    "p = wg.interactive(update, **widgets);\n",
    "display(p)"
   ]
  },
  {
   "cell_type": "markdown",
   "metadata": {},
   "source": [
    "## Organize a series of SMV samples into similar structure\n",
    "\n",
    "The capabilities of xarray aren't obvious until you add a second dimension to the data (excluding the unnecessary *stats* dim). You can do everything we just did with pandas. Let's look at our USFS polygon again with a new map:"
   ]
  },
  {
   "cell_type": "code",
   "execution_count": null,
   "metadata": {},
   "outputs": [],
   "source": [
    "points = mwg.LayerGroup()\n",
    "polys = mwg.LayerGroup(layers=(poly,))\n",
    "m2 = mwg.Map(layers=(polys, points, bmap), center=(cent.y, cent.x), zoom=9)\n",
    "\n",
    "m2"
   ]
  },
  {
   "cell_type": "markdown",
   "metadata": {},
   "source": [
    "### Container for point samples\n",
    "`Sample(<id>,<lat>,<lon>)`\n",
    "* id: an integer id unique to the sample within it's input polygon\n",
    "* lat, lon: latitude, longitude numerics"
   ]
  },
  {
   "cell_type": "code",
   "execution_count": null,
   "metadata": {},
   "outputs": [],
   "source": [
    "url = \"https://daac.ornl.gov/cgi-bin/viz/download.pl?\"\n",
    "\n",
    "class Sample(object):\n",
    "\n",
    "    def __init__(self, i, lat, lon):\n",
    "        \"\"\"Inits with id,lat,lon; makes request string, map point.\"\"\"\n",
    "        self.id, self.lat, self.lon = i, lat, lon               # id, lat, lon\n",
    "        self.rurl = url+\"lt={0}&ln={1}&d=smap\".format(lt,ln)    # request url     \n",
    "        self.pt = mwg.CircleMarker(                             # map point\n",
    "            location=(lat,lon),                                 # lat,lon tuple\n",
    "            radius=7,                                           # in pixels\n",
    "            stroke=False,\n",
    "            fill_opacity=0.6,\n",
    "            fill_color=\"black\")\n",
    "\n",
    "    def update(self, **kwargs):\n",
    "        for arg, val in kwargs.items():\n",
    "            setattr(self.pt, arg, val)\n",
    "        \n",
    "    def submit(self):\n",
    "        \"\"\"Called by parent. Downloads url. Updates status.\"\"\"\n",
    "        self.response = requests.get(self.rurl, cookies=auth)   # submit SMV request\n",
    "        self.df = txt_to_pd(self.response.text)                 # read to pandas df"
   ]
  },
  {
   "cell_type": "markdown",
   "metadata": {},
   "source": [
    "Use the function we made before `get_ease` to get a list of EASE points inside the polygon, make a Sample for each, and organize inside a data frame. Print the first five rows of the data frame and display the updated map:"
   ]
  },
  {
   "cell_type": "code",
   "execution_count": null,
   "metadata": {},
   "outputs": [],
   "source": [
    "samples = []\n",
    "for i, pt in enumerate(get_ease(sgeom)):\n",
    "    s = Sample(i, pt[0], pt[1])                # make a Sample instance\n",
    "    points.add_layer(s.pt)                     # add map pt to points group\n",
    "    samples.append((i, pt[0], pt[1], s, None)) # append tuple to the list\n",
    "\n",
    "samples = pd.DataFrame(                        # convert list of tuples to df\n",
    "    samples, \n",
    "    columns=[\"id\", \"lat\", \"lon\", \"samp\", \"xr\"])\n",
    "\n",
    "print(samples.head(5)); m2                     # display"
   ]
  },
  {
   "cell_type": "markdown",
   "metadata": {},
   "source": [
    "Add a couple more widgets purely for aesthetics:"
   ]
  },
  {
   "cell_type": "code",
   "execution_count": null,
   "metadata": {},
   "outputs": [],
   "source": [
    "n = len(samples.samp)\n",
    "progress = wg.IntProgress(value=0, min=0, max=n, description=\"Progress: \", layout=wg.Layout(width=\"95%\"))\n",
    "\n",
    "def submit_handler(b):\n",
    "    submit.disabled = True               # disable submit button\n",
    "    for samp in samples.samp:            # loop over sample pts\n",
    "        progress.value += 1              # update progress bar\n",
    "        samp.update(                     # update point style\n",
    "            stroke=True, \n",
    "            color=\"white\", \n",
    "            opacity=0.6)\n",
    "        samp.submit()                    # download the data\n",
    "\n",
    "submit = wg.Button(description='Submit', button_style='success')\n",
    "submit.on_click(submit_handler)\n",
    "\n",
    "wg.VBox([m2,wg.HBox([submit,progress])])"
   ]
  },
  {
   "cell_type": "markdown",
   "metadata": {},
   "source": [
    "Hopefully you didn't have any trouble downloading the data. Remember we made the class that binds a map marker to several other items including a pandas data frame that gets created when the sample is retrieved from the SMV.\n",
    "\n",
    "Check the data frame for sample zero:"
   ]
  },
  {
   "cell_type": "code",
   "execution_count": null,
   "metadata": {},
   "outputs": [],
   "source": [
    "samples0 = samples.iloc[0]\n",
    "print(samples0); samples0.samp.df.tail(5)"
   ]
  },
  {
   "cell_type": "markdown",
   "metadata": {},
   "source": [
    "This looks familiar. Use the steps that we learned before to convert to an xarray dataset:"
   ]
  },
  {
   "cell_type": "code",
   "execution_count": null,
   "metadata": {},
   "outputs": [],
   "source": [
    "s0 = xr.DataArray(data=[samples0.id], dims=[\"sample\"])\n",
    "y0 = xr.DataArray(data=[samples0.lat], coords=[s0], dims=[\"sample\"], attrs=latatts)\n",
    "x0 = xr.DataArray(data=[samples0.lon], coords=[s0], dims=[\"sample\"], attrs=lonatts)\n",
    "\n",
    "df0 = samples0.samp.df                                  # get the sample df\n",
    "dfs0 = {col: split_pd(df0[col]) for col in df0.columns} # loop over cols and split to dfs\n",
    "ds0 = {c: pd_to_xr(c,d) for c,d in dfs0.items()}        # make xr datasets for each smv\n",
    "xds0 = xr.merge(ds0.values())                           # merge to one xr dataset\n",
    "xds0 = xds0.assign_coords(lat=y0, lon=x0)               # add coordinate arrays sample \n",
    "xds0"
   ]
  },
  {
   "cell_type": "markdown",
   "metadata": {},
   "source": [
    "While we're at it, wrap all of that up in a function to apply to all of the samples:"
   ]
  },
  {
   "cell_type": "code",
   "execution_count": null,
   "metadata": {},
   "outputs": [],
   "source": [
    "def get_sample_xr(samp):\n",
    "    \"\"\" \"\"\"\n",
    "    \n",
    "    # get sample, lat, lon xr arrays\n",
    "    s = xr.DataArray(data=[samp.id], dims=[\"sample\"])\n",
    "    y = xr.DataArray(data=[samp.lat], coords=[s], dims=[\"sample\"], attrs=latatts)\n",
    "    x = xr.DataArray(data=[samp.lon], coords=[s], dims=[\"sample\"], attrs=lonatts)\n",
    "\n",
    "    df = samp.df                                         # get the sample df\n",
    "    dfs = {col: split_pd(df[col]) for col in df.columns} # loop over cols and split to dfs\n",
    "    ds = {c: pd_to_xr(c,d) for c,d in dfs.items()}       # make xr datasets for each smv\n",
    "    xds = xr.merge(ds.values())                          # merge to one xr dataset\n",
    "    xds = xds.assign_coords(lat=y, lon=x)                # add coordinate arrays\n",
    "    \n",
    "    return(xds)\n",
    "    \n",
    "\n",
    "for ix, row in samples.iterrows():                       # loop over samples df\n",
    "    samples.at[ix, \"xr\"] = get_sample_xr(row.samp)       # add xr dataset to col\n",
    "    \n",
    "samples"
   ]
  },
  {
   "cell_type": "markdown",
   "metadata": {},
   "source": [
    "Check sample ten:"
   ]
  },
  {
   "cell_type": "code",
   "execution_count": null,
   "metadata": {},
   "outputs": [],
   "source": [
    "samples.iloc[10].xr"
   ]
  },
  {
   "cell_type": "markdown",
   "metadata": {},
   "source": [
    "Hopefully, if we organized the data correctly, we can concatenate along the sample dimension:"
   ]
  },
  {
   "cell_type": "code",
   "execution_count": null,
   "metadata": {},
   "outputs": [],
   "source": [
    "xds0 = xr.concat(samples.xr.tolist(), \"sample\")\n",
    "xds0"
   ]
  },
  {
   "cell_type": "markdown",
   "metadata": {},
   "source": [
    "Save as a netCDF. The dataset needs another variable and some special attributes to comply with CF (explain CF):\n",
    "* a variable that describes the sequence that makes up the sample dimension\n",
    "* a dataset-level attribute that inidcates the dataset's *featureType*"
   ]
  },
  {
   "cell_type": "code",
   "execution_count": null,
   "metadata": {},
   "outputs": [],
   "source": [
    "# loop over sample dim sequence and make strings like: \"sample##\"\n",
    "sample_name_data = [\"sample\"+(\"%02d\" % s) for s in xds0.sample.data]\n",
    "\n",
    "xds0[\"sample_name\"] = xr.DataArray(        # make an xr array\n",
    "    data=sample_name_data, \n",
    "    dims=[\"sample\"], \n",
    "    attrs=dict(                            # cf attributes\n",
    "        long_name=\"sample name\", \n",
    "        cf_role=\"timeseries_id\"))\n",
    "\n",
    "xds0.attrs.update({\n",
    "    \"convention\": \"CF-1.6\", \n",
    "    \"featureType\": \"timeSeries\",\n",
    "    \"source\": \"Soil Moisture Visualizer\",\n",
    "    \"institution\": \"Oak Ridge National Laboratory Distributed Active Archive Center\"})\n",
    "\n",
    "xds0"
   ]
  },
  {
   "cell_type": "markdown",
   "metadata": {},
   "source": [
    "Save with [`xarray.Dataset.to_netcdf`](http://xarray.pydata.org/en/stable/generated/xarray.Dataset.to_netcdf.html#xarray.Dataset.to_netcdf):"
   ]
  },
  {
   "cell_type": "code",
   "execution_count": null,
   "metadata": {},
   "outputs": [],
   "source": [
    "xds0.to_netcdf(\"23samples.nc\")"
   ]
  },
  {
   "cell_type": "markdown",
   "metadata": {},
   "source": [
    "## Extend the plotting UI\n",
    "We probably have more options for filters with a dataset this size. Let's see:"
   ]
  },
  {
   "cell_type": "code",
   "execution_count": null,
   "metadata": {},
   "outputs": [],
   "source": [
    "xpds = xds0.filter_by_attrs(allnan=0)\n",
    "xpds"
   ]
  },
  {
   "cell_type": "markdown",
   "metadata": {},
   "source": [
    "## better colors\n",
    "1. use [`numpy.linspace`](https://docs.scipy.org/doc/numpy/reference/generated/numpy.linspace.html) to make an array of evenly-spaced values between 0-1 \n",
    "2. map values to **Set3** in [`matplotlib.cm`](https://matplotlib.org/api/cm_api.html) | [colormap reference](https://matplotlib.org/gallery/color/colormap_reference.html)\n",
    "3. convert to hexadecimal with [`matplotlib.colors.to_hex`](https://matplotlib.org/api/_as_gen/matplotlib.colors.to_hex.html#matplotlib.colors.to_hex)"
   ]
  },
  {
   "cell_type": "code",
   "execution_count": null,
   "metadata": {},
   "outputs": [],
   "source": [
    "cspace = np.linspace(0.0, 1.0, len(features)) # 1\n",
    "rgb = cm.Set3(cspace)                         # 2\n",
    "cols = [colors.to_hex(c[0:3]) for c in rgb]   # 3\n",
    "\n",
    "cols"
   ]
  },
  {
   "cell_type": "markdown",
   "metadata": {},
   "source": [
    "MAybe give them the option to import shapefile?\n",
    "```\n",
    "with open(\"sites/Sites_lf_geo.json\", \"r\") as f:\n",
    "    shapes = json.load(f)\n",
    "features = shapes[\"features\"]\n",
    "```\n"
   ]
  },
  {
   "cell_type": "code",
   "execution_count": null,
   "metadata": {},
   "outputs": [],
   "source": [
    "m1,m2,s0,df0,dfs0,xds0,samples = None,None,None,None,None,None,None\n",
    "# -----------------------------------------------------------------\n",
    "\n",
    "site_details = \"\"\"\n",
    "{FORESTNAME} ({FORESTNUMB})\n",
    "{DISTRICTNA} ({DISTRICTNU})\n",
    "REGION:   {REGION}\n",
    "ACRES:    {GIS_ACRES}\n",
    "MIN:      {MIN}\n",
    "MEDIAN:   {MEDIAN}\n",
    "MAX:      {MAX}\n",
    "RANGE:    {RANGE}\n",
    "SUM:      {SUM}\n",
    "VARIETY:  {VARIETY}\n",
    "MINORITY: {MINORITY}\n",
    "MAJORITY: {MAJORITY}\n",
    "COUNT:    {COUNT}\n",
    "\"\"\"\n",
    "\n",
    "out_style = dict(width=\"30%\", height=\"400px\", overflow_y=\"scroll\", overflow_x=\"hidden\", border=\"1px solid gray\")\n",
    "out = Output(layout=Layout(**out_style))\n",
    "\n",
    "out.clear_output()\n",
    "with out:\n",
    "    print(site_details.format(**lo.site))"
   ]
  },
  {
   "cell_type": "code",
   "execution_count": null,
   "metadata": {
    "scrolled": false
   },
   "outputs": [],
   "source": [
    "import ipywidgets as wg\n",
    "import ipyleaflet as mwg\n",
    "from ipywidgets import Layout, Button, IntProgress, Output, HBox, VBox, HTML\n",
    "from ipyleaflet import Map, LayerGroup, GeoJSON, CircleMarker\n",
    "\n",
    "basemap = mwg.basemap_to_tiles(mwg.basemaps.Esri.WorldImagery)\n",
    "polys = LayerGroup()\n",
    "points = LayerGroup()\n",
    "\n",
    "map_center = (32.75, -109)\n",
    "mapw = Map(\n",
    "    layers=(basemap, polys, points,), \n",
    "    center=map_center, \n",
    "    zoom=7, \n",
    "    scroll_wheel_zoom=True)\n",
    "\n",
    "submit = Button( \n",
    "    description='Submit', \n",
    "    disabled=True, \n",
    "    button_style='success')\n",
    "\n",
    "progress = IntProgress(\n",
    "    description=\"Progress: \", \n",
    "    layout=Layout(width=\"95%\"))\n",
    "\n",
    "ui = VBox([mapw, HBox([submit, progress])])"
   ]
  },
  {
   "cell_type": "markdown",
   "metadata": {},
   "source": [
    "Sample class, few small changes:"
   ]
  },
  {
   "cell_type": "code",
   "execution_count": null,
   "metadata": {},
   "outputs": [],
   "source": [
    "# ----------------------------------------------------------------------------\n",
    "url = \"https://daac.ornl.gov/cgi-bin/viz/download.pl?\"\n",
    "\n",
    "pt_style = dict(radius=7, fill_opacity=0.6, fill_color=\"black\", stroke=False)\n",
    "pt_status_on = dict(stroke=True, color=\"white\", opacity=0.6)\n",
    "pt_status_off = dict(stroke=False, color=\"black\", opacity=0.6)\n",
    "\n",
    "\n",
    "class Sample(object):\n",
    "\n",
    "    def __init__(self, i, lat, lon):\n",
    "        \"\"\"Inits with id,lat,lon; makes request string, map point.\"\"\"\n",
    "        self.id, self.lat, self.lon = i, lat, lon\n",
    "        self.rurl = url+\"lt={0}&ln={1}&d=smap\".format(lat,lon)  # request url\n",
    "        self.pt = CircleMarker(location=(lat, lon), **pt_style) # map point\n",
    "        self.on = False                                         # on/off status\n",
    "\n",
    "    def update(self, **kwargs):\n",
    "        for arg, val in kwargs.items():\n",
    "            setattr(self.pt, arg, val)\n",
    "    \n",
    "    def toggle(self, event, type, coordinates):\n",
    "        opac = 0.1 if self.on else 0.6\n",
    "        self.update(opacity=opac)\n",
    "        self.on = False if self.on else True\n",
    "        \n",
    "    def submit(self):\n",
    "        \"\"\"Called by parent. Downloads url. Updates status.\"\"\"\n",
    "        self.response = requests.get(self.rurl, cookies=auth)   # submit SMV request\n",
    "        self.df = txt_to_pd(self.response.text)                 # read to pandas df\n",
    "        self.xr = get_sample_xr(self)                           # get xarray dataset\n",
    "        self.pt.on_click(self.toggle)                           # callback on click\n",
    "        self.on = True                                          # toggle on\n",
    "\n",
    "# ----------------------------------------------------------------------------\n",
    "lyr_style = lambda c: {\"color\": c, \"fillColor\": c, \"weight\": 1, \"fillOpacity\": 0.4}\n",
    "lyr_hstyle = {\"color\": \"white\", \"fillOpacity\": 0.8}\n",
    "statcheck = lambda k: k.split(\"_\")[0] not in [\"MEAN\",\"STD\",\"Count\", \"style\"]\n",
    "\n",
    "\n",
    "def mgeo(i, feat, col):\n",
    "    feat[\"properties\"].update({\n",
    "        \"id\": i, \n",
    "        \"style\": lyr_style(col)})\n",
    "    return(dict(data=feat, hover_style=lyr_hstyle))\n",
    "\n",
    "\n",
    "class Layer(object):\n",
    "\n",
    "    def __init__(self, i, feat, col=None):\n",
    "        \"\"\"Inits with id,lat,lon; makes request string, map point.\"\"\"\n",
    "        self.id = i\n",
    "        self.feat = feat\n",
    "        \n",
    "        self.sgeom = shape(feat[\"geometry\"])\n",
    "        self.ease = get_ease(self.sgeom)                        # get ease points\n",
    "        self.cent = self.sgeom.centroid                         # get centroid\n",
    "        self.lat, self.lon = self.cent.y, self.cent.x           # get lat, lon\n",
    "        \n",
    "        prop = feat[\"properties\"]\n",
    "        mean = [v for k,v in prop.items() if \"MEAN\" in k]\n",
    "        std = [v for k,v in prop.items() if \"STD\" in k]\n",
    "        self.stats = pd.DataFrame({\"mean\": mean, \"std\": std})\n",
    "        self.site = {k:v for k,v in prop.items() if statcheck(k)}\n",
    "        \n",
    "        lyr = mgeo(i, feat, col)\n",
    "        self.layer = GeoJSON(**lyr)\n",
    "        self.layer.on_click(self.toggle)\n",
    "\n",
    "        self.on, self.dl = False, False                    # on/off, dl status\n",
    "        \n",
    "    def update(self, **kwargs):\n",
    "        for arg, val in kwargs.items():\n",
    "            setattr(self.layer, arg, val)\n",
    "    \n",
    "    def toggle(self, **kwargs):\n",
    "        \"\"\"Routine for when a new USFS polygon is selected.\"\"\"\n",
    "        if list(kwargs.keys()) != ['event', 'properties']: # check event\n",
    "            return(None)                                   # skip basemap\n",
    "        self.on = False if self.on else True               # update status"
   ]
  },
  {
   "cell_type": "code",
   "execution_count": null,
   "metadata": {},
   "outputs": [],
   "source": [
    "prog = lambda m: dict(min=0, max=m, value=0)\n",
    "xrds = lambda l: xr.concat([s.xr for s in l], \"sample\")\n",
    "\n",
    "\n",
    "def get_on_lyrs(column=None):\n",
    "    \"\"\"\n",
    "    Returns a subset of layers df, only \"on\" layers. If keyword \n",
    "    argument 'column' will return only that column.\n",
    "    \"\"\"\n",
    "    on = [i for i,row in layers.iterrows() if row[\"layer\"].on]\n",
    "    sdf = layers.iloc[on][column] if column else layers.iloc[on]\n",
    "    return(sdf)\n",
    "\n",
    "\n",
    "def submit_handler(b):\n",
    "    \"\"\"Resets UI and sends requests to SMV when new submit.\"\"\"\n",
    "    \n",
    "    lyron = get_on_lyrs()\n",
    "    for i, row in lyron.iterrows():             # loop over samples col\n",
    "        if not row[\"layer\"].dl:                 # if not downloaded yet\n",
    "            samp = row.samples[\"samp\"].tolist() # get samples\n",
    "            for a,v in prog(len(samp)).items(): # reset progress bar\n",
    "                setattr(progress, a, v)\n",
    "            for s in samp:                      # loop over sample pts\n",
    "                progress.value += 1             # update progress bar\n",
    "                s.update(**pt_status_on)        # update style\n",
    "                s.submit()                      # download the data\n",
    "            layers.at[i,\"xr\"] = xrds(samp)      # make xr dataset\n",
    "            row[\"layer\"].dl = True              # set dl status to True\n",
    "    submit.disabled = True                      # disable submit button\n",
    "\n",
    "submit.on_click(submit_handler)\n",
    "\n",
    "# ----------------------------------------------------------------------------\n",
    "\n",
    "def layer_click_handler(**kwargs): \n",
    "    \"\"\"\n",
    "    Routine for when a new USFS polygon is selected. Layer.toggle\n",
    "    internal updater should evaluate first.\n",
    "    \"\"\"\n",
    "    if list(kwargs.keys()) != ['event', 'properties']: # check event\n",
    "         return(None)                         # skip basemap\n",
    "    i = int(kwargs[\"properties\"][\"id\"])       # set selected poly id\n",
    "    l = layers.iloc[i]                        # get row for selected\n",
    "    lo = l.layer                              # get Layer class inst\n",
    "    pteval = points.add_layer if lo.on else points.remove_layer\n",
    "    pteval(l[\"points\"])                       # update layer status;\n",
    "    submit.disabled = True if len(get_on_lyrs())==0 else False\n",
    "    if lo.on:\n",
    "        mapw.center, mapw.zoom = (lo.lat,lo.lon), 9 # ctr,zoom map"
   ]
  },
  {
   "cell_type": "markdown",
   "metadata": {},
   "source": [
    "### Make all layers and add to map widget"
   ]
  },
  {
   "cell_type": "code",
   "execution_count": null,
   "metadata": {},
   "outputs": [],
   "source": [
    "sample_header = [\"id\",\"lat\",\"lon\",\"samp\"]\n",
    "layer_header = [\"id\",\"lat\",\"lon\",\"layer\",\"samples\",\"points\",\"xr\"]\n",
    "\n",
    "layers = []                                   # a temporary list \n",
    "for i, feat in enumerate(features):           # loops over USFS poly feats\n",
    "    \n",
    "    poly = Layer(i, feat, cols[i])            # get Layer class\n",
    "    poly.layer.on_click(layer_click_handler)  # set global callback\n",
    "    polys.add_layer(poly.layer)               # add to polys layer group\n",
    "\n",
    "    pts, samps = LayerGroup(), []             # points layer group; Samples\n",
    "    for j, p in enumerate(poly.ease):         # loop over EASE grid pts\n",
    "        s = Sample(j, p[0], p[1])             # make a Sample instance\n",
    "        pts.add_layer(s.pt)                   # add to points layer group\n",
    "        samps.append((j, p[0], p[1], s))      # append tuple to the list  \n",
    "        \n",
    "    samps = pd.DataFrame(samps, columns=sample_header)       # samples df\n",
    "    layers.append((i,poly.lat,poly.lon,poly,samps,pts,None)) # append\n",
    "    \n",
    "layers = pd.DataFrame(layers, columns=layer_header)          # layers df"
   ]
  },
  {
   "cell_type": "code",
   "execution_count": null,
   "metadata": {
    "scrolled": false
   },
   "outputs": [],
   "source": [
    "ui"
   ]
  }
 ],
 "metadata": {
  "kernelspec": {
   "display_name": "Python 3",
   "language": "python",
   "name": "python3"
  },
  "language_info": {
   "codemirror_mode": {
    "name": "ipython",
    "version": 3
   },
   "file_extension": ".py",
   "mimetype": "text/x-python",
   "name": "python",
   "nbconvert_exporter": "python",
   "pygments_lexer": "ipython3",
   "version": "3.6.7"
  }
 },
 "nbformat": 4,
 "nbformat_minor": 2
}
