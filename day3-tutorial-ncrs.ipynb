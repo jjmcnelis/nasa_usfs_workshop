{
 "cells": [
  {
   "cell_type": "markdown",
   "metadata": {},
   "source": [
    "# NRCS Version of Jupyter SMV widget"
   ]
  },
  {
   "cell_type": "code",
   "execution_count": 2,
   "metadata": {},
   "outputs": [],
   "source": [
    "import os\n",
    "import json\n",
    "import warnings\n",
    "from math import ceil\n",
    "from io import StringIO\n",
    "from datetime import datetime\n",
    "\n",
    "import requests\n",
    "import numpy as np\n",
    "import pandas as pd\n",
    "import xarray as xr\n",
    "from shapely.geometry import shape\n",
    "\n",
    "import folium\n",
    "import matplotlib.pyplot as plt\n",
    "from matplotlib import cm, colors\n",
    "from IPython.display import display\n",
    "from ipywidgets import Layout, Button, IntProgress, Output, HBox, VBox, HTML, interactive, SelectionRangeSlider\n",
    "\n",
    "disabled_sources =  [\"FLUXNET\", \"MODIS\", \"GRACE\", \"PBOH2O\"]\n",
    "ignore_variables = [\"sample\",\"time\",\"stat\",\"lat\",\"lon\"]\n",
    "\n",
    "# ----------------------------------------------------------------------------\n",
    "# app settings\n",
    "\n",
    "#font = {'family': 'normal', 'weight': 'normal', 'size': 8}\n",
    "#plt.rc('font', **font)\n",
    "\n",
    "smvdownload = \"https://airmoss.ornl.gov/cgi-bin/viz/api/download.pl?\"\n",
    "smvdatasets = pd.read_csv(\n",
    "    \"docs/smvdatasets.csv\", \n",
    "    index_col=\"dataset\", \n",
    "    header=0)\n",
    "\n",
    "numvalid = lambda v: np.count_nonzero(~np.isnan(v.data))\n",
    "allnan = lambda v: numvalid(v)==0\n",
    "\n",
    "latatts = dict(\n",
    "    standard_name=\"latitude\",\n",
    "    long_name=\"sample latitude\",\n",
    "    units=\"degrees_north\")\n",
    "\n",
    "lonatts = dict(\n",
    "    standard_name=\"latitude\",\n",
    "    long_name=\"sample latitude\",\n",
    "    units=\"degrees_north\")\n",
    "\n",
    "# ease data ------------------------------------------------------------------\n",
    "latf = \"docs/EASE2_M09km.lats.3856x1624x1.double\"\n",
    "lonf = \"docs/EASE2_M09km.lons.3856x1624x1.double\"\n",
    "\n",
    "lats = np.fromfile(latf, dtype=np.float64).flatten() \n",
    "lons = np.fromfile(lonf, dtype=np.float64).flatten()\n",
    "crds = np.dstack((lats,lons))[0]\n",
    "\n",
    "sample_header = [\"id\", \"lat\", \"lon\", \"samp\"]\n",
    "layer_header = [\"id\", \"lat\", \"lon\", \"layer\", \"samples\", \"points\", \"xr\"]\n",
    "\n",
    "download_msg = \"\"\"<p style=\"text-align:center;\">Click <b>Submit</b> to downloa\n",
    "d Soil Moisture Visualizer data for this site.<br></p>\"\"\"\n",
    "\n",
    "# ----------------------------------------------------------------------------\n",
    "\n",
    "def get_colors(n, cmap=cm.Set2):\n",
    "    \"\"\" \n",
    "    Takes integer count of colors to map and optional kwarg: \n",
    "      'cmap=matplotlib.cm.<cmap>'.\n",
    "    \"\"\"\n",
    "\n",
    "    cspace = np.linspace(0.0, 1.0, n)           # *1\n",
    "    rgb = cmap(cspace)                          # *2\n",
    "    cols = [colors.to_hex(c[0:3]) for c in rgb] # *3\n",
    "\n",
    "    return(cols)\n",
    "\n",
    "\n",
    "# ----------------------------------------------------------------------------\n",
    "# SMV sample dataset formatters\n",
    "\n",
    "\n",
    "def txt_to_pd(response_text):\n",
    "    \"\"\"Parses response.text to data frame with date index.\"\"\"\n",
    "    \n",
    "    f = StringIO(response_text)                      # get file from string\n",
    "\n",
    "    df = pd.read_csv(\n",
    "        f, \n",
    "        header=4, \n",
    "        index_col=\"time\",\n",
    "        error_bad_lines=False, \n",
    "        warn_bad_lines=False)                        # read to df\n",
    "    df.index = pd.to_datetime(df.index)              # convert index to dates\n",
    "    \n",
    "    return(df)\n",
    "\n",
    "\n",
    "def split_pd(col):\n",
    "    \"\"\"Splits pd column by ; and set all values to float, nan.\"\"\"\n",
    "    \n",
    "    df = col.str.split(\";\",n=2,expand=True)           # split col by ;\n",
    "    df = df.replace('', np.nan)                       # set '' to nan\n",
    "    df = df.astype(float)                             # set all to float\n",
    "    df.columns = [\"Min\",\"Mean\",\"Max\"]                 # add column names\n",
    "    \n",
    "    return(df)\n",
    "\n",
    "\n",
    "def pd_to_xr(dataset, df):\n",
    "    \"\"\"Makes an xr.Dataset from a pandas column (series) and coords.\"\"\"\n",
    "\n",
    "    a = smvdatasets.loc[dataset].to_dict()\n",
    "    x = xr.DataArray(df, name=dataset, attrs=a)\n",
    "    x = x.rename(dict(dim_1=\"stat\"))\n",
    "    \n",
    "    return(x)\n",
    "\n",
    "\n",
    "def get_sample_xr(samp):\n",
    "    \"\"\" \"\"\"\n",
    "\n",
    "    d = [\"sample\"]                          \n",
    "    s = xr.DataArray(data=[samp.id], dims=d) # get sample, lat, lon xr arrays\n",
    "    y = xr.DataArray(data=[samp.lat], coords=[s], dims=d, attrs=latatts)\n",
    "    x = xr.DataArray(data=[samp.lon], coords=[s], dims=d, attrs=lonatts)\n",
    "\n",
    "    df = samp.df                                         # get the sample df\n",
    "    ds = {}\n",
    "    for dataset in df.columns:\n",
    "        a = smvdatasets.loc[dataset].to_dict()\n",
    "        if a[\"source\"] not in disabled_sources:\n",
    "            split_column = split_pd(df[dataset])\n",
    "            ds[dataset] = pd_to_xr(dataset, split_column)\n",
    "\n",
    "    xds = xr.merge(ds.values())                          # merge to one xr\n",
    "    xds = xds.assign_coords(lat=y, lon=x)                # add coord arrays\n",
    "    \n",
    "    return(xds)\n",
    "\n",
    "\n",
    "def from_geojson(input_geojson):\n",
    "    \"\"\" \"\"\"\n",
    "    with open(input_geojson, \"r\") as f:\n",
    "        shapes = json.load(f)\n",
    "    features = shapes[\"features\"]\n",
    "    cols = get_colors(len(features))\n",
    "    return((features, cols))"
   ]
  },
  {
   "cell_type": "code",
   "execution_count": 14,
   "metadata": {},
   "outputs": [],
   "source": [
    "def get_ease(shapely_geom):\n",
    "    \"\"\" \"\"\"\n",
    "\n",
    "    bnds = shapely_geom.bounds \n",
    "    ease = crds[\n",
    "        (bnds[1]<lats) & (lats<bnds[3]) &     # ybnds < lat < ybnds\n",
    "        (bnds[0]<lons) & (lons<bnds[2])]      # xbnds < lon < xbnds\n",
    "\n",
    "    ease_table = {\"id\":[], \"lat\":[], \"lon\":[], \"in\":[]}\n",
    "    for i,p in enumerate(ease):\n",
    "        \n",
    "        ease_table[\"id\"].append(i)\n",
    "        ease_table[\"lat\"].append(p[0])\n",
    "        ease_table[\"lon\"].append(p[1])\n",
    "        \n",
    "        shapely_pt = shape({                  # input to shapely.shape is a\n",
    "            \"type\": \"Point\",                  # python dict equivalent of\n",
    "            \"coordinates\": (p[1], p[0])})     # geojson point geometry\n",
    "        \n",
    "        if shapely_geom.contains(shapely_pt): # if point inside poly\n",
    "            ease_table[\"in\"].append(True)\n",
    "        else:\n",
    "            ease_table[\"in\"].append(False)\n",
    "        \n",
    "    return(pd.DataFrame(ease_table))\n",
    "\n",
    "\n",
    "def get_layer_data(i, feat, col=\"#FFFFFF\", opac=0.4, samp=True):\n",
    "    \"\"\" \"\"\"\n",
    "\n",
    "    shapely_geom = shape(feat[\"geometry\"])              # shapely geom\n",
    "    ease = get_ease(shapely_geom) if samp else None     # ease grid points\n",
    "    cent = shapely_geom.centroid                        # centroid\n",
    "    lat, lon = cent.y, cent.x                           # lat, lon\n",
    "    feat[\"properties\"].update({\n",
    "        \"id\": i, \n",
    "        \"style\": {\n",
    "            \"weight\": 0.75,\n",
    "            \"color\": \"aliceblue\",\n",
    "            \"fillColor\": col,\n",
    "            \"fillOpacity\": opac}})\n",
    "\n",
    "    return((feat, ease, lat, lon))"
   ]
  },
  {
   "cell_type": "code",
   "execution_count": 19,
   "metadata": {},
   "outputs": [],
   "source": [
    "class Layer(object):\n",
    "\n",
    "\n",
    "    def __init__(self, i, feat, col=None):\n",
    "        \"\"\"\"\"\"\n",
    "        \n",
    "        layer_data = get_layer_data(i, feat, col)\n",
    "        \n",
    "        self.id = i\n",
    "        self.feat = layer_data[0]\n",
    "        self.ease = layer_data[1]\n",
    "        self.lat = layer_data[2]\n",
    "        self.lon = layer_data[3]\n",
    "        \n",
    "        #self.layer = GeoJSON(\n",
    "        #    data=self.feat,\n",
    "        #    hover_style={\n",
    "        #        \"color\": \"white\", \n",
    "        #        \"fillOpacity\": 0.8})\n",
    "        #self.layer.on_click(self.toggle)\n",
    "\n",
    "        self.dl = False    # downloaded or nah?\n",
    "        self.on = False    # toggle on or nah?\n",
    "\n",
    "    #def toggle(self, **kwargs):\n",
    "    #    \"\"\"Routine for when a new USFS polygon is selected.\"\"\"\n",
    "    #    if list(kwargs.keys()) != ['event', 'properties']: # check event\n",
    "    #        return(None)                                   # skip basemap\n",
    "    #    self.on = False if self.on else True               # update status\n",
    "        \n",
    "    def update(self, **kwargs):\n",
    "        for arg, val in kwargs.items():\n",
    "            setattr(self.layer, arg, val)"
   ]
  },
  {
   "cell_type": "code",
   "execution_count": 20,
   "metadata": {},
   "outputs": [
    {
     "data": {
      "text/plain": [
       "<__main__.Layer at 0x7f52f3cb8fd0>"
      ]
     },
     "execution_count": 20,
     "metadata": {},
     "output_type": "execute_result"
    }
   ],
   "source": [
    "shapes = \"docs/usfs_sites/Sites_lf_geo.json\"\n",
    "\n",
    "features, cols = from_geojson(shapes)        # get features and cols\n",
    "poly = Layer(0, features[0])            # get Layer class\n",
    "\n",
    "poly"
   ]
  },
  {
   "cell_type": "code",
   "execution_count": 21,
   "metadata": {},
   "outputs": [
    {
     "data": {
      "text/html": [
       "<div>\n",
       "<style scoped>\n",
       "    .dataframe tbody tr th:only-of-type {\n",
       "        vertical-align: middle;\n",
       "    }\n",
       "\n",
       "    .dataframe tbody tr th {\n",
       "        vertical-align: top;\n",
       "    }\n",
       "\n",
       "    .dataframe thead th {\n",
       "        text-align: right;\n",
       "    }\n",
       "</style>\n",
       "<table border=\"1\" class=\"dataframe\">\n",
       "  <thead>\n",
       "    <tr style=\"text-align: right;\">\n",
       "      <th></th>\n",
       "      <th>id</th>\n",
       "      <th>lat</th>\n",
       "      <th>lon</th>\n",
       "      <th>in</th>\n",
       "    </tr>\n",
       "  </thead>\n",
       "  <tbody>\n",
       "    <tr>\n",
       "      <th>0</th>\n",
       "      <td>0</td>\n",
       "      <td>32.080291</td>\n",
       "      <td>-110.025934</td>\n",
       "      <td>False</td>\n",
       "    </tr>\n",
       "    <tr>\n",
       "      <th>1</th>\n",
       "      <td>1</td>\n",
       "      <td>32.080291</td>\n",
       "      <td>-109.932573</td>\n",
       "      <td>False</td>\n",
       "    </tr>\n",
       "    <tr>\n",
       "      <th>2</th>\n",
       "      <td>2</td>\n",
       "      <td>32.080291</td>\n",
       "      <td>-109.839212</td>\n",
       "      <td>False</td>\n",
       "    </tr>\n",
       "    <tr>\n",
       "      <th>3</th>\n",
       "      <td>3</td>\n",
       "      <td>32.080291</td>\n",
       "      <td>-109.745851</td>\n",
       "      <td>False</td>\n",
       "    </tr>\n",
       "    <tr>\n",
       "      <th>4</th>\n",
       "      <td>4</td>\n",
       "      <td>32.080291</td>\n",
       "      <td>-109.652490</td>\n",
       "      <td>False</td>\n",
       "    </tr>\n",
       "  </tbody>\n",
       "</table>\n",
       "</div>"
      ],
      "text/plain": [
       "   id        lat         lon     in\n",
       "0   0  32.080291 -110.025934  False\n",
       "1   1  32.080291 -109.932573  False\n",
       "2   2  32.080291 -109.839212  False\n",
       "3   3  32.080291 -109.745851  False\n",
       "4   4  32.080291 -109.652490  False"
      ]
     },
     "execution_count": 21,
     "metadata": {},
     "output_type": "execute_result"
    }
   ],
   "source": [
    "poly.ease.head(5)"
   ]
  },
  {
   "cell_type": "code",
   "execution_count": null,
   "metadata": {},
   "outputs": [],
   "source": []
  },
  {
   "cell_type": "code",
   "execution_count": null,
   "metadata": {},
   "outputs": [],
   "source": []
  },
  {
   "cell_type": "code",
   "execution_count": null,
   "metadata": {},
   "outputs": [],
   "source": []
  },
  {
   "cell_type": "code",
   "execution_count": null,
   "metadata": {},
   "outputs": [],
   "source": []
  },
  {
   "cell_type": "code",
   "execution_count": null,
   "metadata": {},
   "outputs": [],
   "source": []
  },
  {
   "cell_type": "code",
   "execution_count": null,
   "metadata": {},
   "outputs": [],
   "source": []
  },
  {
   "cell_type": "code",
   "execution_count": null,
   "metadata": {},
   "outputs": [],
   "source": [
    "features, cols = from_geojson(infeats)        # get features and cols\n",
    "\n",
    "layers = []                                   # a temporary list \n",
    "for i, feat in enumerate(features):           # loop over features\n",
    "\n",
    "    poly = Layer(i, feat, cols[i])            # get Layer class\n",
    "\n",
    "    pts, samps = LayerGroup(), []             # points group; Samples\n",
    "    for j, p in enumerate(poly.ease):         # loop EASE grid pts\n",
    "        s = Sample(j, p[0], p[1])             # make Sample instance\n",
    "        pts.add_layer(s.pt)                   # add to points group\n",
    "        samps.append((j, p[0], p[1], s))      # append tuple to list  \n",
    "\n",
    "    samps = pd.DataFrame(samps, columns=sample_header)       # samples\n",
    "    layers.append((i,poly.lat,poly.lon,poly,samps,pts,None)) # append\n",
    "\n",
    "self.layers = pd.DataFrame(layers, columns=layer_header)     # layers\n",
    "self.selected = None\n"
   ]
  },
  {
   "cell_type": "code",
   "execution_count": null,
   "metadata": {},
   "outputs": [],
   "source": []
  },
  {
   "cell_type": "code",
   "execution_count": null,
   "metadata": {},
   "outputs": [],
   "source": []
  },
  {
   "cell_type": "code",
   "execution_count": null,
   "metadata": {},
   "outputs": [],
   "source": []
  },
  {
   "cell_type": "code",
   "execution_count": null,
   "metadata": {},
   "outputs": [],
   "source": []
  },
  {
   "cell_type": "code",
   "execution_count": null,
   "metadata": {},
   "outputs": [],
   "source": []
  },
  {
   "cell_type": "code",
   "execution_count": null,
   "metadata": {},
   "outputs": [],
   "source": []
  },
  {
   "cell_type": "code",
   "execution_count": null,
   "metadata": {},
   "outputs": [],
   "source": []
  },
  {
   "cell_type": "code",
   "execution_count": null,
   "metadata": {},
   "outputs": [],
   "source": []
  },
  {
   "cell_type": "code",
   "execution_count": null,
   "metadata": {},
   "outputs": [],
   "source": []
  },
  {
   "cell_type": "code",
   "execution_count": null,
   "metadata": {},
   "outputs": [],
   "source": []
  },
  {
   "cell_type": "code",
   "execution_count": null,
   "metadata": {},
   "outputs": [],
   "source": [
    "\n",
    "bmap = mwg.basemap_to_tiles(mwg.basemaps.Esri.WorldImagery)    # map widget \n",
    "\n",
    "map_args = dict(\n",
    "    center=(32.75, -109), \n",
    "    zoom=7, \n",
    "    scroll_wheel_zoom=True)\n",
    "\n",
    "submit_args = dict(                                            # submit button\n",
    "    description=\"Submit\", \n",
    "    disabled=True, \n",
    "    button_style=\"success\")\n",
    "\n",
    "progress_args = dict(                                          # progress bar\n",
    "    description=\"Progress: \", \n",
    "    layout=Layout(width=\"95%\"))"
   ]
  },
  {
   "cell_type": "markdown",
   "metadata": {},
   "source": [
    "# Original NASA-USFS Workshop widget"
   ]
  },
  {
   "cell_type": "code",
   "execution_count": 1,
   "metadata": {},
   "outputs": [
    {
     "data": {
      "text/plain": [
       "'Login successful. Download with: session.get(url)'"
      ]
     },
     "metadata": {},
     "output_type": "display_data"
    }
   ],
   "source": [
    "%matplotlib widget\n",
    "from ursjupyter import *\n",
    "from smvjupyter import *\n",
    "warnings.filterwarnings('ignore')\n",
    "\n",
    "usfs_sites = \"docs/usfs_sites/Sites_lf_geo.json\"                      # USFS sites\n",
    "usfs_regions = \"docs/usfs_admin/USFS_admin_boundaries.json\"           # USFS administrative regions"
   ]
  },
  {
   "cell_type": "code",
   "execution_count": 2,
   "metadata": {},
   "outputs": [
    {
     "data": {
      "application/vnd.jupyter.widget-view+json": {
       "model_id": "46d92d74ede047c0826a2e6713a35e55",
       "version_major": 2,
       "version_minor": 0
      },
      "text/plain": [
       "VBox(children=(VBox(children=(HTML(value='\\n    <h3>Batch download Soil Moisture Visualizer datasets for USFS …"
      ]
     },
     "metadata": {},
     "output_type": "display_data"
    }
   ],
   "source": [
    "app = JupyterSMV(usfs_sites, anc=usfs_regions, session=session)"
   ]
  }
 ],
 "metadata": {
  "kernelspec": {
   "display_name": "Python 3",
   "language": "python",
   "name": "python3"
  },
  "language_info": {
   "codemirror_mode": {
    "name": "ipython",
    "version": 3
   },
   "file_extension": ".py",
   "mimetype": "text/x-python",
   "name": "python",
   "nbconvert_exporter": "python",
   "pygments_lexer": "ipython3",
   "version": "3.6.7"
  }
 },
 "nbformat": 4,
 "nbformat_minor": 2
}
