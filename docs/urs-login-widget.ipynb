{
 "cells": [
  {
   "cell_type": "code",
   "execution_count": 20,
   "metadata": {},
   "outputs": [],
   "source": [
    "import requests\n",
    "import getpass\n",
    " \n",
    "test = \"\"join.([\"https://e4ftl01.cr.usgs.gov/\",\n",
    "                \"MOLT/MOD13A1.006/2000.02.18/\",\n",
    "                \"MOD13A1.A2000049.h19v04.006.\",\n",
    "                \"2015136104715.hdf.xml\"])\n",
    "\n",
    "class EarthdataLogin(requests.Session):\n",
    "    AUTH_HOST = 'urs.earthdata.nasa.gov'\n",
    " \n",
    "    def __init__(self):\n",
    "        super().__init__()\n",
    "        \n",
    "        user = wg.Text(description='Username:', disabled=False)\n",
    "        pw = getpass.getpass()\n",
    "        try:\n",
    "            response = requests.get(url, stream=True)\n",
    "            response.raise_for_status() \n",
    "        \n",
    "        self.auth = (username, password)\n",
    "\n",
    "    def rebuild_auth(self, prepared_request, response):\n",
    "        headers = prepared_request.headers\n",
    "        url = prepared_request.url\n",
    "\n",
    "        if 'Authorization' in headers:\n",
    "            original_parsed = requests.utils.urlparse(response.request.url)\n",
    "            redirect_parsed = requests.utils.urlparse(url)\n",
    "            if all([original_parsed.hostname != redirect_parsed.hostname,\n",
    "                    redirect_parsed.hostname != self.AUTH_HOST,\n",
    "                    original_parsed.hostname != self.AUTH_HOST]):\n",
    "                del headers['Authorization']\n",
    "\n",
    "        return"
   ]
  },
  {
   "cell_type": "code",
   "execution_count": 21,
   "metadata": {},
   "outputs": [],
   "source": [
    "session = EarthdataLogin(\"jmcnelis\", \"Memphis10\")"
   ]
  },
  {
   "cell_type": "code",
   "execution_count": 22,
   "metadata": {},
   "outputs": [
    {
     "name": "stdout",
     "output_type": "stream",
     "text": [
      "200\n"
     ]
    }
   ],
   "source": [
    "fn = \"MOD13A1.A2000049.h19v04.006.2015136104715.hdf\"\n",
    "\n",
    "try:\n",
    "    \n",
    "    # submit the request using the session\n",
    "    response = session.get(url, stream=True)\n",
    "    response.raise_for_status() \n",
    " \n",
    "    # save the file\n",
    "    with open(fn, 'wb') as fd:\n",
    "        for chunk in response.iter_content(chunk_size=1024*1024):\n",
    "            fd.write(chunk)\n",
    "    \n",
    "except requests.exceptions.HTTPError as e:\n",
    " \n",
    "    # handle any errors here\n",
    "    print(e)"
   ]
  },
  {
   "cell_type": "code",
   "execution_count": 27,
   "metadata": {},
   "outputs": [
    {
     "name": "stdout",
     "output_type": "stream",
     "text": [
      "········\n"
     ]
    },
    {
     "data": {
      "text/plain": [
       "'jack'"
      ]
     },
     "execution_count": 27,
     "metadata": {},
     "output_type": "execute_result"
    }
   ],
   "source": [
    "\n",
    "\n",
    "getpass.getpass()\n",
    "getpass.getuser()"
   ]
  }
 ],
 "metadata": {
  "kernelspec": {
   "display_name": "Python 3",
   "language": "python",
   "name": "python3"
  },
  "language_info": {
   "codemirror_mode": {
    "name": "ipython",
    "version": 3
   },
   "file_extension": ".py",
   "mimetype": "text/x-python",
   "name": "python",
   "nbconvert_exporter": "python",
   "pygments_lexer": "ipython3",
   "version": "3.5.2"
  }
 },
 "nbformat": 4,
 "nbformat_minor": 2
}
