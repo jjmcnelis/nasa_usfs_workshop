{
 "cells": [
  {
   "cell_type": "markdown",
   "metadata": {},
   "source": [
    "```\n",
    "pip install ipywidgets\n",
    "\n",
    "pip install ipyleaflet\n",
    "jupyter nbextension enable --py widgetsnbextension\n",
    "\n",
    "pip install bqplot\n",
    "jupyter nbextension enable --py --sys-prefix bqplot\n",
    "```"
   ]
  },
  {
   "cell_type": "code",
   "execution_count": 1,
   "metadata": {},
   "outputs": [],
   "source": [
    "# core\n",
    "import os\n",
    "import json\n",
    "import requests\n",
    "import numpy as np\n",
    "import pandas as pd\n",
    "from osgeo import gdal,ogr,osr\n",
    "from math import ceil\n",
    "\n",
    "# widgets\n",
    "import ipywidgets as wg\n",
    "from ipyleaflet import Map, Marker, basemaps, basemap_to_tiles, GeoJSON\n",
    "import matplotlib.pyplot as plt\n",
    "\n",
    "# some constants\n",
    "basemap = basemap_to_tiles(basemaps.Esri.WorldImagery)\n",
    "smap_res = 9\n",
    "layout = {'border':'0.5px solid gray','overflow_y':\"auto\",'width':'100%','height':'400px'}"
   ]
  },
  {
   "cell_type": "markdown",
   "metadata": {},
   "source": [
    "### Open shapefile; make widgets; def callback function for map interaction\n",
    "\n",
    "1. set driver; open sites shapefile with ogr; \n",
    "2. init widgets\n",
    "3. define callback function"
   ]
  },
  {
   "cell_type": "code",
   "execution_count": 2,
   "metadata": {},
   "outputs": [],
   "source": [
    "# -------------------------------------------------------------------------------\n",
    "# 1 open sites shapefile\n",
    "\n",
    "# get driver; open shapefile; get extent; get centroid\n",
    "driver = ogr.GetDriverByName(\"ESRI Shapefile\")\n",
    "sites = driver.Open(\"sites/Sites_lf.shp\", 0)\n",
    "xmin, xmax, ymin, ymax = sites[0].GetExtent()\n",
    "centroid = ((ymax+ymin)/2, (xmax+xmin)/2)\n",
    "\n",
    "# get transform to wgs84\n",
    "source = sites[0].GetSpatialRef()\n",
    "target = osr.SpatialReference()\n",
    "target.ImportFromEPSG(4326)\n",
    "transform = osr.CoordinateTransformation(source, target)\n",
    "\n",
    "# transform centroid\n",
    "centroid_wkt = \"POINT ({x} {y})\".format(x=centroid[1], y=centroid[0])\n",
    "centroid_geom = ogr.CreateGeometryFromWkt(centroid_wkt)\n",
    "centroid_geom.Transform(transform)\n",
    "centroid_wgs84 = (centroid_geom.GetY(), centroid_geom.GetX())\n",
    "\n",
    "# -------------------------------------------------------------------------------\n",
    "# 2 init map and other widgets\n",
    "\n",
    "m = Map(layers=(basemap,), center=centroid_wgs84, zoom=4)           # map\n",
    "\n",
    "output = wg.Output(layout=layout)                                   # meta box\n",
    "with output:\n",
    "    print(\"Click a polygon on the map to display metadata.\")\n",
    "\n",
    "ui = wg.HBox([wg.HBox([output], layout=wg.Layout(width=\"40%\")), m]) # ui \n",
    "\n",
    "# -------------------------------------------------------------------------------\n",
    "# 3 callback function\n",
    "\n",
    "def callback1(**kwargs):\n",
    "\n",
    "    if 'id' in kwargs.keys():\n",
    "        \n",
    "        # get the geojson for the selected map feature\n",
    "        fid = kwargs['id'] \n",
    "        properties = kwargs['properties'] \n",
    "        site = sitesdata[fid]\n",
    "        \n",
    "        # get native projection feature extent; get number of samples in x,y\n",
    "        geom = site['feature']\n",
    "        xmin, xmax, ymin, ymax = geom.GetGeometryRef().GetEnvelope()\n",
    "        nxsamples = ceil((xmax-xmin)/smap_res)\n",
    "        nysamples = ceil((ymax-ymin)/smap_res)\n",
    "        \n",
    "        # generate array of samples to submit to soil moisture viz\n",
    "        xsamples = np.array([xmin]+[xmin+i*smap_res for i in range(0,nxsamples)])\n",
    "        ysamples = np.array([ymin]+[ymin+i*smap_res for i in range(0,nysamples)])\n",
    "        \n",
    "        # <grid sampling goes here ->\n",
    "        \"\"\"\n",
    "        some numpy code to generate coordinate arrays that match\n",
    "        the smap grid. i think i have some to plug in here already\n",
    "        \"\"\"\n",
    "        # <- grid sampling goes here>\n",
    "                \n",
    "        # print some metadata to the display window\n",
    "        output.clear_output() \n",
    "        with output:  \n",
    "            for k,v in site['details'].items(): \n",
    "                print(k+\":\"+str(v))\n",
    "                \n",
    "            df = sitesdata[fid]['df']\n",
    "            print(df)"
   ]
  },
  {
   "cell_type": "markdown",
   "metadata": {},
   "source": [
    "### Loop over shapefile features (sites) and collect some key info in eight steps:\n",
    "\n",
    "1. get geojson geometry of site boundary; get the attribute fields (called properties in geojson)\n",
    "2. make ANPP pandas data frame for site\n",
    "3. get the remaining site details\n",
    "4. add to dictionary\n",
    "5. add geojson to map"
   ]
  },
  {
   "cell_type": "code",
   "execution_count": 3,
   "metadata": {},
   "outputs": [],
   "source": [
    "# dictionary for site data\n",
    "sitesdata = {}\n",
    "\n",
    "# loop over sites\n",
    "for site in sites[0]:\n",
    "    \n",
    "    # ---------------------------------------------------------------------------\n",
    "    # 1 reproject; get geojson features in native projection and wgs84\n",
    "    \n",
    "    # get feature properties (equivalent to attributes in arcmap)\n",
    "    geojson = json.loads(site.ExportToJson())\n",
    "    fid = geojson['id']\n",
    "    properties = geojson['properties']\n",
    "    \n",
    "    # transform site feature to wgs84; make new geojson feature with properties\n",
    "    geom = site.GetGeometryRef()\n",
    "    geom.Transform(transform)\n",
    "    geojson_wgs84 = {'type': 'Feature', \n",
    "                     'geometry': json.loads(geom.ExportToJson()),\n",
    "                     'properties': properties,\n",
    "                     'id': fid}\n",
    "    \n",
    "    # ---------------------------------------------------------------------------\n",
    "    # 2 get length of series; make ANPP data frame for mean, std\n",
    "    \n",
    "    nyears = len([key for key in properties.keys() if \"MEAN\" in key])\n",
    "    data = {'year': [], 'mean': [], 'std': []}\n",
    "    for i in range(1,nyears):\n",
    "        data['year'].append(1980+i)\n",
    "        data['mean'].append(properties[\"MEAN_\"+str(i)])\n",
    "        data['std'].append(properties[\"STD_\"+str(i)])\n",
    "    df = pd.DataFrame(data)\n",
    "    \n",
    "    # ---------------------------------------------------------------------------\n",
    "    # 3 get remaining site information\n",
    "    \n",
    "    details = {}\n",
    "    for prop, value in properties.items():\n",
    "        if all([\"Count\" not in prop, \n",
    "                \"MEAN\" not in prop, \n",
    "                \"STD\" not in prop]):\n",
    "            details[prop] = value\n",
    "\n",
    "    # ---------------------------------------------------------------------------        \n",
    "    # 4 insert to sites dictionary\n",
    "    \n",
    "    sitesdata[fid] = {\n",
    "        'geojson': geojson,\n",
    "        'feature': site,\n",
    "        'properties': properties,\n",
    "        'df': df,\n",
    "        'details': details}\n",
    "        \n",
    "    # ---------------------------------------------------------------------------    \n",
    "    # 5 add wgs84 geojson to map\n",
    "    \n",
    "    poly = GeoJSON(data=geojson_wgs84)\n",
    "    poly.on_click(callback1)\n",
    "    m.add_layer(poly)"
   ]
  },
  {
   "cell_type": "markdown",
   "metadata": {},
   "source": [
    "### call widgets -->> run this cell to displau map. click poly to display meta and anpp series"
   ]
  },
  {
   "cell_type": "code",
   "execution_count": 4,
   "metadata": {
    "scrolled": false
   },
   "outputs": [
    {
     "data": {
      "application/vnd.jupyter.widget-view+json": {
       "model_id": "d12e3c9460b84f1494557f27f7feccbb",
       "version_major": 2,
       "version_minor": 0
      },
      "text/plain": [
       "HBox(children=(HBox(children=(Output(layout=Layout(border='0.5px solid gray', height='400px', overflow_y='auto…"
      ]
     },
     "metadata": {},
     "output_type": "display_data"
    }
   ],
   "source": [
    "ui"
   ]
  }
 ],
 "metadata": {
  "kernelspec": {
   "display_name": "Python 3",
   "language": "python",
   "name": "python3"
  },
  "language_info": {
   "codemirror_mode": {
    "name": "ipython",
    "version": 3
   },
   "file_extension": ".py",
   "mimetype": "text/x-python",
   "name": "python",
   "nbconvert_exporter": "python",
   "pygments_lexer": "ipython3",
   "version": "3.6.7"
  }
 },
 "nbformat": 4,
 "nbformat_minor": 2
}
